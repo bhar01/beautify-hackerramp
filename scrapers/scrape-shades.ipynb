{
 "cells": [
  {
   "cell_type": "code",
   "execution_count": 7,
   "id": "9bd261eb",
   "metadata": {},
   "outputs": [],
   "source": [
    "from selenium import webdriver \n",
    "from time import sleep\n",
    "import urllib.request\n",
    "import cv2\n",
    "import pandas as pd\n",
    "from PIL import Image\n",
    "import numpy as np"
   ]
  },
  {
   "cell_type": "code",
   "execution_count": 11,
   "id": "96cbbc77",
   "metadata": {},
   "outputs": [],
   "source": [
    "driver = webdriver.Chrome(\"C:\\Webdrivers\\chromedriver.exe\")\n",
    "main = []"
   ]
  },
  {
   "cell_type": "code",
   "execution_count": 12,
   "id": "d46619eb",
   "metadata": {},
   "outputs": [],
   "source": [
    "for i in range(1,14):\n",
    "    url = 'https://www.myntra.com/foundation?p='\n",
    "    main.append( url + str(i))"
   ]
  },
  {
   "cell_type": "code",
   "execution_count": 13,
   "id": "2101ac6c",
   "metadata": {},
   "outputs": [],
   "source": [
    "links = []\n",
    "for i in range(len(main)):\n",
    "    driver.get(main[i])\n",
    "    sleep(3)\n",
    "    b = driver.find_elements_by_xpath(\"//li[@class='product-base']/a\")\n",
    "    for j in b:\n",
    "        links.append(j.get_attribute('href'))\n"
   ]
  },
  {
   "cell_type": "code",
   "execution_count": 14,
   "id": "e157a8e3",
   "metadata": {},
   "outputs": [
    {
     "name": "stdout",
     "output_type": "stream",
     "text": [
      "28\n",
      "39\n",
      "48\n",
      "49\n",
      "50\n",
      "51\n",
      "53\n",
      "54\n",
      "58\n",
      "60\n",
      "62\n",
      "64\n",
      "66\n",
      "67\n",
      "80\n",
      "81\n",
      "82\n",
      "83\n",
      "84\n",
      "86\n",
      "87\n",
      "93\n",
      "98\n",
      "103\n",
      "106\n",
      "111\n",
      "113\n",
      "115\n",
      "116\n",
      "119\n",
      "128\n",
      "131\n",
      "134\n",
      "137\n",
      "142\n",
      "143\n",
      "147\n",
      "149\n",
      "151\n",
      "153\n",
      "154\n",
      "155\n",
      "157\n",
      "158\n",
      "159\n",
      "160\n",
      "163\n",
      "167\n",
      "168\n",
      "180\n",
      "182\n",
      "184\n",
      "185\n",
      "190\n",
      "192\n",
      "193\n",
      "194\n",
      "196\n",
      "205\n",
      "207\n",
      "209\n",
      "212\n",
      "217\n",
      "225\n",
      "228\n",
      "232\n",
      "233\n",
      "234\n",
      "236\n",
      "239\n",
      "240\n",
      "245\n",
      "249\n",
      "260\n",
      "269\n",
      "271\n",
      "273\n",
      "276\n",
      "278\n",
      "279\n",
      "280\n",
      "282\n",
      "283\n",
      "285\n",
      "286\n",
      "287\n",
      "288\n",
      "303\n",
      "317\n",
      "322\n",
      "323\n",
      "324\n",
      "325\n",
      "326\n",
      "328\n",
      "329\n",
      "330\n",
      "332\n",
      "333\n",
      "336\n",
      "350\n",
      "362\n",
      "377\n",
      "378\n",
      "379\n",
      "384\n",
      "388\n",
      "390\n",
      "391\n",
      "392\n",
      "399\n",
      "403\n",
      "404\n",
      "406\n",
      "407\n",
      "411\n",
      "426\n",
      "432\n",
      "435\n",
      "438\n",
      "452\n",
      "474\n",
      "480\n",
      "482\n",
      "483\n",
      "484\n",
      "485\n",
      "486\n",
      "487\n",
      "528\n",
      "534\n",
      "539\n",
      "540\n",
      "541\n",
      "542\n",
      "543\n",
      "544\n",
      "545\n",
      "549\n",
      "563\n",
      "565\n",
      "566\n",
      "576\n",
      "579\n",
      "580\n",
      "581\n",
      "582\n",
      "583\n",
      "588\n",
      "589\n",
      "608\n",
      "609\n",
      "610\n",
      "613\n",
      "614\n",
      "615\n",
      "616\n",
      "617\n",
      "620\n",
      "624\n",
      "626\n",
      "630\n",
      "636\n",
      "643\n"
     ]
    }
   ],
   "source": [
    "name = []\n",
    "price = []\n",
    "brand = []\n",
    "img = {}\n",
    "code = {}\n",
    "for i in range(len(links)):\n",
    "    driver.get(links[i])\n",
    "    sleep(0.5)\n",
    "    try:\n",
    "        n = driver.find_element_by_xpath(\"//h1[@class='pdp-name']\").text\n",
    "        name.append(n)\n",
    "        price.append(driver.find_element_by_xpath(\"//span[@class='pdp-price']\").text)\n",
    "        brand.append(driver.find_element_by_xpath(\"//h1[@class='pdp-title']\").text)\n",
    "        sleep(1)\n",
    "        but = driver.find_element_by_xpath(\"//span[text()='View more']\")\n",
    "        but.click()\n",
    "        sleep(0.8)\n",
    "        a = driver.find_elements_by_xpath(\"//ul[@class='colors-shadeList colors-shadeListDesktop']/li/a\")\n",
    "        c = driver.find_elements_by_xpath(\"//div[@class='colors-imageContainer']/img\")\n",
    "        b,h=[],[]\n",
    "        for j in a:\n",
    "            b.append(j.get_attribute('title'))\n",
    "            code[n] = b\n",
    "        for j in c:\n",
    "            h.append(j.get_attribute('src'))\n",
    "            img[n] = h\n",
    "        print(i)\n",
    "        \n",
    "    except: \n",
    "        n = driver.find_element_by_xpath(\"//h1[@class='pdp-name']\").text\n",
    "        name.append(n)\n",
    "        price.append(driver.find_element_by_xpath(\"//span[@class='pdp-price']\").text)\n",
    "        a = driver.find_elements_by_xpath(\"//ul[@class='colors-shadeList colors-shadeListDesktop']/li/a\")\n",
    "        c = driver.find_elements_by_xpath(\"//div[@class='colors-imageContainer']/img\")\n",
    "        b=[]\n",
    "        b,h=[],[]\n",
    "        for j in a:\n",
    "            b.append(j.get_attribute('title'))\n",
    "            code[n] = b\n",
    "        for j in c:\n",
    "            h.append(j.get_attribute('src'))\n",
    "            img[n] = h\n",
    "        "
   ]
  },
  {
   "cell_type": "code",
   "execution_count": 15,
   "id": "07874ffe",
   "metadata": {},
   "outputs": [],
   "source": [
    "mas = {}\n",
    "broken = []\n",
    "for i in img:\n",
    "    a = img[i]\n",
    "    b = code[i]\n",
    "    for j in range(len(a)):\n",
    "        h = a[j]\n",
    "        m = b[j]\n",
    "        try:\n",
    "            filename = i + \"-\"+ m +\".jpg\"\n",
    "            urllib.request.urlretrieve(h, filename)\n",
    "            mas[filename] = filename\n",
    "            names.append[i]\n",
    "            shades.append[m]\n",
    "        except:\n",
    "            broken.append(filename)"
   ]
  },
  {
   "cell_type": "code",
   "execution_count": 68,
   "id": "d7a8f681",
   "metadata": {},
   "outputs": [],
   "source": []
  },
  {
   "cell_type": "code",
   "execution_count": 99,
   "id": "974cfcb2",
   "metadata": {
    "scrolled": true
   },
   "outputs": [],
   "source": []
  },
  {
   "cell_type": "code",
   "execution_count": 105,
   "id": "bfa9e648",
   "metadata": {},
   "outputs": [
    {
     "data": {
      "text/plain": [
       "[]"
      ]
     },
     "execution_count": 105,
     "metadata": {},
     "output_type": "execute_result"
    }
   ],
   "source": [
    "\n"
   ]
  },
  {
   "cell_type": "code",
   "execution_count": 64,
   "id": "e63c74af",
   "metadata": {},
   "outputs": [
    {
     "data": {
      "text/plain": [
       "650"
      ]
     },
     "execution_count": 64,
     "metadata": {},
     "output_type": "execute_result"
    }
   ],
   "source": [
    "len(brand)"
   ]
  },
  {
   "cell_type": "code",
   "execution_count": 65,
   "id": "b4d1704e",
   "metadata": {},
   "outputs": [
    {
     "data": {
      "text/plain": [
       "650"
      ]
     },
     "execution_count": 65,
     "metadata": {},
     "output_type": "execute_result"
    }
   ],
   "source": [
    "len(name)"
   ]
  },
  {
   "cell_type": "code",
   "execution_count": 79,
   "id": "452aecd1",
   "metadata": {},
   "outputs": [],
   "source": [
    "nm = list(img.keys())\n",
    "br, pr = [],[]\n",
    "for i in nm:\n",
    "    n = name.index(i)\n",
    "    br.append(brand[n])\n",
    "    pr.append(price[n])\n",
    "    "
   ]
  },
  {
   "cell_type": "code",
   "execution_count": 28,
   "id": "52be8aec",
   "metadata": {},
   "outputs": [
    {
     "data": {
      "text/plain": [
       "['https://assets.myntassets.com/assets/images/55240/2018/5/3/11525323521292-Lakme-Perfecting-Natural-Coral-Liquid-Foundation-7671525323521262-9.jpg',\n",
       " 'https://assets.myntassets.com/assets/images/55241/2018/5/3/11525323530684-Lakme-Perfecting-Natural-Shell-Liquid-Foundation-2301525323530648-9.jpg',\n",
       " 'https://assets.myntassets.com/assets/images/55242/2018/5/3/11525323539177-Lakme-Perfecting-Natural-Marble-Liquid-Foundation-9801525323539158-9.jpg',\n",
       " 'https://assets.myntassets.com/assets/images/55243/2020/6/19/ad702bed-1f48-47af-8b40-1bbc900627e41592568803993-Lakme-Perfecting-Liquid-Foundation---Natural-Pearl-27ml-9281-9.jpg']"
      ]
     },
     "execution_count": 28,
     "metadata": {},
     "output_type": "execute_result"
    }
   ],
   "source": [
    "img['Perfecting Liquid Foundation - Natural Marble 27ml']"
   ]
  },
  {
   "cell_type": "code",
   "execution_count": 81,
   "id": "81a71afe",
   "metadata": {},
   "outputs": [
    {
     "data": {
      "text/plain": [
       "328"
      ]
     },
     "execution_count": 81,
     "metadata": {},
     "output_type": "execute_result"
    }
   ],
   "source": [
    "len(nm)"
   ]
  },
  {
   "cell_type": "code",
   "execution_count": 83,
   "id": "e3d5bc88",
   "metadata": {},
   "outputs": [
    {
     "data": {
      "text/plain": [
       "328"
      ]
     },
     "execution_count": 83,
     "metadata": {},
     "output_type": "execute_result"
    }
   ],
   "source": [
    "len(pr)"
   ]
  },
  {
   "cell_type": "code",
   "execution_count": 133,
   "id": "dbfb2e57",
   "metadata": {},
   "outputs": [],
   "source": [
    "product = pd.DataFrame(nm,columns = ['Name'])\n",
    "for i in product.index:\n",
    "    product['Price'] = pr\n",
    "    product['Brand'] = br"
   ]
  },
  {
   "cell_type": "code",
   "execution_count": 129,
   "id": "a9ad263e",
   "metadata": {},
   "outputs": [],
   "source": [
    "l = list(mas.values())\n",
    "shades, names[],[]\n",
    "for i in l:\n",
    "    j = i.split('-')\n",
    "    k = j[-1].split(\".\")\n",
    "    m = j[0]+j[1]\n",
    "    names.append(m)\n",
    "    shades.append(k[0])\n",
    "shade = pd.DataFrame(l,columns = ['Image'])\n",
    "for i in shade.index:\n",
    "    shade['Shade'] = shades\n",
    "    shade['Name'] = names"
   ]
  },
  {
   "cell_type": "code",
   "execution_count": 141,
   "id": "b20cb077",
   "metadata": {},
   "outputs": [],
   "source": [
    "shade.to_csv('shades.csv', sep=',', mode='a')\n",
    "product.to_csv('product.csv', sep=',', mode='a')"
   ]
  },
  {
   "cell_type": "code",
   "execution_count": 4,
   "id": "eb18fc7a",
   "metadata": {},
   "outputs": [],
   "source": [
    "s = pd.read_csv('shades.csv')"
   ]
  },
  {
   "cell_type": "code",
   "execution_count": 7,
   "id": "b59ebf22",
   "metadata": {},
   "outputs": [
    {
     "data": {
      "text/html": [
       "<div>\n",
       "<style scoped>\n",
       "    .dataframe tbody tr th:only-of-type {\n",
       "        vertical-align: middle;\n",
       "    }\n",
       "\n",
       "    .dataframe tbody tr th {\n",
       "        vertical-align: top;\n",
       "    }\n",
       "\n",
       "    .dataframe thead th {\n",
       "        text-align: right;\n",
       "    }\n",
       "</style>\n",
       "<table border=\"1\" class=\"dataframe\">\n",
       "  <thead>\n",
       "    <tr style=\"text-align: right;\">\n",
       "      <th></th>\n",
       "      <th>Name</th>\n",
       "      <th>Image</th>\n",
       "      <th>Shade</th>\n",
       "    </tr>\n",
       "  </thead>\n",
       "  <tbody>\n",
       "    <tr>\n",
       "      <th>0</th>\n",
       "      <td>New York Fit Me Matte+Poreless Liquid Foundati...</td>\n",
       "      <td>New York Fit Me Matte+Poreless Liquid Foundati...</td>\n",
       "      <td>115 Ivory</td>\n",
       "    </tr>\n",
       "    <tr>\n",
       "      <th>1</th>\n",
       "      <td>New York Fit Me Matte+Poreless Liquid Foundati...</td>\n",
       "      <td>New York Fit Me Matte+Poreless Liquid Foundati...</td>\n",
       "      <td>Classic Ivory</td>\n",
       "    </tr>\n",
       "    <tr>\n",
       "      <th>2</th>\n",
       "      <td>New York Fit Me Matte+Poreless Liquid Foundati...</td>\n",
       "      <td>New York Fit Me Matte+Poreless Liquid Foundati...</td>\n",
       "      <td>Natural Tan</td>\n",
       "    </tr>\n",
       "    <tr>\n",
       "      <th>3</th>\n",
       "      <td>New York Fit Me Matte+Poreless Liquid Foundati...</td>\n",
       "      <td>New York Fit Me Matte+Poreless Liquid Foundati...</td>\n",
       "      <td>Warm Nude 128</td>\n",
       "    </tr>\n",
       "    <tr>\n",
       "      <th>4</th>\n",
       "      <td>New York Fit Me Matte+Poreless Liquid Foundati...</td>\n",
       "      <td>New York Fit Me Matte+Poreless Liquid Foundati...</td>\n",
       "      <td>Natural Beige</td>\n",
       "    </tr>\n",
       "    <tr>\n",
       "      <th>...</th>\n",
       "      <td>...</td>\n",
       "      <td>...</td>\n",
       "      <td>...</td>\n",
       "    </tr>\n",
       "    <tr>\n",
       "      <th>2044</th>\n",
       "      <td>Ultra Definition Liquid FoundationBrownie 30 ml</td>\n",
       "      <td>Ultra Definition Liquid Foundation-Brownie 30 ...</td>\n",
       "      <td>Cheese Cake</td>\n",
       "    </tr>\n",
       "    <tr>\n",
       "      <th>2045</th>\n",
       "      <td>Ultra Definition Liquid FoundationBrownie 30 ml</td>\n",
       "      <td>Ultra Definition Liquid Foundation-Brownie 30 ...</td>\n",
       "      <td>Peanut Butter</td>\n",
       "    </tr>\n",
       "    <tr>\n",
       "      <th>2046</th>\n",
       "      <td>Ultra Definition Liquid FoundationBrownie 30 ml</td>\n",
       "      <td>Ultra Definition Liquid Foundation-Brownie 30 ...</td>\n",
       "      <td>Chocolate Mousse</td>\n",
       "    </tr>\n",
       "    <tr>\n",
       "      <th>2047</th>\n",
       "      <td>Ultra Definition Liquid FoundationBrownie 30 ml</td>\n",
       "      <td>Ultra Definition Liquid Foundation-Brownie 30 ...</td>\n",
       "      <td>Honey</td>\n",
       "    </tr>\n",
       "    <tr>\n",
       "      <th>2048</th>\n",
       "      <td>Ultra Definition Liquid FoundationBrownie 30 ml</td>\n",
       "      <td>Ultra Definition Liquid Foundation-Brownie 30 ...</td>\n",
       "      <td>Fudge</td>\n",
       "    </tr>\n",
       "  </tbody>\n",
       "</table>\n",
       "<p>2049 rows × 3 columns</p>\n",
       "</div>"
      ],
      "text/plain": [
       "                                                   Name  \\\n",
       "0     New York Fit Me Matte+Poreless Liquid Foundati...   \n",
       "1     New York Fit Me Matte+Poreless Liquid Foundati...   \n",
       "2     New York Fit Me Matte+Poreless Liquid Foundati...   \n",
       "3     New York Fit Me Matte+Poreless Liquid Foundati...   \n",
       "4     New York Fit Me Matte+Poreless Liquid Foundati...   \n",
       "...                                                 ...   \n",
       "2044    Ultra Definition Liquid FoundationBrownie 30 ml   \n",
       "2045    Ultra Definition Liquid FoundationBrownie 30 ml   \n",
       "2046    Ultra Definition Liquid FoundationBrownie 30 ml   \n",
       "2047    Ultra Definition Liquid FoundationBrownie 30 ml   \n",
       "2048    Ultra Definition Liquid FoundationBrownie 30 ml   \n",
       "\n",
       "                                                  Image             Shade  \n",
       "0     New York Fit Me Matte+Poreless Liquid Foundati...         115 Ivory  \n",
       "1     New York Fit Me Matte+Poreless Liquid Foundati...     Classic Ivory  \n",
       "2     New York Fit Me Matte+Poreless Liquid Foundati...       Natural Tan  \n",
       "3     New York Fit Me Matte+Poreless Liquid Foundati...     Warm Nude 128  \n",
       "4     New York Fit Me Matte+Poreless Liquid Foundati...     Natural Beige  \n",
       "...                                                 ...               ...  \n",
       "2044  Ultra Definition Liquid Foundation-Brownie 30 ...       Cheese Cake  \n",
       "2045  Ultra Definition Liquid Foundation-Brownie 30 ...     Peanut Butter  \n",
       "2046  Ultra Definition Liquid Foundation-Brownie 30 ...  Chocolate Mousse  \n",
       "2047  Ultra Definition Liquid Foundation-Brownie 30 ...             Honey  \n",
       "2048  Ultra Definition Liquid Foundation-Brownie 30 ...             Fudge  \n",
       "\n",
       "[2049 rows x 3 columns]"
      ]
     },
     "execution_count": 7,
     "metadata": {},
     "output_type": "execute_result"
    }
   ],
   "source": [
    "s"
   ]
  },
  {
   "cell_type": "code",
   "execution_count": 26,
   "id": "ee8f05eb",
   "metadata": {},
   "outputs": [],
   "source": [
    "def image_to_array(image_path):\n",
    "\n",
    "    color = int(image)\n",
    "\n",
    "        im_arr = np.frombuffer(image.tobytes(), dtype=np.uint8)\n",
    "        im_arr = im_arr.reshape((image.size[1], image.size[0], 1)) /255\n",
    "    return color\n"
   ]
  },
  {
   "cell_type": "code",
   "execution_count": 27,
   "id": "8fc60bb0",
   "metadata": {},
   "outputs": [
    {
     "ename": "TypeError",
     "evalue": "only size-1 arrays can be converted to Python scalars",
     "output_type": "error",
     "traceback": [
      "\u001b[1;31m---------------------------------------------------------------------------\u001b[0m",
      "\u001b[1;31mTypeError\u001b[0m                                 Traceback (most recent call last)",
      "\u001b[1;32m<ipython-input-27-6c35cede9d92>\u001b[0m in \u001b[0;36m<module>\u001b[1;34m\u001b[0m\n\u001b[1;32m----> 1\u001b[1;33m \u001b[0mb\u001b[0m \u001b[1;33m=\u001b[0m \u001b[0mjpg_image_to_array\u001b[0m\u001b[1;33m(\u001b[0m\u001b[1;34m\"images/1 Absolute Cover Silk Peptide Foundation 30ml-2.jpg\"\u001b[0m\u001b[1;33m)\u001b[0m\u001b[1;33m\u001b[0m\u001b[1;33m\u001b[0m\u001b[0m\n\u001b[0m",
      "\u001b[1;32m<ipython-input-26-e0fc94b556a5>\u001b[0m in \u001b[0;36mjpg_image_to_array\u001b[1;34m(image_path)\u001b[0m\n\u001b[0;32m      1\u001b[0m \u001b[1;32mdef\u001b[0m \u001b[0mjpg_image_to_array\u001b[0m\u001b[1;33m(\u001b[0m\u001b[0mimage_path\u001b[0m\u001b[1;33m)\u001b[0m\u001b[1;33m:\u001b[0m\u001b[1;33m\u001b[0m\u001b[1;33m\u001b[0m\u001b[0m\n\u001b[0;32m      2\u001b[0m     \u001b[0mimage\u001b[0m \u001b[1;33m=\u001b[0m \u001b[0mcv2\u001b[0m\u001b[1;33m.\u001b[0m\u001b[0mimread\u001b[0m\u001b[1;33m(\u001b[0m\u001b[0mimage_path\u001b[0m\u001b[1;33m)\u001b[0m\u001b[1;33m\u001b[0m\u001b[1;33m\u001b[0m\u001b[0m\n\u001b[1;32m----> 3\u001b[1;33m     \u001b[0mcolor\u001b[0m \u001b[1;33m=\u001b[0m \u001b[0mint\u001b[0m\u001b[1;33m(\u001b[0m\u001b[0mimage\u001b[0m\u001b[1;33m[\u001b[0m\u001b[1;36m59\u001b[0m\u001b[1;33m,\u001b[0m \u001b[1;36m99\u001b[0m\u001b[1;33m]\u001b[0m\u001b[1;33m)\u001b[0m \u001b[1;31m#size is 60 so n - 1\u001b[0m\u001b[1;33m\u001b[0m\u001b[1;33m\u001b[0m\u001b[0m\n\u001b[0m\u001b[0;32m      4\u001b[0m \u001b[1;33m\u001b[0m\u001b[0m\n\u001b[0;32m      5\u001b[0m     \u001b[1;32mreturn\u001b[0m \u001b[0mcolor\u001b[0m\u001b[1;33m\u001b[0m\u001b[1;33m\u001b[0m\u001b[0m\n",
      "\u001b[1;31mTypeError\u001b[0m: only size-1 arrays can be converted to Python scalars"
     ]
    }
   ],
   "source": [
    "b = jpg_image_to_array(\"images/1 Absolute Cover Silk Peptide Foundation 30ml-2.jpg\")"
   ]
  },
  {
   "cell_type": "code",
   "execution_count": 17,
   "id": "89a0bb19",
   "metadata": {},
   "outputs": [
    {
     "data": {
      "text/plain": [
       "array([[[0.],\n",
       "        [0.],\n",
       "        [0.],\n",
       "        ...,\n",
       "        [0.],\n",
       "        [0.],\n",
       "        [0.]],\n",
       "\n",
       "       [[0.],\n",
       "        [0.],\n",
       "        [0.],\n",
       "        ...,\n",
       "        [0.],\n",
       "        [0.],\n",
       "        [0.]],\n",
       "\n",
       "       [[0.],\n",
       "        [0.],\n",
       "        [0.],\n",
       "        ...,\n",
       "        [0.],\n",
       "        [0.],\n",
       "        [0.]],\n",
       "\n",
       "       ...,\n",
       "\n",
       "       [[0.],\n",
       "        [0.],\n",
       "        [0.],\n",
       "        ...,\n",
       "        [0.],\n",
       "        [0.],\n",
       "        [0.]],\n",
       "\n",
       "       [[0.],\n",
       "        [0.],\n",
       "        [0.],\n",
       "        ...,\n",
       "        [0.],\n",
       "        [0.],\n",
       "        [0.]],\n",
       "\n",
       "       [[0.],\n",
       "        [0.],\n",
       "        [0.],\n",
       "        ...,\n",
       "        [0.],\n",
       "        [0.],\n",
       "        [0.]]])"
      ]
     },
     "execution_count": 17,
     "metadata": {},
     "output_type": "execute_result"
    }
   ],
   "source": [
    "b"
   ]
  },
  {
   "cell_type": "code",
   "execution_count": null,
   "id": "de02307b",
   "metadata": {},
   "outputs": [],
   "source": []
  },
  {
   "cell_type": "code",
   "execution_count": null,
   "id": "c6cbe9e0",
   "metadata": {},
   "outputs": [],
   "source": []
  }
 ],
 "metadata": {
  "kernelspec": {
   "display_name": "Python 3",
   "language": "python",
   "name": "python3"
  },
  "language_info": {
   "codemirror_mode": {
    "name": "ipython",
    "version": 3
   },
   "file_extension": ".py",
   "mimetype": "text/x-python",
   "name": "python",
   "nbconvert_exporter": "python",
   "pygments_lexer": "ipython3",
   "version": "3.8.8"
  }
 },
 "nbformat": 4,
 "nbformat_minor": 5
}
