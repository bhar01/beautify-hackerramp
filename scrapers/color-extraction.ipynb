{
 "cells": [
  {
   "cell_type": "code",
   "execution_count": 50,
   "id": "619adc06",
   "metadata": {},
   "outputs": [],
   "source": [
    "import cv2\n",
    "import numpy as np\n",
    "from sklearn.cluster import KMeans\n",
    "from collections import Counter\n",
    "import imutils\n",
    "import pprint\n",
    "from matplotlib import pyplot as plt\n",
    "import pandas as pd"
   ]
  },
  {
   "cell_type": "code",
   "execution_count": 7,
   "id": "e4c4d43c",
   "metadata": {},
   "outputs": [],
   "source": [
    "image = cv2.imread(\"face.jpg\")\n",
    "gray = cv2.cvtColor(image, cv2.COLOR_BGR2GRAY)\n",
    "\n",
    "faceCascade = cv2.CascadeClassifier(cv2.data.haarcascades + \"haarcascade_frontalface_default.xml\")\n",
    "faces = faceCascade.detectMultiScale(\n",
    "    gray,\n",
    "    scaleFactor=1.3,\n",
    "    minNeighbors=3,\n",
    "    minSize=(30, 30)\n",
    ")\n",
    "\n",
    "for (x, y, w, h) in faces:\n",
    "    cv2.rectangle(image, (x, y), (x + w, y + h), (0, 255, 0), 2)\n",
    "    roi_color = image[y:y + h, x:x + w]\n",
    "    b = str(w) + str(h) + '_faces.jpg'\n",
    "    cv2.imwrite(b, roi_color)\n"
   ]
  },
  {
   "cell_type": "code",
   "execution_count": 48,
   "id": "c54d85d0",
   "metadata": {},
   "outputs": [],
   "source": [
    "def extractSkin(image):\n",
    "    \n",
    "    img = image.copy()\n",
    "    img = cv2.cvtColor(img, cv2.COLOR_BGR2HSV)\n",
    "    lower_threshold = np.array([0, 48, 80], dtype=np.uint8)\n",
    "    upper_threshold = np.array([20, 255, 255], dtype=np.uint8)\n",
    "    skinMask = cv2.inRange(img, lower_threshold, upper_threshold)\n",
    "    skinMask = cv2.GaussianBlur(skinMask, (3, 3), 0)\n",
    "    skin = cv2.bitwise_and(img, img, mask=skinMask)\n",
    "    return cv2.cvtColor(skin, cv2.COLOR_HSV2BGR)\n",
    "\n",
    "def removeBlack(estimator_labels, estimator_cluster):\n",
    "\n",
    "    hasBlack = False\n",
    "    occurance_counter = Counter(estimator_labels)\n",
    "    def compare(x, y): return Counter(x) == Counter(y)\n",
    "    for x in occurance_counter.most_common(len(estimator_cluster)):\n",
    "        color = [int(i) for i in estimator_cluster[x[0]].tolist()]\n",
    "        if compare(color, [0, 0, 0]) == True:\n",
    "            del occurance_counter[x[0]]\n",
    "            hasBlack = True\n",
    "            estimator_cluster = np.delete(estimator_cluster, x[0], 0)\n",
    "            break\n",
    "    return (occurance_counter, estimator_cluster, hasBlack)\n",
    "\n",
    "def getColorInformation(estimator_labels, estimator_cluster, hasThresholding=False):\n",
    "\n",
    "    occurance_counter = None\n",
    "    colorInformation = []\n",
    "    hasBlack = False\n",
    "    if hasThresholding == True:\n",
    "        (occurance, cluster, black) = removeBlack(\n",
    "            estimator_labels, estimator_cluster)\n",
    "        occurance_counter = occurance\n",
    "        estimator_cluster = cluster\n",
    "        hasBlack = black\n",
    "    else:\n",
    "        occurance_counter = Counter(estimator_labels)\n",
    "    totalOccurance = sum(occurance_counter.values())\n",
    "    for x in occurance_counter.most_common(len(estimator_cluster)):\n",
    "        index = (int(x[0]))\n",
    "        index = (index-1) if ((hasThresholding & hasBlack)& (int(index) != 0)) else index\n",
    "        color = estimator_cluster[index].tolist()\n",
    "        color_percentage = (x[1]/totalOccurance)\n",
    "        colorInfo = {\"cluster_index\": index, \"color\": color,\n",
    "                     \"color_percentage\": color_percentage}\n",
    "        colorInformation.append(colorInfo)\n",
    "    return colorInformation\n",
    "\n",
    "def extractDominantColor(image, number_of_colors=5, hasThresholding=False):\n",
    "\n",
    "    if hasThresholding == True:\n",
    "        number_of_colors += 1\n",
    "    img = image.copy()\n",
    "    img = cv2.cvtColor(img, cv2.COLOR_BGR2RGB)\n",
    "    img = img.reshape((img.shape[0]*img.shape[1]), 3)\n",
    "    estimator = KMeans(n_clusters=number_of_colors, random_state=0)\n",
    "    estimator.fit(img)\n",
    "    colorInformation = getColorInformation(estimator.labels_, estimator.cluster_centers_, hasThresholding)\n",
    "    return colorInformation\n",
    "\n",
    "def getcol(x):\n",
    "    comp = {}\n",
    "    append = {}\n",
    "    for i in x:\n",
    "        comp[i['cluster_index']] = i['color_percentage']\n",
    "        append[i['cluster_index']] = i['color']\n",
    "    m = max(comp)\n",
    "    col =[]\n",
    "    col.append(append[m])\n",
    "    return col\n",
    "\n",
    "def pipeline(image):\n",
    "    image=cv2.imread(image)\n",
    "    skin = extractSkin(image)\n",
    "    x = extractDominantColor(skin, hasThresholding=True)\n",
    "    y = getcol(x)\n",
    "    return y"
   ]
  },
  {
   "cell_type": "code",
   "execution_count": 51,
   "id": "4654a8fd",
   "metadata": {},
   "outputs": [],
   "source": [
    "pro = pd.read_csv(\"product.csv\")\n",
    "sh = pd.read_csv(\"shades.csv\")"
   ]
  },
  {
   "cell_type": "code",
   "execution_count": 61,
   "id": "deb21b77",
   "metadata": {
    "scrolled": true
   },
   "outputs": [
    {
     "name": "stdout",
     "output_type": "stream",
     "text": [
      "images/New York Fit Me Matte+Poreless Liquid Foundation - 128 Warm Nude 30ml-115 Ivory.jpg\n",
      "images/New York Fit Me Matte+Poreless Liquid Foundation - 128 Warm Nude 30ml-Classic Ivory.jpg\n",
      "images/New York Fit Me Matte+Poreless Liquid Foundation - 128 Warm Nude 30ml-Natural Tan.jpg\n",
      "images/New York Fit Me Matte+Poreless Liquid Foundation - 128 Warm Nude 30ml-Warm Nude 128.jpg\n"
     ]
    },
    {
     "name": "stderr",
     "output_type": "stream",
     "text": [
      "<ipython-input-48-a5bbea6ed560>:58: ConvergenceWarning: Number of distinct clusters (2) found smaller than n_clusters (6). Possibly due to duplicate points in X.\n",
      "  estimator.fit(img)\n",
      "<ipython-input-48-a5bbea6ed560>:58: ConvergenceWarning: Number of distinct clusters (2) found smaller than n_clusters (6). Possibly due to duplicate points in X.\n",
      "  estimator.fit(img)\n",
      "<ipython-input-48-a5bbea6ed560>:58: ConvergenceWarning: Number of distinct clusters (2) found smaller than n_clusters (6). Possibly due to duplicate points in X.\n",
      "  estimator.fit(img)\n",
      "<ipython-input-48-a5bbea6ed560>:58: ConvergenceWarning: Number of distinct clusters (2) found smaller than n_clusters (6). Possibly due to duplicate points in X.\n",
      "  estimator.fit(img)\n"
     ]
    },
    {
     "name": "stdout",
     "output_type": "stream",
     "text": [
      "images/New York Fit Me Matte+Poreless Liquid Foundation - 128 Warm Nude 30ml-Natural Beige.jpg\n",
      "images/Perfecting Liquid Foundation - Natural Marble 27ml-Natural Coral.jpg\n",
      "images/Perfecting Liquid Foundation - Natural Marble 27ml-Natural Shell.jpg\n",
      "images/Perfecting Liquid Foundation - Natural Marble 27ml-Natural Marble.jpg\n",
      "images/Perfecting Liquid Foundation - Natural Marble 27ml-Natural Pearl.jpg\n",
      "images/New York Fit Me! Matte+Poreless Liquid Foundation - Natural Beige 220 30ml-115 Ivory.jpg\n",
      "images/New York Fit Me! Matte+Poreless Liquid Foundation - Natural Beige 220 30ml-Classic Ivory.jpg\n"
     ]
    },
    {
     "name": "stderr",
     "output_type": "stream",
     "text": [
      "<ipython-input-48-a5bbea6ed560>:58: ConvergenceWarning: Number of distinct clusters (2) found smaller than n_clusters (6). Possibly due to duplicate points in X.\n",
      "  estimator.fit(img)\n",
      "<ipython-input-48-a5bbea6ed560>:58: ConvergenceWarning: Number of distinct clusters (2) found smaller than n_clusters (6). Possibly due to duplicate points in X.\n",
      "  estimator.fit(img)\n",
      "<ipython-input-48-a5bbea6ed560>:58: ConvergenceWarning: Number of distinct clusters (2) found smaller than n_clusters (6). Possibly due to duplicate points in X.\n",
      "  estimator.fit(img)\n"
     ]
    },
    {
     "name": "stdout",
     "output_type": "stream",
     "text": [
      "images/New York Fit Me! Matte+Poreless Liquid Foundation - Natural Beige 220 30ml-Natural Tan.jpg\n",
      "images/New York Fit Me! Matte+Poreless Liquid Foundation - Natural Beige 220 30ml-Warm Nude 128.jpg\n",
      "images/New York Fit Me! Matte+Poreless Liquid Foundation - Natural Beige 220 30ml-Natural Beige.jpg\n",
      "images/Paris True Match Liquid Foundation - N1 Ivory 30ml-Rich Caramel.jpg\n"
     ]
    },
    {
     "name": "stderr",
     "output_type": "stream",
     "text": [
      "<ipython-input-48-a5bbea6ed560>:58: ConvergenceWarning: Number of distinct clusters (2) found smaller than n_clusters (6). Possibly due to duplicate points in X.\n",
      "  estimator.fit(img)\n",
      "<ipython-input-48-a5bbea6ed560>:58: ConvergenceWarning: Number of distinct clusters (2) found smaller than n_clusters (6). Possibly due to duplicate points in X.\n",
      "  estimator.fit(img)\n",
      "<ipython-input-48-a5bbea6ed560>:58: ConvergenceWarning: Number of distinct clusters (2) found smaller than n_clusters (6). Possibly due to duplicate points in X.\n",
      "  estimator.fit(img)\n"
     ]
    },
    {
     "name": "stdout",
     "output_type": "stream",
     "text": [
      "images/Paris True Match Liquid Foundation - N1 Ivory 30ml-Golden Beige.jpg\n",
      "images/Paris True Match Liquid Foundation - N1 Ivory 30ml-Creamy Beige N4.jpg\n"
     ]
    },
    {
     "name": "stderr",
     "output_type": "stream",
     "text": [
      "<ipython-input-48-a5bbea6ed560>:58: ConvergenceWarning: Number of distinct clusters (2) found smaller than n_clusters (6). Possibly due to duplicate points in X.\n",
      "  estimator.fit(img)\n",
      "<ipython-input-48-a5bbea6ed560>:58: ConvergenceWarning: Number of distinct clusters (2) found smaller than n_clusters (6). Possibly due to duplicate points in X.\n",
      "  estimator.fit(img)\n",
      "<ipython-input-48-a5bbea6ed560>:58: ConvergenceWarning: Number of distinct clusters (2) found smaller than n_clusters (6). Possibly due to duplicate points in X.\n",
      "  estimator.fit(img)\n",
      "<ipython-input-48-a5bbea6ed560>:58: ConvergenceWarning: Number of distinct clusters (2) found smaller than n_clusters (6). Possibly due to duplicate points in X.\n",
      "  estimator.fit(img)\n",
      "<ipython-input-48-a5bbea6ed560>:58: ConvergenceWarning: Number of distinct clusters (2) found smaller than n_clusters (6). Possibly due to duplicate points in X.\n",
      "  estimator.fit(img)\n"
     ]
    },
    {
     "name": "stdout",
     "output_type": "stream",
     "text": [
      "images/Paris True Match Liquid Foundation - N1 Ivory 30ml-Ivory.jpg\n",
      "images/New York Fit Me Matte+Poreless Liquid Foundation - 120 Classic Ivory 30ml-115 Ivory.jpg\n",
      "images/New York Fit Me Matte+Poreless Liquid Foundation - 120 Classic Ivory 30ml-Classic Ivory.jpg\n",
      "images/New York Fit Me Matte+Poreless Liquid Foundation - 120 Classic Ivory 30ml-Natural Tan.jpg\n",
      "images/New York Fit Me Matte+Poreless Liquid Foundation - 120 Classic Ivory 30ml-Warm Nude 128.jpg\n"
     ]
    },
    {
     "name": "stderr",
     "output_type": "stream",
     "text": [
      "<ipython-input-48-a5bbea6ed560>:58: ConvergenceWarning: Number of distinct clusters (2) found smaller than n_clusters (6). Possibly due to duplicate points in X.\n",
      "  estimator.fit(img)\n"
     ]
    },
    {
     "name": "stdout",
     "output_type": "stream",
     "text": [
      "images/New York Fit Me Matte+Poreless Liquid Foundation - 120 Classic Ivory 30ml-Natural Beige.jpg\n",
      "images/9 to 5 Weightless Mousse Foundation - Beige Vanilla 6g-Beige Vanilla.jpg\n",
      "images/9 to 5 Weightless Mousse Foundation - Beige Vanilla 6g-Rose Ivory.jpg\n",
      "images/New York Fit Me! Matte+Poreless Liquid Foundation - 115 Ivory 30ml-115 Ivory.jpg\n",
      "images/New York Fit Me! Matte+Poreless Liquid Foundation - 115 Ivory 30ml-Classic Ivory.jpg\n",
      "images/New York Fit Me! Matte+Poreless Liquid Foundation - 115 Ivory 30ml-Natural Tan.jpg\n",
      "images/New York Fit Me! Matte+Poreless Liquid Foundation - 115 Ivory 30ml-Warm Nude 128.jpg\n",
      "images/New York Fit Me! Matte+Poreless Liquid Foundation - 115 Ivory 30ml-Natural Beige.jpg"
     ]
    },
    {
     "name": "stderr",
     "output_type": "stream",
     "text": [
      "<ipython-input-48-a5bbea6ed560>:58: ConvergenceWarning: Number of distinct clusters (2) found smaller than n_clusters (6). Possibly due to duplicate points in X.\n",
      "  estimator.fit(img)\n",
      "<ipython-input-48-a5bbea6ed560>:58: ConvergenceWarning: Number of distinct clusters (2) found smaller than n_clusters (6). Possibly due to duplicate points in X.\n",
      "  estimator.fit(img)\n",
      "<ipython-input-48-a5bbea6ed560>:58: ConvergenceWarning: Number of distinct clusters (2) found smaller than n_clusters (6). Possibly due to duplicate points in X.\n",
      "  estimator.fit(img)\n",
      "<ipython-input-48-a5bbea6ed560>:58: ConvergenceWarning: Number of distinct clusters (2) found smaller than n_clusters (6). Possibly due to duplicate points in X.\n",
      "  estimator.fit(img)\n"
     ]
    },
    {
     "name": "stdout",
     "output_type": "stream",
     "text": [
      "\n",
      "images/Paris True Match Liquid Foundation - Golden Beige D3W3 30ml-Rich Caramel.jpg\n",
      "images/Paris True Match Liquid Foundation - Golden Beige D3W3 30ml-Golden Beige.jpg\n",
      "images/Paris True Match Liquid Foundation - Golden Beige D3W3 30ml-Creamy Beige N4.jpg\n"
     ]
    },
    {
     "name": "stderr",
     "output_type": "stream",
     "text": [
      "<ipython-input-48-a5bbea6ed560>:58: ConvergenceWarning: Number of distinct clusters (2) found smaller than n_clusters (6). Possibly due to duplicate points in X.\n",
      "  estimator.fit(img)\n",
      "<ipython-input-48-a5bbea6ed560>:58: ConvergenceWarning: Number of distinct clusters (2) found smaller than n_clusters (6). Possibly due to duplicate points in X.\n",
      "  estimator.fit(img)\n",
      "<ipython-input-48-a5bbea6ed560>:58: ConvergenceWarning: Number of distinct clusters (2) found smaller than n_clusters (6). Possibly due to duplicate points in X.\n",
      "  estimator.fit(img)\n",
      "<ipython-input-48-a5bbea6ed560>:58: ConvergenceWarning: Number of distinct clusters (2) found smaller than n_clusters (6). Possibly due to duplicate points in X.\n",
      "  estimator.fit(img)\n",
      "<ipython-input-48-a5bbea6ed560>:58: ConvergenceWarning: Number of distinct clusters (1) found smaller than n_clusters (6). Possibly due to duplicate points in X.\n",
      "  estimator.fit(img)\n",
      "<ipython-input-48-a5bbea6ed560>:58: ConvergenceWarning: Number of distinct clusters (2) found smaller than n_clusters (6). Possibly due to duplicate points in X.\n",
      "  estimator.fit(img)\n"
     ]
    },
    {
     "name": "stdout",
     "output_type": "stream",
     "text": [
      "images/Paris True Match Liquid Foundation - Golden Beige D3W3 30ml-Ivory.jpg\n",
      "images/Absolute Mattreal Skin Natural Mousse with SPF 8 - Ivory Fair-Golden Medium.jpg\n",
      "images/Absolute Mattreal Skin Natural Mousse with SPF 8 - Ivory Fair-Ivory Fair.jpg\n",
      "images/New York Super Stay 24H Full Coverage Foundation - Natural Ivory 112 30ml-Golden.jpg\n"
     ]
    },
    {
     "name": "stderr",
     "output_type": "stream",
     "text": [
      "<ipython-input-48-a5bbea6ed560>:58: ConvergenceWarning: Number of distinct clusters (2) found smaller than n_clusters (6). Possibly due to duplicate points in X.\n",
      "  estimator.fit(img)\n"
     ]
    },
    {
     "name": "stdout",
     "output_type": "stream",
     "text": [
      "images/New York Super Stay 24H Full Coverage Foundation - Natural Ivory 112 30ml-Warm Nude 128.jpg\n"
     ]
    },
    {
     "name": "stderr",
     "output_type": "stream",
     "text": [
      "<ipython-input-48-a5bbea6ed560>:58: ConvergenceWarning: Number of distinct clusters (2) found smaller than n_clusters (6). Possibly due to duplicate points in X.\n",
      "  estimator.fit(img)\n"
     ]
    },
    {
     "name": "stdout",
     "output_type": "stream",
     "text": [
      "images/New York Super Stay 24H Full Coverage Foundation - Natural Ivory 112 30ml-Classic Ivory.jpg\n"
     ]
    },
    {
     "name": "stderr",
     "output_type": "stream",
     "text": [
      "<ipython-input-48-a5bbea6ed560>:58: ConvergenceWarning: Number of distinct clusters (2) found smaller than n_clusters (6). Possibly due to duplicate points in X.\n",
      "  estimator.fit(img)\n"
     ]
    },
    {
     "name": "stdout",
     "output_type": "stream",
     "text": [
      "images/New York Super Stay 24H Full Coverage Foundation - Natural Ivory 112 30ml-Natural Beige.jpg\n",
      "images/New York Super Stay 24H Full Coverage Foundation - Natural Ivory 112 30ml-Natural Ivory.jpg\n"
     ]
    },
    {
     "name": "stderr",
     "output_type": "stream",
     "text": [
      "<ipython-input-48-a5bbea6ed560>:58: ConvergenceWarning: Number of distinct clusters (2) found smaller than n_clusters (6). Possibly due to duplicate points in X.\n",
      "  estimator.fit(img)\n",
      "<ipython-input-48-a5bbea6ed560>:58: ConvergenceWarning: Number of distinct clusters (2) found smaller than n_clusters (6). Possibly due to duplicate points in X.\n",
      "  estimator.fit(img)\n"
     ]
    },
    {
     "name": "stdout",
     "output_type": "stream",
     "text": [
      "images/New York Super Stay 24H Full Coverage Foundation - Natural Ivory 112 30ml-Sun Beige.jpg\n",
      "images/Perfecting Liquid Foundation - Natural Pearl 27ml-Natural Coral.jpg\n",
      "images/Perfecting Liquid Foundation - Natural Pearl 27ml-Natural Shell.jpg\n",
      "images/Perfecting Liquid Foundation - Natural Pearl 27ml-Natural Marble.jpg\n",
      "images/Perfecting Liquid Foundation - Natural Pearl 27ml-Natural Pearl.jpg\n",
      "images/Double Wear Stay-In-Place Makeup with SPF 10 - Alasbater 0N1 30ml-Shell.jpg\n",
      "images/Double Wear Stay-In-Place Makeup with SPF 10 - Alasbater 0N1 30ml-Mustard.jpg\n",
      "images/Double Wear Stay-In-Place Makeup with SPF 10 - Alasbater 0N1 30ml-1W2 Sand.jpg\n",
      "images/Double Wear Stay-In-Place Makeup with SPF 10 - Alasbater 0N1 30ml-3W1 Tawny.jpg\n",
      "images/Double Wear Stay-In-Place Makeup with SPF 10 - Alasbater 0N1 30ml-Tawny.jpg\n",
      "images/Double Wear Stay-In-Place Makeup with SPF 10 - Alasbater 0N1 30ml-Cinnamon.jpg\n",
      "images/Double Wear Stay-In-Place Makeup with SPF 10 - Alasbater 0N1 30ml-Buff.jpg\n",
      "images/Double Wear Stay-In-Place Makeup with SPF 10 - Alasbater 0N1 30ml-Honey Bronze.jpg\n",
      "images/Double Wear Stay-In-Place Makeup with SPF 10 - Alasbater 0N1 30ml-3W2 Cashew.jpg\n",
      "images/Double Wear Stay-In-Place Makeup with SPF 10 - Alasbater 0N1 30ml-2W2 Rattan.jpg\n",
      "images/Double Wear Stay-In-Place Makeup with SPF 10 - Alasbater 0N1 30ml-Rattan.jpg\n",
      "images/Double Wear Stay-In-Place Makeup with SPF 10 - Alasbater 0N1 30ml-Warm Porcelain.jpg\n",
      "images/Double Wear Stay-In-Place Makeup with SPF 10 - Alasbater 0N1 30ml-Porcelain.jpg\n",
      "images/Double Wear Stay-In-Place Makeup with SPF 10 - Alasbater 0N1 30ml-Sand.jpg\n",
      "images/Double Wear Stay-In-Place Makeup with SPF 10 - Alasbater 0N1 30ml-Spiced Sand.jpg\n",
      "images/Double Wear Stay-In-Place Makeup with SPF 10 - Alasbater 0N1 30ml-Ivory Nude.jpg\n",
      "images/Double Wear Stay-In-Place Makeup with SPF 10 - Alasbater 0N1 30ml-Alabaster.jpg\n",
      "images/Double Wear Stay-In-Place Makeup with SPF 10 - Alasbater 0N1 30ml-Bone.jpg\n",
      "images/Double Wear Stay-In-Place Makeup with SPF 10 - Alasbater 0N1 30ml-Ivory Beige.jpg\n",
      "images/Double Wear Stay-In-Place Makeup with SPF 10 - Alasbater 0N1 30ml-Toasty Toffee.jpg\n",
      "images/Double Wear Stay-In-Place Makeup with SPF 10 - Alasbater 0N1 30ml-NA.jpg\n",
      "images/New York Super Stay 24H Full Coverage Foundation - Classic Ivory 120 30ml-Golden.jpg\n"
     ]
    },
    {
     "name": "stderr",
     "output_type": "stream",
     "text": [
      "<ipython-input-48-a5bbea6ed560>:58: ConvergenceWarning: Number of distinct clusters (2) found smaller than n_clusters (6). Possibly due to duplicate points in X.\n",
      "  estimator.fit(img)\n"
     ]
    },
    {
     "name": "stdout",
     "output_type": "stream",
     "text": [
      "images/New York Super Stay 24H Full Coverage Foundation - Classic Ivory 120 30ml-Warm Nude 128.jpg\n"
     ]
    },
    {
     "name": "stderr",
     "output_type": "stream",
     "text": [
      "<ipython-input-48-a5bbea6ed560>:58: ConvergenceWarning: Number of distinct clusters (2) found smaller than n_clusters (6). Possibly due to duplicate points in X.\n",
      "  estimator.fit(img)\n"
     ]
    },
    {
     "name": "stdout",
     "output_type": "stream",
     "text": [
      "images/New York Super Stay 24H Full Coverage Foundation - Classic Ivory 120 30ml-Classic Ivory.jpg\n"
     ]
    },
    {
     "name": "stderr",
     "output_type": "stream",
     "text": [
      "<ipython-input-48-a5bbea6ed560>:58: ConvergenceWarning: Number of distinct clusters (2) found smaller than n_clusters (6). Possibly due to duplicate points in X.\n",
      "  estimator.fit(img)\n"
     ]
    },
    {
     "name": "stdout",
     "output_type": "stream",
     "text": [
      "images/New York Super Stay 24H Full Coverage Foundation - Classic Ivory 120 30ml-Natural Beige.jpg\n",
      "images/New York Super Stay 24H Full Coverage Foundation - Classic Ivory 120 30ml-Natural Ivory.jpg\n"
     ]
    },
    {
     "name": "stderr",
     "output_type": "stream",
     "text": [
      "<ipython-input-48-a5bbea6ed560>:58: ConvergenceWarning: Number of distinct clusters (2) found smaller than n_clusters (6). Possibly due to duplicate points in X.\n",
      "  estimator.fit(img)\n",
      "<ipython-input-48-a5bbea6ed560>:58: ConvergenceWarning: Number of distinct clusters (2) found smaller than n_clusters (6). Possibly due to duplicate points in X.\n",
      "  estimator.fit(img)\n"
     ]
    },
    {
     "name": "stdout",
     "output_type": "stream",
     "text": [
      "images/New York Super Stay 24H Full Coverage Foundation - Classic Ivory 120 30ml-Sun Beige.jpg\n",
      "images/Weightless Matte Finish Mini Foundation Beige 03 18ml-Ivory.jpg\n",
      "images/Weightless Matte Finish Mini Foundation Beige 03 18ml-Beige.jpg\n",
      "images/Absolute Mattreal Skin Natural Mousse - Golden Medium 25g-Golden Medium.jpg\n",
      "images/Absolute Mattreal Skin Natural Mousse - Golden Medium 25g-Ivory Fair.jpg\n"
     ]
    },
    {
     "name": "stderr",
     "output_type": "stream",
     "text": [
      "<ipython-input-48-a5bbea6ed560>:58: ConvergenceWarning: Number of distinct clusters (1) found smaller than n_clusters (6). Possibly due to duplicate points in X.\n",
      "  estimator.fit(img)\n",
      "<ipython-input-48-a5bbea6ed560>:58: ConvergenceWarning: Number of distinct clusters (1) found smaller than n_clusters (6). Possibly due to duplicate points in X.\n",
      "  estimator.fit(img)\n",
      "<ipython-input-48-a5bbea6ed560>:58: ConvergenceWarning: Number of distinct clusters (2) found smaller than n_clusters (6). Possibly due to duplicate points in X.\n",
      "  estimator.fit(img)\n"
     ]
    },
    {
     "name": "stdout",
     "output_type": "stream",
     "text": [
      "images/New York Fit Me Matte+Poreless Liquid Foundation - 310 Sun Beige 18ml-Toffee.jpg\n",
      "images/New York Fit Me Matte+Poreless Liquid Foundation - 310 Sun Beige 18ml-Sun Beige.jpg\n",
      "images/New York Super Stay 24H Full Coverage Foundation - Warm Nude 128 30ml-Golden.jpg\n"
     ]
    },
    {
     "name": "stderr",
     "output_type": "stream",
     "text": [
      "<ipython-input-48-a5bbea6ed560>:58: ConvergenceWarning: Number of distinct clusters (2) found smaller than n_clusters (6). Possibly due to duplicate points in X.\n",
      "  estimator.fit(img)\n",
      "<ipython-input-48-a5bbea6ed560>:58: ConvergenceWarning: Number of distinct clusters (2) found smaller than n_clusters (6). Possibly due to duplicate points in X.\n",
      "  estimator.fit(img)\n"
     ]
    },
    {
     "name": "stdout",
     "output_type": "stream",
     "text": [
      "images/New York Super Stay 24H Full Coverage Foundation - Warm Nude 128 30ml-Warm Nude 128.jpg\n"
     ]
    },
    {
     "name": "stderr",
     "output_type": "stream",
     "text": [
      "<ipython-input-48-a5bbea6ed560>:58: ConvergenceWarning: Number of distinct clusters (2) found smaller than n_clusters (6). Possibly due to duplicate points in X.\n",
      "  estimator.fit(img)\n"
     ]
    },
    {
     "name": "stdout",
     "output_type": "stream",
     "text": [
      "images/New York Super Stay 24H Full Coverage Foundation - Warm Nude 128 30ml-Classic Ivory.jpg\n"
     ]
    },
    {
     "name": "stderr",
     "output_type": "stream",
     "text": [
      "<ipython-input-48-a5bbea6ed560>:58: ConvergenceWarning: Number of distinct clusters (2) found smaller than n_clusters (6). Possibly due to duplicate points in X.\n",
      "  estimator.fit(img)\n"
     ]
    },
    {
     "name": "stdout",
     "output_type": "stream",
     "text": [
      "images/New York Super Stay 24H Full Coverage Foundation - Warm Nude 128 30ml-Natural Beige.jpg\n",
      "images/New York Super Stay 24H Full Coverage Foundation - Warm Nude 128 30ml-Natural Ivory.jpg\n"
     ]
    },
    {
     "name": "stderr",
     "output_type": "stream",
     "text": [
      "<ipython-input-48-a5bbea6ed560>:58: ConvergenceWarning: Number of distinct clusters (2) found smaller than n_clusters (6). Possibly due to duplicate points in X.\n",
      "  estimator.fit(img)\n",
      "<ipython-input-48-a5bbea6ed560>:58: ConvergenceWarning: Number of distinct clusters (2) found smaller than n_clusters (6). Possibly due to duplicate points in X.\n",
      "  estimator.fit(img)\n"
     ]
    },
    {
     "name": "stdout",
     "output_type": "stream",
     "text": [
      "images/New York Super Stay 24H Full Coverage Foundation - Warm Nude 128 30ml-Sun Beige.jpg\n",
      "images/Paris Infallible 24H Fresh Wear Foundation - Golden Beige 140 30ml-Golden Sun 260.jpg\n"
     ]
    },
    {
     "name": "stderr",
     "output_type": "stream",
     "text": [
      "<ipython-input-48-a5bbea6ed560>:58: ConvergenceWarning: Number of distinct clusters (2) found smaller than n_clusters (6). Possibly due to duplicate points in X.\n",
      "  estimator.fit(img)\n"
     ]
    },
    {
     "name": "stdout",
     "output_type": "stream",
     "text": [
      "images/Paris Infallible 24H Fresh Wear Foundation - Golden Beige 140 30ml-Radiant Sand.jpg\n"
     ]
    },
    {
     "name": "stderr",
     "output_type": "stream",
     "text": [
      "<ipython-input-48-a5bbea6ed560>:58: ConvergenceWarning: Number of distinct clusters (1) found smaller than n_clusters (6). Possibly due to duplicate points in X.\n",
      "  estimator.fit(img)\n"
     ]
    },
    {
     "name": "stdout",
     "output_type": "stream",
     "text": [
      "images/Paris Infallible 24H Fresh Wear Foundation - Golden Beige 140 30ml-300 Amber.jpg\n",
      "images/Paris Infallible 24H Fresh Wear Foundation - Golden Beige 140 30ml-Golden Beige.jpg\n",
      "images/Paris Infallible 24H Fresh Wear Foundation - Golden Beige 140 30ml-Radiant Beige.jpg\n",
      "images/9 to 5 01 Rose Ivory Weightless Mousse Foundation-Beige Vanilla.jpg\n",
      "images/9 to 5 01 Rose Ivory Weightless Mousse Foundation-Rose Ivory.jpg\n"
     ]
    },
    {
     "name": "stderr",
     "output_type": "stream",
     "text": [
      "<ipython-input-48-a5bbea6ed560>:58: ConvergenceWarning: Number of distinct clusters (2) found smaller than n_clusters (6). Possibly due to duplicate points in X.\n",
      "  estimator.fit(img)\n"
     ]
    },
    {
     "name": "stdout",
     "output_type": "stream",
     "text": [
      "images/New York Super Stay 24H Full Coverage Foundation - Sun Beige 310 30ml-Golden.jpg\n"
     ]
    },
    {
     "name": "stderr",
     "output_type": "stream",
     "text": [
      "<ipython-input-48-a5bbea6ed560>:58: ConvergenceWarning: Number of distinct clusters (2) found smaller than n_clusters (6). Possibly due to duplicate points in X.\n",
      "  estimator.fit(img)\n"
     ]
    },
    {
     "name": "stdout",
     "output_type": "stream",
     "text": [
      "images/New York Super Stay 24H Full Coverage Foundation - Sun Beige 310 30ml-Warm Nude 128.jpg\n"
     ]
    },
    {
     "name": "stderr",
     "output_type": "stream",
     "text": [
      "<ipython-input-48-a5bbea6ed560>:58: ConvergenceWarning: Number of distinct clusters (2) found smaller than n_clusters (6). Possibly due to duplicate points in X.\n",
      "  estimator.fit(img)\n"
     ]
    },
    {
     "name": "stdout",
     "output_type": "stream",
     "text": [
      "images/New York Super Stay 24H Full Coverage Foundation - Sun Beige 310 30ml-Classic Ivory.jpg\n"
     ]
    },
    {
     "name": "stderr",
     "output_type": "stream",
     "text": [
      "<ipython-input-48-a5bbea6ed560>:58: ConvergenceWarning: Number of distinct clusters (2) found smaller than n_clusters (6). Possibly due to duplicate points in X.\n",
      "  estimator.fit(img)\n"
     ]
    },
    {
     "name": "stdout",
     "output_type": "stream",
     "text": [
      "images/New York Super Stay 24H Full Coverage Foundation - Sun Beige 310 30ml-Natural Beige.jpg\n",
      "images/New York Super Stay 24H Full Coverage Foundation - Sun Beige 310 30ml-Natural Ivory.jpg\n"
     ]
    },
    {
     "name": "stderr",
     "output_type": "stream",
     "text": [
      "<ipython-input-48-a5bbea6ed560>:58: ConvergenceWarning: Number of distinct clusters (2) found smaller than n_clusters (6). Possibly due to duplicate points in X.\n",
      "  estimator.fit(img)\n",
      "<ipython-input-48-a5bbea6ed560>:58: ConvergenceWarning: Number of distinct clusters (2) found smaller than n_clusters (6). Possibly due to duplicate points in X.\n",
      "  estimator.fit(img)\n",
      "<ipython-input-48-a5bbea6ed560>:58: ConvergenceWarning: Number of distinct clusters (2) found smaller than n_clusters (6). Possibly due to duplicate points in X.\n",
      "  estimator.fit(img)\n"
     ]
    },
    {
     "name": "stdout",
     "output_type": "stream",
     "text": [
      "images/New York Super Stay 24H Full Coverage Foundation - Sun Beige 310 30ml-Sun Beige.jpg\n",
      "images/3.3 HD Liquid Foundation 30ml-2.3.jpg\n",
      "images/3.3 HD Liquid Foundation 30ml-1.5.jpg\n",
      "images/3.3 HD Liquid Foundation 30ml-3.1.jpg\n",
      "images/3.3 HD Liquid Foundation 30ml-3.jpg\n",
      "images/3.3 HD Liquid Foundation 30ml-3.3.jpg\n",
      "images/New York Fit Me Matte + Poreless Liquid Foundation Tube - Toffee 330 18ml-Toffee.jpg\n",
      "images/New York Fit Me Matte + Poreless Liquid Foundation Tube - Toffee 330 18ml-Sun Beige.jpg\n",
      "images/Ultime Pro Second Skin Foundation Ivory 01 30ml-Natural.jpg\n",
      "images/Ultime Pro Second Skin Foundation Ivory 01 30ml-Beige.jpg\n",
      "images/Ultime Pro Second Skin Foundation Ivory 01 30ml-Ivory.jpg\n",
      "images/Perfecting Natural Coral Liquid Foundation-Natural Coral.jpg\n",
      "images/Perfecting Natural Coral Liquid Foundation-Natural Shell.jpg\n",
      "images/Perfecting Natural Coral Liquid Foundation-Natural Marble.jpg\n",
      "images/Perfecting Natural Coral Liquid Foundation-Natural Pearl.jpg\n",
      "images/New York Super Stay 24H Full Coverage Liquid Foundation - Natural Beige 220-Golden.jpg\n"
     ]
    },
    {
     "name": "stderr",
     "output_type": "stream",
     "text": [
      "<ipython-input-48-a5bbea6ed560>:58: ConvergenceWarning: Number of distinct clusters (2) found smaller than n_clusters (6). Possibly due to duplicate points in X.\n",
      "  estimator.fit(img)\n"
     ]
    },
    {
     "name": "stdout",
     "output_type": "stream",
     "text": [
      "images/New York Super Stay 24H Full Coverage Liquid Foundation - Natural Beige 220-Warm Nude 128.jpg\n"
     ]
    },
    {
     "name": "stderr",
     "output_type": "stream",
     "text": [
      "<ipython-input-48-a5bbea6ed560>:58: ConvergenceWarning: Number of distinct clusters (2) found smaller than n_clusters (6). Possibly due to duplicate points in X.\n",
      "  estimator.fit(img)\n"
     ]
    },
    {
     "name": "stdout",
     "output_type": "stream",
     "text": [
      "images/New York Super Stay 24H Full Coverage Liquid Foundation - Natural Beige 220-Classic Ivory.jpg\n"
     ]
    },
    {
     "name": "stderr",
     "output_type": "stream",
     "text": [
      "<ipython-input-48-a5bbea6ed560>:58: ConvergenceWarning: Number of distinct clusters (2) found smaller than n_clusters (6). Possibly due to duplicate points in X.\n",
      "  estimator.fit(img)\n"
     ]
    },
    {
     "name": "stdout",
     "output_type": "stream",
     "text": [
      "images/New York Super Stay 24H Full Coverage Liquid Foundation - Natural Beige 220-Natural Beige.jpg\n",
      "images/New York Super Stay 24H Full Coverage Liquid Foundation - Natural Beige 220-Natural Ivory.jpg\n"
     ]
    },
    {
     "name": "stderr",
     "output_type": "stream",
     "text": [
      "<ipython-input-48-a5bbea6ed560>:58: ConvergenceWarning: Number of distinct clusters (2) found smaller than n_clusters (6). Possibly due to duplicate points in X.\n",
      "  estimator.fit(img)\n",
      "<ipython-input-48-a5bbea6ed560>:58: ConvergenceWarning: Number of distinct clusters (2) found smaller than n_clusters (6). Possibly due to duplicate points in X.\n",
      "  estimator.fit(img)\n"
     ]
    },
    {
     "name": "stdout",
     "output_type": "stream",
     "text": [
      "images/New York Super Stay 24H Full Coverage Liquid Foundation - Natural Beige 220-Sun Beige.jpg\n",
      "images/New York Fit Me Two Way Cake Powder Foundation with SPF 32 - Warm Nude 128-Sun Beige.jpg\n",
      "images/New York Fit Me Two Way Cake Powder Foundation with SPF 32 - Warm Nude 128-Warm Nude 128.jpg\n",
      "images/New York Super Stay 24H Full Coverage Liquid Foundation - Golden 312-Golden.jpg\n"
     ]
    },
    {
     "name": "stderr",
     "output_type": "stream",
     "text": [
      "<ipython-input-48-a5bbea6ed560>:58: ConvergenceWarning: Number of distinct clusters (2) found smaller than n_clusters (6). Possibly due to duplicate points in X.\n",
      "  estimator.fit(img)\n"
     ]
    },
    {
     "name": "stdout",
     "output_type": "stream",
     "text": [
      "images/New York Super Stay 24H Full Coverage Liquid Foundation - Golden 312-Warm Nude 128.jpg\n"
     ]
    },
    {
     "name": "stderr",
     "output_type": "stream",
     "text": [
      "<ipython-input-48-a5bbea6ed560>:58: ConvergenceWarning: Number of distinct clusters (2) found smaller than n_clusters (6). Possibly due to duplicate points in X.\n",
      "  estimator.fit(img)\n"
     ]
    },
    {
     "name": "stdout",
     "output_type": "stream",
     "text": [
      "images/New York Super Stay 24H Full Coverage Liquid Foundation - Golden 312-Classic Ivory.jpg\n"
     ]
    },
    {
     "name": "stderr",
     "output_type": "stream",
     "text": [
      "<ipython-input-48-a5bbea6ed560>:58: ConvergenceWarning: Number of distinct clusters (2) found smaller than n_clusters (6). Possibly due to duplicate points in X.\n",
      "  estimator.fit(img)\n"
     ]
    },
    {
     "name": "stdout",
     "output_type": "stream",
     "text": [
      "images/New York Super Stay 24H Full Coverage Liquid Foundation - Golden 312-Natural Beige.jpg\n",
      "images/New York Super Stay 24H Full Coverage Liquid Foundation - Golden 312-Natural Ivory.jpg\n"
     ]
    },
    {
     "name": "stderr",
     "output_type": "stream",
     "text": [
      "<ipython-input-48-a5bbea6ed560>:58: ConvergenceWarning: Number of distinct clusters (2) found smaller than n_clusters (6). Possibly due to duplicate points in X.\n",
      "  estimator.fit(img)\n"
     ]
    },
    {
     "name": "stdout",
     "output_type": "stream",
     "text": [
      "images/New York Super Stay 24H Full Coverage Liquid Foundation - Golden 312-Sun Beige.jpg\n",
      "images/Perfecting Natural Shell Liquid Foundation-Natural Coral.jpg\n",
      "images/Perfecting Natural Shell Liquid Foundation-Natural Shell.jpg\n",
      "images/Perfecting Natural Shell Liquid Foundation-Natural Marble.jpg\n"
     ]
    },
    {
     "name": "stderr",
     "output_type": "stream",
     "text": [
      "<ipython-input-48-a5bbea6ed560>:58: ConvergenceWarning: Number of distinct clusters (2) found smaller than n_clusters (6). Possibly due to duplicate points in X.\n",
      "  estimator.fit(img)\n"
     ]
    },
    {
     "name": "stdout",
     "output_type": "stream",
     "text": [
      "images/Perfecting Natural Shell Liquid Foundation-Natural Pearl.jpg\n",
      "images/Invisible Finish SPF 8 Foundation - 01 25ml-01.jpg\n"
     ]
    },
    {
     "name": "stderr",
     "output_type": "stream",
     "text": [
      "<ipython-input-48-a5bbea6ed560>:58: ConvergenceWarning: Number of distinct clusters (2) found smaller than n_clusters (6). Possibly due to duplicate points in X.\n",
      "  estimator.fit(img)\n"
     ]
    },
    {
     "name": "stdout",
     "output_type": "stream",
     "text": [
      "images/Invisible Finish SPF 8 Foundation - 01 25ml-05.jpg\n",
      "images/Invisible Finish SPF 8 Foundation - 01 25ml-4.jpg\n",
      "images/Invisible Finish SPF 8 Foundation - 01 25ml-02.jpg\n",
      "images/Soft Touch Mousse Make-Up - 04-4.jpg\n",
      "images/Soft Touch Mousse Make-Up - 04-02 Matt Beige.jpg\n",
      "images/New York Fit Me Matte + Poreless Liquid Foundation - Natural Tan 320 30ml-115 Ivory.jpg\n",
      "images/New York Fit Me Matte + Poreless Liquid Foundation - Natural Tan 320 30ml-Classic Ivory.jpg\n",
      "images/New York Fit Me Matte + Poreless Liquid Foundation - Natural Tan 320 30ml-Natural Tan.jpg\n",
      "images/New York Fit Me Matte + Poreless Liquid Foundation - Natural Tan 320 30ml-Warm Nude 128.jpg\n"
     ]
    },
    {
     "name": "stderr",
     "output_type": "stream",
     "text": [
      "<ipython-input-48-a5bbea6ed560>:58: ConvergenceWarning: Number of distinct clusters (2) found smaller than n_clusters (6). Possibly due to duplicate points in X.\n",
      "  estimator.fit(img)\n",
      "<ipython-input-48-a5bbea6ed560>:58: ConvergenceWarning: Number of distinct clusters (2) found smaller than n_clusters (6). Possibly due to duplicate points in X.\n",
      "  estimator.fit(img)\n",
      "<ipython-input-48-a5bbea6ed560>:58: ConvergenceWarning: Number of distinct clusters (2) found smaller than n_clusters (6). Possibly due to duplicate points in X.\n",
      "  estimator.fit(img)\n",
      "<ipython-input-48-a5bbea6ed560>:58: ConvergenceWarning: Number of distinct clusters (2) found smaller than n_clusters (6). Possibly due to duplicate points in X.\n",
      "  estimator.fit(img)\n"
     ]
    },
    {
     "name": "stdout",
     "output_type": "stream",
     "text": [
      "images/New York Fit Me Matte + Poreless Liquid Foundation - Natural Tan 320 30ml-Natural Beige.jpg\n",
      "images/9 To 5 Primer And Matte Perfect Cover Foundation - Cool Rose C140 25 ml-Cool Tan C280.jpg\n",
      "images/9 To 5 Primer And Matte Perfect Cover Foundation - Cool Rose C140 25 ml-Cool Rose C140.jpg\n",
      "images/9 To 5 Primer And Matte Perfect Cover Foundation - Cool Rose C140 25 ml-Warm Caramel.jpg\n"
     ]
    },
    {
     "name": "stderr",
     "output_type": "stream",
     "text": [
      "<ipython-input-48-a5bbea6ed560>:58: ConvergenceWarning: Number of distinct clusters (2) found smaller than n_clusters (6). Possibly due to duplicate points in X.\n",
      "  estimator.fit(img)\n",
      "<ipython-input-48-a5bbea6ed560>:58: ConvergenceWarning: Number of distinct clusters (2) found smaller than n_clusters (6). Possibly due to duplicate points in X.\n",
      "  estimator.fit(img)\n"
     ]
    },
    {
     "name": "stdout",
     "output_type": "stream",
     "text": [
      "images/9 To 5 Primer And Matte Perfect Cover Foundation - Cool Rose C140 25 ml-Neutral Nude.jpg\n",
      "images/9 To 5 Primer And Matte Perfect Cover Foundation - Cool Rose C140 25 ml-N220 Neutral Medium.jpg\n",
      "images/9 To 5 Primer And Matte Perfect Cover Foundation - Cool Rose C140 25 ml-Warm Natural.jpg\n",
      "images/9 To 5 Primer And Matte Perfect Cover Foundation - Cool Rose C140 25 ml-Cool Cinnamon.jpg\n",
      "images/9 To 5 Primer And Matte Perfect Cover Foundation - Cool Rose C140 25 ml-W240 Warm Beige.jpg\n",
      "images/9 To 5 Primer And Matte Perfect Cover Foundation - Cool Rose C140 25 ml-Neutral Honey.jpg\n",
      "images/9 To 5 Primer And Matte Perfect Cover Foundation - Cool Rose C140 25 ml-Cool Ivory.jpg\n",
      "images/9 To 5 Primer And Matte Perfect Cover Foundation - Cool Rose C140 25 ml-Warm Sand.jpg\n",
      "images/Skin Foundation Stick - 5.5 Warm Honey 9 g-Transparent.jpg\n",
      "images/Skin Foundation Stick - 5.5 Warm Honey 9 g-Warm Beige.jpg\n"
     ]
    },
    {
     "name": "stderr",
     "output_type": "stream",
     "text": [
      "<ipython-input-48-a5bbea6ed560>:58: ConvergenceWarning: Number of distinct clusters (2) found smaller than n_clusters (6). Possibly due to duplicate points in X.\n",
      "  estimator.fit(img)\n",
      "<ipython-input-48-a5bbea6ed560>:58: ConvergenceWarning: Number of distinct clusters (1) found smaller than n_clusters (6). Possibly due to duplicate points in X.\n",
      "  estimator.fit(img)\n",
      "<ipython-input-48-a5bbea6ed560>:58: ConvergenceWarning: Number of distinct clusters (2) found smaller than n_clusters (6). Possibly due to duplicate points in X.\n",
      "  estimator.fit(img)\n"
     ]
    },
    {
     "name": "stdout",
     "output_type": "stream",
     "text": [
      "images/Skin Foundation Stick - 5.5 Warm Honey 9 g-Warm Honey.jpg\n",
      "images/9To5 Primer & Matte SPF 20 Perfect Cover Foundation - Neutral Nude N200 25ml-Cool Tan C280.jpg\n",
      "images/9To5 Primer & Matte SPF 20 Perfect Cover Foundation - Neutral Nude N200 25ml-Cool Rose C140.jpg\n",
      "images/9To5 Primer & Matte SPF 20 Perfect Cover Foundation - Neutral Nude N200 25ml-Warm Caramel.jpg\n"
     ]
    },
    {
     "name": "stderr",
     "output_type": "stream",
     "text": [
      "<ipython-input-48-a5bbea6ed560>:58: ConvergenceWarning: Number of distinct clusters (2) found smaller than n_clusters (6). Possibly due to duplicate points in X.\n",
      "  estimator.fit(img)\n"
     ]
    },
    {
     "name": "stdout",
     "output_type": "stream",
     "text": [
      "images/9To5 Primer & Matte SPF 20 Perfect Cover Foundation - Neutral Nude N200 25ml-Neutral Nude.jpg\n",
      "images/9To5 Primer & Matte SPF 20 Perfect Cover Foundation - Neutral Nude N200 25ml-N220 Neutral Medium.jpg\n",
      "images/9To5 Primer & Matte SPF 20 Perfect Cover Foundation - Neutral Nude N200 25ml-Warm Natural.jpg\n",
      "images/9To5 Primer & Matte SPF 20 Perfect Cover Foundation - Neutral Nude N200 25ml-Cool Cinnamon.jpg\n",
      "images/9To5 Primer & Matte SPF 20 Perfect Cover Foundation - Neutral Nude N200 25ml-W240 Warm Beige.jpg\n",
      "images/9To5 Primer & Matte SPF 20 Perfect Cover Foundation - Neutral Nude N200 25ml-Neutral Honey.jpg\n",
      "images/9To5 Primer & Matte SPF 20 Perfect Cover Foundation - Neutral Nude N200 25ml-Cool Ivory.jpg\n",
      "images/9To5 Primer & Matte SPF 20 Perfect Cover Foundation - Neutral Nude N200 25ml-Warm Sand.jpg\n",
      "images/Fast Base Stick Foundation F9-F9.jpg\n"
     ]
    },
    {
     "name": "stderr",
     "output_type": "stream",
     "text": [
      "<ipython-input-48-a5bbea6ed560>:58: ConvergenceWarning: Number of distinct clusters (2) found smaller than n_clusters (6). Possibly due to duplicate points in X.\n",
      "  estimator.fit(img)\n"
     ]
    },
    {
     "name": "stdout",
     "output_type": "stream",
     "text": [
      "images/Fast Base Stick Foundation F9-F8.jpg\n"
     ]
    },
    {
     "name": "stderr",
     "output_type": "stream",
     "text": [
      "<ipython-input-48-a5bbea6ed560>:58: ConvergenceWarning: Number of distinct clusters (2) found smaller than n_clusters (6). Possibly due to duplicate points in X.\n",
      "  estimator.fit(img)\n"
     ]
    },
    {
     "name": "stdout",
     "output_type": "stream",
     "text": [
      "images/Fast Base Stick Foundation F9-F10.jpg\n"
     ]
    },
    {
     "name": "stderr",
     "output_type": "stream",
     "text": [
      "<ipython-input-48-a5bbea6ed560>:58: ConvergenceWarning: Number of distinct clusters (1) found smaller than n_clusters (6). Possibly due to duplicate points in X.\n",
      "  estimator.fit(img)\n"
     ]
    },
    {
     "name": "stdout",
     "output_type": "stream",
     "text": [
      "images/Absolute 9 to 5 Beige Vanilla Weightless Mousse Foundation 02-Beige Vanilla.jpg\n",
      "images/Absolute 9 to 5 Beige Vanilla Weightless Mousse Foundation 02-Rose Ivory.jpg\n",
      "images/FE-03 Medium Olive Everyday Foundation 30ml-Buff.jpg\n",
      "images/FE-03 Medium Olive Everyday Foundation 30ml-Neutral Buff.jpg\n",
      "images/FE-03 Medium Olive Everyday Foundation 30ml-Soft Beige.jpg\n",
      "images/FE-03 Medium Olive Everyday Foundation 30ml-Medium Olive.jpg\n",
      "images/Studio Fix Fluid Foundation with SPF 15 - NC20 30ml-Nw45.jpg\n",
      "images/Studio Fix Fluid Foundation with SPF 15 - NC20 30ml-Nc45.jpg\n",
      "images/Studio Fix Fluid Foundation with SPF 15 - NC20 30ml-Nc35.jpg\n",
      "images/Studio Fix Fluid Foundation with SPF 15 - NC20 30ml-Nc40.jpg\n",
      "images/Studio Fix Fluid Foundation with SPF 15 - NC20 30ml-Nc30.jpg\n",
      "images/Studio Fix Fluid Foundation with SPF 15 - NC20 30ml-NC47.jpg\n",
      "images/Studio Fix Fluid Foundation with SPF 15 - NC20 30ml-Nc25.jpg\n",
      "images/Studio Fix Fluid Foundation with SPF 15 - NC20 30ml-Nc42.jpg\n",
      "images/Studio Fix Fluid Foundation with SPF 15 - NC20 30ml-Nc15.jpg\n",
      "images/Studio Fix Fluid Foundation with SPF 15 - NC20 30ml-Nc18.jpg\n",
      "images/Studio Fix Fluid Foundation with SPF 15 - NC20 30ml-Nc12.jpg\n",
      "images/Studio Fix Fluid Foundation with SPF 15 - NC20 30ml-Nc20.jpg\n",
      "images/Studio Fix Fluid Foundation with SPF 15 - NC20 30ml-Nw35.jpg\n",
      "images/Skin Perfect SPF 60 Foundation - Silken Glow 015 30ml-Sassy Glow 012.jpg\n"
     ]
    },
    {
     "name": "stderr",
     "output_type": "stream",
     "text": [
      "<ipython-input-48-a5bbea6ed560>:58: ConvergenceWarning: Number of distinct clusters (2) found smaller than n_clusters (6). Possibly due to duplicate points in X.\n",
      "  estimator.fit(img)\n"
     ]
    },
    {
     "name": "stdout",
     "output_type": "stream",
     "text": [
      "images/Skin Perfect SPF 60 Foundation - Silken Glow 015 30ml-Nude Glow.jpg\n",
      "images/Skin Perfect SPF 60 Foundation - Silken Glow 015 30ml-Eternal Glow 015.jpg\n"
     ]
    },
    {
     "name": "stderr",
     "output_type": "stream",
     "text": [
      "<ipython-input-48-a5bbea6ed560>:58: ConvergenceWarning: Number of distinct clusters (2) found smaller than n_clusters (6). Possibly due to duplicate points in X.\n",
      "  estimator.fit(img)\n",
      "<ipython-input-48-a5bbea6ed560>:58: ConvergenceWarning: Number of distinct clusters (2) found smaller than n_clusters (6). Possibly due to duplicate points in X.\n",
      "  estimator.fit(img)\n"
     ]
    },
    {
     "name": "stdout",
     "output_type": "stream",
     "text": [
      "images/Invisible Finish Foundation - 04-01.jpg\n",
      "images/Invisible Finish Foundation - 04-05.jpg\n",
      "images/Invisible Finish Foundation - 04-4.jpg\n",
      "images/Invisible Finish Foundation - 04-02.jpg\n",
      "images/Triple Effect Makeup Foundation Concealer & Powder - Cafe 004-Cafe.jpg\n",
      "images/9 To 5 Primer & Matte Perfect Cover Foundation - Warm Sand W160 25 ml-Cool Tan C280.jpg\n"
     ]
    },
    {
     "name": "stderr",
     "output_type": "stream",
     "text": [
      "<ipython-input-48-a5bbea6ed560>:58: ConvergenceWarning: Number of distinct clusters (2) found smaller than n_clusters (6). Possibly due to duplicate points in X.\n",
      "  estimator.fit(img)\n",
      "<ipython-input-48-a5bbea6ed560>:58: ConvergenceWarning: Number of distinct clusters (2) found smaller than n_clusters (6). Possibly due to duplicate points in X.\n",
      "  estimator.fit(img)\n"
     ]
    },
    {
     "name": "stdout",
     "output_type": "stream",
     "text": [
      "images/9 To 5 Primer & Matte Perfect Cover Foundation - Warm Sand W160 25 ml-Cool Rose C140.jpg\n",
      "images/9 To 5 Primer & Matte Perfect Cover Foundation - Warm Sand W160 25 ml-Warm Caramel.jpg\n"
     ]
    },
    {
     "name": "stderr",
     "output_type": "stream",
     "text": [
      "<ipython-input-48-a5bbea6ed560>:58: ConvergenceWarning: Number of distinct clusters (2) found smaller than n_clusters (6). Possibly due to duplicate points in X.\n",
      "  estimator.fit(img)\n"
     ]
    },
    {
     "name": "stdout",
     "output_type": "stream",
     "text": [
      "images/9 To 5 Primer & Matte Perfect Cover Foundation - Warm Sand W160 25 ml-Neutral Nude.jpg\n",
      "images/9 To 5 Primer & Matte Perfect Cover Foundation - Warm Sand W160 25 ml-N220 Neutral Medium.jpg\n",
      "images/9 To 5 Primer & Matte Perfect Cover Foundation - Warm Sand W160 25 ml-Warm Natural.jpg\n",
      "images/9 To 5 Primer & Matte Perfect Cover Foundation - Warm Sand W160 25 ml-Cool Cinnamon.jpg\n",
      "images/9 To 5 Primer & Matte Perfect Cover Foundation - Warm Sand W160 25 ml-W240 Warm Beige.jpg\n",
      "images/9 To 5 Primer & Matte Perfect Cover Foundation - Warm Sand W160 25 ml-Neutral Honey.jpg\n",
      "images/9 To 5 Primer & Matte Perfect Cover Foundation - Warm Sand W160 25 ml-Cool Ivory.jpg\n",
      "images/9 To 5 Primer & Matte Perfect Cover Foundation - Warm Sand W160 25 ml-Warm Sand.jpg\n",
      "images/Primer Plus Mattifier 40ml-Translucent.jpg\n",
      "images/Mini Skin Long Wear Weightless Foundation - Porcelain 13ml-Porcelain.jpg"
     ]
    },
    {
     "name": "stderr",
     "output_type": "stream",
     "text": [
      "<ipython-input-48-a5bbea6ed560>:58: ConvergenceWarning: Number of distinct clusters (1) found smaller than n_clusters (6). Possibly due to duplicate points in X.\n",
      "  estimator.fit(img)\n"
     ]
    },
    {
     "name": "stdout",
     "output_type": "stream",
     "text": [
      "\n",
      "images/Mini Skin Long Wear Weightless Foundation - Porcelain 13ml-Honey.jpg\n",
      "images/Mini Skin Long Wear Weightless Foundation - Porcelain 13ml-Natural Tan.jpg\n",
      "images/Mini Skin Long Wear Weightless Foundation - Porcelain 13ml-Golden Natural.jpg\n",
      "images/Mini Skin Long Wear Weightless Foundation - Porcelain 13ml-Warm Beige.jpg\n",
      "images/Mini Skin Long Wear Weightless Foundation - Porcelain 13ml-Warm Natural.jpg\n",
      "images/Mini Skin Long Wear Weightless Foundation - Porcelain 13ml-Golden.jpg\n",
      "images/Mini Skin Long Wear Weightless Foundation - Porcelain 13ml-Natural.jpg\n",
      "images/Double Wear Stay-In-Place Makeup with SPF 10 - Sand 1W2 15ml-Shell.jpg\n",
      "images/Double Wear Stay-In-Place Makeup with SPF 10 - Sand 1W2 15ml-Mustard.jpg\n",
      "images/Double Wear Stay-In-Place Makeup with SPF 10 - Sand 1W2 15ml-1W2 Sand.jpg\n",
      "images/Double Wear Stay-In-Place Makeup with SPF 10 - Sand 1W2 15ml-3W1 Tawny.jpg\n",
      "images/Double Wear Stay-In-Place Makeup with SPF 10 - Sand 1W2 15ml-Tawny.jpg\n",
      "images/Double Wear Stay-In-Place Makeup with SPF 10 - Sand 1W2 15ml-Cinnamon.jpg\n",
      "images/Double Wear Stay-In-Place Makeup with SPF 10 - Sand 1W2 15ml-Buff.jpg\n",
      "images/Double Wear Stay-In-Place Makeup with SPF 10 - Sand 1W2 15ml-Honey Bronze.jpg\n",
      "images/Double Wear Stay-In-Place Makeup with SPF 10 - Sand 1W2 15ml-3W2 Cashew.jpg\n",
      "images/Double Wear Stay-In-Place Makeup with SPF 10 - Sand 1W2 15ml-2W2 Rattan.jpg\n",
      "images/Double Wear Stay-In-Place Makeup with SPF 10 - Sand 1W2 15ml-Rattan.jpg\n",
      "images/Double Wear Stay-In-Place Makeup with SPF 10 - Sand 1W2 15ml-Warm Porcelain.jpg\n",
      "images/Double Wear Stay-In-Place Makeup with SPF 10 - Sand 1W2 15ml-Porcelain.jpg\n",
      "images/Double Wear Stay-In-Place Makeup with SPF 10 - Sand 1W2 15ml-Sand.jpg\n",
      "images/Double Wear Stay-In-Place Makeup with SPF 10 - Sand 1W2 15ml-Spiced Sand.jpg\n",
      "images/Double Wear Stay-In-Place Makeup with SPF 10 - Sand 1W2 15ml-Ivory Nude.jpg\n",
      "images/Double Wear Stay-In-Place Makeup with SPF 10 - Sand 1W2 15ml-Alabaster.jpg\n",
      "images/Double Wear Stay-In-Place Makeup with SPF 10 - Sand 1W2 15ml-Bone.jpg\n",
      "images/Double Wear Stay-In-Place Makeup with SPF 10 - Sand 1W2 15ml-Ivory Beige.jpg\n",
      "images/Double Wear Stay-In-Place Makeup with SPF 10 - Sand 1W2 15ml-Toasty Toffee.jpg\n",
      "images/Double Wear Stay-In-Place Makeup with SPF 10 - Sand 1W2 15ml-NA.jpg\n",
      "images/Invisible Finish Foundation - 02 25ml-01.jpg\n",
      "images/Invisible Finish Foundation - 02 25ml-05.jpg\n",
      "images/Invisible Finish Foundation - 02 25ml-4.jpg\n"
     ]
    },
    {
     "name": "stderr",
     "output_type": "stream",
     "text": [
      "<ipython-input-48-a5bbea6ed560>:58: ConvergenceWarning: Number of distinct clusters (2) found smaller than n_clusters (6). Possibly due to duplicate points in X.\n",
      "  estimator.fit(img)\n"
     ]
    },
    {
     "name": "stdout",
     "output_type": "stream",
     "text": [
      "images/Invisible Finish Foundation - 02 25ml-02.jpg\n",
      "images/Ultime Pro Hd Runway Ready Foundation Ivory 01 30ml-Sand 04.jpg\n",
      "images/Ultime Pro Hd Runway Ready Foundation Ivory 01 30ml-Beige.jpg\n"
     ]
    },
    {
     "name": "stderr",
     "output_type": "stream",
     "text": [
      "<ipython-input-48-a5bbea6ed560>:58: ConvergenceWarning: Number of distinct clusters (2) found smaller than n_clusters (6). Possibly due to duplicate points in X.\n",
      "  estimator.fit(img)\n",
      "<ipython-input-48-a5bbea6ed560>:58: ConvergenceWarning: Number of distinct clusters (2) found smaller than n_clusters (6). Possibly due to duplicate points in X.\n",
      "  estimator.fit(img)\n",
      "<ipython-input-48-a5bbea6ed560>:58: ConvergenceWarning: Number of distinct clusters (1) found smaller than n_clusters (6). Possibly due to duplicate points in X.\n",
      "  estimator.fit(img)\n"
     ]
    },
    {
     "name": "stdout",
     "output_type": "stream",
     "text": [
      "images/Ultime Pro Hd Runway Ready Foundation Ivory 01 30ml-Beige 03.jpg\n",
      "images/Ultime Pro Hd Runway Ready Foundation Ivory 01 30ml-Ivory 01.jpg\n",
      "images/Ultime Pro Hd Runway Ready Foundation Ivory 01 30ml-Almond Beige 06.jpg\n"
     ]
    },
    {
     "name": "stderr",
     "output_type": "stream",
     "text": [
      "<ipython-input-48-a5bbea6ed560>:58: ConvergenceWarning: Number of distinct clusters (5) found smaller than n_clusters (6). Possibly due to duplicate points in X.\n",
      "  estimator.fit(img)\n",
      "<ipython-input-48-a5bbea6ed560>:58: ConvergenceWarning: Number of distinct clusters (2) found smaller than n_clusters (6). Possibly due to duplicate points in X.\n",
      "  estimator.fit(img)\n",
      "<ipython-input-48-a5bbea6ed560>:58: ConvergenceWarning: Number of distinct clusters (2) found smaller than n_clusters (6). Possibly due to duplicate points in X.\n",
      "  estimator.fit(img)\n",
      "<ipython-input-48-a5bbea6ed560>:58: ConvergenceWarning: Number of distinct clusters (1) found smaller than n_clusters (6). Possibly due to duplicate points in X.\n",
      "  estimator.fit(img)\n"
     ]
    },
    {
     "name": "stdout",
     "output_type": "stream",
     "text": [
      "images/Skin Foundation Stick - 3.5 Warm Beige 9 g-Transparent.jpg\n",
      "images/Skin Foundation Stick - 3.5 Warm Beige 9 g-Warm Beige.jpg\n",
      "images/Skin Foundation Stick - 3.5 Warm Beige 9 g-Warm Honey.jpg\n",
      "images/Invisible Finish Foundation 05-01.jpg"
     ]
    },
    {
     "name": "stderr",
     "output_type": "stream",
     "text": [
      "<ipython-input-48-a5bbea6ed560>:58: ConvergenceWarning: Number of distinct clusters (2) found smaller than n_clusters (6). Possibly due to duplicate points in X.\n",
      "  estimator.fit(img)\n"
     ]
    },
    {
     "name": "stdout",
     "output_type": "stream",
     "text": [
      "\n",
      "images/Invisible Finish Foundation 05-05.jpg\n",
      "images/Invisible Finish Foundation 05-4.jpg\n",
      "images/Invisible Finish Foundation 05-02.jpg\n",
      "images/Cosmetics Ace Of Face Foundation Stick 32 Cortado 12 g-52 Corretto.jpg\n"
     ]
    },
    {
     "name": "stderr",
     "output_type": "stream",
     "text": [
      "<ipython-input-48-a5bbea6ed560>:58: ConvergenceWarning: Number of distinct clusters (1) found smaller than n_clusters (6). Possibly due to duplicate points in X.\n",
      "  estimator.fit(img)\n",
      "<ipython-input-48-a5bbea6ed560>:58: ConvergenceWarning: Number of distinct clusters (2) found smaller than n_clusters (6). Possibly due to duplicate points in X.\n",
      "  estimator.fit(img)\n",
      "<ipython-input-48-a5bbea6ed560>:58: ConvergenceWarning: Number of distinct clusters (2) found smaller than n_clusters (6). Possibly due to duplicate points in X.\n",
      "  estimator.fit(img)\n",
      "<ipython-input-48-a5bbea6ed560>:58: ConvergenceWarning: Number of distinct clusters (2) found smaller than n_clusters (6). Possibly due to duplicate points in X.\n",
      "  estimator.fit(img)\n"
     ]
    },
    {
     "name": "stdout",
     "output_type": "stream",
     "text": [
      "images/Cosmetics Ace Of Face Foundation Stick 32 Cortado 12 g-32 Cortado.jpg\n",
      "images/Cosmetics Ace Of Face Foundation Stick 32 Cortado 12 g-42 Glace.jpg\n",
      "images/Cosmetics Ace Of Face Foundation Stick 32 Cortado 12 g-15 Cappuccino.jpg\n",
      "images/Cosmetics Ace Of Face Foundation Stick 32 Cortado 12 g-37 Freddo.jpg\n",
      "images/Cosmetics Ace Of Face Foundation Stick 32 Cortado 12 g-30 Chococcino.jpg\n",
      "images/Cosmetics Ace Of Face Foundation Stick 32 Cortado 12 g-25 Macchiato.jpg\n",
      "images/Studio Fix Fluid SPF 15 Foundation - NC15 30ml-Nw45.jpg\n",
      "images/Studio Fix Fluid SPF 15 Foundation - NC15 30ml-Nc45.jpg\n",
      "images/Studio Fix Fluid SPF 15 Foundation - NC15 30ml-Nc35.jpg\n",
      "images/Studio Fix Fluid SPF 15 Foundation - NC15 30ml-Nc40.jpg\n",
      "images/Studio Fix Fluid SPF 15 Foundation - NC15 30ml-Nc30.jpg\n",
      "images/Studio Fix Fluid SPF 15 Foundation - NC15 30ml-NC47.jpg\n",
      "images/Studio Fix Fluid SPF 15 Foundation - NC15 30ml-Nc25.jpg\n",
      "images/Studio Fix Fluid SPF 15 Foundation - NC15 30ml-Nc42.jpg\n",
      "images/Studio Fix Fluid SPF 15 Foundation - NC15 30ml-Nc15.jpg\n",
      "images/Studio Fix Fluid SPF 15 Foundation - NC15 30ml-Nc18.jpg\n",
      "images/Studio Fix Fluid SPF 15 Foundation - NC15 30ml-Nc12.jpg\n",
      "images/Studio Fix Fluid SPF 15 Foundation - NC15 30ml-Nc20.jpg\n",
      "images/Studio Fix Fluid SPF 15 Foundation - NC15 30ml-Nw35.jpg\n",
      "images/Rage For Coverage Fair Golden Undertone 24Hr Foundation 07 Vanilla Latte 25 ml-17 Raf.jpg\n",
      "images/Rage For Coverage Fair Golden Undertone 24Hr Foundation 07 Vanilla Latte 25 ml-52 Corretto.jpg\n",
      "images/Rage For Coverage Fair Golden Undertone 24Hr Foundation 07 Vanilla Latte 25 ml-15 Cappuccino.jpg"
     ]
    },
    {
     "name": "stderr",
     "output_type": "stream",
     "text": [
      "<ipython-input-48-a5bbea6ed560>:58: ConvergenceWarning: Number of distinct clusters (2) found smaller than n_clusters (6). Possibly due to duplicate points in X.\n",
      "  estimator.fit(img)\n",
      "<ipython-input-48-a5bbea6ed560>:58: ConvergenceWarning: Number of distinct clusters (2) found smaller than n_clusters (6). Possibly due to duplicate points in X.\n",
      "  estimator.fit(img)\n",
      "<ipython-input-48-a5bbea6ed560>:58: ConvergenceWarning: Number of distinct clusters (2) found smaller than n_clusters (6). Possibly due to duplicate points in X.\n",
      "  estimator.fit(img)\n"
     ]
    },
    {
     "name": "stdout",
     "output_type": "stream",
     "text": [
      "\n",
      "images/Rage For Coverage Fair Golden Undertone 24Hr Foundation 07 Vanilla Latte 25 ml-42 Glace.jpg\n",
      "images/Rage For Coverage Fair Golden Undertone 24Hr Foundation 07 Vanilla Latte 25 ml-37 Freddo.jpg\n"
     ]
    },
    {
     "name": "stderr",
     "output_type": "stream",
     "text": [
      "<ipython-input-48-a5bbea6ed560>:58: ConvergenceWarning: Number of distinct clusters (2) found smaller than n_clusters (6). Possibly due to duplicate points in X.\n",
      "  estimator.fit(img)\n",
      "<ipython-input-48-a5bbea6ed560>:58: ConvergenceWarning: Number of distinct clusters (2) found smaller than n_clusters (6). Possibly due to duplicate points in X.\n",
      "  estimator.fit(img)\n",
      "<ipython-input-48-a5bbea6ed560>:58: ConvergenceWarning: Number of distinct clusters (1) found smaller than n_clusters (6). Possibly due to duplicate points in X.\n",
      "  estimator.fit(img)\n"
     ]
    },
    {
     "name": "stdout",
     "output_type": "stream",
     "text": [
      "images/Rage For Coverage Fair Golden Undertone 24Hr Foundation 07 Vanilla Latte 25 ml-27 Vienna.jpg\n",
      "images/Rage For Coverage Fair Golden Undertone 24Hr Foundation 07 Vanilla Latte 25 ml-55 Americano.jpg\n"
     ]
    },
    {
     "name": "stderr",
     "output_type": "stream",
     "text": [
      "<ipython-input-48-a5bbea6ed560>:58: ConvergenceWarning: Number of distinct clusters (2) found smaller than n_clusters (6). Possibly due to duplicate points in X.\n",
      "  estimator.fit(img)\n",
      "<ipython-input-48-a5bbea6ed560>:58: ConvergenceWarning: Number of distinct clusters (2) found smaller than n_clusters (6). Possibly due to duplicate points in X.\n",
      "  estimator.fit(img)\n"
     ]
    },
    {
     "name": "stdout",
     "output_type": "stream",
     "text": [
      "images/Rage For Coverage Fair Golden Undertone 24Hr Foundation 07 Vanilla Latte 25 ml-07 Vanilla Latte.jpg\n",
      "images/Rage For Coverage Fair Golden Undertone 24Hr Foundation 07 Vanilla Latte 25 ml-20 Galao.jpg\n"
     ]
    },
    {
     "name": "stderr",
     "output_type": "stream",
     "text": [
      "<ipython-input-48-a5bbea6ed560>:58: ConvergenceWarning: Number of distinct clusters (2) found smaller than n_clusters (6). Possibly due to duplicate points in X.\n",
      "  estimator.fit(img)\n",
      "<ipython-input-48-a5bbea6ed560>:58: ConvergenceWarning: Number of distinct clusters (2) found smaller than n_clusters (6). Possibly due to duplicate points in X.\n",
      "  estimator.fit(img)\n",
      "<ipython-input-48-a5bbea6ed560>:58: ConvergenceWarning: Number of distinct clusters (2) found smaller than n_clusters (6). Possibly due to duplicate points in X.\n",
      "  estimator.fit(img)\n",
      "<ipython-input-48-a5bbea6ed560>:58: ConvergenceWarning: Number of distinct clusters (2) found smaller than n_clusters (6). Possibly due to duplicate points in X.\n",
      "  estimator.fit(img)\n"
     ]
    },
    {
     "name": "stdout",
     "output_type": "stream",
     "text": [
      "images/Rage For Coverage Fair Golden Undertone 24Hr Foundation 07 Vanilla Latte 25 ml-48 Irish.jpg\n",
      "images/Rage For Coverage Fair Golden Undertone 24Hr Foundation 07 Vanilla Latte 25 ml-40 Breve.jpg\n",
      "images/Rage For Coverage Fair Golden Undertone 24Hr Foundation 07 Vanilla Latte 25 ml-10 Latte.jpg\n",
      "images/Rage For Coverage Fair Golden Undertone 24Hr Foundation 07 Vanilla Latte 25 ml-35 Frappe.jpg\n"
     ]
    },
    {
     "name": "stderr",
     "output_type": "stream",
     "text": [
      "<ipython-input-48-a5bbea6ed560>:58: ConvergenceWarning: Number of distinct clusters (2) found smaller than n_clusters (6). Possibly due to duplicate points in X.\n",
      "  estimator.fit(img)\n",
      "<ipython-input-48-a5bbea6ed560>:58: ConvergenceWarning: Number of distinct clusters (2) found smaller than n_clusters (6). Possibly due to duplicate points in X.\n",
      "  estimator.fit(img)\n"
     ]
    },
    {
     "name": "stdout",
     "output_type": "stream",
     "text": [
      "images/Rage For Coverage Fair Golden Undertone 24Hr Foundation 07 Vanilla Latte 25 ml-32 Cortado.jpg\n",
      "images/Hello Happy SPF 20 Natural Matte Air Stick Foundation - 04-Medium Neutral 4.jpg\n"
     ]
    },
    {
     "name": "stderr",
     "output_type": "stream",
     "text": [
      "<ipython-input-48-a5bbea6ed560>:58: ConvergenceWarning: Number of distinct clusters (2) found smaller than n_clusters (6). Possibly due to duplicate points in X.\n",
      "  estimator.fit(img)\n"
     ]
    },
    {
     "name": "stdout",
     "output_type": "stream",
     "text": [
      "images/Hello Happy SPF 20 Natural Matte Air Stick Foundation - 04-03 - Light Neutral.jpg\n",
      "images/Hello Happy SPF 20 Natural Matte Air Stick Foundation - 04-Light Warm.jpg\n",
      "images/Hello Happy SPF 20 Natural Matte Air Stick Foundation - 04-09 - Deep Neutral Warm.jpg\n",
      "images/Hello Happy SPF 20 Natural Matte Air Stick Foundation - 04-08 - Tan Warm.jpg\n",
      "images/Skin Perfect Foundation with SPF 60 - Nude Glow 003-Sassy Glow 012.jpg\n"
     ]
    },
    {
     "name": "stderr",
     "output_type": "stream",
     "text": [
      "<ipython-input-48-a5bbea6ed560>:58: ConvergenceWarning: Number of distinct clusters (2) found smaller than n_clusters (6). Possibly due to duplicate points in X.\n",
      "  estimator.fit(img)\n"
     ]
    },
    {
     "name": "stdout",
     "output_type": "stream",
     "text": [
      "images/Skin Perfect Foundation with SPF 60 - Nude Glow 003-Nude Glow.jpg\n",
      "images/Skin Perfect Foundation with SPF 60 - Nude Glow 003-Eternal Glow 015.jpg\n"
     ]
    },
    {
     "name": "stderr",
     "output_type": "stream",
     "text": [
      "<ipython-input-48-a5bbea6ed560>:58: ConvergenceWarning: Number of distinct clusters (2) found smaller than n_clusters (6). Possibly due to duplicate points in X.\n",
      "  estimator.fit(img)\n",
      "<ipython-input-48-a5bbea6ed560>:58: ConvergenceWarning: Number of distinct clusters (2) found smaller than n_clusters (6). Possibly due to duplicate points in X.\n",
      "  estimator.fit(img)\n"
     ]
    },
    {
     "name": "stdout",
     "output_type": "stream",
     "text": [
      "images/9 To 5 Primer + Matte SPF20 Perfect Cover Foundation - Warm Natural W180 25 ml-Cool Tan C280.jpg\n",
      "images/9 To 5 Primer + Matte SPF20 Perfect Cover Foundation - Warm Natural W180 25 ml-Cool Rose C140.jpg\n",
      "images/9 To 5 Primer + Matte SPF20 Perfect Cover Foundation - Warm Natural W180 25 ml-Warm Caramel.jpg\n"
     ]
    },
    {
     "name": "stderr",
     "output_type": "stream",
     "text": [
      "<ipython-input-48-a5bbea6ed560>:58: ConvergenceWarning: Number of distinct clusters (2) found smaller than n_clusters (6). Possibly due to duplicate points in X.\n",
      "  estimator.fit(img)\n"
     ]
    },
    {
     "name": "stdout",
     "output_type": "stream",
     "text": [
      "images/9 To 5 Primer + Matte SPF20 Perfect Cover Foundation - Warm Natural W180 25 ml-Neutral Nude.jpg\n",
      "images/9 To 5 Primer + Matte SPF20 Perfect Cover Foundation - Warm Natural W180 25 ml-N220 Neutral Medium.jpg\n",
      "images/9 To 5 Primer + Matte SPF20 Perfect Cover Foundation - Warm Natural W180 25 ml-Warm Natural.jpg\n",
      "images/9 To 5 Primer + Matte SPF20 Perfect Cover Foundation - Warm Natural W180 25 ml-Cool Cinnamon.jpg\n",
      "images/9 To 5 Primer + Matte SPF20 Perfect Cover Foundation - Warm Natural W180 25 ml-W240 Warm Beige.jpg\n",
      "images/9 To 5 Primer + Matte SPF20 Perfect Cover Foundation - Warm Natural W180 25 ml-Neutral Honey.jpg\n",
      "images/9 To 5 Primer + Matte SPF20 Perfect Cover Foundation - Warm Natural W180 25 ml-Cool Ivory.jpg\n",
      "images/9 To 5 Primer + Matte SPF20 Perfect Cover Foundation - Warm Natural W180 25 ml-Warm Sand.jpg\n",
      "images/Studio Fix Broad Spectrum Fluid Foundation with SPF 15 - NC25 30ml-Nw45.jpg\n",
      "images/Studio Fix Broad Spectrum Fluid Foundation with SPF 15 - NC25 30ml-Nc45.jpg\n",
      "images/Studio Fix Broad Spectrum Fluid Foundation with SPF 15 - NC25 30ml-Nc35.jpg\n",
      "images/Studio Fix Broad Spectrum Fluid Foundation with SPF 15 - NC25 30ml-Nc40.jpg\n",
      "images/Studio Fix Broad Spectrum Fluid Foundation with SPF 15 - NC25 30ml-Nc30.jpg\n",
      "images/Studio Fix Broad Spectrum Fluid Foundation with SPF 15 - NC25 30ml-NC47.jpg\n",
      "images/Studio Fix Broad Spectrum Fluid Foundation with SPF 15 - NC25 30ml-Nc25.jpg\n",
      "images/Studio Fix Broad Spectrum Fluid Foundation with SPF 15 - NC25 30ml-Nc42.jpg\n",
      "images/Studio Fix Broad Spectrum Fluid Foundation with SPF 15 - NC25 30ml-Nc15.jpg\n",
      "images/Studio Fix Broad Spectrum Fluid Foundation with SPF 15 - NC25 30ml-Nc18.jpg\n",
      "images/Studio Fix Broad Spectrum Fluid Foundation with SPF 15 - NC25 30ml-Nc12.jpg\n",
      "images/Studio Fix Broad Spectrum Fluid Foundation with SPF 15 - NC25 30ml-Nc20.jpg\n",
      "images/Studio Fix Broad Spectrum Fluid Foundation with SPF 15 - NC25 30ml-Nw35.jpg\n",
      "images/Hello Happy Velvet Powder Foundation - Medium-Tan Neutral 7-Medium Tan Neutral 7.jpg\n",
      "images/Hello Happy Velvet Powder Foundation - Medium-Tan Neutral 7-Medium Neutral Warm 5.jpg\n",
      "images/9To5 Primer & Matte Perfect Cover Foundation - Neutral Medium N220 25 ml-Cool Tan C280.jpg\n",
      "images/9To5 Primer & Matte Perfect Cover Foundation - Neutral Medium N220 25 ml-Cool Rose C140.jpg\n"
     ]
    },
    {
     "name": "stderr",
     "output_type": "stream",
     "text": [
      "<ipython-input-48-a5bbea6ed560>:58: ConvergenceWarning: Number of distinct clusters (2) found smaller than n_clusters (6). Possibly due to duplicate points in X.\n",
      "  estimator.fit(img)\n"
     ]
    },
    {
     "name": "stdout",
     "output_type": "stream",
     "text": [
      "images/9To5 Primer & Matte Perfect Cover Foundation - Neutral Medium N220 25 ml-Warm Caramel.jpg\n"
     ]
    },
    {
     "name": "stderr",
     "output_type": "stream",
     "text": [
      "<ipython-input-48-a5bbea6ed560>:58: ConvergenceWarning: Number of distinct clusters (2) found smaller than n_clusters (6). Possibly due to duplicate points in X.\n",
      "  estimator.fit(img)\n"
     ]
    },
    {
     "name": "stdout",
     "output_type": "stream",
     "text": [
      "images/9To5 Primer & Matte Perfect Cover Foundation - Neutral Medium N220 25 ml-Neutral Nude.jpg\n",
      "images/9To5 Primer & Matte Perfect Cover Foundation - Neutral Medium N220 25 ml-N220 Neutral Medium.jpg\n",
      "images/9To5 Primer & Matte Perfect Cover Foundation - Neutral Medium N220 25 ml-Warm Natural.jpg\n",
      "images/9To5 Primer & Matte Perfect Cover Foundation - Neutral Medium N220 25 ml-Cool Cinnamon.jpg\n",
      "images/9To5 Primer & Matte Perfect Cover Foundation - Neutral Medium N220 25 ml-W240 Warm Beige.jpg\n",
      "images/9To5 Primer & Matte Perfect Cover Foundation - Neutral Medium N220 25 ml-Neutral Honey.jpg\n",
      "images/9To5 Primer & Matte Perfect Cover Foundation - Neutral Medium N220 25 ml-Cool Ivory.jpg\n",
      "images/9To5 Primer & Matte Perfect Cover Foundation - Neutral Medium N220 25 ml-Warm Sand.jpg\n",
      "images/Weightless Matte Finish Foundation Natural 02 18ml-Natural.jpg\n",
      "images/Weightless Matte Finish Foundation Natural 02 18ml-Beige.jpg\n",
      "images/Cosmetics Ace Of Face Foundation Stick 03 Chococcino-52 Corretto.jpg\n",
      "images/Cosmetics Ace Of Face Foundation Stick 03 Chococcino-32 Cortado.jpg\n",
      "images/Cosmetics Ace Of Face Foundation Stick 03 Chococcino-42 Glace.jpg\n"
     ]
    },
    {
     "name": "stderr",
     "output_type": "stream",
     "text": [
      "<ipython-input-48-a5bbea6ed560>:58: ConvergenceWarning: Number of distinct clusters (1) found smaller than n_clusters (6). Possibly due to duplicate points in X.\n",
      "  estimator.fit(img)\n",
      "<ipython-input-48-a5bbea6ed560>:58: ConvergenceWarning: Number of distinct clusters (2) found smaller than n_clusters (6). Possibly due to duplicate points in X.\n",
      "  estimator.fit(img)\n",
      "<ipython-input-48-a5bbea6ed560>:58: ConvergenceWarning: Number of distinct clusters (2) found smaller than n_clusters (6). Possibly due to duplicate points in X.\n",
      "  estimator.fit(img)\n",
      "<ipython-input-48-a5bbea6ed560>:58: ConvergenceWarning: Number of distinct clusters (2) found smaller than n_clusters (6). Possibly due to duplicate points in X.\n",
      "  estimator.fit(img)\n"
     ]
    },
    {
     "name": "stdout",
     "output_type": "stream",
     "text": [
      "images/Cosmetics Ace Of Face Foundation Stick 03 Chococcino-15 Cappuccino.jpg\n",
      "images/Cosmetics Ace Of Face Foundation Stick 03 Chococcino-37 Freddo.jpg\n",
      "images/Cosmetics Ace Of Face Foundation Stick 03 Chococcino-30 Chococcino.jpg\n",
      "images/Cosmetics Ace Of Face Foundation Stick 03 Chococcino-25 Macchiato.jpg\n",
      "images/9To5 Primer + Matte Perfect Cover Foundation - Warm Beige W240 25 ml-Cool Tan C280.jpg\n",
      "images/9To5 Primer + Matte Perfect Cover Foundation - Warm Beige W240 25 ml-Cool Rose C140.jpg\n",
      "images/9To5 Primer + Matte Perfect Cover Foundation - Warm Beige W240 25 ml-Warm Caramel.jpg\n"
     ]
    },
    {
     "name": "stderr",
     "output_type": "stream",
     "text": [
      "<ipython-input-48-a5bbea6ed560>:58: ConvergenceWarning: Number of distinct clusters (2) found smaller than n_clusters (6). Possibly due to duplicate points in X.\n",
      "  estimator.fit(img)\n",
      "<ipython-input-48-a5bbea6ed560>:58: ConvergenceWarning: Number of distinct clusters (2) found smaller than n_clusters (6). Possibly due to duplicate points in X.\n",
      "  estimator.fit(img)\n"
     ]
    },
    {
     "name": "stdout",
     "output_type": "stream",
     "text": [
      "images/9To5 Primer + Matte Perfect Cover Foundation - Warm Beige W240 25 ml-Neutral Nude.jpg\n",
      "images/9To5 Primer + Matte Perfect Cover Foundation - Warm Beige W240 25 ml-N220 Neutral Medium.jpg\n",
      "images/9To5 Primer + Matte Perfect Cover Foundation - Warm Beige W240 25 ml-Warm Natural.jpg\n",
      "images/9To5 Primer + Matte Perfect Cover Foundation - Warm Beige W240 25 ml-Cool Cinnamon.jpg\n",
      "images/9To5 Primer + Matte Perfect Cover Foundation - Warm Beige W240 25 ml-W240 Warm Beige.jpg\n",
      "images/9To5 Primer + Matte Perfect Cover Foundation - Warm Beige W240 25 ml-Neutral Honey.jpg\n",
      "images/9To5 Primer + Matte Perfect Cover Foundation - Warm Beige W240 25 ml-Cool Ivory.jpg\n",
      "images/9To5 Primer + Matte Perfect Cover Foundation - Warm Beige W240 25 ml-Warm Sand.jpg\n",
      "images/Benefits Cosmetics Hello Happy Air Stick Foundation - 09 Deep Neutral Warm, 8.5 g-Medium Neutral 4.jpg\n"
     ]
    },
    {
     "name": "stderr",
     "output_type": "stream",
     "text": [
      "<ipython-input-48-a5bbea6ed560>:58: ConvergenceWarning: Number of distinct clusters (2) found smaller than n_clusters (6). Possibly due to duplicate points in X.\n",
      "  estimator.fit(img)\n"
     ]
    },
    {
     "name": "stdout",
     "output_type": "stream",
     "text": [
      "images/Benefits Cosmetics Hello Happy Air Stick Foundation - 09 Deep Neutral Warm, 8.5 g-03 - Light Neutral.jpg\n",
      "images/Benefits Cosmetics Hello Happy Air Stick Foundation - 09 Deep Neutral Warm, 8.5 g-Light Warm.jpg\n",
      "images/Benefits Cosmetics Hello Happy Air Stick Foundation - 09 Deep Neutral Warm, 8.5 g-09 - Deep Neutral Warm.jpg\n",
      "images/Benefits Cosmetics Hello Happy Air Stick Foundation - 09 Deep Neutral Warm, 8.5 g-08 - Tan Warm.jpg\n",
      "images/Studio Fix Powder Plus Foundation - NC41 15g-Nc42.jpg\n",
      "images/Studio Fix Powder Plus Foundation - NC41 15g-NC41.jpg\n",
      "images/Mini Skin Long Wear Weightless Foundation - Warm Beige-Porcelain.jpg\n",
      "images/Mini Skin Long Wear Weightless Foundation - Warm Beige-Honey.jpg\n",
      "images/Mini Skin Long Wear Weightless Foundation - Warm Beige-Natural Tan.jpg\n",
      "images/Mini Skin Long Wear Weightless Foundation - Warm Beige-Golden Natural.jpg\n",
      "images/Mini Skin Long Wear Weightless Foundation - Warm Beige-Warm Beige.jpg\n",
      "images/Mini Skin Long Wear Weightless Foundation - Warm Beige-Warm Natural.jpg\n",
      "images/Mini Skin Long Wear Weightless Foundation - Warm Beige-Golden.jpg\n",
      "images/Mini Skin Long Wear Weightless Foundation - Warm Beige-Natural.jpg\n",
      "images/Absolute Argan Oil SPF 45 Serum Foundation - Rose Silk 15ml-Rose Silk.jpg\n",
      "images/Benefits Cosmetics Hello Happy Air Stick Foundation - 08 Tan Warm, 8.5 g-Medium Neutral 4.jpg\n"
     ]
    },
    {
     "name": "stderr",
     "output_type": "stream",
     "text": [
      "<ipython-input-48-a5bbea6ed560>:58: ConvergenceWarning: Number of distinct clusters (2) found smaller than n_clusters (6). Possibly due to duplicate points in X.\n",
      "  estimator.fit(img)\n"
     ]
    },
    {
     "name": "stdout",
     "output_type": "stream",
     "text": [
      "images/Benefits Cosmetics Hello Happy Air Stick Foundation - 08 Tan Warm, 8.5 g-03 - Light Neutral.jpg\n",
      "images/Benefits Cosmetics Hello Happy Air Stick Foundation - 08 Tan Warm, 8.5 g-Light Warm.jpg\n",
      "images/Benefits Cosmetics Hello Happy Air Stick Foundation - 08 Tan Warm, 8.5 g-09 - Deep Neutral Warm.jpg\n",
      "images/Benefits Cosmetics Hello Happy Air Stick Foundation - 08 Tan Warm, 8.5 g-08 - Tan Warm.jpg\n",
      "images/Studio Fix SPF 15 Fluid Foundation - NC35 30ml-Nw45.jpg\n",
      "images/Studio Fix SPF 15 Fluid Foundation - NC35 30ml-Nc45.jpg\n",
      "images/Studio Fix SPF 15 Fluid Foundation - NC35 30ml-Nc35.jpg\n",
      "images/Studio Fix SPF 15 Fluid Foundation - NC35 30ml-Nc40.jpg\n",
      "images/Studio Fix SPF 15 Fluid Foundation - NC35 30ml-Nc30.jpg\n",
      "images/Studio Fix SPF 15 Fluid Foundation - NC35 30ml-NC47.jpg\n",
      "images/Studio Fix SPF 15 Fluid Foundation - NC35 30ml-Nc25.jpg\n",
      "images/Studio Fix SPF 15 Fluid Foundation - NC35 30ml-Nc42.jpg\n",
      "images/Studio Fix SPF 15 Fluid Foundation - NC35 30ml-Nc15.jpg\n",
      "images/Studio Fix SPF 15 Fluid Foundation - NC35 30ml-Nc18.jpg\n",
      "images/Studio Fix SPF 15 Fluid Foundation - NC35 30ml-Nc12.jpg\n",
      "images/Studio Fix SPF 15 Fluid Foundation - NC35 30ml-Nc20.jpg\n",
      "images/Studio Fix SPF 15 Fluid Foundation - NC35 30ml-Nw35.jpg\n",
      "images/Ultime Pro Second Skin Foundation Natural 02 30ml-Natural.jpg\n",
      "images/Ultime Pro Second Skin Foundation Natural 02 30ml-Beige.jpg\n",
      "images/Ultime Pro Second Skin Foundation Natural 02 30ml-Ivory.jpg\n",
      "images/Cosmetics Ace Of Face Foundation Stick 42 Glace 12 g-52 Corretto.jpg\n",
      "images/Cosmetics Ace Of Face Foundation Stick 42 Glace 12 g-32 Cortado.jpg\n",
      "images/Cosmetics Ace Of Face Foundation Stick 42 Glace 12 g-42 Glace.jpg\n"
     ]
    },
    {
     "name": "stderr",
     "output_type": "stream",
     "text": [
      "<ipython-input-48-a5bbea6ed560>:58: ConvergenceWarning: Number of distinct clusters (1) found smaller than n_clusters (6). Possibly due to duplicate points in X.\n",
      "  estimator.fit(img)\n",
      "<ipython-input-48-a5bbea6ed560>:58: ConvergenceWarning: Number of distinct clusters (2) found smaller than n_clusters (6). Possibly due to duplicate points in X.\n",
      "  estimator.fit(img)\n",
      "<ipython-input-48-a5bbea6ed560>:58: ConvergenceWarning: Number of distinct clusters (2) found smaller than n_clusters (6). Possibly due to duplicate points in X.\n",
      "  estimator.fit(img)\n",
      "<ipython-input-48-a5bbea6ed560>:58: ConvergenceWarning: Number of distinct clusters (2) found smaller than n_clusters (6). Possibly due to duplicate points in X.\n",
      "  estimator.fit(img)\n"
     ]
    },
    {
     "name": "stdout",
     "output_type": "stream",
     "text": [
      "images/Cosmetics Ace Of Face Foundation Stick 42 Glace 12 g-15 Cappuccino.jpg\n",
      "images/Cosmetics Ace Of Face Foundation Stick 42 Glace 12 g-37 Freddo.jpg\n",
      "images/Cosmetics Ace Of Face Foundation Stick 42 Glace 12 g-30 Chococcino.jpg\n",
      "images/Cosmetics Ace Of Face Foundation Stick 42 Glace 12 g-25 Macchiato.jpg\n",
      "images/Double Wear Stay-In-Place Makeup with SPF 10 - Rattan 2W2 15ml-Shell.jpg\n",
      "images/Double Wear Stay-In-Place Makeup with SPF 10 - Rattan 2W2 15ml-Mustard.jpg\n",
      "images/Double Wear Stay-In-Place Makeup with SPF 10 - Rattan 2W2 15ml-1W2 Sand.jpg\n",
      "images/Double Wear Stay-In-Place Makeup with SPF 10 - Rattan 2W2 15ml-3W1 Tawny.jpg\n",
      "images/Double Wear Stay-In-Place Makeup with SPF 10 - Rattan 2W2 15ml-Tawny.jpg\n",
      "images/Double Wear Stay-In-Place Makeup with SPF 10 - Rattan 2W2 15ml-Cinnamon.jpg\n",
      "images/Double Wear Stay-In-Place Makeup with SPF 10 - Rattan 2W2 15ml-Buff.jpg\n",
      "images/Double Wear Stay-In-Place Makeup with SPF 10 - Rattan 2W2 15ml-Honey Bronze.jpg\n",
      "images/Double Wear Stay-In-Place Makeup with SPF 10 - Rattan 2W2 15ml-3W2 Cashew.jpg\n",
      "images/Double Wear Stay-In-Place Makeup with SPF 10 - Rattan 2W2 15ml-2W2 Rattan.jpg\n",
      "images/Double Wear Stay-In-Place Makeup with SPF 10 - Rattan 2W2 15ml-Rattan.jpg\n",
      "images/Double Wear Stay-In-Place Makeup with SPF 10 - Rattan 2W2 15ml-Warm Porcelain.jpg\n",
      "images/Double Wear Stay-In-Place Makeup with SPF 10 - Rattan 2W2 15ml-Porcelain.jpg\n",
      "images/Double Wear Stay-In-Place Makeup with SPF 10 - Rattan 2W2 15ml-Sand.jpg\n",
      "images/Double Wear Stay-In-Place Makeup with SPF 10 - Rattan 2W2 15ml-Spiced Sand.jpg\n",
      "images/Double Wear Stay-In-Place Makeup with SPF 10 - Rattan 2W2 15ml-Ivory Nude.jpg\n",
      "images/Double Wear Stay-In-Place Makeup with SPF 10 - Rattan 2W2 15ml-Alabaster.jpg\n",
      "images/Double Wear Stay-In-Place Makeup with SPF 10 - Rattan 2W2 15ml-Bone.jpg\n",
      "images/Double Wear Stay-In-Place Makeup with SPF 10 - Rattan 2W2 15ml-Ivory Beige.jpg\n",
      "images/Double Wear Stay-In-Place Makeup with SPF 10 - Rattan 2W2 15ml-Toasty Toffee.jpg\n",
      "images/Double Wear Stay-In-Place Makeup with SPF 10 - Rattan 2W2 15ml-NA.jpg\n",
      "images/Hello Happy Air Stick Foundation - Light Neutral 03-Medium Neutral 4.jpg\n"
     ]
    },
    {
     "name": "stderr",
     "output_type": "stream",
     "text": [
      "<ipython-input-48-a5bbea6ed560>:58: ConvergenceWarning: Number of distinct clusters (2) found smaller than n_clusters (6). Possibly due to duplicate points in X.\n",
      "  estimator.fit(img)\n"
     ]
    },
    {
     "name": "stdout",
     "output_type": "stream",
     "text": [
      "images/Hello Happy Air Stick Foundation - Light Neutral 03-03 - Light Neutral.jpg\n",
      "images/Hello Happy Air Stick Foundation - Light Neutral 03-Light Warm.jpg\n",
      "images/Hello Happy Air Stick Foundation - Light Neutral 03-09 - Deep Neutral Warm.jpg\n",
      "images/Hello Happy Air Stick Foundation - Light Neutral 03-08 - Tan Warm.jpg\n",
      "images/Studio Fix Powder Plus Foundation - NC42 15g-Nc42.jpg\n",
      "images/Studio Fix Powder Plus Foundation - NC42 15g-NC41.jpg\n",
      "images/Makeup Revolution Fast Base Stick Foundation - F8 6.2g-F9.jpg\n"
     ]
    },
    {
     "name": "stderr",
     "output_type": "stream",
     "text": [
      "<ipython-input-48-a5bbea6ed560>:58: ConvergenceWarning: Number of distinct clusters (2) found smaller than n_clusters (6). Possibly due to duplicate points in X.\n",
      "  estimator.fit(img)\n"
     ]
    },
    {
     "name": "stdout",
     "output_type": "stream",
     "text": [
      "images/Makeup Revolution Fast Base Stick Foundation - F8 6.2g-F8.jpg\n"
     ]
    },
    {
     "name": "stderr",
     "output_type": "stream",
     "text": [
      "<ipython-input-48-a5bbea6ed560>:58: ConvergenceWarning: Number of distinct clusters (2) found smaller than n_clusters (6). Possibly due to duplicate points in X.\n",
      "  estimator.fit(img)\n"
     ]
    },
    {
     "name": "stdout",
     "output_type": "stream",
     "text": [
      "images/Makeup Revolution Fast Base Stick Foundation - F8 6.2g-F10.jpg\n"
     ]
    },
    {
     "name": "stderr",
     "output_type": "stream",
     "text": [
      "<ipython-input-48-a5bbea6ed560>:58: ConvergenceWarning: Number of distinct clusters (1) found smaller than n_clusters (6). Possibly due to duplicate points in X.\n",
      "  estimator.fit(img)\n",
      "<ipython-input-48-a5bbea6ed560>:58: ConvergenceWarning: Number of distinct clusters (2) found smaller than n_clusters (6). Possibly due to duplicate points in X.\n",
      "  estimator.fit(img)\n",
      "<ipython-input-48-a5bbea6ed560>:58: ConvergenceWarning: Number of distinct clusters (2) found smaller than n_clusters (6). Possibly due to duplicate points in X.\n",
      "  estimator.fit(img)\n",
      "<ipython-input-48-a5bbea6ed560>:58: ConvergenceWarning: Number of distinct clusters (1) found smaller than n_clusters (6). Possibly due to duplicate points in X.\n",
      "  estimator.fit(img)\n"
     ]
    },
    {
     "name": "stdout",
     "output_type": "stream",
     "text": [
      "images/Ultime Pro Hd Runway Ready Foundation Olive Beige 05 30 ml-Sand 04.jpg\n",
      "images/Ultime Pro Hd Runway Ready Foundation Olive Beige 05 30 ml-Beige.jpg\n",
      "images/Ultime Pro Hd Runway Ready Foundation Olive Beige 05 30 ml-Beige 03.jpg\n",
      "images/Ultime Pro Hd Runway Ready Foundation Olive Beige 05 30 ml-Ivory 01.jpg\n"
     ]
    },
    {
     "name": "stderr",
     "output_type": "stream",
     "text": [
      "<ipython-input-48-a5bbea6ed560>:58: ConvergenceWarning: Number of distinct clusters (5) found smaller than n_clusters (6). Possibly due to duplicate points in X.\n",
      "  estimator.fit(img)\n"
     ]
    },
    {
     "name": "stdout",
     "output_type": "stream",
     "text": [
      "images/Ultime Pro Hd Runway Ready Foundation Olive Beige 05 30 ml-Almond Beige 06.jpg\n"
     ]
    },
    {
     "name": "stderr",
     "output_type": "stream",
     "text": [
      "<ipython-input-48-a5bbea6ed560>:58: ConvergenceWarning: Number of distinct clusters (2) found smaller than n_clusters (6). Possibly due to duplicate points in X.\n",
      "  estimator.fit(img)\n",
      "<ipython-input-48-a5bbea6ed560>:58: ConvergenceWarning: Number of distinct clusters (2) found smaller than n_clusters (6). Possibly due to duplicate points in X.\n",
      "  estimator.fit(img)\n"
     ]
    },
    {
     "name": "stdout",
     "output_type": "stream",
     "text": [
      "images/9To5 Primer & Matte Perfect Cover Foundation - Warm Caramel W320 25 ml-Cool Tan C280.jpg\n",
      "images/9To5 Primer & Matte Perfect Cover Foundation - Warm Caramel W320 25 ml-Cool Rose C140.jpg\n",
      "images/9To5 Primer & Matte Perfect Cover Foundation - Warm Caramel W320 25 ml-Warm Caramel.jpg\n"
     ]
    },
    {
     "name": "stderr",
     "output_type": "stream",
     "text": [
      "<ipython-input-48-a5bbea6ed560>:58: ConvergenceWarning: Number of distinct clusters (2) found smaller than n_clusters (6). Possibly due to duplicate points in X.\n",
      "  estimator.fit(img)\n"
     ]
    },
    {
     "name": "stdout",
     "output_type": "stream",
     "text": [
      "images/9To5 Primer & Matte Perfect Cover Foundation - Warm Caramel W320 25 ml-Neutral Nude.jpg\n",
      "images/9To5 Primer & Matte Perfect Cover Foundation - Warm Caramel W320 25 ml-N220 Neutral Medium.jpg\n",
      "images/9To5 Primer & Matte Perfect Cover Foundation - Warm Caramel W320 25 ml-Warm Natural.jpg\n",
      "images/9To5 Primer & Matte Perfect Cover Foundation - Warm Caramel W320 25 ml-Cool Cinnamon.jpg\n",
      "images/9To5 Primer & Matte Perfect Cover Foundation - Warm Caramel W320 25 ml-W240 Warm Beige.jpg\n",
      "images/9To5 Primer & Matte Perfect Cover Foundation - Warm Caramel W320 25 ml-Neutral Honey.jpg\n",
      "images/9To5 Primer & Matte Perfect Cover Foundation - Warm Caramel W320 25 ml-Cool Ivory.jpg\n",
      "images/9To5 Primer & Matte Perfect Cover Foundation - Warm Caramel W320 25 ml-Warm Sand.jpg\n",
      "images/Hello Happy Air Stick Foundation - Light Warm 2-Medium Neutral 4.jpg\n"
     ]
    },
    {
     "name": "stderr",
     "output_type": "stream",
     "text": [
      "<ipython-input-48-a5bbea6ed560>:58: ConvergenceWarning: Number of distinct clusters (2) found smaller than n_clusters (6). Possibly due to duplicate points in X.\n",
      "  estimator.fit(img)\n"
     ]
    },
    {
     "name": "stdout",
     "output_type": "stream",
     "text": [
      "images/Hello Happy Air Stick Foundation - Light Warm 2-03 - Light Neutral.jpg\n",
      "images/Hello Happy Air Stick Foundation - Light Warm 2-Light Warm.jpg\n",
      "images/Hello Happy Air Stick Foundation - Light Warm 2-09 - Deep Neutral Warm.jpg\n",
      "images/Hello Happy Air Stick Foundation - Light Warm 2-08 - Tan Warm.jpg\n",
      "images/Ace Of Face Foundation Stick 37 Freddo 12 g-52 Corretto.jpg\n"
     ]
    },
    {
     "name": "stderr",
     "output_type": "stream",
     "text": [
      "<ipython-input-48-a5bbea6ed560>:58: ConvergenceWarning: Number of distinct clusters (1) found smaller than n_clusters (6). Possibly due to duplicate points in X.\n",
      "  estimator.fit(img)\n",
      "<ipython-input-48-a5bbea6ed560>:58: ConvergenceWarning: Number of distinct clusters (2) found smaller than n_clusters (6). Possibly due to duplicate points in X.\n",
      "  estimator.fit(img)\n",
      "<ipython-input-48-a5bbea6ed560>:58: ConvergenceWarning: Number of distinct clusters (2) found smaller than n_clusters (6). Possibly due to duplicate points in X.\n",
      "  estimator.fit(img)\n",
      "<ipython-input-48-a5bbea6ed560>:58: ConvergenceWarning: Number of distinct clusters (2) found smaller than n_clusters (6). Possibly due to duplicate points in X.\n",
      "  estimator.fit(img)\n"
     ]
    },
    {
     "name": "stdout",
     "output_type": "stream",
     "text": [
      "images/Ace Of Face Foundation Stick 37 Freddo 12 g-32 Cortado.jpg\n",
      "images/Ace Of Face Foundation Stick 37 Freddo 12 g-42 Glace.jpg\n",
      "images/Ace Of Face Foundation Stick 37 Freddo 12 g-15 Cappuccino.jpg\n",
      "images/Ace Of Face Foundation Stick 37 Freddo 12 g-37 Freddo.jpg\n",
      "images/Ace Of Face Foundation Stick 37 Freddo 12 g-30 Chococcino.jpg\n",
      "images/Ace Of Face Foundation Stick 37 Freddo 12 g-25 Macchiato.jpg\n",
      "images/Paris Beige Infallible 24H Fresh Wear Foundation - Radiant Beige 150 30 ml-Golden Sun 260.jpg\n"
     ]
    },
    {
     "name": "stderr",
     "output_type": "stream",
     "text": [
      "<ipython-input-48-a5bbea6ed560>:58: ConvergenceWarning: Number of distinct clusters (2) found smaller than n_clusters (6). Possibly due to duplicate points in X.\n",
      "  estimator.fit(img)\n"
     ]
    },
    {
     "name": "stdout",
     "output_type": "stream",
     "text": [
      "images/Paris Beige Infallible 24H Fresh Wear Foundation - Radiant Beige 150 30 ml-Radiant Sand.jpg\n"
     ]
    },
    {
     "name": "stderr",
     "output_type": "stream",
     "text": [
      "<ipython-input-48-a5bbea6ed560>:58: ConvergenceWarning: Number of distinct clusters (1) found smaller than n_clusters (6). Possibly due to duplicate points in X.\n",
      "  estimator.fit(img)\n",
      "<ipython-input-48-a5bbea6ed560>:58: ConvergenceWarning: Number of distinct clusters (2) found smaller than n_clusters (6). Possibly due to duplicate points in X.\n",
      "  estimator.fit(img)\n"
     ]
    },
    {
     "name": "stdout",
     "output_type": "stream",
     "text": [
      "images/Paris Beige Infallible 24H Fresh Wear Foundation - Radiant Beige 150 30 ml-300 Amber.jpg\n",
      "images/Paris Beige Infallible 24H Fresh Wear Foundation - Radiant Beige 150 30 ml-Golden Beige.jpg\n",
      "images/Paris Beige Infallible 24H Fresh Wear Foundation - Radiant Beige 150 30 ml-Radiant Beige.jpg\n",
      "images/Double Wear Stay-In-Place SPF 10 Makeup Liquid Foundation - Tawny 3W1 15 ml-Shell.jpg\n",
      "images/Double Wear Stay-In-Place SPF 10 Makeup Liquid Foundation - Tawny 3W1 15 ml-Mustard.jpg\n",
      "images/Double Wear Stay-In-Place SPF 10 Makeup Liquid Foundation - Tawny 3W1 15 ml-1W2 Sand.jpg\n",
      "images/Double Wear Stay-In-Place SPF 10 Makeup Liquid Foundation - Tawny 3W1 15 ml-3W1 Tawny.jpg\n",
      "images/Double Wear Stay-In-Place SPF 10 Makeup Liquid Foundation - Tawny 3W1 15 ml-Tawny.jpg\n",
      "images/Double Wear Stay-In-Place SPF 10 Makeup Liquid Foundation - Tawny 3W1 15 ml-Cinnamon.jpg\n",
      "images/Double Wear Stay-In-Place SPF 10 Makeup Liquid Foundation - Tawny 3W1 15 ml-Buff.jpg\n",
      "images/Double Wear Stay-In-Place SPF 10 Makeup Liquid Foundation - Tawny 3W1 15 ml-Honey Bronze.jpg\n",
      "images/Double Wear Stay-In-Place SPF 10 Makeup Liquid Foundation - Tawny 3W1 15 ml-3W2 Cashew.jpg\n",
      "images/Double Wear Stay-In-Place SPF 10 Makeup Liquid Foundation - Tawny 3W1 15 ml-2W2 Rattan.jpg\n",
      "images/Double Wear Stay-In-Place SPF 10 Makeup Liquid Foundation - Tawny 3W1 15 ml-Rattan.jpg\n",
      "images/Double Wear Stay-In-Place SPF 10 Makeup Liquid Foundation - Tawny 3W1 15 ml-Warm Porcelain.jpg\n",
      "images/Double Wear Stay-In-Place SPF 10 Makeup Liquid Foundation - Tawny 3W1 15 ml-Porcelain.jpg\n",
      "images/Double Wear Stay-In-Place SPF 10 Makeup Liquid Foundation - Tawny 3W1 15 ml-Sand.jpg\n",
      "images/Double Wear Stay-In-Place SPF 10 Makeup Liquid Foundation - Tawny 3W1 15 ml-Spiced Sand.jpg\n",
      "images/Double Wear Stay-In-Place SPF 10 Makeup Liquid Foundation - Tawny 3W1 15 ml-Ivory Nude.jpg\n",
      "images/Double Wear Stay-In-Place SPF 10 Makeup Liquid Foundation - Tawny 3W1 15 ml-Alabaster.jpg\n",
      "images/Double Wear Stay-In-Place SPF 10 Makeup Liquid Foundation - Tawny 3W1 15 ml-Bone.jpg\n",
      "images/Double Wear Stay-In-Place SPF 10 Makeup Liquid Foundation - Tawny 3W1 15 ml-Ivory Beige.jpg\n",
      "images/Double Wear Stay-In-Place SPF 10 Makeup Liquid Foundation - Tawny 3W1 15 ml-Toasty Toffee.jpg\n",
      "images/Double Wear Stay-In-Place SPF 10 Makeup Liquid Foundation - Tawny 3W1 15 ml-NA.jpg\n",
      "images/Studio Fix SPF 15 Fluid Foundation - NC40 30ml-Nw45.jpg\n",
      "images/Studio Fix SPF 15 Fluid Foundation - NC40 30ml-Nc45.jpg\n",
      "images/Studio Fix SPF 15 Fluid Foundation - NC40 30ml-Nc35.jpg\n",
      "images/Studio Fix SPF 15 Fluid Foundation - NC40 30ml-Nc40.jpg\n",
      "images/Studio Fix SPF 15 Fluid Foundation - NC40 30ml-Nc30.jpg\n",
      "images/Studio Fix SPF 15 Fluid Foundation - NC40 30ml-NC47.jpg\n",
      "images/Studio Fix SPF 15 Fluid Foundation - NC40 30ml-Nc25.jpg\n",
      "images/Studio Fix SPF 15 Fluid Foundation - NC40 30ml-Nc42.jpg\n",
      "images/Studio Fix SPF 15 Fluid Foundation - NC40 30ml-Nc15.jpg\n",
      "images/Studio Fix SPF 15 Fluid Foundation - NC40 30ml-Nc18.jpg\n",
      "images/Studio Fix SPF 15 Fluid Foundation - NC40 30ml-Nc12.jpg\n",
      "images/Studio Fix SPF 15 Fluid Foundation - NC40 30ml-Nc20.jpg\n",
      "images/Studio Fix SPF 15 Fluid Foundation - NC40 30ml-Nw35.jpg\n",
      "images/Hello Happy Velvet Powder Foundation - 05-Medium Tan Neutral 7.jpg\n",
      "images/Hello Happy Velvet Powder Foundation - 05-Medium Neutral Warm 5.jpg\n",
      "images/Rage For Coverage Light Warm Undertone 24Hr Foundation 10 Latte 25ml-17 Raf.jpg\n",
      "images/Rage For Coverage Light Warm Undertone 24Hr Foundation 10 Latte 25ml-52 Corretto.jpg\n",
      "images/Rage For Coverage Light Warm Undertone 24Hr Foundation 10 Latte 25ml-15 Cappuccino.jpg\n",
      "images/Rage For Coverage Light Warm Undertone 24Hr Foundation 10 Latte 25ml-42 Glace.jpg\n"
     ]
    },
    {
     "name": "stderr",
     "output_type": "stream",
     "text": [
      "<ipython-input-48-a5bbea6ed560>:58: ConvergenceWarning: Number of distinct clusters (2) found smaller than n_clusters (6). Possibly due to duplicate points in X.\n",
      "  estimator.fit(img)\n",
      "<ipython-input-48-a5bbea6ed560>:58: ConvergenceWarning: Number of distinct clusters (2) found smaller than n_clusters (6). Possibly due to duplicate points in X.\n",
      "  estimator.fit(img)\n",
      "<ipython-input-48-a5bbea6ed560>:58: ConvergenceWarning: Number of distinct clusters (2) found smaller than n_clusters (6). Possibly due to duplicate points in X.\n",
      "  estimator.fit(img)\n",
      "<ipython-input-48-a5bbea6ed560>:58: ConvergenceWarning: Number of distinct clusters (2) found smaller than n_clusters (6). Possibly due to duplicate points in X.\n",
      "  estimator.fit(img)\n"
     ]
    },
    {
     "name": "stdout",
     "output_type": "stream",
     "text": [
      "images/Rage For Coverage Light Warm Undertone 24Hr Foundation 10 Latte 25ml-37 Freddo.jpg\n"
     ]
    },
    {
     "name": "stderr",
     "output_type": "stream",
     "text": [
      "<ipython-input-48-a5bbea6ed560>:58: ConvergenceWarning: Number of distinct clusters (2) found smaller than n_clusters (6). Possibly due to duplicate points in X.\n",
      "  estimator.fit(img)\n",
      "<ipython-input-48-a5bbea6ed560>:58: ConvergenceWarning: Number of distinct clusters (1) found smaller than n_clusters (6). Possibly due to duplicate points in X.\n",
      "  estimator.fit(img)\n"
     ]
    },
    {
     "name": "stdout",
     "output_type": "stream",
     "text": [
      "images/Rage For Coverage Light Warm Undertone 24Hr Foundation 10 Latte 25ml-27 Vienna.jpg\n",
      "images/Rage For Coverage Light Warm Undertone 24Hr Foundation 10 Latte 25ml-55 Americano.jpg\n"
     ]
    },
    {
     "name": "stderr",
     "output_type": "stream",
     "text": [
      "<ipython-input-48-a5bbea6ed560>:58: ConvergenceWarning: Number of distinct clusters (2) found smaller than n_clusters (6). Possibly due to duplicate points in X.\n",
      "  estimator.fit(img)\n",
      "<ipython-input-48-a5bbea6ed560>:58: ConvergenceWarning: Number of distinct clusters (2) found smaller than n_clusters (6). Possibly due to duplicate points in X.\n",
      "  estimator.fit(img)\n"
     ]
    },
    {
     "name": "stdout",
     "output_type": "stream",
     "text": [
      "images/Rage For Coverage Light Warm Undertone 24Hr Foundation 10 Latte 25ml-07 Vanilla Latte.jpg\n",
      "images/Rage For Coverage Light Warm Undertone 24Hr Foundation 10 Latte 25ml-20 Galao.jpg\n"
     ]
    },
    {
     "name": "stderr",
     "output_type": "stream",
     "text": [
      "<ipython-input-48-a5bbea6ed560>:58: ConvergenceWarning: Number of distinct clusters (2) found smaller than n_clusters (6). Possibly due to duplicate points in X.\n",
      "  estimator.fit(img)\n",
      "<ipython-input-48-a5bbea6ed560>:58: ConvergenceWarning: Number of distinct clusters (2) found smaller than n_clusters (6). Possibly due to duplicate points in X.\n",
      "  estimator.fit(img)\n",
      "<ipython-input-48-a5bbea6ed560>:58: ConvergenceWarning: Number of distinct clusters (2) found smaller than n_clusters (6). Possibly due to duplicate points in X.\n",
      "  estimator.fit(img)\n",
      "<ipython-input-48-a5bbea6ed560>:58: ConvergenceWarning: Number of distinct clusters (2) found smaller than n_clusters (6). Possibly due to duplicate points in X.\n",
      "  estimator.fit(img)\n"
     ]
    },
    {
     "name": "stdout",
     "output_type": "stream",
     "text": [
      "images/Rage For Coverage Light Warm Undertone 24Hr Foundation 10 Latte 25ml-48 Irish.jpg\n",
      "images/Rage For Coverage Light Warm Undertone 24Hr Foundation 10 Latte 25ml-40 Breve.jpg\n",
      "images/Rage For Coverage Light Warm Undertone 24Hr Foundation 10 Latte 25ml-10 Latte.jpg\n",
      "images/Rage For Coverage Light Warm Undertone 24Hr Foundation 10 Latte 25ml-35 Frappe.jpg\n"
     ]
    },
    {
     "name": "stderr",
     "output_type": "stream",
     "text": [
      "<ipython-input-48-a5bbea6ed560>:58: ConvergenceWarning: Number of distinct clusters (2) found smaller than n_clusters (6). Possibly due to duplicate points in X.\n",
      "  estimator.fit(img)\n",
      "<ipython-input-48-a5bbea6ed560>:58: ConvergenceWarning: Number of distinct clusters (2) found smaller than n_clusters (6). Possibly due to duplicate points in X.\n",
      "  estimator.fit(img)\n",
      "<ipython-input-48-a5bbea6ed560>:58: ConvergenceWarning: Number of distinct clusters (1) found smaller than n_clusters (6). Possibly due to duplicate points in X.\n",
      "  estimator.fit(img)\n"
     ]
    },
    {
     "name": "stdout",
     "output_type": "stream",
     "text": [
      "images/Rage For Coverage Light Warm Undertone 24Hr Foundation 10 Latte 25ml-32 Cortado.jpg\n",
      "images/Aquafeel Pro Foundation - Apple Crunch 05 30 ml-Sand Castle.jpg\n",
      "images/Aquafeel Pro Foundation - Apple Crunch 05 30 ml-Caramel Ice.jpg\n",
      "images/Aquafeel Pro Foundation - Apple Crunch 05 30 ml-Apple Crunch.jpg\n"
     ]
    },
    {
     "name": "stderr",
     "output_type": "stream",
     "text": [
      "<ipython-input-48-a5bbea6ed560>:58: ConvergenceWarning: Number of distinct clusters (1) found smaller than n_clusters (6). Possibly due to duplicate points in X.\n",
      "  estimator.fit(img)\n",
      "<ipython-input-48-a5bbea6ed560>:58: ConvergenceWarning: Number of distinct clusters (2) found smaller than n_clusters (6). Possibly due to duplicate points in X.\n",
      "  estimator.fit(img)\n",
      "<ipython-input-48-a5bbea6ed560>:58: ConvergenceWarning: Number of distinct clusters (2) found smaller than n_clusters (6). Possibly due to duplicate points in X.\n",
      "  estimator.fit(img)\n",
      "<ipython-input-48-a5bbea6ed560>:58: ConvergenceWarning: Number of distinct clusters (2) found smaller than n_clusters (6). Possibly due to duplicate points in X.\n",
      "  estimator.fit(img)\n"
     ]
    },
    {
     "name": "stdout",
     "output_type": "stream",
     "text": [
      "images/Ace of Face Foundation Stick - 15 Cappuccino - Light - Cool Undertone-52 Corretto.jpg\n",
      "images/Ace of Face Foundation Stick - 15 Cappuccino - Light - Cool Undertone-32 Cortado.jpg\n",
      "images/Ace of Face Foundation Stick - 15 Cappuccino - Light - Cool Undertone-42 Glace.jpg\n",
      "images/Ace of Face Foundation Stick - 15 Cappuccino - Light - Cool Undertone-15 Cappuccino.jpg\n",
      "images/Ace of Face Foundation Stick - 15 Cappuccino - Light - Cool Undertone-37 Freddo.jpg\n",
      "images/Ace of Face Foundation Stick - 15 Cappuccino - Light - Cool Undertone-30 Chococcino.jpg\n",
      "images/Ace of Face Foundation Stick - 15 Cappuccino - Light - Cool Undertone-25 Macchiato.jpg\n",
      "images/L'Oreal Paris Infallible 24H Fresh Wear Foundation - Radiant Sand 250 30ml-Golden Sun 260.jpg\n"
     ]
    },
    {
     "name": "stderr",
     "output_type": "stream",
     "text": [
      "<ipython-input-48-a5bbea6ed560>:58: ConvergenceWarning: Number of distinct clusters (2) found smaller than n_clusters (6). Possibly due to duplicate points in X.\n",
      "  estimator.fit(img)\n"
     ]
    },
    {
     "name": "stdout",
     "output_type": "stream",
     "text": [
      "images/L'Oreal Paris Infallible 24H Fresh Wear Foundation - Radiant Sand 250 30ml-Radiant Sand.jpg\n"
     ]
    },
    {
     "name": "stderr",
     "output_type": "stream",
     "text": [
      "<ipython-input-48-a5bbea6ed560>:58: ConvergenceWarning: Number of distinct clusters (1) found smaller than n_clusters (6). Possibly due to duplicate points in X.\n",
      "  estimator.fit(img)\n",
      "<ipython-input-48-a5bbea6ed560>:58: ConvergenceWarning: Number of distinct clusters (2) found smaller than n_clusters (6). Possibly due to duplicate points in X.\n",
      "  estimator.fit(img)\n"
     ]
    },
    {
     "name": "stdout",
     "output_type": "stream",
     "text": [
      "images/L'Oreal Paris Infallible 24H Fresh Wear Foundation - Radiant Sand 250 30ml-300 Amber.jpg\n",
      "images/L'Oreal Paris Infallible 24H Fresh Wear Foundation - Radiant Sand 250 30ml-Golden Beige.jpg\n",
      "images/L'Oreal Paris Infallible 24H Fresh Wear Foundation - Radiant Sand 250 30ml-Radiant Beige.jpg\n",
      "images/Studio Fix SPF15 Fluid Foundation - NC42 30ml-Nw45.jpg\n",
      "images/Studio Fix SPF15 Fluid Foundation - NC42 30ml-Nc45.jpg\n",
      "images/Studio Fix SPF15 Fluid Foundation - NC42 30ml-Nc35.jpg\n",
      "images/Studio Fix SPF15 Fluid Foundation - NC42 30ml-Nc40.jpg\n",
      "images/Studio Fix SPF15 Fluid Foundation - NC42 30ml-Nc30.jpg\n",
      "images/Studio Fix SPF15 Fluid Foundation - NC42 30ml-NC47.jpg\n",
      "images/Studio Fix SPF15 Fluid Foundation - NC42 30ml-Nc25.jpg\n",
      "images/Studio Fix SPF15 Fluid Foundation - NC42 30ml-Nc42.jpg\n",
      "images/Studio Fix SPF15 Fluid Foundation - NC42 30ml-Nc15.jpg\n",
      "images/Studio Fix SPF15 Fluid Foundation - NC42 30ml-Nc18.jpg\n",
      "images/Studio Fix SPF15 Fluid Foundation - NC42 30ml-Nc12.jpg\n",
      "images/Studio Fix SPF15 Fluid Foundation - NC42 30ml-Nc20.jpg\n",
      "images/Studio Fix SPF15 Fluid Foundation - NC42 30ml-Nw35.jpg\n",
      "images/HD Liquid Foundation - 2.3 30ml-2.3.jpg\n",
      "images/HD Liquid Foundation - 2.3 30ml-1.5.jpg\n",
      "images/HD Liquid Foundation - 2.3 30ml-3.1.jpg\n",
      "images/HD Liquid Foundation - 2.3 30ml-3.jpg\n",
      "images/HD Liquid Foundation - 2.3 30ml-3.3.jpg\n",
      "images/Paris True Match Super Blendable Liquid Foundation - Honey N6 30 ml-Golden Cappuccino.jpg\n",
      "images/Paris True Match Super Blendable Liquid Foundation - Honey N6 30 ml-Golden Sand.jpg\n",
      "images/Paris True Match Super Blendable Liquid Foundation - Honey N6 30 ml-Honey.jpg\n",
      "images/Paris True Match Super Blendable Liquid Foundation - Honey N6 30 ml-Skincare.jpg\n"
     ]
    },
    {
     "name": "stderr",
     "output_type": "stream",
     "text": [
      "<ipython-input-48-a5bbea6ed560>:58: ConvergenceWarning: Number of distinct clusters (2) found smaller than n_clusters (6). Possibly due to duplicate points in X.\n",
      "  estimator.fit(img)\n",
      "<ipython-input-48-a5bbea6ed560>:58: ConvergenceWarning: Number of distinct clusters (1) found smaller than n_clusters (6). Possibly due to duplicate points in X.\n",
      "  estimator.fit(img)\n"
     ]
    },
    {
     "name": "stdout",
     "output_type": "stream",
     "text": [
      "images/Paris True Match Super Blendable Liquid Foundation - Honey N6 30 ml-Golden Amber.jpg\n",
      "images/Paris True Match Super Blendable Liquid Foundation - Honey N6 30 ml-Riche Sepia.jpg\n",
      "images/Fast Base Stick Foundation - F10 6.2g-F9.jpg\n"
     ]
    },
    {
     "name": "stderr",
     "output_type": "stream",
     "text": [
      "<ipython-input-48-a5bbea6ed560>:58: ConvergenceWarning: Number of distinct clusters (2) found smaller than n_clusters (6). Possibly due to duplicate points in X.\n",
      "  estimator.fit(img)\n"
     ]
    },
    {
     "name": "stdout",
     "output_type": "stream",
     "text": [
      "images/Fast Base Stick Foundation - F10 6.2g-F8.jpg\n"
     ]
    },
    {
     "name": "stderr",
     "output_type": "stream",
     "text": [
      "<ipython-input-48-a5bbea6ed560>:58: ConvergenceWarning: Number of distinct clusters (2) found smaller than n_clusters (6). Possibly due to duplicate points in X.\n",
      "  estimator.fit(img)\n"
     ]
    },
    {
     "name": "stdout",
     "output_type": "stream",
     "text": [
      "images/Fast Base Stick Foundation - F10 6.2g-F10.jpg\n"
     ]
    },
    {
     "name": "stderr",
     "output_type": "stream",
     "text": [
      "<ipython-input-48-a5bbea6ed560>:58: ConvergenceWarning: Number of distinct clusters (1) found smaller than n_clusters (6). Possibly due to duplicate points in X.\n",
      "  estimator.fit(img)\n"
     ]
    },
    {
     "name": "stdout",
     "output_type": "stream",
     "text": [
      "images/9To5 Primer And Matte Perfect Cover Foundation - Cool Tan C280 25 ml-Cool Tan C280.jpg\n",
      "images/9To5 Primer And Matte Perfect Cover Foundation - Cool Tan C280 25 ml-Cool Rose C140.jpg\n",
      "images/9To5 Primer And Matte Perfect Cover Foundation - Cool Tan C280 25 ml-Warm Caramel.jpg\n"
     ]
    },
    {
     "name": "stderr",
     "output_type": "stream",
     "text": [
      "<ipython-input-48-a5bbea6ed560>:58: ConvergenceWarning: Number of distinct clusters (2) found smaller than n_clusters (6). Possibly due to duplicate points in X.\n",
      "  estimator.fit(img)\n",
      "<ipython-input-48-a5bbea6ed560>:58: ConvergenceWarning: Number of distinct clusters (2) found smaller than n_clusters (6). Possibly due to duplicate points in X.\n",
      "  estimator.fit(img)\n"
     ]
    },
    {
     "name": "stdout",
     "output_type": "stream",
     "text": [
      "images/9To5 Primer And Matte Perfect Cover Foundation - Cool Tan C280 25 ml-Neutral Nude.jpg\n",
      "images/9To5 Primer And Matte Perfect Cover Foundation - Cool Tan C280 25 ml-N220 Neutral Medium.jpg\n",
      "images/9To5 Primer And Matte Perfect Cover Foundation - Cool Tan C280 25 ml-Warm Natural.jpg\n",
      "images/9To5 Primer And Matte Perfect Cover Foundation - Cool Tan C280 25 ml-Cool Cinnamon.jpg\n",
      "images/9To5 Primer And Matte Perfect Cover Foundation - Cool Tan C280 25 ml-W240 Warm Beige.jpg\n",
      "images/9To5 Primer And Matte Perfect Cover Foundation - Cool Tan C280 25 ml-Neutral Honey.jpg\n",
      "images/9To5 Primer And Matte Perfect Cover Foundation - Cool Tan C280 25 ml-Cool Ivory.jpg\n",
      "images/9To5 Primer And Matte Perfect Cover Foundation - Cool Tan C280 25 ml-Warm Sand.jpg\n",
      "images/Paris Infallible 24H Matte Cover Foundation - 104 Golden Beige-Golden Beige.jpg\n",
      "images/Paris Infallible 24H Matte Cover Foundation - 104 Golden Beige-Caramel Beige.jpg\n",
      "images/9To5 Primer And Matte Perfect Cover Foundation - Cool Cinnamon C300 25 ml-Cool Tan C280.jpg\n",
      "images/9To5 Primer And Matte Perfect Cover Foundation - Cool Cinnamon C300 25 ml-Cool Rose C140.jpg\n"
     ]
    },
    {
     "name": "stderr",
     "output_type": "stream",
     "text": [
      "<ipython-input-48-a5bbea6ed560>:58: ConvergenceWarning: Number of distinct clusters (2) found smaller than n_clusters (6). Possibly due to duplicate points in X.\n",
      "  estimator.fit(img)\n"
     ]
    },
    {
     "name": "stdout",
     "output_type": "stream",
     "text": [
      "images/9To5 Primer And Matte Perfect Cover Foundation - Cool Cinnamon C300 25 ml-Warm Caramel.jpg\n"
     ]
    },
    {
     "name": "stderr",
     "output_type": "stream",
     "text": [
      "<ipython-input-48-a5bbea6ed560>:58: ConvergenceWarning: Number of distinct clusters (2) found smaller than n_clusters (6). Possibly due to duplicate points in X.\n",
      "  estimator.fit(img)\n"
     ]
    },
    {
     "name": "stdout",
     "output_type": "stream",
     "text": [
      "images/9To5 Primer And Matte Perfect Cover Foundation - Cool Cinnamon C300 25 ml-Neutral Nude.jpg\n",
      "images/9To5 Primer And Matte Perfect Cover Foundation - Cool Cinnamon C300 25 ml-N220 Neutral Medium.jpg\n",
      "images/9To5 Primer And Matte Perfect Cover Foundation - Cool Cinnamon C300 25 ml-Warm Natural.jpg\n",
      "images/9To5 Primer And Matte Perfect Cover Foundation - Cool Cinnamon C300 25 ml-Cool Cinnamon.jpg\n",
      "images/9To5 Primer And Matte Perfect Cover Foundation - Cool Cinnamon C300 25 ml-W240 Warm Beige.jpg\n",
      "images/9To5 Primer And Matte Perfect Cover Foundation - Cool Cinnamon C300 25 ml-Neutral Honey.jpg\n",
      "images/9To5 Primer And Matte Perfect Cover Foundation - Cool Cinnamon C300 25 ml-Cool Ivory.jpg\n",
      "images/9To5 Primer And Matte Perfect Cover Foundation - Cool Cinnamon C300 25 ml-Warm Sand.jpg\n",
      "images/Paris True Match Liquid Foundation - Caramel Dore 6.5D6.5W 30ml-Rich Caramel.jpg\n",
      "images/Paris True Match Liquid Foundation - Caramel Dore 6.5D6.5W 30ml-Golden Beige.jpg\n"
     ]
    },
    {
     "name": "stderr",
     "output_type": "stream",
     "text": [
      "<ipython-input-48-a5bbea6ed560>:58: ConvergenceWarning: Number of distinct clusters (2) found smaller than n_clusters (6). Possibly due to duplicate points in X.\n",
      "  estimator.fit(img)\n",
      "<ipython-input-48-a5bbea6ed560>:58: ConvergenceWarning: Number of distinct clusters (2) found smaller than n_clusters (6). Possibly due to duplicate points in X.\n",
      "  estimator.fit(img)\n"
     ]
    },
    {
     "name": "stdout",
     "output_type": "stream",
     "text": [
      "images/Paris True Match Liquid Foundation - Caramel Dore 6.5D6.5W 30ml-Creamy Beige N4.jpg\n"
     ]
    },
    {
     "name": "stderr",
     "output_type": "stream",
     "text": [
      "<ipython-input-48-a5bbea6ed560>:58: ConvergenceWarning: Number of distinct clusters (2) found smaller than n_clusters (6). Possibly due to duplicate points in X.\n",
      "  estimator.fit(img)\n",
      "<ipython-input-48-a5bbea6ed560>:58: ConvergenceWarning: Number of distinct clusters (2) found smaller than n_clusters (6). Possibly due to duplicate points in X.\n",
      "  estimator.fit(img)\n"
     ]
    },
    {
     "name": "stdout",
     "output_type": "stream",
     "text": [
      "images/Paris True Match Liquid Foundation - Caramel Dore 6.5D6.5W 30ml-Ivory.jpg\n",
      "images/Conceal & Define Full Coverage Foundation - F10.5 23 ml-F12.2.jpg\n"
     ]
    },
    {
     "name": "stderr",
     "output_type": "stream",
     "text": [
      "<ipython-input-48-a5bbea6ed560>:58: ConvergenceWarning: Number of distinct clusters (2) found smaller than n_clusters (6). Possibly due to duplicate points in X.\n",
      "  estimator.fit(img)\n"
     ]
    },
    {
     "name": "stdout",
     "output_type": "stream",
     "text": [
      "images/Conceal & Define Full Coverage Foundation - F10.5 23 ml-F9.jpg\n"
     ]
    },
    {
     "name": "stderr",
     "output_type": "stream",
     "text": [
      "<ipython-input-48-a5bbea6ed560>:58: ConvergenceWarning: Number of distinct clusters (2) found smaller than n_clusters (6). Possibly due to duplicate points in X.\n",
      "  estimator.fit(img)\n"
     ]
    },
    {
     "name": "stdout",
     "output_type": "stream",
     "text": [
      "images/Conceal & Define Full Coverage Foundation - F10.5 23 ml-F7.5.jpg\n"
     ]
    },
    {
     "name": "stderr",
     "output_type": "stream",
     "text": [
      "<ipython-input-48-a5bbea6ed560>:58: ConvergenceWarning: Number of distinct clusters (2) found smaller than n_clusters (6). Possibly due to duplicate points in X.\n",
      "  estimator.fit(img)\n"
     ]
    },
    {
     "name": "stdout",
     "output_type": "stream",
     "text": [
      "images/Conceal & Define Full Coverage Foundation - F10.5 23 ml-F14.jpg\n"
     ]
    },
    {
     "name": "stderr",
     "output_type": "stream",
     "text": [
      "<ipython-input-48-a5bbea6ed560>:58: ConvergenceWarning: Number of distinct clusters (2) found smaller than n_clusters (6). Possibly due to duplicate points in X.\n",
      "  estimator.fit(img)\n"
     ]
    },
    {
     "name": "stdout",
     "output_type": "stream",
     "text": [
      "images/Conceal & Define Full Coverage Foundation - F10.5 23 ml-F12.5.jpg\n"
     ]
    },
    {
     "name": "stderr",
     "output_type": "stream",
     "text": [
      "<ipython-input-48-a5bbea6ed560>:58: ConvergenceWarning: Number of distinct clusters (2) found smaller than n_clusters (6). Possibly due to duplicate points in X.\n",
      "  estimator.fit(img)\n"
     ]
    },
    {
     "name": "stdout",
     "output_type": "stream",
     "text": [
      "images/Conceal & Define Full Coverage Foundation - F10.5 23 ml-F8.5.jpg\n"
     ]
    },
    {
     "name": "stderr",
     "output_type": "stream",
     "text": [
      "<ipython-input-48-a5bbea6ed560>:58: ConvergenceWarning: Number of distinct clusters (2) found smaller than n_clusters (6). Possibly due to duplicate points in X.\n",
      "  estimator.fit(img)\n"
     ]
    },
    {
     "name": "stdout",
     "output_type": "stream",
     "text": [
      "images/Conceal & Define Full Coverage Foundation - F10.5 23 ml-F7.jpg\n"
     ]
    },
    {
     "name": "stderr",
     "output_type": "stream",
     "text": [
      "<ipython-input-48-a5bbea6ed560>:58: ConvergenceWarning: Number of distinct clusters (1) found smaller than n_clusters (6). Possibly due to duplicate points in X.\n",
      "  estimator.fit(img)\n"
     ]
    },
    {
     "name": "stdout",
     "output_type": "stream",
     "text": [
      "images/Conceal & Define Full Coverage Foundation - F10.5 23 ml-F10.5.jpg\n",
      "images/Conceal & Define Full Coverage Foundation - F10.5 23 ml-F6.jpg\n"
     ]
    },
    {
     "name": "stderr",
     "output_type": "stream",
     "text": [
      "<ipython-input-48-a5bbea6ed560>:58: ConvergenceWarning: Number of distinct clusters (1) found smaller than n_clusters (6). Possibly due to duplicate points in X.\n",
      "  estimator.fit(img)\n"
     ]
    },
    {
     "name": "stdout",
     "output_type": "stream",
     "text": [
      "images/Paris True Match Super Blendable Liquid Foundation - Golden Sand D5W5 30 ml-Golden Cappuccino.jpg\n",
      "images/Paris True Match Super Blendable Liquid Foundation - Golden Sand D5W5 30 ml-Golden Sand.jpg\n",
      "images/Paris True Match Super Blendable Liquid Foundation - Golden Sand D5W5 30 ml-Honey.jpg\n",
      "images/Paris True Match Super Blendable Liquid Foundation - Golden Sand D5W5 30 ml-Skincare.jpg\n"
     ]
    },
    {
     "name": "stderr",
     "output_type": "stream",
     "text": [
      "<ipython-input-48-a5bbea6ed560>:58: ConvergenceWarning: Number of distinct clusters (2) found smaller than n_clusters (6). Possibly due to duplicate points in X.\n",
      "  estimator.fit(img)\n",
      "<ipython-input-48-a5bbea6ed560>:58: ConvergenceWarning: Number of distinct clusters (1) found smaller than n_clusters (6). Possibly due to duplicate points in X.\n",
      "  estimator.fit(img)\n",
      "<ipython-input-48-a5bbea6ed560>:58: ConvergenceWarning: Number of distinct clusters (2) found smaller than n_clusters (6). Possibly due to duplicate points in X.\n",
      "  estimator.fit(img)\n"
     ]
    },
    {
     "name": "stdout",
     "output_type": "stream",
     "text": [
      "images/Paris True Match Super Blendable Liquid Foundation - Golden Sand D5W5 30 ml-Golden Amber.jpg\n",
      "images/Paris True Match Super Blendable Liquid Foundation - Golden Sand D5W5 30 ml-Riche Sepia.jpg\n",
      "images/9To5 Primer & Matte Perfect Cover Foundation - Neutral Honey N260 25 ml-Cool Tan C280.jpg\n",
      "images/9To5 Primer & Matte Perfect Cover Foundation - Neutral Honey N260 25 ml-Cool Rose C140.jpg\n",
      "images/9To5 Primer & Matte Perfect Cover Foundation - Neutral Honey N260 25 ml-Warm Caramel.jpg\n"
     ]
    },
    {
     "name": "stderr",
     "output_type": "stream",
     "text": [
      "<ipython-input-48-a5bbea6ed560>:58: ConvergenceWarning: Number of distinct clusters (2) found smaller than n_clusters (6). Possibly due to duplicate points in X.\n",
      "  estimator.fit(img)\n"
     ]
    },
    {
     "name": "stdout",
     "output_type": "stream",
     "text": [
      "images/9To5 Primer & Matte Perfect Cover Foundation - Neutral Honey N260 25 ml-Neutral Nude.jpg\n",
      "images/9To5 Primer & Matte Perfect Cover Foundation - Neutral Honey N260 25 ml-N220 Neutral Medium.jpg\n",
      "images/9To5 Primer & Matte Perfect Cover Foundation - Neutral Honey N260 25 ml-Warm Natural.jpg\n",
      "images/9To5 Primer & Matte Perfect Cover Foundation - Neutral Honey N260 25 ml-Cool Cinnamon.jpg\n",
      "images/9To5 Primer & Matte Perfect Cover Foundation - Neutral Honey N260 25 ml-W240 Warm Beige.jpg\n",
      "images/9To5 Primer & Matte Perfect Cover Foundation - Neutral Honey N260 25 ml-Neutral Honey.jpg\n",
      "images/9To5 Primer & Matte Perfect Cover Foundation - Neutral Honey N260 25 ml-Cool Ivory.jpg\n",
      "images/9To5 Primer & Matte Perfect Cover Foundation - Neutral Honey N260 25 ml-Warm Sand.jpg\n",
      "images/Rage For Coverage Medium Golden Undertone 24Hr Foundation 32 Cortado 25ml-17 Raf.jpg\n",
      "images/Rage For Coverage Medium Golden Undertone 24Hr Foundation 32 Cortado 25ml-52 Corretto.jpg\n",
      "images/Rage For Coverage Medium Golden Undertone 24Hr Foundation 32 Cortado 25ml-15 Cappuccino.jpg\n",
      "images/Rage For Coverage Medium Golden Undertone 24Hr Foundation 32 Cortado 25ml-42 Glace.jpg\n"
     ]
    },
    {
     "name": "stderr",
     "output_type": "stream",
     "text": [
      "<ipython-input-48-a5bbea6ed560>:58: ConvergenceWarning: Number of distinct clusters (2) found smaller than n_clusters (6). Possibly due to duplicate points in X.\n",
      "  estimator.fit(img)\n",
      "<ipython-input-48-a5bbea6ed560>:58: ConvergenceWarning: Number of distinct clusters (2) found smaller than n_clusters (6). Possibly due to duplicate points in X.\n",
      "  estimator.fit(img)\n",
      "<ipython-input-48-a5bbea6ed560>:58: ConvergenceWarning: Number of distinct clusters (2) found smaller than n_clusters (6). Possibly due to duplicate points in X.\n",
      "  estimator.fit(img)\n",
      "<ipython-input-48-a5bbea6ed560>:58: ConvergenceWarning: Number of distinct clusters (2) found smaller than n_clusters (6). Possibly due to duplicate points in X.\n",
      "  estimator.fit(img)\n"
     ]
    },
    {
     "name": "stdout",
     "output_type": "stream",
     "text": [
      "images/Rage For Coverage Medium Golden Undertone 24Hr Foundation 32 Cortado 25ml-37 Freddo.jpg\n"
     ]
    },
    {
     "name": "stderr",
     "output_type": "stream",
     "text": [
      "<ipython-input-48-a5bbea6ed560>:58: ConvergenceWarning: Number of distinct clusters (2) found smaller than n_clusters (6). Possibly due to duplicate points in X.\n",
      "  estimator.fit(img)\n",
      "<ipython-input-48-a5bbea6ed560>:58: ConvergenceWarning: Number of distinct clusters (1) found smaller than n_clusters (6). Possibly due to duplicate points in X.\n",
      "  estimator.fit(img)\n"
     ]
    },
    {
     "name": "stdout",
     "output_type": "stream",
     "text": [
      "images/Rage For Coverage Medium Golden Undertone 24Hr Foundation 32 Cortado 25ml-27 Vienna.jpg\n",
      "images/Rage For Coverage Medium Golden Undertone 24Hr Foundation 32 Cortado 25ml-55 Americano.jpg\n"
     ]
    },
    {
     "name": "stderr",
     "output_type": "stream",
     "text": [
      "<ipython-input-48-a5bbea6ed560>:58: ConvergenceWarning: Number of distinct clusters (2) found smaller than n_clusters (6). Possibly due to duplicate points in X.\n",
      "  estimator.fit(img)\n",
      "<ipython-input-48-a5bbea6ed560>:58: ConvergenceWarning: Number of distinct clusters (2) found smaller than n_clusters (6). Possibly due to duplicate points in X.\n",
      "  estimator.fit(img)\n"
     ]
    },
    {
     "name": "stdout",
     "output_type": "stream",
     "text": [
      "images/Rage For Coverage Medium Golden Undertone 24Hr Foundation 32 Cortado 25ml-07 Vanilla Latte.jpg\n",
      "images/Rage For Coverage Medium Golden Undertone 24Hr Foundation 32 Cortado 25ml-20 Galao.jpg\n"
     ]
    },
    {
     "name": "stderr",
     "output_type": "stream",
     "text": [
      "<ipython-input-48-a5bbea6ed560>:58: ConvergenceWarning: Number of distinct clusters (2) found smaller than n_clusters (6). Possibly due to duplicate points in X.\n",
      "  estimator.fit(img)\n",
      "<ipython-input-48-a5bbea6ed560>:58: ConvergenceWarning: Number of distinct clusters (2) found smaller than n_clusters (6). Possibly due to duplicate points in X.\n",
      "  estimator.fit(img)\n",
      "<ipython-input-48-a5bbea6ed560>:58: ConvergenceWarning: Number of distinct clusters (2) found smaller than n_clusters (6). Possibly due to duplicate points in X.\n",
      "  estimator.fit(img)\n",
      "<ipython-input-48-a5bbea6ed560>:58: ConvergenceWarning: Number of distinct clusters (2) found smaller than n_clusters (6). Possibly due to duplicate points in X.\n",
      "  estimator.fit(img)\n"
     ]
    },
    {
     "name": "stdout",
     "output_type": "stream",
     "text": [
      "images/Rage For Coverage Medium Golden Undertone 24Hr Foundation 32 Cortado 25ml-48 Irish.jpg\n",
      "images/Rage For Coverage Medium Golden Undertone 24Hr Foundation 32 Cortado 25ml-40 Breve.jpg\n",
      "images/Rage For Coverage Medium Golden Undertone 24Hr Foundation 32 Cortado 25ml-10 Latte.jpg\n",
      "images/Rage For Coverage Medium Golden Undertone 24Hr Foundation 32 Cortado 25ml-35 Frappe.jpg\n"
     ]
    },
    {
     "name": "stderr",
     "output_type": "stream",
     "text": [
      "<ipython-input-48-a5bbea6ed560>:58: ConvergenceWarning: Number of distinct clusters (2) found smaller than n_clusters (6). Possibly due to duplicate points in X.\n",
      "  estimator.fit(img)\n",
      "<ipython-input-48-a5bbea6ed560>:58: ConvergenceWarning: Number of distinct clusters (2) found smaller than n_clusters (6). Possibly due to duplicate points in X.\n",
      "  estimator.fit(img)\n"
     ]
    },
    {
     "name": "stdout",
     "output_type": "stream",
     "text": [
      "images/Rage For Coverage Medium Golden Undertone 24Hr Foundation 32 Cortado 25ml-32 Cortado.jpg\n",
      "images/Studio Fix Fluid Broad Spectrum Foundation with SPF 15 - NC12 30 ml-Nw45.jpg\n",
      "images/Studio Fix Fluid Broad Spectrum Foundation with SPF 15 - NC12 30 ml-Nc45.jpg\n",
      "images/Studio Fix Fluid Broad Spectrum Foundation with SPF 15 - NC12 30 ml-Nc35.jpg\n",
      "images/Studio Fix Fluid Broad Spectrum Foundation with SPF 15 - NC12 30 ml-Nc40.jpg\n",
      "images/Studio Fix Fluid Broad Spectrum Foundation with SPF 15 - NC12 30 ml-Nc30.jpg\n",
      "images/Studio Fix Fluid Broad Spectrum Foundation with SPF 15 - NC12 30 ml-NC47.jpg\n",
      "images/Studio Fix Fluid Broad Spectrum Foundation with SPF 15 - NC12 30 ml-Nc25.jpg\n",
      "images/Studio Fix Fluid Broad Spectrum Foundation with SPF 15 - NC12 30 ml-Nc42.jpg\n",
      "images/Studio Fix Fluid Broad Spectrum Foundation with SPF 15 - NC12 30 ml-Nc15.jpg\n",
      "images/Studio Fix Fluid Broad Spectrum Foundation with SPF 15 - NC12 30 ml-Nc18.jpg\n",
      "images/Studio Fix Fluid Broad Spectrum Foundation with SPF 15 - NC12 30 ml-Nc12.jpg\n",
      "images/Studio Fix Fluid Broad Spectrum Foundation with SPF 15 - NC12 30 ml-Nc20.jpg\n",
      "images/Studio Fix Fluid Broad Spectrum Foundation with SPF 15 - NC12 30 ml-Nw35.jpg\n",
      "images/Paris True Match Super-Blendable Liquid Foundation - Rose Beige R3C3K3 30 ml-Golden Cappuccino.jpg\n",
      "images/Paris True Match Super-Blendable Liquid Foundation - Rose Beige R3C3K3 30 ml-Golden Sand.jpg\n",
      "images/Paris True Match Super-Blendable Liquid Foundation - Rose Beige R3C3K3 30 ml-Honey.jpg\n",
      "images/Paris True Match Super-Blendable Liquid Foundation - Rose Beige R3C3K3 30 ml-Skincare.jpg\n",
      "images/Paris True Match Super-Blendable Liquid Foundation - Rose Beige R3C3K3 30 ml-Golden Amber.jpg\n",
      "images/Paris True Match Super-Blendable Liquid Foundation - Rose Beige R3C3K3 30 ml-Riche Sepia.jpg\n"
     ]
    },
    {
     "name": "stderr",
     "output_type": "stream",
     "text": [
      "<ipython-input-48-a5bbea6ed560>:58: ConvergenceWarning: Number of distinct clusters (2) found smaller than n_clusters (6). Possibly due to duplicate points in X.\n",
      "  estimator.fit(img)\n",
      "<ipython-input-48-a5bbea6ed560>:58: ConvergenceWarning: Number of distinct clusters (1) found smaller than n_clusters (6). Possibly due to duplicate points in X.\n",
      "  estimator.fit(img)\n"
     ]
    },
    {
     "name": "stdout",
     "output_type": "stream",
     "text": [
      "images/Mini Skin Long Wear Weightless Foundation - Warm Natural 13ml-Porcelain.jpg\n",
      "images/Mini Skin Long Wear Weightless Foundation - Warm Natural 13ml-Honey.jpg\n",
      "images/Mini Skin Long Wear Weightless Foundation - Warm Natural 13ml-Natural Tan.jpg\n",
      "images/Mini Skin Long Wear Weightless Foundation - Warm Natural 13ml-Golden Natural.jpg\n",
      "images/Mini Skin Long Wear Weightless Foundation - Warm Natural 13ml-Warm Beige.jpg\n",
      "images/Mini Skin Long Wear Weightless Foundation - Warm Natural 13ml-Warm Natural.jpg\n",
      "images/Mini Skin Long Wear Weightless Foundation - Warm Natural 13ml-Golden.jpg\n",
      "images/Mini Skin Long Wear Weightless Foundation - Warm Natural 13ml-Natural.jpg\n",
      "images/Rage For Coverage Medium Beige Golden Peach Undertone 24Hr Foundation 37 Freddo 25ml-17 Raf.jpg\n",
      "images/Rage For Coverage Medium Beige Golden Peach Undertone 24Hr Foundation 37 Freddo 25ml-52 Corretto.jpg\n",
      "images/Rage For Coverage Medium Beige Golden Peach Undertone 24Hr Foundation 37 Freddo 25ml-15 Cappuccino.jpg\n"
     ]
    },
    {
     "name": "stderr",
     "output_type": "stream",
     "text": [
      "<ipython-input-48-a5bbea6ed560>:58: ConvergenceWarning: Number of distinct clusters (2) found smaller than n_clusters (6). Possibly due to duplicate points in X.\n",
      "  estimator.fit(img)\n",
      "<ipython-input-48-a5bbea6ed560>:58: ConvergenceWarning: Number of distinct clusters (2) found smaller than n_clusters (6). Possibly due to duplicate points in X.\n",
      "  estimator.fit(img)\n",
      "<ipython-input-48-a5bbea6ed560>:58: ConvergenceWarning: Number of distinct clusters (2) found smaller than n_clusters (6). Possibly due to duplicate points in X.\n",
      "  estimator.fit(img)\n",
      "<ipython-input-48-a5bbea6ed560>:58: ConvergenceWarning: Number of distinct clusters (2) found smaller than n_clusters (6). Possibly due to duplicate points in X.\n",
      "  estimator.fit(img)\n"
     ]
    },
    {
     "name": "stdout",
     "output_type": "stream",
     "text": [
      "images/Rage For Coverage Medium Beige Golden Peach Undertone 24Hr Foundation 37 Freddo 25ml-42 Glace.jpg\n",
      "images/Rage For Coverage Medium Beige Golden Peach Undertone 24Hr Foundation 37 Freddo 25ml-37 Freddo.jpg\n"
     ]
    },
    {
     "name": "stderr",
     "output_type": "stream",
     "text": [
      "<ipython-input-48-a5bbea6ed560>:58: ConvergenceWarning: Number of distinct clusters (2) found smaller than n_clusters (6). Possibly due to duplicate points in X.\n",
      "  estimator.fit(img)\n",
      "<ipython-input-48-a5bbea6ed560>:58: ConvergenceWarning: Number of distinct clusters (1) found smaller than n_clusters (6). Possibly due to duplicate points in X.\n",
      "  estimator.fit(img)\n"
     ]
    },
    {
     "name": "stdout",
     "output_type": "stream",
     "text": [
      "images/Rage For Coverage Medium Beige Golden Peach Undertone 24Hr Foundation 37 Freddo 25ml-27 Vienna.jpg\n",
      "images/Rage For Coverage Medium Beige Golden Peach Undertone 24Hr Foundation 37 Freddo 25ml-55 Americano.jpg\n"
     ]
    },
    {
     "name": "stderr",
     "output_type": "stream",
     "text": [
      "<ipython-input-48-a5bbea6ed560>:58: ConvergenceWarning: Number of distinct clusters (2) found smaller than n_clusters (6). Possibly due to duplicate points in X.\n",
      "  estimator.fit(img)\n",
      "<ipython-input-48-a5bbea6ed560>:58: ConvergenceWarning: Number of distinct clusters (2) found smaller than n_clusters (6). Possibly due to duplicate points in X.\n",
      "  estimator.fit(img)\n"
     ]
    },
    {
     "name": "stdout",
     "output_type": "stream",
     "text": [
      "images/Rage For Coverage Medium Beige Golden Peach Undertone 24Hr Foundation 37 Freddo 25ml-07 Vanilla Latte.jpg\n",
      "images/Rage For Coverage Medium Beige Golden Peach Undertone 24Hr Foundation 37 Freddo 25ml-20 Galao.jpg\n"
     ]
    },
    {
     "name": "stderr",
     "output_type": "stream",
     "text": [
      "<ipython-input-48-a5bbea6ed560>:58: ConvergenceWarning: Number of distinct clusters (2) found smaller than n_clusters (6). Possibly due to duplicate points in X.\n",
      "  estimator.fit(img)\n",
      "<ipython-input-48-a5bbea6ed560>:58: ConvergenceWarning: Number of distinct clusters (2) found smaller than n_clusters (6). Possibly due to duplicate points in X.\n",
      "  estimator.fit(img)\n",
      "<ipython-input-48-a5bbea6ed560>:58: ConvergenceWarning: Number of distinct clusters (2) found smaller than n_clusters (6). Possibly due to duplicate points in X.\n",
      "  estimator.fit(img)\n",
      "<ipython-input-48-a5bbea6ed560>:58: ConvergenceWarning: Number of distinct clusters (2) found smaller than n_clusters (6). Possibly due to duplicate points in X.\n",
      "  estimator.fit(img)\n"
     ]
    },
    {
     "name": "stdout",
     "output_type": "stream",
     "text": [
      "images/Rage For Coverage Medium Beige Golden Peach Undertone 24Hr Foundation 37 Freddo 25ml-48 Irish.jpg\n",
      "images/Rage For Coverage Medium Beige Golden Peach Undertone 24Hr Foundation 37 Freddo 25ml-40 Breve.jpg\n",
      "images/Rage For Coverage Medium Beige Golden Peach Undertone 24Hr Foundation 37 Freddo 25ml-10 Latte.jpg\n",
      "images/Rage For Coverage Medium Beige Golden Peach Undertone 24Hr Foundation 37 Freddo 25ml-35 Frappe.jpg\n"
     ]
    },
    {
     "name": "stderr",
     "output_type": "stream",
     "text": [
      "<ipython-input-48-a5bbea6ed560>:58: ConvergenceWarning: Number of distinct clusters (2) found smaller than n_clusters (6). Possibly due to duplicate points in X.\n",
      "  estimator.fit(img)\n",
      "<ipython-input-48-a5bbea6ed560>:58: ConvergenceWarning: Number of distinct clusters (2) found smaller than n_clusters (6). Possibly due to duplicate points in X.\n",
      "  estimator.fit(img)\n"
     ]
    },
    {
     "name": "stdout",
     "output_type": "stream",
     "text": [
      "images/Rage For Coverage Medium Beige Golden Peach Undertone 24Hr Foundation 37 Freddo 25ml-32 Cortado.jpg\n",
      "images/Double Wear Stay-in-Place Makeup Foundation with SPF 10 - Warm Porcelain 30ml-Shell.jpg\n",
      "images/Double Wear Stay-in-Place Makeup Foundation with SPF 10 - Warm Porcelain 30ml-Mustard.jpg\n",
      "images/Double Wear Stay-in-Place Makeup Foundation with SPF 10 - Warm Porcelain 30ml-1W2 Sand.jpg\n",
      "images/Double Wear Stay-in-Place Makeup Foundation with SPF 10 - Warm Porcelain 30ml-3W1 Tawny.jpg\n",
      "images/Double Wear Stay-in-Place Makeup Foundation with SPF 10 - Warm Porcelain 30ml-Tawny.jpg\n",
      "images/Double Wear Stay-in-Place Makeup Foundation with SPF 10 - Warm Porcelain 30ml-Cinnamon.jpg\n",
      "images/Double Wear Stay-in-Place Makeup Foundation with SPF 10 - Warm Porcelain 30ml-Buff.jpg\n",
      "images/Double Wear Stay-in-Place Makeup Foundation with SPF 10 - Warm Porcelain 30ml-Honey Bronze.jpg\n",
      "images/Double Wear Stay-in-Place Makeup Foundation with SPF 10 - Warm Porcelain 30ml-3W2 Cashew.jpg\n",
      "images/Double Wear Stay-in-Place Makeup Foundation with SPF 10 - Warm Porcelain 30ml-2W2 Rattan.jpg\n",
      "images/Double Wear Stay-in-Place Makeup Foundation with SPF 10 - Warm Porcelain 30ml-Rattan.jpg\n",
      "images/Double Wear Stay-in-Place Makeup Foundation with SPF 10 - Warm Porcelain 30ml-Warm Porcelain.jpg\n",
      "images/Double Wear Stay-in-Place Makeup Foundation with SPF 10 - Warm Porcelain 30ml-Porcelain.jpg\n",
      "images/Double Wear Stay-in-Place Makeup Foundation with SPF 10 - Warm Porcelain 30ml-Sand.jpg\n",
      "images/Double Wear Stay-in-Place Makeup Foundation with SPF 10 - Warm Porcelain 30ml-Spiced Sand.jpg\n",
      "images/Double Wear Stay-in-Place Makeup Foundation with SPF 10 - Warm Porcelain 30ml-Ivory Nude.jpg\n",
      "images/Double Wear Stay-in-Place Makeup Foundation with SPF 10 - Warm Porcelain 30ml-Alabaster.jpg\n",
      "images/Double Wear Stay-in-Place Makeup Foundation with SPF 10 - Warm Porcelain 30ml-Bone.jpg\n",
      "images/Double Wear Stay-in-Place Makeup Foundation with SPF 10 - Warm Porcelain 30ml-Ivory Beige.jpg\n",
      "images/Double Wear Stay-in-Place Makeup Foundation with SPF 10 - Warm Porcelain 30ml-Toasty Toffee.jpg\n",
      "images/Double Wear Stay-in-Place Makeup Foundation with SPF 10 - Warm Porcelain 30ml-NA.jpg\n",
      "images/Mini Skin Long Wear Weightless Foundation - Honey-Porcelain.jpg\n",
      "images/Mini Skin Long Wear Weightless Foundation - Honey-Honey.jpg\n",
      "images/Mini Skin Long Wear Weightless Foundation - Honey-Natural Tan.jpg\n",
      "images/Mini Skin Long Wear Weightless Foundation - Honey-Golden Natural.jpg\n",
      "images/Mini Skin Long Wear Weightless Foundation - Honey-Warm Beige.jpg\n",
      "images/Mini Skin Long Wear Weightless Foundation - Honey-Warm Natural.jpg\n",
      "images/Mini Skin Long Wear Weightless Foundation - Honey-Golden.jpg\n",
      "images/Mini Skin Long Wear Weightless Foundation - Honey-Natural.jpg\n",
      "images/Amino Skin Radiant Foundation - Beige Mild 15g-Beige Mild.jpg\n",
      "images/Amino Skin Radiant Foundation - Beige Mild 15g-Rose Mild.jpg\n",
      "images/Studio Fix SPF 15 Fluid Foundation - NC30 30ml-Nw45.jpg\n"
     ]
    },
    {
     "name": "stderr",
     "output_type": "stream",
     "text": [
      "<ipython-input-48-a5bbea6ed560>:58: ConvergenceWarning: Number of distinct clusters (1) found smaller than n_clusters (6). Possibly due to duplicate points in X.\n",
      "  estimator.fit(img)\n"
     ]
    },
    {
     "name": "stdout",
     "output_type": "stream",
     "text": [
      "images/Studio Fix SPF 15 Fluid Foundation - NC30 30ml-Nc45.jpg\n",
      "images/Studio Fix SPF 15 Fluid Foundation - NC30 30ml-Nc35.jpg\n",
      "images/Studio Fix SPF 15 Fluid Foundation - NC30 30ml-Nc40.jpg\n",
      "images/Studio Fix SPF 15 Fluid Foundation - NC30 30ml-Nc30.jpg\n",
      "images/Studio Fix SPF 15 Fluid Foundation - NC30 30ml-NC47.jpg\n",
      "images/Studio Fix SPF 15 Fluid Foundation - NC30 30ml-Nc25.jpg\n",
      "images/Studio Fix SPF 15 Fluid Foundation - NC30 30ml-Nc42.jpg\n",
      "images/Studio Fix SPF 15 Fluid Foundation - NC30 30ml-Nc15.jpg\n",
      "images/Studio Fix SPF 15 Fluid Foundation - NC30 30ml-Nc18.jpg\n",
      "images/Studio Fix SPF 15 Fluid Foundation - NC30 30ml-Nc12.jpg\n",
      "images/Studio Fix SPF 15 Fluid Foundation - NC30 30ml-Nc20.jpg\n",
      "images/Studio Fix SPF 15 Fluid Foundation - NC30 30ml-Nw35.jpg\n",
      "images/Ace Of Face Foundation Stick 25 Macchiato 12 g-52 Corretto.jpg\n",
      "images/Ace Of Face Foundation Stick 25 Macchiato 12 g-32 Cortado.jpg\n",
      "images/Ace Of Face Foundation Stick 25 Macchiato 12 g-42 Glace.jpg\n",
      "images/Ace Of Face Foundation Stick 25 Macchiato 12 g-15 Cappuccino.jpg"
     ]
    },
    {
     "name": "stderr",
     "output_type": "stream",
     "text": [
      "<ipython-input-48-a5bbea6ed560>:58: ConvergenceWarning: Number of distinct clusters (1) found smaller than n_clusters (6). Possibly due to duplicate points in X.\n",
      "  estimator.fit(img)\n",
      "<ipython-input-48-a5bbea6ed560>:58: ConvergenceWarning: Number of distinct clusters (2) found smaller than n_clusters (6). Possibly due to duplicate points in X.\n",
      "  estimator.fit(img)\n",
      "<ipython-input-48-a5bbea6ed560>:58: ConvergenceWarning: Number of distinct clusters (2) found smaller than n_clusters (6). Possibly due to duplicate points in X.\n",
      "  estimator.fit(img)\n",
      "<ipython-input-48-a5bbea6ed560>:58: ConvergenceWarning: Number of distinct clusters (2) found smaller than n_clusters (6). Possibly due to duplicate points in X.\n",
      "  estimator.fit(img)\n"
     ]
    },
    {
     "name": "stdout",
     "output_type": "stream",
     "text": [
      "\n",
      "images/Ace Of Face Foundation Stick 25 Macchiato 12 g-37 Freddo.jpg\n",
      "images/Ace Of Face Foundation Stick 25 Macchiato 12 g-30 Chococcino.jpg\n",
      "images/Ace Of Face Foundation Stick 25 Macchiato 12 g-25 Macchiato.jpg\n",
      "images/Conceal & Define Foundation - F8.5 23ml-F12.2.jpg\n"
     ]
    },
    {
     "name": "stderr",
     "output_type": "stream",
     "text": [
      "<ipython-input-48-a5bbea6ed560>:58: ConvergenceWarning: Number of distinct clusters (2) found smaller than n_clusters (6). Possibly due to duplicate points in X.\n",
      "  estimator.fit(img)\n"
     ]
    },
    {
     "name": "stdout",
     "output_type": "stream",
     "text": [
      "images/Conceal & Define Foundation - F8.5 23ml-F9.jpg\n"
     ]
    },
    {
     "name": "stderr",
     "output_type": "stream",
     "text": [
      "<ipython-input-48-a5bbea6ed560>:58: ConvergenceWarning: Number of distinct clusters (2) found smaller than n_clusters (6). Possibly due to duplicate points in X.\n",
      "  estimator.fit(img)\n"
     ]
    },
    {
     "name": "stdout",
     "output_type": "stream",
     "text": [
      "images/Conceal & Define Foundation - F8.5 23ml-F7.5.jpg\n"
     ]
    },
    {
     "name": "stderr",
     "output_type": "stream",
     "text": [
      "<ipython-input-48-a5bbea6ed560>:58: ConvergenceWarning: Number of distinct clusters (2) found smaller than n_clusters (6). Possibly due to duplicate points in X.\n",
      "  estimator.fit(img)\n"
     ]
    },
    {
     "name": "stdout",
     "output_type": "stream",
     "text": [
      "images/Conceal & Define Foundation - F8.5 23ml-F14.jpg\n"
     ]
    },
    {
     "name": "stderr",
     "output_type": "stream",
     "text": [
      "<ipython-input-48-a5bbea6ed560>:58: ConvergenceWarning: Number of distinct clusters (2) found smaller than n_clusters (6). Possibly due to duplicate points in X.\n",
      "  estimator.fit(img)\n"
     ]
    },
    {
     "name": "stdout",
     "output_type": "stream",
     "text": [
      "images/Conceal & Define Foundation - F8.5 23ml-F12.5.jpg\n"
     ]
    },
    {
     "name": "stderr",
     "output_type": "stream",
     "text": [
      "<ipython-input-48-a5bbea6ed560>:58: ConvergenceWarning: Number of distinct clusters (2) found smaller than n_clusters (6). Possibly due to duplicate points in X.\n",
      "  estimator.fit(img)\n"
     ]
    },
    {
     "name": "stdout",
     "output_type": "stream",
     "text": [
      "images/Conceal & Define Foundation - F8.5 23ml-F8.5.jpg\n"
     ]
    },
    {
     "name": "stderr",
     "output_type": "stream",
     "text": [
      "<ipython-input-48-a5bbea6ed560>:58: ConvergenceWarning: Number of distinct clusters (2) found smaller than n_clusters (6). Possibly due to duplicate points in X.\n",
      "  estimator.fit(img)\n"
     ]
    },
    {
     "name": "stdout",
     "output_type": "stream",
     "text": [
      "images/Conceal & Define Foundation - F8.5 23ml-F7.jpg\n"
     ]
    },
    {
     "name": "stderr",
     "output_type": "stream",
     "text": [
      "<ipython-input-48-a5bbea6ed560>:58: ConvergenceWarning: Number of distinct clusters (1) found smaller than n_clusters (6). Possibly due to duplicate points in X.\n",
      "  estimator.fit(img)\n"
     ]
    },
    {
     "name": "stdout",
     "output_type": "stream",
     "text": [
      "images/Conceal & Define Foundation - F8.5 23ml-F10.5.jpg\n",
      "images/Conceal & Define Foundation - F8.5 23ml-F6.jpg\n"
     ]
    },
    {
     "name": "stderr",
     "output_type": "stream",
     "text": [
      "<ipython-input-48-a5bbea6ed560>:58: ConvergenceWarning: Number of distinct clusters (1) found smaller than n_clusters (6). Possibly due to duplicate points in X.\n",
      "  estimator.fit(img)\n"
     ]
    },
    {
     "name": "stdout",
     "output_type": "stream",
     "text": [
      "images/Even Better Makeup Broad Spectrum with SPF 15 - CN Ivory 30ml-Ivory.jpg\n",
      "images/Cosmetics Ace Of Face Foundation Stick 52 Corretto 12 g-52 Corretto.jpg\n",
      "images/Cosmetics Ace Of Face Foundation Stick 52 Corretto 12 g-32 Cortado.jpg\n",
      "images/Cosmetics Ace Of Face Foundation Stick 52 Corretto 12 g-42 Glace.jpg\n",
      "images/Cosmetics Ace Of Face Foundation Stick 52 Corretto 12 g-15 Cappuccino.jpg\n"
     ]
    },
    {
     "name": "stderr",
     "output_type": "stream",
     "text": [
      "<ipython-input-48-a5bbea6ed560>:58: ConvergenceWarning: Number of distinct clusters (1) found smaller than n_clusters (6). Possibly due to duplicate points in X.\n",
      "  estimator.fit(img)\n",
      "<ipython-input-48-a5bbea6ed560>:58: ConvergenceWarning: Number of distinct clusters (2) found smaller than n_clusters (6). Possibly due to duplicate points in X.\n",
      "  estimator.fit(img)\n",
      "<ipython-input-48-a5bbea6ed560>:58: ConvergenceWarning: Number of distinct clusters (2) found smaller than n_clusters (6). Possibly due to duplicate points in X.\n",
      "  estimator.fit(img)\n",
      "<ipython-input-48-a5bbea6ed560>:58: ConvergenceWarning: Number of distinct clusters (2) found smaller than n_clusters (6). Possibly due to duplicate points in X.\n",
      "  estimator.fit(img)\n"
     ]
    },
    {
     "name": "stdout",
     "output_type": "stream",
     "text": [
      "images/Cosmetics Ace Of Face Foundation Stick 52 Corretto 12 g-37 Freddo.jpg\n",
      "images/Cosmetics Ace Of Face Foundation Stick 52 Corretto 12 g-30 Chococcino.jpg\n",
      "images/Cosmetics Ace Of Face Foundation Stick 52 Corretto 12 g-25 Macchiato.jpg\n",
      "images/3.1 HD Liquid Foundation 30 ml-2.3.jpg\n",
      "images/3.1 HD Liquid Foundation 30 ml-1.5.jpg\n",
      "images/3.1 HD Liquid Foundation 30 ml-3.1.jpg\n",
      "images/3.1 HD Liquid Foundation 30 ml-3.jpg\n",
      "images/3.1 HD Liquid Foundation 30 ml-3.3.jpg\n",
      "images/Mini Skin Long Wear Weightless Foundation - Natural-Porcelain.jpg\n",
      "images/Mini Skin Long Wear Weightless Foundation - Natural-Honey.jpg\n",
      "images/Mini Skin Long Wear Weightless Foundation - Natural-Natural Tan.jpg\n",
      "images/Mini Skin Long Wear Weightless Foundation - Natural-Golden Natural.jpg\n",
      "images/Mini Skin Long Wear Weightless Foundation - Natural-Warm Beige.jpg\n",
      "images/Mini Skin Long Wear Weightless Foundation - Natural-Warm Natural.jpg\n",
      "images/Mini Skin Long Wear Weightless Foundation - Natural-Golden.jpg\n",
      "images/Mini Skin Long Wear Weightless Foundation - Natural-Natural.jpg\n",
      "images/Conceal & Define Full Coverage Foundation - F7 23 ml-F12.2.jpg\n"
     ]
    },
    {
     "name": "stderr",
     "output_type": "stream",
     "text": [
      "<ipython-input-48-a5bbea6ed560>:58: ConvergenceWarning: Number of distinct clusters (2) found smaller than n_clusters (6). Possibly due to duplicate points in X.\n",
      "  estimator.fit(img)\n"
     ]
    },
    {
     "name": "stdout",
     "output_type": "stream",
     "text": [
      "images/Conceal & Define Full Coverage Foundation - F7 23 ml-F9.jpg\n"
     ]
    },
    {
     "name": "stderr",
     "output_type": "stream",
     "text": [
      "<ipython-input-48-a5bbea6ed560>:58: ConvergenceWarning: Number of distinct clusters (2) found smaller than n_clusters (6). Possibly due to duplicate points in X.\n",
      "  estimator.fit(img)\n"
     ]
    },
    {
     "name": "stdout",
     "output_type": "stream",
     "text": [
      "images/Conceal & Define Full Coverage Foundation - F7 23 ml-F7.5.jpg\n"
     ]
    },
    {
     "name": "stderr",
     "output_type": "stream",
     "text": [
      "<ipython-input-48-a5bbea6ed560>:58: ConvergenceWarning: Number of distinct clusters (2) found smaller than n_clusters (6). Possibly due to duplicate points in X.\n",
      "  estimator.fit(img)\n"
     ]
    },
    {
     "name": "stdout",
     "output_type": "stream",
     "text": [
      "images/Conceal & Define Full Coverage Foundation - F7 23 ml-F14.jpg\n"
     ]
    },
    {
     "name": "stderr",
     "output_type": "stream",
     "text": [
      "<ipython-input-48-a5bbea6ed560>:58: ConvergenceWarning: Number of distinct clusters (2) found smaller than n_clusters (6). Possibly due to duplicate points in X.\n",
      "  estimator.fit(img)\n"
     ]
    },
    {
     "name": "stdout",
     "output_type": "stream",
     "text": [
      "images/Conceal & Define Full Coverage Foundation - F7 23 ml-F12.5.jpg\n"
     ]
    },
    {
     "name": "stderr",
     "output_type": "stream",
     "text": [
      "<ipython-input-48-a5bbea6ed560>:58: ConvergenceWarning: Number of distinct clusters (2) found smaller than n_clusters (6). Possibly due to duplicate points in X.\n",
      "  estimator.fit(img)\n"
     ]
    },
    {
     "name": "stdout",
     "output_type": "stream",
     "text": [
      "images/Conceal & Define Full Coverage Foundation - F7 23 ml-F8.5.jpg\n"
     ]
    },
    {
     "name": "stderr",
     "output_type": "stream",
     "text": [
      "<ipython-input-48-a5bbea6ed560>:58: ConvergenceWarning: Number of distinct clusters (2) found smaller than n_clusters (6). Possibly due to duplicate points in X.\n",
      "  estimator.fit(img)\n"
     ]
    },
    {
     "name": "stdout",
     "output_type": "stream",
     "text": [
      "images/Conceal & Define Full Coverage Foundation - F7 23 ml-F7.jpg\n"
     ]
    },
    {
     "name": "stderr",
     "output_type": "stream",
     "text": [
      "<ipython-input-48-a5bbea6ed560>:58: ConvergenceWarning: Number of distinct clusters (1) found smaller than n_clusters (6). Possibly due to duplicate points in X.\n",
      "  estimator.fit(img)\n"
     ]
    },
    {
     "name": "stdout",
     "output_type": "stream",
     "text": [
      "images/Conceal & Define Full Coverage Foundation - F7 23 ml-F10.5.jpg\n",
      "images/Conceal & Define Full Coverage Foundation - F7 23 ml-F6.jpg\n"
     ]
    },
    {
     "name": "stderr",
     "output_type": "stream",
     "text": [
      "<ipython-input-48-a5bbea6ed560>:58: ConvergenceWarning: Number of distinct clusters (1) found smaller than n_clusters (6). Possibly due to duplicate points in X.\n",
      "  estimator.fit(img)\n"
     ]
    },
    {
     "name": "stdout",
     "output_type": "stream",
     "text": [
      "images/Enriched Revitalising Makeup Foundation - Honey No. 301-Honey.jpg\n",
      "images/Enriched Revitalising Makeup Foundation - Honey No. 301-Vanilla.jpg\n",
      "images/Touch & Glow Moisturizing Liquid Make Up - Ivory Mist-Ivory Mist.jpg\n",
      "images/Touch & Glow Moisturizing Liquid Make Up - Ivory Mist-Natural Mist.jpg\n",
      "images/Touch & Glow Moisturizing Liquid Make Up - Ivory Mist-Touch Glow.jpg\n"
     ]
    },
    {
     "name": "stderr",
     "output_type": "stream",
     "text": [
      "<ipython-input-48-a5bbea6ed560>:58: ConvergenceWarning: Number of distinct clusters (2) found smaller than n_clusters (6). Possibly due to duplicate points in X.\n",
      "  estimator.fit(img)\n"
     ]
    },
    {
     "name": "stdout",
     "output_type": "stream",
     "text": [
      "images/Paris True Match Super Blendable Liquid Foundation - Rose Vanilla 2R2C2K 30 ml-Golden Cappuccino.jpg\n",
      "images/Paris True Match Super Blendable Liquid Foundation - Rose Vanilla 2R2C2K 30 ml-Golden Sand.jpg\n",
      "images/Paris True Match Super Blendable Liquid Foundation - Rose Vanilla 2R2C2K 30 ml-Honey.jpg\n",
      "images/Paris True Match Super Blendable Liquid Foundation - Rose Vanilla 2R2C2K 30 ml-Skincare.jpg\n"
     ]
    },
    {
     "name": "stderr",
     "output_type": "stream",
     "text": [
      "<ipython-input-48-a5bbea6ed560>:58: ConvergenceWarning: Number of distinct clusters (2) found smaller than n_clusters (6). Possibly due to duplicate points in X.\n",
      "  estimator.fit(img)\n",
      "<ipython-input-48-a5bbea6ed560>:58: ConvergenceWarning: Number of distinct clusters (1) found smaller than n_clusters (6). Possibly due to duplicate points in X.\n",
      "  estimator.fit(img)\n"
     ]
    },
    {
     "name": "stdout",
     "output_type": "stream",
     "text": [
      "images/Paris True Match Super Blendable Liquid Foundation - Rose Vanilla 2R2C2K 30 ml-Golden Amber.jpg\n",
      "images/Paris True Match Super Blendable Liquid Foundation - Rose Vanilla 2R2C2K 30 ml-Riche Sepia.jpg\n",
      "images/Ultime Pro Matte Mousse Foundation Beige 03 30gm-Beige.jpg\n",
      "images/Ultime Pro Matte Mousse Foundation Beige 03 30gm-Sand.jpg\n",
      "images/Women Beige 24Hrs Weightless Liquid Foundation-FW 3.3 25 ml-Fw 1.4.jpg\n",
      "images/Women Beige 24Hrs Weightless Liquid Foundation-FW 3.3 25 ml-Beige.jpg\n",
      "images/Women Beige 24Hrs Weightless Liquid Foundation-FW 3.3 25 ml-Fw 6.4.jpg\n",
      "images/Women Beige 24Hrs Weightless Liquid Foundation-FW 3.3 25 ml-Warm Beige.jpg\n",
      "images/Women 3.0 HD Liquid Foundation 30 ml-2.3.jpg\n",
      "images/Women 3.0 HD Liquid Foundation 30 ml-1.5.jpg\n",
      "images/Women 3.0 HD Liquid Foundation 30 ml-3.1.jpg\n",
      "images/Women 3.0 HD Liquid Foundation 30 ml-3.jpg\n",
      "images/Women 3.0 HD Liquid Foundation 30 ml-3.3.jpg\n",
      "images/Double Wear Stay-in-Place Makeup SPF 10 Foundation - Honey Bronze 30 ml-Shell.jpg\n",
      "images/Double Wear Stay-in-Place Makeup SPF 10 Foundation - Honey Bronze 30 ml-Mustard.jpg\n",
      "images/Double Wear Stay-in-Place Makeup SPF 10 Foundation - Honey Bronze 30 ml-1W2 Sand.jpg\n",
      "images/Double Wear Stay-in-Place Makeup SPF 10 Foundation - Honey Bronze 30 ml-3W1 Tawny.jpg\n",
      "images/Double Wear Stay-in-Place Makeup SPF 10 Foundation - Honey Bronze 30 ml-Tawny.jpg\n",
      "images/Double Wear Stay-in-Place Makeup SPF 10 Foundation - Honey Bronze 30 ml-Cinnamon.jpg\n",
      "images/Double Wear Stay-in-Place Makeup SPF 10 Foundation - Honey Bronze 30 ml-Buff.jpg\n",
      "images/Double Wear Stay-in-Place Makeup SPF 10 Foundation - Honey Bronze 30 ml-Honey Bronze.jpg\n",
      "images/Double Wear Stay-in-Place Makeup SPF 10 Foundation - Honey Bronze 30 ml-3W2 Cashew.jpg\n",
      "images/Double Wear Stay-in-Place Makeup SPF 10 Foundation - Honey Bronze 30 ml-2W2 Rattan.jpg\n",
      "images/Double Wear Stay-in-Place Makeup SPF 10 Foundation - Honey Bronze 30 ml-Rattan.jpg\n",
      "images/Double Wear Stay-in-Place Makeup SPF 10 Foundation - Honey Bronze 30 ml-Warm Porcelain.jpg\n",
      "images/Double Wear Stay-in-Place Makeup SPF 10 Foundation - Honey Bronze 30 ml-Porcelain.jpg\n",
      "images/Double Wear Stay-in-Place Makeup SPF 10 Foundation - Honey Bronze 30 ml-Sand.jpg\n",
      "images/Double Wear Stay-in-Place Makeup SPF 10 Foundation - Honey Bronze 30 ml-Spiced Sand.jpg\n",
      "images/Double Wear Stay-in-Place Makeup SPF 10 Foundation - Honey Bronze 30 ml-Ivory Nude.jpg\n",
      "images/Double Wear Stay-in-Place Makeup SPF 10 Foundation - Honey Bronze 30 ml-Alabaster.jpg\n",
      "images/Double Wear Stay-in-Place Makeup SPF 10 Foundation - Honey Bronze 30 ml-Bone.jpg\n",
      "images/Double Wear Stay-in-Place Makeup SPF 10 Foundation - Honey Bronze 30 ml-Ivory Beige.jpg\n",
      "images/Double Wear Stay-in-Place Makeup SPF 10 Foundation - Honey Bronze 30 ml-Toasty Toffee.jpg\n",
      "images/Double Wear Stay-in-Place Makeup SPF 10 Foundation - Honey Bronze 30 ml-NA.jpg\n",
      "images/Paris True Match Super Blendable Liquid Foundation - Golden Amber D7W7 30ml-Golden Cappuccino.jpg\n",
      "images/Paris True Match Super Blendable Liquid Foundation - Golden Amber D7W7 30ml-Golden Sand.jpg\n",
      "images/Paris True Match Super Blendable Liquid Foundation - Golden Amber D7W7 30ml-Honey.jpg\n",
      "images/Paris True Match Super Blendable Liquid Foundation - Golden Amber D7W7 30ml-Skincare.jpg\n",
      "images/Paris True Match Super Blendable Liquid Foundation - Golden Amber D7W7 30ml-Golden Amber.jpg\n",
      "images/Paris True Match Super Blendable Liquid Foundation - Golden Amber D7W7 30ml-Riche Sepia.jpg\n"
     ]
    },
    {
     "name": "stderr",
     "output_type": "stream",
     "text": [
      "<ipython-input-48-a5bbea6ed560>:58: ConvergenceWarning: Number of distinct clusters (2) found smaller than n_clusters (6). Possibly due to duplicate points in X.\n",
      "  estimator.fit(img)\n",
      "<ipython-input-48-a5bbea6ed560>:58: ConvergenceWarning: Number of distinct clusters (1) found smaller than n_clusters (6). Possibly due to duplicate points in X.\n",
      "  estimator.fit(img)\n"
     ]
    },
    {
     "name": "stdout",
     "output_type": "stream",
     "text": [
      "images/Rage For Coverage Light Medium Warm Undertone 24Hr Foundation 27 Vienna 25 ml-17 Raf.jpg\n",
      "images/Rage For Coverage Light Medium Warm Undertone 24Hr Foundation 27 Vienna 25 ml-52 Corretto.jpg\n",
      "images/Rage For Coverage Light Medium Warm Undertone 24Hr Foundation 27 Vienna 25 ml-15 Cappuccino.jpg\n",
      "images/Rage For Coverage Light Medium Warm Undertone 24Hr Foundation 27 Vienna 25 ml-42 Glace.jpg\n"
     ]
    },
    {
     "name": "stderr",
     "output_type": "stream",
     "text": [
      "<ipython-input-48-a5bbea6ed560>:58: ConvergenceWarning: Number of distinct clusters (2) found smaller than n_clusters (6). Possibly due to duplicate points in X.\n",
      "  estimator.fit(img)\n",
      "<ipython-input-48-a5bbea6ed560>:58: ConvergenceWarning: Number of distinct clusters (2) found smaller than n_clusters (6). Possibly due to duplicate points in X.\n",
      "  estimator.fit(img)\n",
      "<ipython-input-48-a5bbea6ed560>:58: ConvergenceWarning: Number of distinct clusters (2) found smaller than n_clusters (6). Possibly due to duplicate points in X.\n",
      "  estimator.fit(img)\n",
      "<ipython-input-48-a5bbea6ed560>:58: ConvergenceWarning: Number of distinct clusters (2) found smaller than n_clusters (6). Possibly due to duplicate points in X.\n",
      "  estimator.fit(img)\n"
     ]
    },
    {
     "name": "stdout",
     "output_type": "stream",
     "text": [
      "images/Rage For Coverage Light Medium Warm Undertone 24Hr Foundation 27 Vienna 25 ml-37 Freddo.jpg\n"
     ]
    },
    {
     "name": "stderr",
     "output_type": "stream",
     "text": [
      "<ipython-input-48-a5bbea6ed560>:58: ConvergenceWarning: Number of distinct clusters (2) found smaller than n_clusters (6). Possibly due to duplicate points in X.\n",
      "  estimator.fit(img)\n",
      "<ipython-input-48-a5bbea6ed560>:58: ConvergenceWarning: Number of distinct clusters (1) found smaller than n_clusters (6). Possibly due to duplicate points in X.\n",
      "  estimator.fit(img)\n"
     ]
    },
    {
     "name": "stdout",
     "output_type": "stream",
     "text": [
      "images/Rage For Coverage Light Medium Warm Undertone 24Hr Foundation 27 Vienna 25 ml-27 Vienna.jpg\n",
      "images/Rage For Coverage Light Medium Warm Undertone 24Hr Foundation 27 Vienna 25 ml-55 Americano.jpg\n"
     ]
    },
    {
     "name": "stderr",
     "output_type": "stream",
     "text": [
      "<ipython-input-48-a5bbea6ed560>:58: ConvergenceWarning: Number of distinct clusters (2) found smaller than n_clusters (6). Possibly due to duplicate points in X.\n",
      "  estimator.fit(img)\n",
      "<ipython-input-48-a5bbea6ed560>:58: ConvergenceWarning: Number of distinct clusters (2) found smaller than n_clusters (6). Possibly due to duplicate points in X.\n",
      "  estimator.fit(img)\n"
     ]
    },
    {
     "name": "stdout",
     "output_type": "stream",
     "text": [
      "images/Rage For Coverage Light Medium Warm Undertone 24Hr Foundation 27 Vienna 25 ml-07 Vanilla Latte.jpg\n",
      "images/Rage For Coverage Light Medium Warm Undertone 24Hr Foundation 27 Vienna 25 ml-20 Galao.jpg\n"
     ]
    },
    {
     "name": "stderr",
     "output_type": "stream",
     "text": [
      "<ipython-input-48-a5bbea6ed560>:58: ConvergenceWarning: Number of distinct clusters (2) found smaller than n_clusters (6). Possibly due to duplicate points in X.\n",
      "  estimator.fit(img)\n",
      "<ipython-input-48-a5bbea6ed560>:58: ConvergenceWarning: Number of distinct clusters (2) found smaller than n_clusters (6). Possibly due to duplicate points in X.\n",
      "  estimator.fit(img)\n",
      "<ipython-input-48-a5bbea6ed560>:58: ConvergenceWarning: Number of distinct clusters (2) found smaller than n_clusters (6). Possibly due to duplicate points in X.\n",
      "  estimator.fit(img)\n",
      "<ipython-input-48-a5bbea6ed560>:58: ConvergenceWarning: Number of distinct clusters (2) found smaller than n_clusters (6). Possibly due to duplicate points in X.\n",
      "  estimator.fit(img)\n"
     ]
    },
    {
     "name": "stdout",
     "output_type": "stream",
     "text": [
      "images/Rage For Coverage Light Medium Warm Undertone 24Hr Foundation 27 Vienna 25 ml-48 Irish.jpg\n",
      "images/Rage For Coverage Light Medium Warm Undertone 24Hr Foundation 27 Vienna 25 ml-40 Breve.jpg\n",
      "images/Rage For Coverage Light Medium Warm Undertone 24Hr Foundation 27 Vienna 25 ml-10 Latte.jpg\n",
      "images/Rage For Coverage Light Medium Warm Undertone 24Hr Foundation 27 Vienna 25 ml-35 Frappe.jpg\n"
     ]
    },
    {
     "name": "stderr",
     "output_type": "stream",
     "text": [
      "<ipython-input-48-a5bbea6ed560>:58: ConvergenceWarning: Number of distinct clusters (2) found smaller than n_clusters (6). Possibly due to duplicate points in X.\n",
      "  estimator.fit(img)\n",
      "<ipython-input-48-a5bbea6ed560>:58: ConvergenceWarning: Number of distinct clusters (2) found smaller than n_clusters (6). Possibly due to duplicate points in X.\n",
      "  estimator.fit(img)\n"
     ]
    },
    {
     "name": "stdout",
     "output_type": "stream",
     "text": [
      "images/Rage For Coverage Light Medium Warm Undertone 24Hr Foundation 27 Vienna 25 ml-32 Cortado.jpg\n",
      "images/Mini Skin Long Wear Weightless Foundation SPF 15 - Natural Tan-Porcelain.jpg\n",
      "images/Mini Skin Long Wear Weightless Foundation SPF 15 - Natural Tan-Honey.jpg\n",
      "images/Mini Skin Long Wear Weightless Foundation SPF 15 - Natural Tan-Natural Tan.jpg\n",
      "images/Mini Skin Long Wear Weightless Foundation SPF 15 - Natural Tan-Golden Natural.jpg\n",
      "images/Mini Skin Long Wear Weightless Foundation SPF 15 - Natural Tan-Warm Beige.jpg\n",
      "images/Mini Skin Long Wear Weightless Foundation SPF 15 - Natural Tan-Warm Natural.jpg\n",
      "images/Mini Skin Long Wear Weightless Foundation SPF 15 - Natural Tan-Golden.jpg\n",
      "images/Mini Skin Long Wear Weightless Foundation SPF 15 - Natural Tan-Natural.jpg\n",
      "images/Rage For Coverage Light Golden Undertone 24Hr Foundation 17 Raf 25ml-17 Raf.jpg\n"
     ]
    },
    {
     "name": "stderr",
     "output_type": "stream",
     "text": [
      "<ipython-input-48-a5bbea6ed560>:58: ConvergenceWarning: Number of distinct clusters (2) found smaller than n_clusters (6). Possibly due to duplicate points in X.\n",
      "  estimator.fit(img)\n",
      "<ipython-input-48-a5bbea6ed560>:58: ConvergenceWarning: Number of distinct clusters (2) found smaller than n_clusters (6). Possibly due to duplicate points in X.\n",
      "  estimator.fit(img)\n",
      "<ipython-input-48-a5bbea6ed560>:58: ConvergenceWarning: Number of distinct clusters (2) found smaller than n_clusters (6). Possibly due to duplicate points in X.\n",
      "  estimator.fit(img)\n",
      "<ipython-input-48-a5bbea6ed560>:58: ConvergenceWarning: Number of distinct clusters (2) found smaller than n_clusters (6). Possibly due to duplicate points in X.\n",
      "  estimator.fit(img)\n"
     ]
    },
    {
     "name": "stdout",
     "output_type": "stream",
     "text": [
      "images/Rage For Coverage Light Golden Undertone 24Hr Foundation 17 Raf 25ml-52 Corretto.jpg\n",
      "images/Rage For Coverage Light Golden Undertone 24Hr Foundation 17 Raf 25ml-15 Cappuccino.jpg\n",
      "images/Rage For Coverage Light Golden Undertone 24Hr Foundation 17 Raf 25ml-42 Glace.jpg\n",
      "images/Rage For Coverage Light Golden Undertone 24Hr Foundation 17 Raf 25ml-37 Freddo.jpg\n"
     ]
    },
    {
     "name": "stderr",
     "output_type": "stream",
     "text": [
      "<ipython-input-48-a5bbea6ed560>:58: ConvergenceWarning: Number of distinct clusters (2) found smaller than n_clusters (6). Possibly due to duplicate points in X.\n",
      "  estimator.fit(img)\n",
      "<ipython-input-48-a5bbea6ed560>:58: ConvergenceWarning: Number of distinct clusters (1) found smaller than n_clusters (6). Possibly due to duplicate points in X.\n",
      "  estimator.fit(img)\n"
     ]
    },
    {
     "name": "stdout",
     "output_type": "stream",
     "text": [
      "images/Rage For Coverage Light Golden Undertone 24Hr Foundation 17 Raf 25ml-27 Vienna.jpg\n",
      "images/Rage For Coverage Light Golden Undertone 24Hr Foundation 17 Raf 25ml-55 Americano.jpg\n"
     ]
    },
    {
     "name": "stderr",
     "output_type": "stream",
     "text": [
      "<ipython-input-48-a5bbea6ed560>:58: ConvergenceWarning: Number of distinct clusters (2) found smaller than n_clusters (6). Possibly due to duplicate points in X.\n",
      "  estimator.fit(img)\n",
      "<ipython-input-48-a5bbea6ed560>:58: ConvergenceWarning: Number of distinct clusters (2) found smaller than n_clusters (6). Possibly due to duplicate points in X.\n",
      "  estimator.fit(img)\n"
     ]
    },
    {
     "name": "stdout",
     "output_type": "stream",
     "text": [
      "images/Rage For Coverage Light Golden Undertone 24Hr Foundation 17 Raf 25ml-07 Vanilla Latte.jpg\n",
      "images/Rage For Coverage Light Golden Undertone 24Hr Foundation 17 Raf 25ml-20 Galao.jpg\n"
     ]
    },
    {
     "name": "stderr",
     "output_type": "stream",
     "text": [
      "<ipython-input-48-a5bbea6ed560>:58: ConvergenceWarning: Number of distinct clusters (2) found smaller than n_clusters (6). Possibly due to duplicate points in X.\n",
      "  estimator.fit(img)\n",
      "<ipython-input-48-a5bbea6ed560>:58: ConvergenceWarning: Number of distinct clusters (2) found smaller than n_clusters (6). Possibly due to duplicate points in X.\n",
      "  estimator.fit(img)\n",
      "<ipython-input-48-a5bbea6ed560>:58: ConvergenceWarning: Number of distinct clusters (2) found smaller than n_clusters (6). Possibly due to duplicate points in X.\n",
      "  estimator.fit(img)\n"
     ]
    },
    {
     "name": "stdout",
     "output_type": "stream",
     "text": [
      "images/Rage For Coverage Light Golden Undertone 24Hr Foundation 17 Raf 25ml-48 Irish.jpg\n",
      "images/Rage For Coverage Light Golden Undertone 24Hr Foundation 17 Raf 25ml-40 Breve.jpg\n",
      "images/Rage For Coverage Light Golden Undertone 24Hr Foundation 17 Raf 25ml-10 Latte.jpg\n"
     ]
    },
    {
     "name": "stderr",
     "output_type": "stream",
     "text": [
      "<ipython-input-48-a5bbea6ed560>:58: ConvergenceWarning: Number of distinct clusters (2) found smaller than n_clusters (6). Possibly due to duplicate points in X.\n",
      "  estimator.fit(img)\n",
      "<ipython-input-48-a5bbea6ed560>:58: ConvergenceWarning: Number of distinct clusters (2) found smaller than n_clusters (6). Possibly due to duplicate points in X.\n",
      "  estimator.fit(img)\n",
      "<ipython-input-48-a5bbea6ed560>:58: ConvergenceWarning: Number of distinct clusters (2) found smaller than n_clusters (6). Possibly due to duplicate points in X.\n",
      "  estimator.fit(img)\n"
     ]
    },
    {
     "name": "stdout",
     "output_type": "stream",
     "text": [
      "images/Rage For Coverage Light Golden Undertone 24Hr Foundation 17 Raf 25ml-35 Frappe.jpg\n",
      "images/Rage For Coverage Light Golden Undertone 24Hr Foundation 17 Raf 25ml-32 Cortado.jpg\n",
      "images/Women 1.5 HD Liquid Foundation 30 ml-2.3.jpg\n",
      "images/Women 1.5 HD Liquid Foundation 30 ml-1.5.jpg\n",
      "images/Women 1.5 HD Liquid Foundation 30 ml-3.1.jpg\n",
      "images/Women 1.5 HD Liquid Foundation 30 ml-3.jpg\n",
      "images/Women 1.5 HD Liquid Foundation 30 ml-3.3.jpg\n",
      "images/Cashew No.101 Brightening Smoothening Foundation Wet & Dry 15 g-Cashew.jpg\n",
      "images/Cashew No.101 Brightening Smoothening Foundation Wet & Dry 15 g-Walnut 103.jpg\n",
      "images/Cashew No.101 Brightening Smoothening Foundation Wet & Dry 15 g-Beige.jpg\n",
      "images/Sustainable Photo Focus Stick Foundation - Cream Beige 12g-Cream Beige.jpg\n"
     ]
    },
    {
     "name": "stderr",
     "output_type": "stream",
     "text": [
      "<ipython-input-48-a5bbea6ed560>:58: ConvergenceWarning: Number of distinct clusters (2) found smaller than n_clusters (6). Possibly due to duplicate points in X.\n",
      "  estimator.fit(img)\n",
      "<ipython-input-48-a5bbea6ed560>:58: ConvergenceWarning: Number of distinct clusters (2) found smaller than n_clusters (6). Possibly due to duplicate points in X.\n",
      "  estimator.fit(img)\n",
      "<ipython-input-48-a5bbea6ed560>:58: ConvergenceWarning: Number of distinct clusters (1) found smaller than n_clusters (6). Possibly due to duplicate points in X.\n",
      "  estimator.fit(img)\n",
      "<ipython-input-48-a5bbea6ed560>:58: ConvergenceWarning: Number of distinct clusters (1) found smaller than n_clusters (6). Possibly due to duplicate points in X.\n",
      "  estimator.fit(img)\n",
      "<ipython-input-48-a5bbea6ed560>:58: ConvergenceWarning: Number of distinct clusters (1) found smaller than n_clusters (6). Possibly due to duplicate points in X.\n",
      "  estimator.fit(img)\n"
     ]
    },
    {
     "name": "stdout",
     "output_type": "stream",
     "text": [
      "images/Sustainable Photo Focus Stick Foundation - Cream Beige 12g-Golden Honey.jpg\n",
      "images/Absolute 3D Cover SPF 30 Foundation- Cool Cinnamon C300-Neutral Honey.jpg\n",
      "images/Absolute 3D Cover SPF 30 Foundation- Cool Cinnamon C300-Cool Walnut.jpg\n",
      "images/Absolute 3D Cover SPF 30 Foundation- Cool Cinnamon C300-Cool Cinnamon.jpg\n",
      "images/Women Beige 24Hrs Weightless Liquid Foundation-FW 2.1 25 ml-Fw 1.4.jpg\n",
      "images/Women Beige 24Hrs Weightless Liquid Foundation-FW 2.1 25 ml-Beige.jpg\n",
      "images/Women Beige 24Hrs Weightless Liquid Foundation-FW 2.1 25 ml-Fw 6.4.jpg\n",
      "images/Women Beige 24Hrs Weightless Liquid Foundation-FW 2.1 25 ml-Warm Beige.jpg\n",
      "images/Ultime Pro Sun Defense CC Cream Luxe SPF 50 Natural 02 30ml-Natural 02.jpg\n",
      "images/Ultime Pro Sun Defense CC Cream Luxe SPF 50 Natural 02 30ml-Beige.jpg\n",
      "images/Ultime Pro Sun Defense CC Cream Luxe SPF 50 Natural 02 30ml-Sand 03.jpg\n",
      "images/Ultime Pro Hd Runway Ready Foundation Sand 04 30ml-Sand 04.jpg\n"
     ]
    },
    {
     "name": "stderr",
     "output_type": "stream",
     "text": [
      "<ipython-input-48-a5bbea6ed560>:58: ConvergenceWarning: Number of distinct clusters (5) found smaller than n_clusters (6). Possibly due to duplicate points in X.\n",
      "  estimator.fit(img)\n",
      "<ipython-input-48-a5bbea6ed560>:58: ConvergenceWarning: Number of distinct clusters (5) found smaller than n_clusters (6). Possibly due to duplicate points in X.\n",
      "  estimator.fit(img)\n",
      "<ipython-input-48-a5bbea6ed560>:58: ConvergenceWarning: Number of distinct clusters (2) found smaller than n_clusters (6). Possibly due to duplicate points in X.\n",
      "  estimator.fit(img)\n"
     ]
    },
    {
     "name": "stdout",
     "output_type": "stream",
     "text": [
      "images/Ultime Pro Hd Runway Ready Foundation Sand 04 30ml-Beige.jpg\n",
      "images/Ultime Pro Hd Runway Ready Foundation Sand 04 30ml-Beige 03.jpg\n",
      "images/Ultime Pro Hd Runway Ready Foundation Sand 04 30ml-Ivory 01.jpg\n",
      "images/Ultime Pro Hd Runway Ready Foundation Sand 04 30ml-Almond Beige 06.jpg\n"
     ]
    },
    {
     "name": "stderr",
     "output_type": "stream",
     "text": [
      "<ipython-input-48-a5bbea6ed560>:58: ConvergenceWarning: Number of distinct clusters (2) found smaller than n_clusters (6). Possibly due to duplicate points in X.\n",
      "  estimator.fit(img)\n",
      "<ipython-input-48-a5bbea6ed560>:58: ConvergenceWarning: Number of distinct clusters (1) found smaller than n_clusters (6). Possibly due to duplicate points in X.\n",
      "  estimator.fit(img)\n",
      "<ipython-input-48-a5bbea6ed560>:58: ConvergenceWarning: Number of distinct clusters (5) found smaller than n_clusters (6). Possibly due to duplicate points in X.\n",
      "  estimator.fit(img)\n",
      "<ipython-input-48-a5bbea6ed560>:58: ConvergenceWarning: Number of distinct clusters (2) found smaller than n_clusters (6). Possibly due to duplicate points in X.\n",
      "  estimator.fit(img)\n"
     ]
    },
    {
     "name": "stdout",
     "output_type": "stream",
     "text": [
      "images/Paris True Match Super Blendable Liquid Foundation - Golden Cappuccino D8W8 30 ml-Golden Cappuccino.jpg\n",
      "images/Paris True Match Super Blendable Liquid Foundation - Golden Cappuccino D8W8 30 ml-Golden Sand.jpg\n",
      "images/Paris True Match Super Blendable Liquid Foundation - Golden Cappuccino D8W8 30 ml-Honey.jpg\n",
      "images/Paris True Match Super Blendable Liquid Foundation - Golden Cappuccino D8W8 30 ml-Skincare.jpg\n"
     ]
    },
    {
     "name": "stderr",
     "output_type": "stream",
     "text": [
      "<ipython-input-48-a5bbea6ed560>:58: ConvergenceWarning: Number of distinct clusters (2) found smaller than n_clusters (6). Possibly due to duplicate points in X.\n",
      "  estimator.fit(img)\n",
      "<ipython-input-48-a5bbea6ed560>:58: ConvergenceWarning: Number of distinct clusters (1) found smaller than n_clusters (6). Possibly due to duplicate points in X.\n",
      "  estimator.fit(img)\n"
     ]
    },
    {
     "name": "stdout",
     "output_type": "stream",
     "text": [
      "images/Paris True Match Super Blendable Liquid Foundation - Golden Cappuccino D8W8 30 ml-Golden Amber.jpg\n",
      "images/Paris True Match Super Blendable Liquid Foundation - Golden Cappuccino D8W8 30 ml-Riche Sepia.jpg\n",
      "images/Beige 24Hrs Weightless Liquid Foundation FW 2.3 25 ml-Fw 1.4.jpg\n",
      "images/Beige 24Hrs Weightless Liquid Foundation FW 2.3 25 ml-Beige.jpg\n",
      "images/Beige 24Hrs Weightless Liquid Foundation FW 2.3 25 ml-Fw 6.4.jpg\n",
      "images/Beige 24Hrs Weightless Liquid Foundation FW 2.3 25 ml-Warm Beige.jpg\n",
      "images/Absolute 3D Cover Foundation - Neutral Medium 15 ml-Neutral Honey.jpg\n",
      "images/Absolute 3D Cover Foundation - Neutral Medium 15 ml-Cool Walnut.jpg\n",
      "images/Absolute 3D Cover Foundation - Neutral Medium 15 ml-Cool Cinnamon.jpg\n",
      "images/Rage For Coverage Light Cool Undertone 24Hr Foundation 15 Cappuccino 25 ml-17 Raf.jpg\n",
      "images/Rage For Coverage Light Cool Undertone 24Hr Foundation 15 Cappuccino 25 ml-52 Corretto.jpg\n",
      "images/Rage For Coverage Light Cool Undertone 24Hr Foundation 15 Cappuccino 25 ml-15 Cappuccino.jpg\n",
      "images/Rage For Coverage Light Cool Undertone 24Hr Foundation 15 Cappuccino 25 ml-42 Glace.jpg\n"
     ]
    },
    {
     "name": "stderr",
     "output_type": "stream",
     "text": [
      "<ipython-input-48-a5bbea6ed560>:58: ConvergenceWarning: Number of distinct clusters (2) found smaller than n_clusters (6). Possibly due to duplicate points in X.\n",
      "  estimator.fit(img)\n",
      "<ipython-input-48-a5bbea6ed560>:58: ConvergenceWarning: Number of distinct clusters (2) found smaller than n_clusters (6). Possibly due to duplicate points in X.\n",
      "  estimator.fit(img)\n",
      "<ipython-input-48-a5bbea6ed560>:58: ConvergenceWarning: Number of distinct clusters (2) found smaller than n_clusters (6). Possibly due to duplicate points in X.\n",
      "  estimator.fit(img)\n",
      "<ipython-input-48-a5bbea6ed560>:58: ConvergenceWarning: Number of distinct clusters (2) found smaller than n_clusters (6). Possibly due to duplicate points in X.\n",
      "  estimator.fit(img)\n"
     ]
    },
    {
     "name": "stdout",
     "output_type": "stream",
     "text": [
      "images/Rage For Coverage Light Cool Undertone 24Hr Foundation 15 Cappuccino 25 ml-37 Freddo.jpg\n"
     ]
    },
    {
     "name": "stderr",
     "output_type": "stream",
     "text": [
      "<ipython-input-48-a5bbea6ed560>:58: ConvergenceWarning: Number of distinct clusters (2) found smaller than n_clusters (6). Possibly due to duplicate points in X.\n",
      "  estimator.fit(img)\n",
      "<ipython-input-48-a5bbea6ed560>:58: ConvergenceWarning: Number of distinct clusters (1) found smaller than n_clusters (6). Possibly due to duplicate points in X.\n",
      "  estimator.fit(img)\n"
     ]
    },
    {
     "name": "stdout",
     "output_type": "stream",
     "text": [
      "images/Rage For Coverage Light Cool Undertone 24Hr Foundation 15 Cappuccino 25 ml-27 Vienna.jpg\n",
      "images/Rage For Coverage Light Cool Undertone 24Hr Foundation 15 Cappuccino 25 ml-55 Americano.jpg\n"
     ]
    },
    {
     "name": "stderr",
     "output_type": "stream",
     "text": [
      "<ipython-input-48-a5bbea6ed560>:58: ConvergenceWarning: Number of distinct clusters (2) found smaller than n_clusters (6). Possibly due to duplicate points in X.\n",
      "  estimator.fit(img)\n",
      "<ipython-input-48-a5bbea6ed560>:58: ConvergenceWarning: Number of distinct clusters (2) found smaller than n_clusters (6). Possibly due to duplicate points in X.\n",
      "  estimator.fit(img)\n"
     ]
    },
    {
     "name": "stdout",
     "output_type": "stream",
     "text": [
      "images/Rage For Coverage Light Cool Undertone 24Hr Foundation 15 Cappuccino 25 ml-07 Vanilla Latte.jpg\n",
      "images/Rage For Coverage Light Cool Undertone 24Hr Foundation 15 Cappuccino 25 ml-20 Galao.jpg\n"
     ]
    },
    {
     "name": "stderr",
     "output_type": "stream",
     "text": [
      "<ipython-input-48-a5bbea6ed560>:58: ConvergenceWarning: Number of distinct clusters (2) found smaller than n_clusters (6). Possibly due to duplicate points in X.\n",
      "  estimator.fit(img)\n",
      "<ipython-input-48-a5bbea6ed560>:58: ConvergenceWarning: Number of distinct clusters (2) found smaller than n_clusters (6). Possibly due to duplicate points in X.\n",
      "  estimator.fit(img)\n",
      "<ipython-input-48-a5bbea6ed560>:58: ConvergenceWarning: Number of distinct clusters (2) found smaller than n_clusters (6). Possibly due to duplicate points in X.\n",
      "  estimator.fit(img)\n",
      "<ipython-input-48-a5bbea6ed560>:58: ConvergenceWarning: Number of distinct clusters (2) found smaller than n_clusters (6). Possibly due to duplicate points in X.\n",
      "  estimator.fit(img)\n",
      "<ipython-input-48-a5bbea6ed560>:58: ConvergenceWarning: Number of distinct clusters (2) found smaller than n_clusters (6). Possibly due to duplicate points in X.\n",
      "  estimator.fit(img)\n"
     ]
    },
    {
     "name": "stdout",
     "output_type": "stream",
     "text": [
      "images/Rage For Coverage Light Cool Undertone 24Hr Foundation 15 Cappuccino 25 ml-48 Irish.jpg\n",
      "images/Rage For Coverage Light Cool Undertone 24Hr Foundation 15 Cappuccino 25 ml-40 Breve.jpg\n",
      "images/Rage For Coverage Light Cool Undertone 24Hr Foundation 15 Cappuccino 25 ml-10 Latte.jpg\n",
      "images/Rage For Coverage Light Cool Undertone 24Hr Foundation 15 Cappuccino 25 ml-35 Frappe.jpg\n",
      "images/Rage For Coverage Light Cool Undertone 24Hr Foundation 15 Cappuccino 25 ml-32 Cortado.jpg\n"
     ]
    },
    {
     "name": "stderr",
     "output_type": "stream",
     "text": [
      "<ipython-input-48-a5bbea6ed560>:58: ConvergenceWarning: Number of distinct clusters (2) found smaller than n_clusters (6). Possibly due to duplicate points in X.\n",
      "  estimator.fit(img)\n"
     ]
    },
    {
     "name": "stdout",
     "output_type": "stream",
     "text": [
      "images/Detox And Protect Foundation 03- Medium Beige 35 ml-Sunny.jpg\n"
     ]
    },
    {
     "name": "stderr",
     "output_type": "stream",
     "text": [
      "<ipython-input-48-a5bbea6ed560>:58: ConvergenceWarning: Number of distinct clusters (2) found smaller than n_clusters (6). Possibly due to duplicate points in X.\n",
      "  estimator.fit(img)\n"
     ]
    },
    {
     "name": "stdout",
     "output_type": "stream",
     "text": [
      "images/Detox And Protect Foundation 03- Medium Beige 35 ml-Rich Cocoa.jpg\n",
      "images/Detox And Protect Foundation 03- Medium Beige 35 ml-Toffee.jpg\n"
     ]
    },
    {
     "name": "stderr",
     "output_type": "stream",
     "text": [
      "<ipython-input-48-a5bbea6ed560>:58: ConvergenceWarning: Number of distinct clusters (2) found smaller than n_clusters (6). Possibly due to duplicate points in X.\n",
      "  estimator.fit(img)\n",
      "<ipython-input-48-a5bbea6ed560>:58: ConvergenceWarning: Number of distinct clusters (2) found smaller than n_clusters (6). Possibly due to duplicate points in X.\n",
      "  estimator.fit(img)\n"
     ]
    },
    {
     "name": "stdout",
     "output_type": "stream",
     "text": [
      "images/Detox And Protect Foundation 03- Medium Beige 35 ml-7.jpg\n"
     ]
    },
    {
     "name": "stderr",
     "output_type": "stream",
     "text": [
      "<ipython-input-48-a5bbea6ed560>:58: ConvergenceWarning: Number of distinct clusters (2) found smaller than n_clusters (6). Possibly due to duplicate points in X.\n",
      "  estimator.fit(img)\n",
      "<ipython-input-48-a5bbea6ed560>:58: ConvergenceWarning: Number of distinct clusters (1) found smaller than n_clusters (6). Possibly due to duplicate points in X.\n",
      "  estimator.fit(img)\n",
      "<ipython-input-48-a5bbea6ed560>:58: ConvergenceWarning: Number of distinct clusters (2) found smaller than n_clusters (6). Possibly due to duplicate points in X.\n",
      "  estimator.fit(img)\n"
     ]
    },
    {
     "name": "stdout",
     "output_type": "stream",
     "text": [
      "images/Detox And Protect Foundation 03- Medium Beige 35 ml-Warm Sand.jpg\n",
      "images/Detox And Protect Foundation 03- Medium Beige 35 ml-Medium Beige.jpg\n",
      "images/Detox And Protect Foundation 03- Medium Beige 35 ml-Sand.jpg\n"
     ]
    },
    {
     "name": "stderr",
     "output_type": "stream",
     "text": [
      "<ipython-input-48-a5bbea6ed560>:58: ConvergenceWarning: Number of distinct clusters (2) found smaller than n_clusters (6). Possibly due to duplicate points in X.\n",
      "  estimator.fit(img)\n"
     ]
    },
    {
     "name": "stdout",
     "output_type": "stream",
     "text": [
      "images/Detox And Protect Foundation 03- Medium Beige 35 ml-Dark Honey.jpg\n"
     ]
    },
    {
     "name": "stderr",
     "output_type": "stream",
     "text": [
      "<ipython-input-48-a5bbea6ed560>:58: ConvergenceWarning: Number of distinct clusters (2) found smaller than n_clusters (6). Possibly due to duplicate points in X.\n",
      "  estimator.fit(img)\n"
     ]
    },
    {
     "name": "stdout",
     "output_type": "stream",
     "text": [
      "images/Detox And Protect Foundation 03- Medium Beige 35 ml-Honey Beige.jpg\n"
     ]
    },
    {
     "name": "stderr",
     "output_type": "stream",
     "text": [
      "<ipython-input-48-a5bbea6ed560>:58: ConvergenceWarning: Number of distinct clusters (2) found smaller than n_clusters (6). Possibly due to duplicate points in X.\n",
      "  estimator.fit(img)\n"
     ]
    },
    {
     "name": "stdout",
     "output_type": "stream",
     "text": [
      "images/Detox And Protect Foundation 03- Medium Beige 35 ml-Warm Beige.jpg\n"
     ]
    },
    {
     "name": "stderr",
     "output_type": "stream",
     "text": [
      "<ipython-input-48-a5bbea6ed560>:58: ConvergenceWarning: Number of distinct clusters (1) found smaller than n_clusters (6). Possibly due to duplicate points in X.\n",
      "  estimator.fit(img)\n"
     ]
    },
    {
     "name": "stdout",
     "output_type": "stream",
     "text": [
      "images/Detox And Protect Foundation 03- Medium Beige 35 ml-Silky Brown.jpg\n"
     ]
    },
    {
     "name": "stderr",
     "output_type": "stream",
     "text": [
      "<ipython-input-48-a5bbea6ed560>:58: ConvergenceWarning: Number of distinct clusters (2) found smaller than n_clusters (6). Possibly due to duplicate points in X.\n",
      "  estimator.fit(img)\n"
     ]
    },
    {
     "name": "stdout",
     "output_type": "stream",
     "text": [
      "images/Double Wear Stay-In-Place Liquid Foundation SPF 10 - Toasty Toffee 4W2 30ml-Shell.jpg\n",
      "images/Double Wear Stay-In-Place Liquid Foundation SPF 10 - Toasty Toffee 4W2 30ml-Mustard.jpg\n",
      "images/Double Wear Stay-In-Place Liquid Foundation SPF 10 - Toasty Toffee 4W2 30ml-1W2 Sand.jpg\n",
      "images/Double Wear Stay-In-Place Liquid Foundation SPF 10 - Toasty Toffee 4W2 30ml-3W1 Tawny.jpg\n",
      "images/Double Wear Stay-In-Place Liquid Foundation SPF 10 - Toasty Toffee 4W2 30ml-Tawny.jpg\n",
      "images/Double Wear Stay-In-Place Liquid Foundation SPF 10 - Toasty Toffee 4W2 30ml-Cinnamon.jpg\n",
      "images/Double Wear Stay-In-Place Liquid Foundation SPF 10 - Toasty Toffee 4W2 30ml-Buff.jpg\n",
      "images/Double Wear Stay-In-Place Liquid Foundation SPF 10 - Toasty Toffee 4W2 30ml-Honey Bronze.jpg\n",
      "images/Double Wear Stay-In-Place Liquid Foundation SPF 10 - Toasty Toffee 4W2 30ml-3W2 Cashew.jpg\n",
      "images/Double Wear Stay-In-Place Liquid Foundation SPF 10 - Toasty Toffee 4W2 30ml-2W2 Rattan.jpg\n",
      "images/Double Wear Stay-In-Place Liquid Foundation SPF 10 - Toasty Toffee 4W2 30ml-Rattan.jpg\n",
      "images/Double Wear Stay-In-Place Liquid Foundation SPF 10 - Toasty Toffee 4W2 30ml-Warm Porcelain.jpg\n",
      "images/Double Wear Stay-In-Place Liquid Foundation SPF 10 - Toasty Toffee 4W2 30ml-Porcelain.jpg\n",
      "images/Double Wear Stay-In-Place Liquid Foundation SPF 10 - Toasty Toffee 4W2 30ml-Sand.jpg\n",
      "images/Double Wear Stay-In-Place Liquid Foundation SPF 10 - Toasty Toffee 4W2 30ml-Spiced Sand.jpg\n",
      "images/Double Wear Stay-In-Place Liquid Foundation SPF 10 - Toasty Toffee 4W2 30ml-Ivory Nude.jpg\n",
      "images/Double Wear Stay-In-Place Liquid Foundation SPF 10 - Toasty Toffee 4W2 30ml-Alabaster.jpg\n",
      "images/Double Wear Stay-In-Place Liquid Foundation SPF 10 - Toasty Toffee 4W2 30ml-Bone.jpg\n",
      "images/Double Wear Stay-In-Place Liquid Foundation SPF 10 - Toasty Toffee 4W2 30ml-Ivory Beige.jpg\n",
      "images/Double Wear Stay-In-Place Liquid Foundation SPF 10 - Toasty Toffee 4W2 30ml-Toasty Toffee.jpg\n",
      "images/Double Wear Stay-In-Place Liquid Foundation SPF 10 - Toasty Toffee 4W2 30ml-NA.jpg\n",
      "images/Paris Infallible 24H Matte Cover Liquid Foundation-255 Natural Sand-Natural Sand.jpg\n",
      "images/Paris Infallible 24H Matte Cover Liquid Foundation-255 Natural Sand-Natural Rose 125.jpg\n",
      "images/Paris True Match Liquid Foundation - N4 Beige 30ml-Rich Caramel.jpg\n",
      "images/Paris True Match Liquid Foundation - N4 Beige 30ml-Golden Beige.jpg\n"
     ]
    },
    {
     "name": "stderr",
     "output_type": "stream",
     "text": [
      "<ipython-input-48-a5bbea6ed560>:58: ConvergenceWarning: Number of distinct clusters (2) found smaller than n_clusters (6). Possibly due to duplicate points in X.\n",
      "  estimator.fit(img)\n",
      "<ipython-input-48-a5bbea6ed560>:58: ConvergenceWarning: Number of distinct clusters (2) found smaller than n_clusters (6). Possibly due to duplicate points in X.\n",
      "  estimator.fit(img)\n"
     ]
    },
    {
     "name": "stdout",
     "output_type": "stream",
     "text": [
      "images/Paris True Match Liquid Foundation - N4 Beige 30ml-Creamy Beige N4.jpg\n"
     ]
    },
    {
     "name": "stderr",
     "output_type": "stream",
     "text": [
      "<ipython-input-48-a5bbea6ed560>:58: ConvergenceWarning: Number of distinct clusters (2) found smaller than n_clusters (6). Possibly due to duplicate points in X.\n",
      "  estimator.fit(img)\n",
      "<ipython-input-48-a5bbea6ed560>:58: ConvergenceWarning: Number of distinct clusters (2) found smaller than n_clusters (6). Possibly due to duplicate points in X.\n",
      "  estimator.fit(img)\n"
     ]
    },
    {
     "name": "stdout",
     "output_type": "stream",
     "text": [
      "images/Paris True Match Liquid Foundation - N4 Beige 30ml-Ivory.jpg\n",
      "images/Soft Touch Mousse Make-Up - 02 Matt Beige-4.jpg\n",
      "images/Soft Touch Mousse Make-Up - 02 Matt Beige-02 Matt Beige.jpg\n",
      "images/Double Wear Stay-in-Place Makeup SPF 10 Foundation - Bone 30 ml-Shell.jpg\n",
      "images/Double Wear Stay-in-Place Makeup SPF 10 Foundation - Bone 30 ml-Mustard.jpg\n",
      "images/Double Wear Stay-in-Place Makeup SPF 10 Foundation - Bone 30 ml-1W2 Sand.jpg\n",
      "images/Double Wear Stay-in-Place Makeup SPF 10 Foundation - Bone 30 ml-3W1 Tawny.jpg\n",
      "images/Double Wear Stay-in-Place Makeup SPF 10 Foundation - Bone 30 ml-Tawny.jpg\n",
      "images/Double Wear Stay-in-Place Makeup SPF 10 Foundation - Bone 30 ml-Cinnamon.jpg\n",
      "images/Double Wear Stay-in-Place Makeup SPF 10 Foundation - Bone 30 ml-Buff.jpg\n",
      "images/Double Wear Stay-in-Place Makeup SPF 10 Foundation - Bone 30 ml-Honey Bronze.jpg\n",
      "images/Double Wear Stay-in-Place Makeup SPF 10 Foundation - Bone 30 ml-3W2 Cashew.jpg\n",
      "images/Double Wear Stay-in-Place Makeup SPF 10 Foundation - Bone 30 ml-2W2 Rattan.jpg\n",
      "images/Double Wear Stay-in-Place Makeup SPF 10 Foundation - Bone 30 ml-Rattan.jpg\n",
      "images/Double Wear Stay-in-Place Makeup SPF 10 Foundation - Bone 30 ml-Warm Porcelain.jpg\n",
      "images/Double Wear Stay-in-Place Makeup SPF 10 Foundation - Bone 30 ml-Porcelain.jpg\n",
      "images/Double Wear Stay-in-Place Makeup SPF 10 Foundation - Bone 30 ml-Sand.jpg\n",
      "images/Double Wear Stay-in-Place Makeup SPF 10 Foundation - Bone 30 ml-Spiced Sand.jpg\n",
      "images/Double Wear Stay-in-Place Makeup SPF 10 Foundation - Bone 30 ml-Ivory Nude.jpg\n",
      "images/Double Wear Stay-in-Place Makeup SPF 10 Foundation - Bone 30 ml-Alabaster.jpg\n",
      "images/Double Wear Stay-in-Place Makeup SPF 10 Foundation - Bone 30 ml-Bone.jpg\n",
      "images/Double Wear Stay-in-Place Makeup SPF 10 Foundation - Bone 30 ml-Ivory Beige.jpg\n",
      "images/Double Wear Stay-in-Place Makeup SPF 10 Foundation - Bone 30 ml-Toasty Toffee.jpg\n",
      "images/Double Wear Stay-in-Place Makeup SPF 10 Foundation - Bone 30 ml-NA.jpg\n",
      "images/Double Wear Stay-In-Place Matte Powder Foundation - Buff 2N2 12g-Shell.jpg\n",
      "images/Double Wear Stay-In-Place Matte Powder Foundation - Buff 2N2 12g-Mustard.jpg\n",
      "images/Double Wear Stay-In-Place Matte Powder Foundation - Buff 2N2 12g-1W2 Sand.jpg\n",
      "images/Double Wear Stay-In-Place Matte Powder Foundation - Buff 2N2 12g-3W1 Tawny.jpg\n",
      "images/Double Wear Stay-In-Place Matte Powder Foundation - Buff 2N2 12g-Tawny.jpg\n",
      "images/Double Wear Stay-In-Place Matte Powder Foundation - Buff 2N2 12g-Cinnamon.jpg\n",
      "images/Double Wear Stay-In-Place Matte Powder Foundation - Buff 2N2 12g-Buff.jpg\n",
      "images/Double Wear Stay-In-Place Matte Powder Foundation - Buff 2N2 12g-Honey Bronze.jpg\n",
      "images/Double Wear Stay-In-Place Matte Powder Foundation - Buff 2N2 12g-3W2 Cashew.jpg\n",
      "images/Double Wear Stay-In-Place Matte Powder Foundation - Buff 2N2 12g-2W2 Rattan.jpg\n",
      "images/Double Wear Stay-In-Place Matte Powder Foundation - Buff 2N2 12g-Rattan.jpg\n",
      "images/Double Wear Stay-In-Place Matte Powder Foundation - Buff 2N2 12g-Warm Porcelain.jpg\n",
      "images/Double Wear Stay-In-Place Matte Powder Foundation - Buff 2N2 12g-Porcelain.jpg\n",
      "images/Double Wear Stay-In-Place Matte Powder Foundation - Buff 2N2 12g-Sand.jpg\n",
      "images/Double Wear Stay-In-Place Matte Powder Foundation - Buff 2N2 12g-Spiced Sand.jpg\n",
      "images/Double Wear Stay-In-Place Matte Powder Foundation - Buff 2N2 12g-Ivory Nude.jpg\n",
      "images/Double Wear Stay-In-Place Matte Powder Foundation - Buff 2N2 12g-Alabaster.jpg\n",
      "images/Double Wear Stay-In-Place Matte Powder Foundation - Buff 2N2 12g-Bone.jpg\n",
      "images/Double Wear Stay-In-Place Matte Powder Foundation - Buff 2N2 12g-Ivory Beige.jpg\n",
      "images/Double Wear Stay-In-Place Matte Powder Foundation - Buff 2N2 12g-Toasty Toffee.jpg\n",
      "images/Double Wear Stay-In-Place Matte Powder Foundation - Buff 2N2 12g-NA.jpg\n",
      "images/Double Wear Stay-in-Place Makeup Foundation with SPF 10 - Ivory Nude 30ml-Shell.jpg\n",
      "images/Double Wear Stay-in-Place Makeup Foundation with SPF 10 - Ivory Nude 30ml-Mustard.jpg\n",
      "images/Double Wear Stay-in-Place Makeup Foundation with SPF 10 - Ivory Nude 30ml-1W2 Sand.jpg\n",
      "images/Double Wear Stay-in-Place Makeup Foundation with SPF 10 - Ivory Nude 30ml-3W1 Tawny.jpg\n",
      "images/Double Wear Stay-in-Place Makeup Foundation with SPF 10 - Ivory Nude 30ml-Tawny.jpg\n",
      "images/Double Wear Stay-in-Place Makeup Foundation with SPF 10 - Ivory Nude 30ml-Cinnamon.jpg\n",
      "images/Double Wear Stay-in-Place Makeup Foundation with SPF 10 - Ivory Nude 30ml-Buff.jpg\n",
      "images/Double Wear Stay-in-Place Makeup Foundation with SPF 10 - Ivory Nude 30ml-Honey Bronze.jpg\n",
      "images/Double Wear Stay-in-Place Makeup Foundation with SPF 10 - Ivory Nude 30ml-3W2 Cashew.jpg\n",
      "images/Double Wear Stay-in-Place Makeup Foundation with SPF 10 - Ivory Nude 30ml-2W2 Rattan.jpg\n",
      "images/Double Wear Stay-in-Place Makeup Foundation with SPF 10 - Ivory Nude 30ml-Rattan.jpg\n",
      "images/Double Wear Stay-in-Place Makeup Foundation with SPF 10 - Ivory Nude 30ml-Warm Porcelain.jpg\n",
      "images/Double Wear Stay-in-Place Makeup Foundation with SPF 10 - Ivory Nude 30ml-Porcelain.jpg\n",
      "images/Double Wear Stay-in-Place Makeup Foundation with SPF 10 - Ivory Nude 30ml-Sand.jpg\n",
      "images/Double Wear Stay-in-Place Makeup Foundation with SPF 10 - Ivory Nude 30ml-Spiced Sand.jpg\n",
      "images/Double Wear Stay-in-Place Makeup Foundation with SPF 10 - Ivory Nude 30ml-Ivory Nude.jpg\n",
      "images/Double Wear Stay-in-Place Makeup Foundation with SPF 10 - Ivory Nude 30ml-Alabaster.jpg\n",
      "images/Double Wear Stay-in-Place Makeup Foundation with SPF 10 - Ivory Nude 30ml-Bone.jpg\n",
      "images/Double Wear Stay-in-Place Makeup Foundation with SPF 10 - Ivory Nude 30ml-Ivory Beige.jpg\n",
      "images/Double Wear Stay-in-Place Makeup Foundation with SPF 10 - Ivory Nude 30ml-Toasty Toffee.jpg\n",
      "images/Double Wear Stay-in-Place Makeup Foundation with SPF 10 - Ivory Nude 30ml-NA.jpg\n",
      "images/Rage For Coverage Light Medium Golden Undertone 24Hr Foundation 20 Galao 25ml-17 Raf.jpg\n",
      "images/Rage For Coverage Light Medium Golden Undertone 24Hr Foundation 20 Galao 25ml-52 Corretto.jpg\n",
      "images/Rage For Coverage Light Medium Golden Undertone 24Hr Foundation 20 Galao 25ml-15 Cappuccino.jpg\n",
      "images/Rage For Coverage Light Medium Golden Undertone 24Hr Foundation 20 Galao 25ml-42 Glace.jpg"
     ]
    },
    {
     "name": "stderr",
     "output_type": "stream",
     "text": [
      "<ipython-input-48-a5bbea6ed560>:58: ConvergenceWarning: Number of distinct clusters (2) found smaller than n_clusters (6). Possibly due to duplicate points in X.\n",
      "  estimator.fit(img)\n",
      "<ipython-input-48-a5bbea6ed560>:58: ConvergenceWarning: Number of distinct clusters (2) found smaller than n_clusters (6). Possibly due to duplicate points in X.\n",
      "  estimator.fit(img)\n",
      "<ipython-input-48-a5bbea6ed560>:58: ConvergenceWarning: Number of distinct clusters (2) found smaller than n_clusters (6). Possibly due to duplicate points in X.\n",
      "  estimator.fit(img)\n",
      "<ipython-input-48-a5bbea6ed560>:58: ConvergenceWarning: Number of distinct clusters (2) found smaller than n_clusters (6). Possibly due to duplicate points in X.\n",
      "  estimator.fit(img)\n"
     ]
    },
    {
     "name": "stdout",
     "output_type": "stream",
     "text": [
      "\n",
      "images/Rage For Coverage Light Medium Golden Undertone 24Hr Foundation 20 Galao 25ml-37 Freddo.jpg\n"
     ]
    },
    {
     "name": "stderr",
     "output_type": "stream",
     "text": [
      "<ipython-input-48-a5bbea6ed560>:58: ConvergenceWarning: Number of distinct clusters (2) found smaller than n_clusters (6). Possibly due to duplicate points in X.\n",
      "  estimator.fit(img)\n",
      "<ipython-input-48-a5bbea6ed560>:58: ConvergenceWarning: Number of distinct clusters (1) found smaller than n_clusters (6). Possibly due to duplicate points in X.\n",
      "  estimator.fit(img)\n"
     ]
    },
    {
     "name": "stdout",
     "output_type": "stream",
     "text": [
      "images/Rage For Coverage Light Medium Golden Undertone 24Hr Foundation 20 Galao 25ml-27 Vienna.jpg\n",
      "images/Rage For Coverage Light Medium Golden Undertone 24Hr Foundation 20 Galao 25ml-55 Americano.jpg\n"
     ]
    },
    {
     "name": "stderr",
     "output_type": "stream",
     "text": [
      "<ipython-input-48-a5bbea6ed560>:58: ConvergenceWarning: Number of distinct clusters (2) found smaller than n_clusters (6). Possibly due to duplicate points in X.\n",
      "  estimator.fit(img)\n",
      "<ipython-input-48-a5bbea6ed560>:58: ConvergenceWarning: Number of distinct clusters (2) found smaller than n_clusters (6). Possibly due to duplicate points in X.\n",
      "  estimator.fit(img)\n"
     ]
    },
    {
     "name": "stdout",
     "output_type": "stream",
     "text": [
      "images/Rage For Coverage Light Medium Golden Undertone 24Hr Foundation 20 Galao 25ml-07 Vanilla Latte.jpg\n",
      "images/Rage For Coverage Light Medium Golden Undertone 24Hr Foundation 20 Galao 25ml-20 Galao.jpg\n"
     ]
    },
    {
     "name": "stderr",
     "output_type": "stream",
     "text": [
      "<ipython-input-48-a5bbea6ed560>:58: ConvergenceWarning: Number of distinct clusters (2) found smaller than n_clusters (6). Possibly due to duplicate points in X.\n",
      "  estimator.fit(img)\n",
      "<ipython-input-48-a5bbea6ed560>:58: ConvergenceWarning: Number of distinct clusters (2) found smaller than n_clusters (6). Possibly due to duplicate points in X.\n",
      "  estimator.fit(img)\n",
      "<ipython-input-48-a5bbea6ed560>:58: ConvergenceWarning: Number of distinct clusters (2) found smaller than n_clusters (6). Possibly due to duplicate points in X.\n",
      "  estimator.fit(img)\n",
      "<ipython-input-48-a5bbea6ed560>:58: ConvergenceWarning: Number of distinct clusters (2) found smaller than n_clusters (6). Possibly due to duplicate points in X.\n",
      "  estimator.fit(img)\n"
     ]
    },
    {
     "name": "stdout",
     "output_type": "stream",
     "text": [
      "images/Rage For Coverage Light Medium Golden Undertone 24Hr Foundation 20 Galao 25ml-48 Irish.jpg\n",
      "images/Rage For Coverage Light Medium Golden Undertone 24Hr Foundation 20 Galao 25ml-40 Breve.jpg\n",
      "images/Rage For Coverage Light Medium Golden Undertone 24Hr Foundation 20 Galao 25ml-10 Latte.jpg\n",
      "images/Rage For Coverage Light Medium Golden Undertone 24Hr Foundation 20 Galao 25ml-35 Frappe.jpg\n"
     ]
    },
    {
     "name": "stderr",
     "output_type": "stream",
     "text": [
      "<ipython-input-48-a5bbea6ed560>:58: ConvergenceWarning: Number of distinct clusters (2) found smaller than n_clusters (6). Possibly due to duplicate points in X.\n",
      "  estimator.fit(img)\n",
      "<ipython-input-48-a5bbea6ed560>:58: ConvergenceWarning: Number of distinct clusters (2) found smaller than n_clusters (6). Possibly due to duplicate points in X.\n",
      "  estimator.fit(img)\n"
     ]
    },
    {
     "name": "stdout",
     "output_type": "stream",
     "text": [
      "images/Rage For Coverage Light Medium Golden Undertone 24Hr Foundation 20 Galao 25ml-32 Cortado.jpg\n",
      "images/Ivory Beige Double Wear Stay-in-Place Makeup with SPF 10-Shell.jpg\n",
      "images/Ivory Beige Double Wear Stay-in-Place Makeup with SPF 10-Mustard.jpg\n",
      "images/Ivory Beige Double Wear Stay-in-Place Makeup with SPF 10-1W2 Sand.jpg\n",
      "images/Ivory Beige Double Wear Stay-in-Place Makeup with SPF 10-3W1 Tawny.jpg\n",
      "images/Ivory Beige Double Wear Stay-in-Place Makeup with SPF 10-Tawny.jpg\n",
      "images/Ivory Beige Double Wear Stay-in-Place Makeup with SPF 10-Cinnamon.jpg\n",
      "images/Ivory Beige Double Wear Stay-in-Place Makeup with SPF 10-Buff.jpg\n",
      "images/Ivory Beige Double Wear Stay-in-Place Makeup with SPF 10-Honey Bronze.jpg\n",
      "images/Ivory Beige Double Wear Stay-in-Place Makeup with SPF 10-3W2 Cashew.jpg\n",
      "images/Ivory Beige Double Wear Stay-in-Place Makeup with SPF 10-2W2 Rattan.jpg\n",
      "images/Ivory Beige Double Wear Stay-in-Place Makeup with SPF 10-Rattan.jpg\n",
      "images/Ivory Beige Double Wear Stay-in-Place Makeup with SPF 10-Warm Porcelain.jpg\n",
      "images/Ivory Beige Double Wear Stay-in-Place Makeup with SPF 10-Porcelain.jpg\n",
      "images/Ivory Beige Double Wear Stay-in-Place Makeup with SPF 10-Sand.jpg\n",
      "images/Ivory Beige Double Wear Stay-in-Place Makeup with SPF 10-Spiced Sand.jpg\n",
      "images/Ivory Beige Double Wear Stay-in-Place Makeup with SPF 10-Ivory Nude.jpg\n",
      "images/Ivory Beige Double Wear Stay-in-Place Makeup with SPF 10-Alabaster.jpg\n",
      "images/Ivory Beige Double Wear Stay-in-Place Makeup with SPF 10-Bone.jpg\n",
      "images/Ivory Beige Double Wear Stay-in-Place Makeup with SPF 10-Ivory Beige.jpg\n",
      "images/Ivory Beige Double Wear Stay-in-Place Makeup with SPF 10-Toasty Toffee.jpg\n",
      "images/Ivory Beige Double Wear Stay-in-Place Makeup with SPF 10-NA.jpg\n",
      "images/Beige 102 Brightening Wet & Dry Smoothening Foundation 15 g-Cashew.jpg\n",
      "images/Beige 102 Brightening Wet & Dry Smoothening Foundation 15 g-Walnut 103.jpg\n",
      "images/Beige 102 Brightening Wet & Dry Smoothening Foundation 15 g-Beige.jpg\n",
      "images/Studio Fix Fluid Broad Spectrum Foundation with SPF 15 - NW35 30 ml-Nw45.jpg\n",
      "images/Studio Fix Fluid Broad Spectrum Foundation with SPF 15 - NW35 30 ml-Nc45.jpg\n",
      "images/Studio Fix Fluid Broad Spectrum Foundation with SPF 15 - NW35 30 ml-Nc35.jpg\n",
      "images/Studio Fix Fluid Broad Spectrum Foundation with SPF 15 - NW35 30 ml-Nc40.jpg\n",
      "images/Studio Fix Fluid Broad Spectrum Foundation with SPF 15 - NW35 30 ml-Nc30.jpg\n",
      "images/Studio Fix Fluid Broad Spectrum Foundation with SPF 15 - NW35 30 ml-NC47.jpg\n",
      "images/Studio Fix Fluid Broad Spectrum Foundation with SPF 15 - NW35 30 ml-Nc25.jpg\n",
      "images/Studio Fix Fluid Broad Spectrum Foundation with SPF 15 - NW35 30 ml-Nc42.jpg\n",
      "images/Studio Fix Fluid Broad Spectrum Foundation with SPF 15 - NW35 30 ml-Nc15.jpg\n",
      "images/Studio Fix Fluid Broad Spectrum Foundation with SPF 15 - NW35 30 ml-Nc18.jpg\n",
      "images/Studio Fix Fluid Broad Spectrum Foundation with SPF 15 - NW35 30 ml-Nc12.jpg\n",
      "images/Studio Fix Fluid Broad Spectrum Foundation with SPF 15 - NW35 30 ml-Nc20.jpg\n",
      "images/Studio Fix Fluid Broad Spectrum Foundation with SPF 15 - NW35 30 ml-Nw35.jpg\n",
      "images/24Hrs Weightless Liquid Foundation-Fw 1.4.jpg\n",
      "images/24Hrs Weightless Liquid Foundation-Beige.jpg\n",
      "images/24Hrs Weightless Liquid Foundation-Fw 6.4.jpg\n",
      "images/24Hrs Weightless Liquid Foundation-Warm Beige.jpg\n",
      "images/Studio Fix Fluid Broad Spectrum Foundation with SPF 15 - NC18 30ml-Nw45.jpg\n",
      "images/Studio Fix Fluid Broad Spectrum Foundation with SPF 15 - NC18 30ml-Nc45.jpg\n",
      "images/Studio Fix Fluid Broad Spectrum Foundation with SPF 15 - NC18 30ml-Nc35.jpg\n",
      "images/Studio Fix Fluid Broad Spectrum Foundation with SPF 15 - NC18 30ml-Nc40.jpg\n",
      "images/Studio Fix Fluid Broad Spectrum Foundation with SPF 15 - NC18 30ml-Nc30.jpg\n",
      "images/Studio Fix Fluid Broad Spectrum Foundation with SPF 15 - NC18 30ml-NC47.jpg\n",
      "images/Studio Fix Fluid Broad Spectrum Foundation with SPF 15 - NC18 30ml-Nc25.jpg\n",
      "images/Studio Fix Fluid Broad Spectrum Foundation with SPF 15 - NC18 30ml-Nc42.jpg\n",
      "images/Studio Fix Fluid Broad Spectrum Foundation with SPF 15 - NC18 30ml-Nc15.jpg\n",
      "images/Studio Fix Fluid Broad Spectrum Foundation with SPF 15 - NC18 30ml-Nc18.jpg\n",
      "images/Studio Fix Fluid Broad Spectrum Foundation with SPF 15 - NC18 30ml-Nc12.jpg\n",
      "images/Studio Fix Fluid Broad Spectrum Foundation with SPF 15 - NC18 30ml-Nc20.jpg\n",
      "images/Studio Fix Fluid Broad Spectrum Foundation with SPF 15 - NC18 30ml-Nw35.jpg\n",
      "images/Prime Perfect Foundation Beige 03 30ml-Beige 3.jpg\n",
      "images/Prime Perfect Foundation Beige 03 30ml-Ivory.jpg\n",
      "images/Apple Crunch Aqua Feel Pro Foundation-Sand Castle.jpg\n"
     ]
    },
    {
     "name": "stderr",
     "output_type": "stream",
     "text": [
      "<ipython-input-48-a5bbea6ed560>:58: ConvergenceWarning: Number of distinct clusters (2) found smaller than n_clusters (6). Possibly due to duplicate points in X.\n",
      "  estimator.fit(img)\n",
      "<ipython-input-48-a5bbea6ed560>:58: ConvergenceWarning: Number of distinct clusters (5) found smaller than n_clusters (6). Possibly due to duplicate points in X.\n",
      "  estimator.fit(img)\n",
      "<ipython-input-48-a5bbea6ed560>:58: ConvergenceWarning: Number of distinct clusters (1) found smaller than n_clusters (6). Possibly due to duplicate points in X.\n",
      "  estimator.fit(img)\n"
     ]
    },
    {
     "name": "stdout",
     "output_type": "stream",
     "text": [
      "images/Apple Crunch Aqua Feel Pro Foundation-Caramel Ice.jpg\n",
      "images/Apple Crunch Aqua Feel Pro Foundation-Apple Crunch.jpg\n",
      "images/HD Perfect Coverup Foundation 75, (35ml)-Beige.jpg\n",
      "images/Medium Beige Mattifying Extreme Wear SPF 15 Foundation 03-Dark Honey.jpg\n"
     ]
    },
    {
     "name": "stderr",
     "output_type": "stream",
     "text": [
      "<ipython-input-48-a5bbea6ed560>:58: ConvergenceWarning: Number of distinct clusters (2) found smaller than n_clusters (6). Possibly due to duplicate points in X.\n",
      "  estimator.fit(img)\n"
     ]
    },
    {
     "name": "stdout",
     "output_type": "stream",
     "text": [
      "images/Medium Beige Mattifying Extreme Wear SPF 15 Foundation 03-7.jpg\n"
     ]
    },
    {
     "name": "stderr",
     "output_type": "stream",
     "text": [
      "<ipython-input-48-a5bbea6ed560>:58: ConvergenceWarning: Number of distinct clusters (2) found smaller than n_clusters (6). Possibly due to duplicate points in X.\n",
      "  estimator.fit(img)\n"
     ]
    },
    {
     "name": "stdout",
     "output_type": "stream",
     "text": [
      "images/Medium Beige Mattifying Extreme Wear SPF 15 Foundation 03-Medium Beige.jpg\n"
     ]
    },
    {
     "name": "stderr",
     "output_type": "stream",
     "text": [
      "<ipython-input-48-a5bbea6ed560>:58: ConvergenceWarning: Number of distinct clusters (2) found smaller than n_clusters (6). Possibly due to duplicate points in X.\n",
      "  estimator.fit(img)\n"
     ]
    },
    {
     "name": "stdout",
     "output_type": "stream",
     "text": [
      "images/Medium Beige Mattifying Extreme Wear SPF 15 Foundation 03-Sand.jpg\n"
     ]
    },
    {
     "name": "stderr",
     "output_type": "stream",
     "text": [
      "<ipython-input-48-a5bbea6ed560>:58: ConvergenceWarning: Number of distinct clusters (2) found smaller than n_clusters (6). Possibly due to duplicate points in X.\n",
      "  estimator.fit(img)\n"
     ]
    },
    {
     "name": "stdout",
     "output_type": "stream",
     "text": [
      "images/Medium Beige Mattifying Extreme Wear SPF 15 Foundation 03-Sunny.jpg\n"
     ]
    },
    {
     "name": "stderr",
     "output_type": "stream",
     "text": [
      "<ipython-input-48-a5bbea6ed560>:58: ConvergenceWarning: Number of distinct clusters (2) found smaller than n_clusters (6). Possibly due to duplicate points in X.\n",
      "  estimator.fit(img)\n"
     ]
    },
    {
     "name": "stdout",
     "output_type": "stream",
     "text": [
      "images/Medium Beige Mattifying Extreme Wear SPF 15 Foundation 03-Honey Beige.jpg\n"
     ]
    },
    {
     "name": "stderr",
     "output_type": "stream",
     "text": [
      "<ipython-input-48-a5bbea6ed560>:58: ConvergenceWarning: Number of distinct clusters (2) found smaller than n_clusters (6). Possibly due to duplicate points in X.\n",
      "  estimator.fit(img)\n"
     ]
    },
    {
     "name": "stdout",
     "output_type": "stream",
     "text": [
      "images/Full Coverage 2-in-1 Foundation & Concealer WB30 25 ml-Neutral 40.jpg\n",
      "images/Full Coverage 2-in-1 Foundation & Concealer WB30 25 ml-Neutral 170.jpg\n",
      "images/Full Coverage 2-in-1 Foundation & Concealer WB30 25 ml-Neutral 60.jpg\n",
      "images/Full Coverage 2-in-1 Foundation & Concealer WB30 25 ml-Warm Beige 30.jpg\n",
      "images/Full Coverage 2-in-1 Foundation & Concealer WB30 25 ml-Warm Rose 30.jpg\n",
      "images/Soft Sand Stay All Day 16h Long Lasting Make-Up Foundation 30-Soft nude 20.jpg\n",
      "images/Soft Sand Stay All Day 16h Long Lasting Make-Up Foundation 30-Soft Beige.jpg\n",
      "images/Soft Sand Stay All Day 16h Long Lasting Make-Up Foundation 30-15.jpg\n",
      "images/Soft Sand Stay All Day 16h Long Lasting Make-Up Foundation 30-Soft sand 30.jpg\n",
      "images/Extreme Matte Long-Wear Foundation IVORY LIGHT #1011-Beige.jpg\n",
      "images/Conceal & Define Foundation - F12.2 23 ml-F12.2.jpg\n"
     ]
    },
    {
     "name": "stderr",
     "output_type": "stream",
     "text": [
      "<ipython-input-48-a5bbea6ed560>:58: ConvergenceWarning: Number of distinct clusters (2) found smaller than n_clusters (6). Possibly due to duplicate points in X.\n",
      "  estimator.fit(img)\n"
     ]
    },
    {
     "name": "stdout",
     "output_type": "stream",
     "text": [
      "images/Conceal & Define Foundation - F12.2 23 ml-F9.jpg\n"
     ]
    },
    {
     "name": "stderr",
     "output_type": "stream",
     "text": [
      "<ipython-input-48-a5bbea6ed560>:58: ConvergenceWarning: Number of distinct clusters (2) found smaller than n_clusters (6). Possibly due to duplicate points in X.\n",
      "  estimator.fit(img)\n"
     ]
    },
    {
     "name": "stdout",
     "output_type": "stream",
     "text": [
      "images/Conceal & Define Foundation - F12.2 23 ml-F7.5.jpg\n"
     ]
    },
    {
     "name": "stderr",
     "output_type": "stream",
     "text": [
      "<ipython-input-48-a5bbea6ed560>:58: ConvergenceWarning: Number of distinct clusters (2) found smaller than n_clusters (6). Possibly due to duplicate points in X.\n",
      "  estimator.fit(img)\n"
     ]
    },
    {
     "name": "stdout",
     "output_type": "stream",
     "text": [
      "images/Conceal & Define Foundation - F12.2 23 ml-F14.jpg\n"
     ]
    },
    {
     "name": "stderr",
     "output_type": "stream",
     "text": [
      "<ipython-input-48-a5bbea6ed560>:58: ConvergenceWarning: Number of distinct clusters (2) found smaller than n_clusters (6). Possibly due to duplicate points in X.\n",
      "  estimator.fit(img)\n"
     ]
    },
    {
     "name": "stdout",
     "output_type": "stream",
     "text": [
      "images/Conceal & Define Foundation - F12.2 23 ml-F12.5.jpg\n"
     ]
    },
    {
     "name": "stderr",
     "output_type": "stream",
     "text": [
      "<ipython-input-48-a5bbea6ed560>:58: ConvergenceWarning: Number of distinct clusters (2) found smaller than n_clusters (6). Possibly due to duplicate points in X.\n",
      "  estimator.fit(img)\n"
     ]
    },
    {
     "name": "stdout",
     "output_type": "stream",
     "text": [
      "images/Conceal & Define Foundation - F12.2 23 ml-F8.5.jpg\n"
     ]
    },
    {
     "name": "stderr",
     "output_type": "stream",
     "text": [
      "<ipython-input-48-a5bbea6ed560>:58: ConvergenceWarning: Number of distinct clusters (2) found smaller than n_clusters (6). Possibly due to duplicate points in X.\n",
      "  estimator.fit(img)\n"
     ]
    },
    {
     "name": "stdout",
     "output_type": "stream",
     "text": [
      "images/Conceal & Define Foundation - F12.2 23 ml-F7.jpg\n"
     ]
    },
    {
     "name": "stderr",
     "output_type": "stream",
     "text": [
      "<ipython-input-48-a5bbea6ed560>:58: ConvergenceWarning: Number of distinct clusters (1) found smaller than n_clusters (6). Possibly due to duplicate points in X.\n",
      "  estimator.fit(img)\n"
     ]
    },
    {
     "name": "stdout",
     "output_type": "stream",
     "text": [
      "images/Conceal & Define Foundation - F12.2 23 ml-F10.5.jpg\n",
      "images/Conceal & Define Foundation - F12.2 23 ml-F6.jpg\n"
     ]
    },
    {
     "name": "stderr",
     "output_type": "stream",
     "text": [
      "<ipython-input-48-a5bbea6ed560>:58: ConvergenceWarning: Number of distinct clusters (1) found smaller than n_clusters (6). Possibly due to duplicate points in X.\n",
      "  estimator.fit(img)\n"
     ]
    },
    {
     "name": "stdout",
     "output_type": "stream",
     "text": [
      "images/Essence Stay All Day 16H Long-Lasting Make-Up 15-Soft nude 20.jpg\n",
      "images/Essence Stay All Day 16H Long-Lasting Make-Up 15-Soft Beige.jpg\n",
      "images/Essence Stay All Day 16H Long-Lasting Make-Up 15-15.jpg\n",
      "images/Essence Stay All Day 16H Long-Lasting Make-Up 15-Soft sand 30.jpg\n",
      "images/2 Absolute Cover Silk Peptide Foundation 30ml-4.jpg\n",
      "images/2 Absolute Cover Silk Peptide Foundation 30ml-Beige.jpg\n",
      "images/2 Absolute Cover Silk Peptide Foundation 30ml-5.jpg\n",
      "images/2 Absolute Cover Silk Peptide Foundation 30ml-2.jpg\n",
      "images/2 Absolute Cover Silk Peptide Foundation 30ml-6.jpg\n"
     ]
    },
    {
     "name": "stderr",
     "output_type": "stream",
     "text": [
      "<ipython-input-48-a5bbea6ed560>:58: ConvergenceWarning: Number of distinct clusters (2) found smaller than n_clusters (6). Possibly due to duplicate points in X.\n",
      "  estimator.fit(img)\n",
      "<ipython-input-48-a5bbea6ed560>:58: ConvergenceWarning: Number of distinct clusters (2) found smaller than n_clusters (6). Possibly due to duplicate points in X.\n",
      "  estimator.fit(img)\n",
      "<ipython-input-48-a5bbea6ed560>:58: ConvergenceWarning: Number of distinct clusters (2) found smaller than n_clusters (6). Possibly due to duplicate points in X.\n",
      "  estimator.fit(img)\n",
      "<ipython-input-48-a5bbea6ed560>:58: ConvergenceWarning: Number of distinct clusters (2) found smaller than n_clusters (6). Possibly due to duplicate points in X.\n",
      "  estimator.fit(img)\n"
     ]
    },
    {
     "name": "stdout",
     "output_type": "stream",
     "text": [
      "images/2 Absolute Cover Silk Peptide Foundation 30ml-4.5.jpg\n",
      "images/2 Absolute Cover Silk Peptide Foundation 30ml-7.5.jpg\n",
      "images/Unisex Perfect Canvas Hydra Lock Nude Airbrush Foundation 4W-Beige.jpg\n"
     ]
    },
    {
     "name": "stderr",
     "output_type": "stream",
     "text": [
      "<ipython-input-48-a5bbea6ed560>:58: ConvergenceWarning: Number of distinct clusters (2) found smaller than n_clusters (6). Possibly due to duplicate points in X.\n",
      "  estimator.fit(img)\n",
      "<ipython-input-48-a5bbea6ed560>:58: ConvergenceWarning: Number of distinct clusters (2) found smaller than n_clusters (6). Possibly due to duplicate points in X.\n",
      "  estimator.fit(img)\n",
      "<ipython-input-48-a5bbea6ed560>:58: ConvergenceWarning: Number of distinct clusters (2) found smaller than n_clusters (6). Possibly due to duplicate points in X.\n",
      "  estimator.fit(img)\n"
     ]
    },
    {
     "name": "stdout",
     "output_type": "stream",
     "text": [
      "images/Unisex Perfect Canvas Hydra Lock Nude Airbrush Foundation 4W-Nude Cover.jpg\n"
     ]
    },
    {
     "name": "stderr",
     "output_type": "stream",
     "text": [
      "<ipython-input-48-a5bbea6ed560>:58: ConvergenceWarning: Number of distinct clusters (2) found smaller than n_clusters (6). Possibly due to duplicate points in X.\n",
      "  estimator.fit(img)\n"
     ]
    },
    {
     "name": "stdout",
     "output_type": "stream",
     "text": [
      "images/Colorstay Make Up Combination Oily SPF 15 - Natural Tan-Toast.jpg\n",
      "images/Colorstay Make Up Combination Oily SPF 15 - Natural Tan-Natural Tan.jpg\n",
      "images/Colorstay Make Up Combination Oily SPF 15 - Natural Tan-Warm Golden.jpg\n",
      "images/Colorstay Make Up Combination Oily SPF 15 - Natural Tan-Skincare.jpg\n",
      "images/Rage For Coverage Medium Tan Neutral Undertone 24Hr Foundation 48 Irish 25ml-17 Raf.jpg\n",
      "images/Rage For Coverage Medium Tan Neutral Undertone 24Hr Foundation 48 Irish 25ml-52 Corretto.jpg\n",
      "images/Rage For Coverage Medium Tan Neutral Undertone 24Hr Foundation 48 Irish 25ml-15 Cappuccino.jpg\n",
      "images/Rage For Coverage Medium Tan Neutral Undertone 24Hr Foundation 48 Irish 25ml-42 Glace.jpg\n",
      "images/Rage For Coverage Medium Tan Neutral Undertone 24Hr Foundation 48 Irish 25ml-37 Freddo.jpg\n"
     ]
    },
    {
     "name": "stderr",
     "output_type": "stream",
     "text": [
      "<ipython-input-48-a5bbea6ed560>:58: ConvergenceWarning: Number of distinct clusters (2) found smaller than n_clusters (6). Possibly due to duplicate points in X.\n",
      "  estimator.fit(img)\n",
      "<ipython-input-48-a5bbea6ed560>:58: ConvergenceWarning: Number of distinct clusters (2) found smaller than n_clusters (6). Possibly due to duplicate points in X.\n",
      "  estimator.fit(img)\n",
      "<ipython-input-48-a5bbea6ed560>:58: ConvergenceWarning: Number of distinct clusters (2) found smaller than n_clusters (6). Possibly due to duplicate points in X.\n",
      "  estimator.fit(img)\n",
      "<ipython-input-48-a5bbea6ed560>:58: ConvergenceWarning: Number of distinct clusters (2) found smaller than n_clusters (6). Possibly due to duplicate points in X.\n",
      "  estimator.fit(img)\n",
      "<ipython-input-48-a5bbea6ed560>:58: ConvergenceWarning: Number of distinct clusters (2) found smaller than n_clusters (6). Possibly due to duplicate points in X.\n",
      "  estimator.fit(img)\n",
      "<ipython-input-48-a5bbea6ed560>:58: ConvergenceWarning: Number of distinct clusters (1) found smaller than n_clusters (6). Possibly due to duplicate points in X.\n",
      "  estimator.fit(img)\n"
     ]
    },
    {
     "name": "stdout",
     "output_type": "stream",
     "text": [
      "images/Rage For Coverage Medium Tan Neutral Undertone 24Hr Foundation 48 Irish 25ml-27 Vienna.jpg\n",
      "images/Rage For Coverage Medium Tan Neutral Undertone 24Hr Foundation 48 Irish 25ml-55 Americano.jpg\n"
     ]
    },
    {
     "name": "stderr",
     "output_type": "stream",
     "text": [
      "<ipython-input-48-a5bbea6ed560>:58: ConvergenceWarning: Number of distinct clusters (2) found smaller than n_clusters (6). Possibly due to duplicate points in X.\n",
      "  estimator.fit(img)\n",
      "<ipython-input-48-a5bbea6ed560>:58: ConvergenceWarning: Number of distinct clusters (2) found smaller than n_clusters (6). Possibly due to duplicate points in X.\n",
      "  estimator.fit(img)\n"
     ]
    },
    {
     "name": "stdout",
     "output_type": "stream",
     "text": [
      "images/Rage For Coverage Medium Tan Neutral Undertone 24Hr Foundation 48 Irish 25ml-07 Vanilla Latte.jpg\n",
      "images/Rage For Coverage Medium Tan Neutral Undertone 24Hr Foundation 48 Irish 25ml-20 Galao.jpg\n"
     ]
    },
    {
     "name": "stderr",
     "output_type": "stream",
     "text": [
      "<ipython-input-48-a5bbea6ed560>:58: ConvergenceWarning: Number of distinct clusters (2) found smaller than n_clusters (6). Possibly due to duplicate points in X.\n",
      "  estimator.fit(img)\n",
      "<ipython-input-48-a5bbea6ed560>:58: ConvergenceWarning: Number of distinct clusters (2) found smaller than n_clusters (6). Possibly due to duplicate points in X.\n",
      "  estimator.fit(img)\n",
      "<ipython-input-48-a5bbea6ed560>:58: ConvergenceWarning: Number of distinct clusters (2) found smaller than n_clusters (6). Possibly due to duplicate points in X.\n",
      "  estimator.fit(img)\n",
      "<ipython-input-48-a5bbea6ed560>:58: ConvergenceWarning: Number of distinct clusters (2) found smaller than n_clusters (6). Possibly due to duplicate points in X.\n",
      "  estimator.fit(img)\n",
      "<ipython-input-48-a5bbea6ed560>:58: ConvergenceWarning: Number of distinct clusters (2) found smaller than n_clusters (6). Possibly due to duplicate points in X.\n",
      "  estimator.fit(img)\n"
     ]
    },
    {
     "name": "stdout",
     "output_type": "stream",
     "text": [
      "images/Rage For Coverage Medium Tan Neutral Undertone 24Hr Foundation 48 Irish 25ml-48 Irish.jpg\n",
      "images/Rage For Coverage Medium Tan Neutral Undertone 24Hr Foundation 48 Irish 25ml-40 Breve.jpg\n",
      "images/Rage For Coverage Medium Tan Neutral Undertone 24Hr Foundation 48 Irish 25ml-10 Latte.jpg\n",
      "images/Rage For Coverage Medium Tan Neutral Undertone 24Hr Foundation 48 Irish 25ml-35 Frappe.jpg\n",
      "images/Rage For Coverage Medium Tan Neutral Undertone 24Hr Foundation 48 Irish 25ml-32 Cortado.jpg\n"
     ]
    },
    {
     "name": "stderr",
     "output_type": "stream",
     "text": [
      "<ipython-input-48-a5bbea6ed560>:58: ConvergenceWarning: Number of distinct clusters (2) found smaller than n_clusters (6). Possibly due to duplicate points in X.\n",
      "  estimator.fit(img)\n",
      "<ipython-input-48-a5bbea6ed560>:58: ConvergenceWarning: Number of distinct clusters (1) found smaller than n_clusters (6). Possibly due to duplicate points in X.\n",
      "  estimator.fit(img)\n",
      "<ipython-input-48-a5bbea6ed560>:58: ConvergenceWarning: Number of distinct clusters (1) found smaller than n_clusters (6). Possibly due to duplicate points in X.\n",
      "  estimator.fit(img)\n",
      "<ipython-input-48-a5bbea6ed560>:58: ConvergenceWarning: Number of distinct clusters (1) found smaller than n_clusters (6). Possibly due to duplicate points in X.\n",
      "  estimator.fit(img)\n"
     ]
    },
    {
     "name": "stdout",
     "output_type": "stream",
     "text": [
      "images/Weightless Matte Finish Foundation Sand 04 18ml-Sand 04.jpg\n",
      "images/Absolute 3D Cover Foundation SPF 30 - Neutral Honey 15 ml-Neutral Honey.jpg\n",
      "images/Absolute 3D Cover Foundation SPF 30 - Neutral Honey 15 ml-Cool Walnut.jpg\n",
      "images/Absolute 3D Cover Foundation SPF 30 - Neutral Honey 15 ml-Cool Cinnamon.jpg\n",
      "images/Double Wear Stay-in-place SPF 10 Makeup Foundation - Spiced Sand 4N2 15 ml-Shell.jpg\n",
      "images/Double Wear Stay-in-place SPF 10 Makeup Foundation - Spiced Sand 4N2 15 ml-Mustard.jpg\n",
      "images/Double Wear Stay-in-place SPF 10 Makeup Foundation - Spiced Sand 4N2 15 ml-1W2 Sand.jpg\n",
      "images/Double Wear Stay-in-place SPF 10 Makeup Foundation - Spiced Sand 4N2 15 ml-3W1 Tawny.jpg\n",
      "images/Double Wear Stay-in-place SPF 10 Makeup Foundation - Spiced Sand 4N2 15 ml-Tawny.jpg\n",
      "images/Double Wear Stay-in-place SPF 10 Makeup Foundation - Spiced Sand 4N2 15 ml-Cinnamon.jpg\n",
      "images/Double Wear Stay-in-place SPF 10 Makeup Foundation - Spiced Sand 4N2 15 ml-Buff.jpg\n",
      "images/Double Wear Stay-in-place SPF 10 Makeup Foundation - Spiced Sand 4N2 15 ml-Honey Bronze.jpg\n",
      "images/Double Wear Stay-in-place SPF 10 Makeup Foundation - Spiced Sand 4N2 15 ml-3W2 Cashew.jpg\n",
      "images/Double Wear Stay-in-place SPF 10 Makeup Foundation - Spiced Sand 4N2 15 ml-2W2 Rattan.jpg\n",
      "images/Double Wear Stay-in-place SPF 10 Makeup Foundation - Spiced Sand 4N2 15 ml-Rattan.jpg\n",
      "images/Double Wear Stay-in-place SPF 10 Makeup Foundation - Spiced Sand 4N2 15 ml-Warm Porcelain.jpg\n",
      "images/Double Wear Stay-in-place SPF 10 Makeup Foundation - Spiced Sand 4N2 15 ml-Porcelain.jpg\n",
      "images/Double Wear Stay-in-place SPF 10 Makeup Foundation - Spiced Sand 4N2 15 ml-Sand.jpg\n",
      "images/Double Wear Stay-in-place SPF 10 Makeup Foundation - Spiced Sand 4N2 15 ml-Spiced Sand.jpg\n",
      "images/Double Wear Stay-in-place SPF 10 Makeup Foundation - Spiced Sand 4N2 15 ml-Ivory Nude.jpg\n",
      "images/Double Wear Stay-in-place SPF 10 Makeup Foundation - Spiced Sand 4N2 15 ml-Alabaster.jpg\n",
      "images/Double Wear Stay-in-place SPF 10 Makeup Foundation - Spiced Sand 4N2 15 ml-Bone.jpg\n",
      "images/Double Wear Stay-in-place SPF 10 Makeup Foundation - Spiced Sand 4N2 15 ml-Ivory Beige.jpg\n",
      "images/Double Wear Stay-in-place SPF 10 Makeup Foundation - Spiced Sand 4N2 15 ml-Toasty Toffee.jpg\n",
      "images/Double Wear Stay-in-place SPF 10 Makeup Foundation - Spiced Sand 4N2 15 ml-NA.jpg\n",
      "images/Ultime Pro Sun Defense CC Cream Luxe SPF 50 Ivory 01 30ml-Natural 02.jpg\n",
      "images/Ultime Pro Sun Defense CC Cream Luxe SPF 50 Ivory 01 30ml-Beige.jpg\n",
      "images/Ultime Pro Sun Defense CC Cream Luxe SPF 50 Ivory 01 30ml-Sand 03.jpg\n",
      "images/Rage For Coverage Medium Beige Warm Undertone 24Hr Foundation 40 Breve 25ml-17 Raf.jpg\n"
     ]
    },
    {
     "name": "stderr",
     "output_type": "stream",
     "text": [
      "<ipython-input-48-a5bbea6ed560>:58: ConvergenceWarning: Number of distinct clusters (5) found smaller than n_clusters (6). Possibly due to duplicate points in X.\n",
      "  estimator.fit(img)\n",
      "<ipython-input-48-a5bbea6ed560>:58: ConvergenceWarning: Number of distinct clusters (5) found smaller than n_clusters (6). Possibly due to duplicate points in X.\n",
      "  estimator.fit(img)\n",
      "<ipython-input-48-a5bbea6ed560>:58: ConvergenceWarning: Number of distinct clusters (2) found smaller than n_clusters (6). Possibly due to duplicate points in X.\n",
      "  estimator.fit(img)\n"
     ]
    },
    {
     "name": "stdout",
     "output_type": "stream",
     "text": [
      "images/Rage For Coverage Medium Beige Warm Undertone 24Hr Foundation 40 Breve 25ml-52 Corretto.jpg\n",
      "images/Rage For Coverage Medium Beige Warm Undertone 24Hr Foundation 40 Breve 25ml-15 Cappuccino.jpg\n",
      "images/Rage For Coverage Medium Beige Warm Undertone 24Hr Foundation 40 Breve 25ml-42 Glace.jpg\n",
      "images/Rage For Coverage Medium Beige Warm Undertone 24Hr Foundation 40 Breve 25ml-37 Freddo.jpg\n"
     ]
    },
    {
     "name": "stderr",
     "output_type": "stream",
     "text": [
      "<ipython-input-48-a5bbea6ed560>:58: ConvergenceWarning: Number of distinct clusters (2) found smaller than n_clusters (6). Possibly due to duplicate points in X.\n",
      "  estimator.fit(img)\n",
      "<ipython-input-48-a5bbea6ed560>:58: ConvergenceWarning: Number of distinct clusters (2) found smaller than n_clusters (6). Possibly due to duplicate points in X.\n",
      "  estimator.fit(img)\n",
      "<ipython-input-48-a5bbea6ed560>:58: ConvergenceWarning: Number of distinct clusters (2) found smaller than n_clusters (6). Possibly due to duplicate points in X.\n",
      "  estimator.fit(img)\n",
      "<ipython-input-48-a5bbea6ed560>:58: ConvergenceWarning: Number of distinct clusters (2) found smaller than n_clusters (6). Possibly due to duplicate points in X.\n",
      "  estimator.fit(img)\n",
      "<ipython-input-48-a5bbea6ed560>:58: ConvergenceWarning: Number of distinct clusters (1) found smaller than n_clusters (6). Possibly due to duplicate points in X.\n",
      "  estimator.fit(img)\n"
     ]
    },
    {
     "name": "stdout",
     "output_type": "stream",
     "text": [
      "images/Rage For Coverage Medium Beige Warm Undertone 24Hr Foundation 40 Breve 25ml-27 Vienna.jpg\n",
      "images/Rage For Coverage Medium Beige Warm Undertone 24Hr Foundation 40 Breve 25ml-55 Americano.jpg\n"
     ]
    },
    {
     "name": "stderr",
     "output_type": "stream",
     "text": [
      "<ipython-input-48-a5bbea6ed560>:58: ConvergenceWarning: Number of distinct clusters (2) found smaller than n_clusters (6). Possibly due to duplicate points in X.\n",
      "  estimator.fit(img)\n",
      "<ipython-input-48-a5bbea6ed560>:58: ConvergenceWarning: Number of distinct clusters (2) found smaller than n_clusters (6). Possibly due to duplicate points in X.\n",
      "  estimator.fit(img)\n"
     ]
    },
    {
     "name": "stdout",
     "output_type": "stream",
     "text": [
      "images/Rage For Coverage Medium Beige Warm Undertone 24Hr Foundation 40 Breve 25ml-07 Vanilla Latte.jpg\n",
      "images/Rage For Coverage Medium Beige Warm Undertone 24Hr Foundation 40 Breve 25ml-20 Galao.jpg\n"
     ]
    },
    {
     "name": "stderr",
     "output_type": "stream",
     "text": [
      "<ipython-input-48-a5bbea6ed560>:58: ConvergenceWarning: Number of distinct clusters (2) found smaller than n_clusters (6). Possibly due to duplicate points in X.\n",
      "  estimator.fit(img)\n",
      "<ipython-input-48-a5bbea6ed560>:58: ConvergenceWarning: Number of distinct clusters (2) found smaller than n_clusters (6). Possibly due to duplicate points in X.\n",
      "  estimator.fit(img)\n",
      "<ipython-input-48-a5bbea6ed560>:58: ConvergenceWarning: Number of distinct clusters (2) found smaller than n_clusters (6). Possibly due to duplicate points in X.\n",
      "  estimator.fit(img)\n",
      "<ipython-input-48-a5bbea6ed560>:58: ConvergenceWarning: Number of distinct clusters (2) found smaller than n_clusters (6). Possibly due to duplicate points in X.\n",
      "  estimator.fit(img)\n",
      "<ipython-input-48-a5bbea6ed560>:58: ConvergenceWarning: Number of distinct clusters (2) found smaller than n_clusters (6). Possibly due to duplicate points in X.\n",
      "  estimator.fit(img)\n"
     ]
    },
    {
     "name": "stdout",
     "output_type": "stream",
     "text": [
      "images/Rage For Coverage Medium Beige Warm Undertone 24Hr Foundation 40 Breve 25ml-48 Irish.jpg\n",
      "images/Rage For Coverage Medium Beige Warm Undertone 24Hr Foundation 40 Breve 25ml-40 Breve.jpg\n",
      "images/Rage For Coverage Medium Beige Warm Undertone 24Hr Foundation 40 Breve 25ml-10 Latte.jpg\n",
      "images/Rage For Coverage Medium Beige Warm Undertone 24Hr Foundation 40 Breve 25ml-35 Frappe.jpg\n",
      "images/Rage For Coverage Medium Beige Warm Undertone 24Hr Foundation 40 Breve 25ml-32 Cortado.jpg\n"
     ]
    },
    {
     "name": "stderr",
     "output_type": "stream",
     "text": [
      "<ipython-input-48-a5bbea6ed560>:58: ConvergenceWarning: Number of distinct clusters (2) found smaller than n_clusters (6). Possibly due to duplicate points in X.\n",
      "  estimator.fit(img)\n"
     ]
    },
    {
     "name": "stdout",
     "output_type": "stream",
     "text": [
      "images/New York Fit Me SPF 32 Two Way Cake Powder Foundation - Sun Beige 310 9g-Sun Beige.jpg\n",
      "images/New York Fit Me SPF 32 Two Way Cake Powder Foundation - Sun Beige 310 9g-Warm Nude 128.jpg\n",
      "images/Touch & Glow Moisturizing Liquid Make Up - Natural Mist-Ivory Mist.jpg\n",
      "images/Touch & Glow Moisturizing Liquid Make Up - Natural Mist-Natural Mist.jpg\n",
      "images/Touch & Glow Moisturizing Liquid Make Up - Natural Mist-Touch Glow.jpg\n"
     ]
    },
    {
     "name": "stderr",
     "output_type": "stream",
     "text": [
      "<ipython-input-48-a5bbea6ed560>:58: ConvergenceWarning: Number of distinct clusters (2) found smaller than n_clusters (6). Possibly due to duplicate points in X.\n",
      "  estimator.fit(img)\n",
      "<ipython-input-48-a5bbea6ed560>:58: ConvergenceWarning: Number of distinct clusters (2) found smaller than n_clusters (6). Possibly due to duplicate points in X.\n",
      "  estimator.fit(img)\n"
     ]
    },
    {
     "name": "stdout",
     "output_type": "stream",
     "text": [
      "images/The Body Shop Fresh Nude Sustainable Foundation - Atlas Dunes 045 30 ml-045 Atlas Dunes.jpg\n",
      "images/True Match Foundation - Cocoa 10N 30 ml-Cocoa.jpg\n",
      "images/10 Soft Beige Stay All Day 16h Waterproof Foundation 30ml-Soft nude 20.jpg\n",
      "images/10 Soft Beige Stay All Day 16h Waterproof Foundation 30ml-Soft Beige.jpg\n",
      "images/10 Soft Beige Stay All Day 16h Waterproof Foundation 30ml-15.jpg\n",
      "images/10 Soft Beige Stay All Day 16h Waterproof Foundation 30ml-Soft sand 30.jpg\n",
      "images/Women Better Skin Foundation 06 30 ml-Beige.jpg\n",
      "images/Everyday Foundation - BE-01 SOFT BEIGE 30 ml-Buff.jpg\n",
      "images/Everyday Foundation - BE-01 SOFT BEIGE 30 ml-Neutral Buff.jpg\n",
      "images/Everyday Foundation - BE-01 SOFT BEIGE 30 ml-Soft Beige.jpg\n",
      "images/Everyday Foundation - BE-01 SOFT BEIGE 30 ml-Medium Olive.jpg\n",
      "images/Rage For Coverage Medium Deep Warm Undertone 24Hr Foundation 55 Americano 25ml-17 Raf.jpg\n",
      "images/Rage For Coverage Medium Deep Warm Undertone 24Hr Foundation 55 Americano 25ml-52 Corretto.jpg\n"
     ]
    },
    {
     "name": "stderr",
     "output_type": "stream",
     "text": [
      "<ipython-input-48-a5bbea6ed560>:58: ConvergenceWarning: Number of distinct clusters (2) found smaller than n_clusters (6). Possibly due to duplicate points in X.\n",
      "  estimator.fit(img)\n",
      "<ipython-input-48-a5bbea6ed560>:58: ConvergenceWarning: Number of distinct clusters (2) found smaller than n_clusters (6). Possibly due to duplicate points in X.\n",
      "  estimator.fit(img)\n",
      "<ipython-input-48-a5bbea6ed560>:58: ConvergenceWarning: Number of distinct clusters (2) found smaller than n_clusters (6). Possibly due to duplicate points in X.\n",
      "  estimator.fit(img)\n",
      "<ipython-input-48-a5bbea6ed560>:58: ConvergenceWarning: Number of distinct clusters (2) found smaller than n_clusters (6). Possibly due to duplicate points in X.\n",
      "  estimator.fit(img)\n"
     ]
    },
    {
     "name": "stdout",
     "output_type": "stream",
     "text": [
      "images/Rage For Coverage Medium Deep Warm Undertone 24Hr Foundation 55 Americano 25ml-15 Cappuccino.jpg\n",
      "images/Rage For Coverage Medium Deep Warm Undertone 24Hr Foundation 55 Americano 25ml-42 Glace.jpg\n",
      "images/Rage For Coverage Medium Deep Warm Undertone 24Hr Foundation 55 Americano 25ml-37 Freddo.jpg\n"
     ]
    },
    {
     "name": "stderr",
     "output_type": "stream",
     "text": [
      "<ipython-input-48-a5bbea6ed560>:58: ConvergenceWarning: Number of distinct clusters (2) found smaller than n_clusters (6). Possibly due to duplicate points in X.\n",
      "  estimator.fit(img)\n",
      "<ipython-input-48-a5bbea6ed560>:58: ConvergenceWarning: Number of distinct clusters (1) found smaller than n_clusters (6). Possibly due to duplicate points in X.\n",
      "  estimator.fit(img)\n"
     ]
    },
    {
     "name": "stdout",
     "output_type": "stream",
     "text": [
      "images/Rage For Coverage Medium Deep Warm Undertone 24Hr Foundation 55 Americano 25ml-27 Vienna.jpg\n",
      "images/Rage For Coverage Medium Deep Warm Undertone 24Hr Foundation 55 Americano 25ml-55 Americano.jpg\n"
     ]
    },
    {
     "name": "stderr",
     "output_type": "stream",
     "text": [
      "<ipython-input-48-a5bbea6ed560>:58: ConvergenceWarning: Number of distinct clusters (2) found smaller than n_clusters (6). Possibly due to duplicate points in X.\n",
      "  estimator.fit(img)\n",
      "<ipython-input-48-a5bbea6ed560>:58: ConvergenceWarning: Number of distinct clusters (2) found smaller than n_clusters (6). Possibly due to duplicate points in X.\n",
      "  estimator.fit(img)\n"
     ]
    },
    {
     "name": "stdout",
     "output_type": "stream",
     "text": [
      "images/Rage For Coverage Medium Deep Warm Undertone 24Hr Foundation 55 Americano 25ml-07 Vanilla Latte.jpg\n",
      "images/Rage For Coverage Medium Deep Warm Undertone 24Hr Foundation 55 Americano 25ml-20 Galao.jpg\n"
     ]
    },
    {
     "name": "stderr",
     "output_type": "stream",
     "text": [
      "<ipython-input-48-a5bbea6ed560>:58: ConvergenceWarning: Number of distinct clusters (2) found smaller than n_clusters (6). Possibly due to duplicate points in X.\n",
      "  estimator.fit(img)\n",
      "<ipython-input-48-a5bbea6ed560>:58: ConvergenceWarning: Number of distinct clusters (2) found smaller than n_clusters (6). Possibly due to duplicate points in X.\n",
      "  estimator.fit(img)\n",
      "<ipython-input-48-a5bbea6ed560>:58: ConvergenceWarning: Number of distinct clusters (2) found smaller than n_clusters (6). Possibly due to duplicate points in X.\n",
      "  estimator.fit(img)\n",
      "<ipython-input-48-a5bbea6ed560>:58: ConvergenceWarning: Number of distinct clusters (2) found smaller than n_clusters (6). Possibly due to duplicate points in X.\n",
      "  estimator.fit(img)\n",
      "<ipython-input-48-a5bbea6ed560>:58: ConvergenceWarning: Number of distinct clusters (2) found smaller than n_clusters (6). Possibly due to duplicate points in X.\n",
      "  estimator.fit(img)\n"
     ]
    },
    {
     "name": "stdout",
     "output_type": "stream",
     "text": [
      "images/Rage For Coverage Medium Deep Warm Undertone 24Hr Foundation 55 Americano 25ml-48 Irish.jpg\n",
      "images/Rage For Coverage Medium Deep Warm Undertone 24Hr Foundation 55 Americano 25ml-40 Breve.jpg\n",
      "images/Rage For Coverage Medium Deep Warm Undertone 24Hr Foundation 55 Americano 25ml-10 Latte.jpg\n",
      "images/Rage For Coverage Medium Deep Warm Undertone 24Hr Foundation 55 Americano 25ml-35 Frappe.jpg\n",
      "images/Rage For Coverage Medium Deep Warm Undertone 24Hr Foundation 55 Americano 25ml-32 Cortado.jpg\n"
     ]
    },
    {
     "name": "stderr",
     "output_type": "stream",
     "text": [
      "<ipython-input-48-a5bbea6ed560>:58: ConvergenceWarning: Number of distinct clusters (2) found smaller than n_clusters (6). Possibly due to duplicate points in X.\n",
      "  estimator.fit(img)\n"
     ]
    },
    {
     "name": "stdout",
     "output_type": "stream",
     "text": [
      "images/24Hrs Weightless Liquid Foundation - FW 1.4 25ml-Fw 1.4.jpg\n",
      "images/24Hrs Weightless Liquid Foundation - FW 1.4 25ml-Beige.jpg\n",
      "images/24Hrs Weightless Liquid Foundation - FW 1.4 25ml-Fw 6.4.jpg\n",
      "images/24Hrs Weightless Liquid Foundation - FW 1.4 25ml-Warm Beige.jpg\n",
      "images/Beige 24Hrs Weightless Liquid Foundation FW 5.3 25 ml-Fw 1.4.jpg\n",
      "images/Beige 24Hrs Weightless Liquid Foundation FW 5.3 25 ml-Beige.jpg\n",
      "images/Beige 24Hrs Weightless Liquid Foundation FW 5.3 25 ml-Fw 6.4.jpg\n",
      "images/Beige 24Hrs Weightless Liquid Foundation FW 5.3 25 ml-Warm Beige.jpg\n",
      "images/Rage For Coverage Medium Beige Golden Undertone 24Hr Foundation 42 Glace 25ml-17 Raf.jpg\n",
      "images/Rage For Coverage Medium Beige Golden Undertone 24Hr Foundation 42 Glace 25ml-52 Corretto.jpg\n",
      "images/Rage For Coverage Medium Beige Golden Undertone 24Hr Foundation 42 Glace 25ml-15 Cappuccino.jpg\n",
      "images/Rage For Coverage Medium Beige Golden Undertone 24Hr Foundation 42 Glace 25ml-42 Glace.jpg\n"
     ]
    },
    {
     "name": "stderr",
     "output_type": "stream",
     "text": [
      "<ipython-input-48-a5bbea6ed560>:58: ConvergenceWarning: Number of distinct clusters (2) found smaller than n_clusters (6). Possibly due to duplicate points in X.\n",
      "  estimator.fit(img)\n",
      "<ipython-input-48-a5bbea6ed560>:58: ConvergenceWarning: Number of distinct clusters (2) found smaller than n_clusters (6). Possibly due to duplicate points in X.\n",
      "  estimator.fit(img)\n",
      "<ipython-input-48-a5bbea6ed560>:58: ConvergenceWarning: Number of distinct clusters (2) found smaller than n_clusters (6). Possibly due to duplicate points in X.\n",
      "  estimator.fit(img)\n",
      "<ipython-input-48-a5bbea6ed560>:58: ConvergenceWarning: Number of distinct clusters (2) found smaller than n_clusters (6). Possibly due to duplicate points in X.\n",
      "  estimator.fit(img)\n"
     ]
    },
    {
     "name": "stdout",
     "output_type": "stream",
     "text": [
      "images/Rage For Coverage Medium Beige Golden Undertone 24Hr Foundation 42 Glace 25ml-37 Freddo.jpg\n"
     ]
    },
    {
     "name": "stderr",
     "output_type": "stream",
     "text": [
      "<ipython-input-48-a5bbea6ed560>:58: ConvergenceWarning: Number of distinct clusters (2) found smaller than n_clusters (6). Possibly due to duplicate points in X.\n",
      "  estimator.fit(img)\n",
      "<ipython-input-48-a5bbea6ed560>:58: ConvergenceWarning: Number of distinct clusters (1) found smaller than n_clusters (6). Possibly due to duplicate points in X.\n",
      "  estimator.fit(img)\n"
     ]
    },
    {
     "name": "stdout",
     "output_type": "stream",
     "text": [
      "images/Rage For Coverage Medium Beige Golden Undertone 24Hr Foundation 42 Glace 25ml-27 Vienna.jpg\n",
      "images/Rage For Coverage Medium Beige Golden Undertone 24Hr Foundation 42 Glace 25ml-55 Americano.jpg\n"
     ]
    },
    {
     "name": "stderr",
     "output_type": "stream",
     "text": [
      "<ipython-input-48-a5bbea6ed560>:58: ConvergenceWarning: Number of distinct clusters (2) found smaller than n_clusters (6). Possibly due to duplicate points in X.\n",
      "  estimator.fit(img)\n",
      "<ipython-input-48-a5bbea6ed560>:58: ConvergenceWarning: Number of distinct clusters (2) found smaller than n_clusters (6). Possibly due to duplicate points in X.\n",
      "  estimator.fit(img)\n"
     ]
    },
    {
     "name": "stdout",
     "output_type": "stream",
     "text": [
      "images/Rage For Coverage Medium Beige Golden Undertone 24Hr Foundation 42 Glace 25ml-07 Vanilla Latte.jpg\n",
      "images/Rage For Coverage Medium Beige Golden Undertone 24Hr Foundation 42 Glace 25ml-20 Galao.jpg\n"
     ]
    },
    {
     "name": "stderr",
     "output_type": "stream",
     "text": [
      "<ipython-input-48-a5bbea6ed560>:58: ConvergenceWarning: Number of distinct clusters (2) found smaller than n_clusters (6). Possibly due to duplicate points in X.\n",
      "  estimator.fit(img)\n",
      "<ipython-input-48-a5bbea6ed560>:58: ConvergenceWarning: Number of distinct clusters (2) found smaller than n_clusters (6). Possibly due to duplicate points in X.\n",
      "  estimator.fit(img)\n",
      "<ipython-input-48-a5bbea6ed560>:58: ConvergenceWarning: Number of distinct clusters (2) found smaller than n_clusters (6). Possibly due to duplicate points in X.\n",
      "  estimator.fit(img)\n",
      "<ipython-input-48-a5bbea6ed560>:58: ConvergenceWarning: Number of distinct clusters (2) found smaller than n_clusters (6). Possibly due to duplicate points in X.\n",
      "  estimator.fit(img)\n"
     ]
    },
    {
     "name": "stdout",
     "output_type": "stream",
     "text": [
      "images/Rage For Coverage Medium Beige Golden Undertone 24Hr Foundation 42 Glace 25ml-48 Irish.jpg\n",
      "images/Rage For Coverage Medium Beige Golden Undertone 24Hr Foundation 42 Glace 25ml-40 Breve.jpg\n",
      "images/Rage For Coverage Medium Beige Golden Undertone 24Hr Foundation 42 Glace 25ml-10 Latte.jpg\n",
      "images/Rage For Coverage Medium Beige Golden Undertone 24Hr Foundation 42 Glace 25ml-35 Frappe.jpg\n"
     ]
    },
    {
     "name": "stderr",
     "output_type": "stream",
     "text": [
      "<ipython-input-48-a5bbea6ed560>:58: ConvergenceWarning: Number of distinct clusters (2) found smaller than n_clusters (6). Possibly due to duplicate points in X.\n",
      "  estimator.fit(img)\n",
      "<ipython-input-48-a5bbea6ed560>:58: ConvergenceWarning: Number of distinct clusters (2) found smaller than n_clusters (6). Possibly due to duplicate points in X.\n",
      "  estimator.fit(img)\n"
     ]
    },
    {
     "name": "stdout",
     "output_type": "stream",
     "text": [
      "images/Rage For Coverage Medium Beige Golden Undertone 24Hr Foundation 42 Glace 25ml-32 Cortado.jpg\n",
      "images/Everyday Foundation Buff BE-04-Buff.jpg\n",
      "images/Everyday Foundation Buff BE-04-Neutral Buff.jpg\n",
      "images/Everyday Foundation Buff BE-04-Soft Beige.jpg\n",
      "images/Everyday Foundation Buff BE-04-Medium Olive.jpg\n",
      "images/Ultime Pro Matte Mousse Foundation Sand 04 30g-Beige.jpg\n",
      "images/Ultime Pro Matte Mousse Foundation Sand 04 30g-Sand.jpg\n",
      "images/Rage For Coverage Tan Yellow Undertone 24Hr Foundation 52 Corretto 25ml-17 Raf.jpg\n",
      "images/Rage For Coverage Tan Yellow Undertone 24Hr Foundation 52 Corretto 25ml-52 Corretto.jpg\n",
      "images/Rage For Coverage Tan Yellow Undertone 24Hr Foundation 52 Corretto 25ml-15 Cappuccino.jpg\n",
      "images/Rage For Coverage Tan Yellow Undertone 24Hr Foundation 52 Corretto 25ml-42 Glace.jpg\n"
     ]
    },
    {
     "name": "stderr",
     "output_type": "stream",
     "text": [
      "<ipython-input-48-a5bbea6ed560>:58: ConvergenceWarning: Number of distinct clusters (2) found smaller than n_clusters (6). Possibly due to duplicate points in X.\n",
      "  estimator.fit(img)\n",
      "<ipython-input-48-a5bbea6ed560>:58: ConvergenceWarning: Number of distinct clusters (2) found smaller than n_clusters (6). Possibly due to duplicate points in X.\n",
      "  estimator.fit(img)\n",
      "<ipython-input-48-a5bbea6ed560>:58: ConvergenceWarning: Number of distinct clusters (2) found smaller than n_clusters (6). Possibly due to duplicate points in X.\n",
      "  estimator.fit(img)\n",
      "<ipython-input-48-a5bbea6ed560>:58: ConvergenceWarning: Number of distinct clusters (2) found smaller than n_clusters (6). Possibly due to duplicate points in X.\n",
      "  estimator.fit(img)\n"
     ]
    },
    {
     "name": "stdout",
     "output_type": "stream",
     "text": [
      "images/Rage For Coverage Tan Yellow Undertone 24Hr Foundation 52 Corretto 25ml-37 Freddo.jpg\n"
     ]
    },
    {
     "name": "stderr",
     "output_type": "stream",
     "text": [
      "<ipython-input-48-a5bbea6ed560>:58: ConvergenceWarning: Number of distinct clusters (2) found smaller than n_clusters (6). Possibly due to duplicate points in X.\n",
      "  estimator.fit(img)\n",
      "<ipython-input-48-a5bbea6ed560>:58: ConvergenceWarning: Number of distinct clusters (1) found smaller than n_clusters (6). Possibly due to duplicate points in X.\n",
      "  estimator.fit(img)\n"
     ]
    },
    {
     "name": "stdout",
     "output_type": "stream",
     "text": [
      "images/Rage For Coverage Tan Yellow Undertone 24Hr Foundation 52 Corretto 25ml-27 Vienna.jpg\n",
      "images/Rage For Coverage Tan Yellow Undertone 24Hr Foundation 52 Corretto 25ml-55 Americano.jpg\n"
     ]
    },
    {
     "name": "stderr",
     "output_type": "stream",
     "text": [
      "<ipython-input-48-a5bbea6ed560>:58: ConvergenceWarning: Number of distinct clusters (2) found smaller than n_clusters (6). Possibly due to duplicate points in X.\n",
      "  estimator.fit(img)\n",
      "<ipython-input-48-a5bbea6ed560>:58: ConvergenceWarning: Number of distinct clusters (2) found smaller than n_clusters (6). Possibly due to duplicate points in X.\n",
      "  estimator.fit(img)\n"
     ]
    },
    {
     "name": "stdout",
     "output_type": "stream",
     "text": [
      "images/Rage For Coverage Tan Yellow Undertone 24Hr Foundation 52 Corretto 25ml-07 Vanilla Latte.jpg\n",
      "images/Rage For Coverage Tan Yellow Undertone 24Hr Foundation 52 Corretto 25ml-20 Galao.jpg\n"
     ]
    },
    {
     "name": "stderr",
     "output_type": "stream",
     "text": [
      "<ipython-input-48-a5bbea6ed560>:58: ConvergenceWarning: Number of distinct clusters (2) found smaller than n_clusters (6). Possibly due to duplicate points in X.\n",
      "  estimator.fit(img)\n",
      "<ipython-input-48-a5bbea6ed560>:58: ConvergenceWarning: Number of distinct clusters (2) found smaller than n_clusters (6). Possibly due to duplicate points in X.\n",
      "  estimator.fit(img)\n",
      "<ipython-input-48-a5bbea6ed560>:58: ConvergenceWarning: Number of distinct clusters (2) found smaller than n_clusters (6). Possibly due to duplicate points in X.\n",
      "  estimator.fit(img)\n",
      "<ipython-input-48-a5bbea6ed560>:58: ConvergenceWarning: Number of distinct clusters (2) found smaller than n_clusters (6). Possibly due to duplicate points in X.\n",
      "  estimator.fit(img)\n",
      "<ipython-input-48-a5bbea6ed560>:58: ConvergenceWarning: Number of distinct clusters (2) found smaller than n_clusters (6). Possibly due to duplicate points in X.\n",
      "  estimator.fit(img)\n"
     ]
    },
    {
     "name": "stdout",
     "output_type": "stream",
     "text": [
      "images/Rage For Coverage Tan Yellow Undertone 24Hr Foundation 52 Corretto 25ml-48 Irish.jpg\n",
      "images/Rage For Coverage Tan Yellow Undertone 24Hr Foundation 52 Corretto 25ml-40 Breve.jpg\n",
      "images/Rage For Coverage Tan Yellow Undertone 24Hr Foundation 52 Corretto 25ml-10 Latte.jpg\n",
      "images/Rage For Coverage Tan Yellow Undertone 24Hr Foundation 52 Corretto 25ml-35 Frappe.jpg\n",
      "images/Rage For Coverage Tan Yellow Undertone 24Hr Foundation 52 Corretto 25ml-32 Cortado.jpg\n"
     ]
    },
    {
     "name": "stderr",
     "output_type": "stream",
     "text": [
      "<ipython-input-48-a5bbea6ed560>:58: ConvergenceWarning: Number of distinct clusters (2) found smaller than n_clusters (6). Possibly due to duplicate points in X.\n",
      "  estimator.fit(img)\n"
     ]
    },
    {
     "name": "stdout",
     "output_type": "stream",
     "text": [
      "images/Beige 24Hrs Weightless Liquid Foundation FW 8.1 25 ml-Fw 1.4.jpg\n",
      "images/Beige 24Hrs Weightless Liquid Foundation FW 8.1 25 ml-Beige.jpg\n",
      "images/Beige 24Hrs Weightless Liquid Foundation FW 8.1 25 ml-Fw 6.4.jpg\n",
      "images/Beige 24Hrs Weightless Liquid Foundation FW 8.1 25 ml-Warm Beige.jpg\n",
      "images/24Hrs Weightless Liquid Foundation-FW 2.4 25ml-Fw 1.4.jpg\n",
      "images/24Hrs Weightless Liquid Foundation-FW 2.4 25ml-Beige.jpg\n",
      "images/24Hrs Weightless Liquid Foundation-FW 2.4 25ml-Fw 6.4.jpg\n",
      "images/24Hrs Weightless Liquid Foundation-FW 2.4 25ml-Warm Beige.jpg\n",
      "images/Women Beige 24Hrs Weightless Liquid Foundation-FW 5.1 25 ml-Fw 1.4.jpg\n",
      "images/Women Beige 24Hrs Weightless Liquid Foundation-FW 5.1 25 ml-Beige.jpg\n",
      "images/Women Beige 24Hrs Weightless Liquid Foundation-FW 5.1 25 ml-Fw 6.4.jpg\n",
      "images/Women Beige 24Hrs Weightless Liquid Foundation-FW 5.1 25 ml-Warm Beige.jpg\n",
      "images/24Hrs Weightless Liquid Foundation-FC 6.2 25ml-Fw 1.4.jpg\n",
      "images/24Hrs Weightless Liquid Foundation-FC 6.2 25ml-Beige.jpg\n",
      "images/24Hrs Weightless Liquid Foundation-FC 6.2 25ml-Fw 6.4.jpg\n",
      "images/24Hrs Weightless Liquid Foundation-FC 6.2 25ml-Warm Beige.jpg\n",
      "images/Primer + Foundation - Beige Vanilla - 15 ml each-NA.jpg\n",
      "images/Primer + Foundation - Beige Vanilla - 15 ml each-Beige Vanilla.jpg\n",
      "images/Fresh & Fit Awake Make Up 20 - Fresh Nude-30 Fresh Honey.jpg\n",
      "images/Fresh & Fit Awake Make Up 20 - Fresh Nude-Fresh Nude.jpg\n",
      "images/Fresh & Fit Awake Make Up 20 - Fresh Nude-10 - Fresh Ivory.jpg\n",
      "images/201 Classic Beige Lasting Radiance Medium Coverage Foundation 30 ml-Classic Beige.jpg\n",
      "images/201 Classic Beige Lasting Radiance Medium Coverage Foundation 30 ml-Mocha.jpg\n",
      "images/201 Classic Beige Lasting Radiance Medium Coverage Foundation 30 ml-Natural Beige.jpg\n",
      "images/Women Better Skin Foundation 01 30 ml-Beige.jpg\n",
      "images/Everyday Foundation Neutral Buff MT-02-Buff.jpg\n",
      "images/Everyday Foundation Neutral Buff MT-02-Neutral Buff.jpg\n",
      "images/Everyday Foundation Neutral Buff MT-02-Soft Beige.jpg\n",
      "images/Everyday Foundation Neutral Buff MT-02-Medium Olive.jpg\n",
      "images/Shell Double Wear Stay-in-Place Makeup SPF 10 Foundation 30 ml-Shell.jpg\n",
      "images/Shell Double Wear Stay-in-Place Makeup SPF 10 Foundation 30 ml-Mustard.jpg\n",
      "images/Shell Double Wear Stay-in-Place Makeup SPF 10 Foundation 30 ml-1W2 Sand.jpg\n",
      "images/Shell Double Wear Stay-in-Place Makeup SPF 10 Foundation 30 ml-3W1 Tawny.jpg\n",
      "images/Shell Double Wear Stay-in-Place Makeup SPF 10 Foundation 30 ml-Tawny.jpg\n",
      "images/Shell Double Wear Stay-in-Place Makeup SPF 10 Foundation 30 ml-Cinnamon.jpg\n",
      "images/Shell Double Wear Stay-in-Place Makeup SPF 10 Foundation 30 ml-Buff.jpg\n",
      "images/Shell Double Wear Stay-in-Place Makeup SPF 10 Foundation 30 ml-Honey Bronze.jpg\n",
      "images/Shell Double Wear Stay-in-Place Makeup SPF 10 Foundation 30 ml-3W2 Cashew.jpg\n",
      "images/Shell Double Wear Stay-in-Place Makeup SPF 10 Foundation 30 ml-2W2 Rattan.jpg\n",
      "images/Shell Double Wear Stay-in-Place Makeup SPF 10 Foundation 30 ml-Rattan.jpg\n",
      "images/Shell Double Wear Stay-in-Place Makeup SPF 10 Foundation 30 ml-Warm Porcelain.jpg\n",
      "images/Shell Double Wear Stay-in-Place Makeup SPF 10 Foundation 30 ml-Porcelain.jpg\n",
      "images/Shell Double Wear Stay-in-Place Makeup SPF 10 Foundation 30 ml-Sand.jpg\n",
      "images/Shell Double Wear Stay-in-Place Makeup SPF 10 Foundation 30 ml-Spiced Sand.jpg\n",
      "images/Shell Double Wear Stay-in-Place Makeup SPF 10 Foundation 30 ml-Ivory Nude.jpg\n",
      "images/Shell Double Wear Stay-in-Place Makeup SPF 10 Foundation 30 ml-Alabaster.jpg\n",
      "images/Shell Double Wear Stay-in-Place Makeup SPF 10 Foundation 30 ml-Bone.jpg\n",
      "images/Shell Double Wear Stay-in-Place Makeup SPF 10 Foundation 30 ml-Ivory Beige.jpg\n",
      "images/Shell Double Wear Stay-in-Place Makeup SPF 10 Foundation 30 ml-Toasty Toffee.jpg\n",
      "images/Shell Double Wear Stay-in-Place Makeup SPF 10 Foundation 30 ml-NA.jpg\n",
      "images/Double Wear Stay-In-Place Foundation with SPF 10 - Cashew 30ml-Shell.jpg\n",
      "images/Double Wear Stay-In-Place Foundation with SPF 10 - Cashew 30ml-Mustard.jpg\n",
      "images/Double Wear Stay-In-Place Foundation with SPF 10 - Cashew 30ml-1W2 Sand.jpg\n",
      "images/Double Wear Stay-In-Place Foundation with SPF 10 - Cashew 30ml-3W1 Tawny.jpg\n",
      "images/Double Wear Stay-In-Place Foundation with SPF 10 - Cashew 30ml-Tawny.jpg\n",
      "images/Double Wear Stay-In-Place Foundation with SPF 10 - Cashew 30ml-Cinnamon.jpg\n",
      "images/Double Wear Stay-In-Place Foundation with SPF 10 - Cashew 30ml-Buff.jpg\n",
      "images/Double Wear Stay-In-Place Foundation with SPF 10 - Cashew 30ml-Honey Bronze.jpg\n",
      "images/Double Wear Stay-In-Place Foundation with SPF 10 - Cashew 30ml-3W2 Cashew.jpg\n",
      "images/Double Wear Stay-In-Place Foundation with SPF 10 - Cashew 30ml-2W2 Rattan.jpg\n",
      "images/Double Wear Stay-In-Place Foundation with SPF 10 - Cashew 30ml-Rattan.jpg\n",
      "images/Double Wear Stay-In-Place Foundation with SPF 10 - Cashew 30ml-Warm Porcelain.jpg\n",
      "images/Double Wear Stay-In-Place Foundation with SPF 10 - Cashew 30ml-Porcelain.jpg\n",
      "images/Double Wear Stay-In-Place Foundation with SPF 10 - Cashew 30ml-Sand.jpg\n",
      "images/Double Wear Stay-In-Place Foundation with SPF 10 - Cashew 30ml-Spiced Sand.jpg\n",
      "images/Double Wear Stay-In-Place Foundation with SPF 10 - Cashew 30ml-Ivory Nude.jpg\n",
      "images/Double Wear Stay-In-Place Foundation with SPF 10 - Cashew 30ml-Alabaster.jpg\n",
      "images/Double Wear Stay-In-Place Foundation with SPF 10 - Cashew 30ml-Bone.jpg\n",
      "images/Double Wear Stay-In-Place Foundation with SPF 10 - Cashew 30ml-Ivory Beige.jpg\n",
      "images/Double Wear Stay-In-Place Foundation with SPF 10 - Cashew 30ml-Toasty Toffee.jpg\n",
      "images/Double Wear Stay-In-Place Foundation with SPF 10 - Cashew 30ml-NA.jpg\n",
      "images/Studio Fix SPF 15 Fluid Foundation - NC45 30ml-Nw45.jpg\n",
      "images/Studio Fix SPF 15 Fluid Foundation - NC45 30ml-Nc45.jpg\n",
      "images/Studio Fix SPF 15 Fluid Foundation - NC45 30ml-Nc35.jpg\n",
      "images/Studio Fix SPF 15 Fluid Foundation - NC45 30ml-Nc40.jpg\n",
      "images/Studio Fix SPF 15 Fluid Foundation - NC45 30ml-Nc30.jpg\n",
      "images/Studio Fix SPF 15 Fluid Foundation - NC45 30ml-NC47.jpg\n",
      "images/Studio Fix SPF 15 Fluid Foundation - NC45 30ml-Nc25.jpg\n",
      "images/Studio Fix SPF 15 Fluid Foundation - NC45 30ml-Nc42.jpg\n",
      "images/Studio Fix SPF 15 Fluid Foundation - NC45 30ml-Nc15.jpg\n",
      "images/Studio Fix SPF 15 Fluid Foundation - NC45 30ml-Nc18.jpg\n",
      "images/Studio Fix SPF 15 Fluid Foundation - NC45 30ml-Nc12.jpg\n",
      "images/Studio Fix SPF 15 Fluid Foundation - NC45 30ml-Nc20.jpg\n",
      "images/Studio Fix SPF 15 Fluid Foundation - NC45 30ml-Nw35.jpg\n",
      "images/Double Wear Stay-In-Place Makeup Foundation with SPF 10 - Porcelain 1N0-Shell.jpg\n",
      "images/Double Wear Stay-In-Place Makeup Foundation with SPF 10 - Porcelain 1N0-Mustard.jpg\n",
      "images/Double Wear Stay-In-Place Makeup Foundation with SPF 10 - Porcelain 1N0-1W2 Sand.jpg\n",
      "images/Double Wear Stay-In-Place Makeup Foundation with SPF 10 - Porcelain 1N0-3W1 Tawny.jpg\n",
      "images/Double Wear Stay-In-Place Makeup Foundation with SPF 10 - Porcelain 1N0-Tawny.jpg\n",
      "images/Double Wear Stay-In-Place Makeup Foundation with SPF 10 - Porcelain 1N0-Cinnamon.jpg\n",
      "images/Double Wear Stay-In-Place Makeup Foundation with SPF 10 - Porcelain 1N0-Buff.jpg\n",
      "images/Double Wear Stay-In-Place Makeup Foundation with SPF 10 - Porcelain 1N0-Honey Bronze.jpg\n",
      "images/Double Wear Stay-In-Place Makeup Foundation with SPF 10 - Porcelain 1N0-3W2 Cashew.jpg\n",
      "images/Double Wear Stay-In-Place Makeup Foundation with SPF 10 - Porcelain 1N0-2W2 Rattan.jpg\n",
      "images/Double Wear Stay-In-Place Makeup Foundation with SPF 10 - Porcelain 1N0-Rattan.jpg\n",
      "images/Double Wear Stay-In-Place Makeup Foundation with SPF 10 - Porcelain 1N0-Warm Porcelain.jpg\n",
      "images/Double Wear Stay-In-Place Makeup Foundation with SPF 10 - Porcelain 1N0-Porcelain.jpg\n",
      "images/Double Wear Stay-In-Place Makeup Foundation with SPF 10 - Porcelain 1N0-Sand.jpg\n",
      "images/Double Wear Stay-In-Place Makeup Foundation with SPF 10 - Porcelain 1N0-Spiced Sand.jpg\n",
      "images/Double Wear Stay-In-Place Makeup Foundation with SPF 10 - Porcelain 1N0-Ivory Nude.jpg\n",
      "images/Double Wear Stay-In-Place Makeup Foundation with SPF 10 - Porcelain 1N0-Alabaster.jpg\n",
      "images/Double Wear Stay-In-Place Makeup Foundation with SPF 10 - Porcelain 1N0-Bone.jpg\n",
      "images/Double Wear Stay-In-Place Makeup Foundation with SPF 10 - Porcelain 1N0-Ivory Beige.jpg\n",
      "images/Double Wear Stay-In-Place Makeup Foundation with SPF 10 - Porcelain 1N0-Toasty Toffee.jpg\n",
      "images/Double Wear Stay-In-Place Makeup Foundation with SPF 10 - Porcelain 1N0-NA.jpg\n"
     ]
    },
    {
     "name": "stdout",
     "output_type": "stream",
     "text": [
      "images/Dual Walnut 103 Brightening Smoothening Foundation Wet & Dry 15g-Cashew.jpg\n",
      "images/Dual Walnut 103 Brightening Smoothening Foundation Wet & Dry 15g-Walnut 103.jpg\n",
      "images/Dual Walnut 103 Brightening Smoothening Foundation Wet & Dry 15g-Beige.jpg\n",
      "images/Luminous Foundation-200W-NA.jpg\n"
     ]
    },
    {
     "name": "stderr",
     "output_type": "stream",
     "text": [
      "<ipython-input-48-a5bbea6ed560>:58: ConvergenceWarning: Number of distinct clusters (1) found smaller than n_clusters (6). Possibly due to duplicate points in X.\n",
      "  estimator.fit(img)\n"
     ]
    },
    {
     "name": "stdout",
     "output_type": "stream",
     "text": [
      "images/Luminous Foundation-200W-Skincare.jpg\n"
     ]
    },
    {
     "name": "stderr",
     "output_type": "stream",
     "text": [
      "<ipython-input-48-a5bbea6ed560>:58: ConvergenceWarning: Number of distinct clusters (2) found smaller than n_clusters (6). Possibly due to duplicate points in X.\n",
      "  estimator.fit(img)\n"
     ]
    },
    {
     "name": "stdout",
     "output_type": "stream",
     "text": [
      "images/Even Better Glow Liquid Foundation Makeup with SPF 15 - Oat WN 48 30ml-Wn 48 Oat.jpg\n",
      "images/Women Neutral 3 Synchro Skin Glow Luminizing Fluid Foundation 30ml-Barbie Pink.jpg\n",
      "images/Women Neutral 3 Synchro Skin Glow Luminizing Fluid Foundation 30ml-Neutral 3.jpg\n",
      "images/Women Neutral 3 Synchro Skin Glow Luminizing Fluid Foundation 30ml-Neutral 4.jpg\n",
      "images/Women Neutral 3 Synchro Skin Glow Luminizing Fluid Foundation 30ml-Neutral 2.jpg\n",
      "images/Women Neutral 3 Synchro Skin Glow Luminizing Fluid Foundation 30ml-Golden 5.jpg\n",
      "images/Women Neutral 3 Synchro Skin Glow Luminizing Fluid Foundation 30ml-Baked Orange.jpg\n",
      "images/Women Neutral 3 Synchro Skin Glow Luminizing Fluid Foundation 30ml-Golden 4.jpg\n",
      "images/Skin Long Wear Fluid SPF 20 Foundation - Cool Natural 40 ml-Honey.jpg\n",
      "images/Skin Long Wear Fluid SPF 20 Foundation - Cool Natural 40 ml-Warm Beige.jpg\n",
      "images/Skin Long Wear Fluid SPF 20 Foundation - Cool Natural 40 ml-Golden.jpg\n",
      "images/Skin Long Wear Fluid SPF 20 Foundation - Cool Natural 40 ml-Natural Tan.jpg\n",
      "images/Skin Long Wear Fluid SPF 20 Foundation - Cool Natural 40 ml-N052 Natural.jpg\n",
      "images/Skin Long Wear Fluid SPF 20 Foundation - Cool Natural 40 ml-Cool Natural.jpg\n",
      "images/Skin Long Wear Fluid SPF 20 Foundation - W054 Natural Tan 40 ml-Honey.jpg\n",
      "images/Skin Long Wear Fluid SPF 20 Foundation - W054 Natural Tan 40 ml-Warm Beige.jpg\n",
      "images/Skin Long Wear Fluid SPF 20 Foundation - W054 Natural Tan 40 ml-Golden.jpg\n",
      "images/Skin Long Wear Fluid SPF 20 Foundation - W054 Natural Tan 40 ml-Natural Tan.jpg\n",
      "images/Skin Long Wear Fluid SPF 20 Foundation - W054 Natural Tan 40 ml-N052 Natural.jpg\n",
      "images/Skin Long Wear Fluid SPF 20 Foundation - W054 Natural Tan 40 ml-Cool Natural.jpg\n",
      "images/Skin Long Wear Fluid SPF 20 Foundation - W046 Warm Beige 40 ml-Honey.jpg\n",
      "images/Skin Long Wear Fluid SPF 20 Foundation - W046 Warm Beige 40 ml-Warm Beige.jpg\n",
      "images/Skin Long Wear Fluid SPF 20 Foundation - W046 Warm Beige 40 ml-Golden.jpg\n",
      "images/Skin Long Wear Fluid SPF 20 Foundation - W046 Warm Beige 40 ml-Natural Tan.jpg\n",
      "images/Skin Long Wear Fluid SPF 20 Foundation - W046 Warm Beige 40 ml-N052 Natural.jpg\n",
      "images/Skin Long Wear Fluid SPF 20 Foundation - W046 Warm Beige 40 ml-Cool Natural.jpg\n",
      "images/Luminous Foundation - 240N 30 ml-NA.jpg\n"
     ]
    },
    {
     "name": "stderr",
     "output_type": "stream",
     "text": [
      "<ipython-input-48-a5bbea6ed560>:58: ConvergenceWarning: Number of distinct clusters (1) found smaller than n_clusters (6). Possibly due to duplicate points in X.\n",
      "  estimator.fit(img)\n"
     ]
    },
    {
     "name": "stdout",
     "output_type": "stream",
     "text": [
      "images/Luminous Foundation - 240N 30 ml-Skincare.jpg\n"
     ]
    },
    {
     "name": "stderr",
     "output_type": "stream",
     "text": [
      "<ipython-input-48-a5bbea6ed560>:58: ConvergenceWarning: Number of distinct clusters (2) found smaller than n_clusters (6). Possibly due to duplicate points in X.\n",
      "  estimator.fit(img)\n"
     ]
    },
    {
     "name": "stdout",
     "output_type": "stream",
     "text": [
      "images/Luminous Foundation - 300C-NA.jpg\n"
     ]
    },
    {
     "name": "stderr",
     "output_type": "stream",
     "text": [
      "<ipython-input-48-a5bbea6ed560>:58: ConvergenceWarning: Number of distinct clusters (1) found smaller than n_clusters (6). Possibly due to duplicate points in X.\n",
      "  estimator.fit(img)\n"
     ]
    },
    {
     "name": "stdout",
     "output_type": "stream",
     "text": [
      "images/Luminous Foundation - 300C-Skincare.jpg\n"
     ]
    },
    {
     "name": "stderr",
     "output_type": "stream",
     "text": [
      "<ipython-input-48-a5bbea6ed560>:58: ConvergenceWarning: Number of distinct clusters (2) found smaller than n_clusters (6). Possibly due to duplicate points in X.\n",
      "  estimator.fit(img)\n",
      "<ipython-input-48-a5bbea6ed560>:58: ConvergenceWarning: Number of distinct clusters (2) found smaller than n_clusters (6). Possibly due to duplicate points in X.\n",
      "  estimator.fit(img)\n",
      "<ipython-input-48-a5bbea6ed560>:58: ConvergenceWarning: Number of distinct clusters (1) found smaller than n_clusters (6). Possibly due to duplicate points in X.\n",
      "  estimator.fit(img)\n"
     ]
    },
    {
     "name": "stdout",
     "output_type": "stream",
     "text": [
      "images/Skin Foundation Stick- Honey 5 - 9 g-Transparent.jpg\n",
      "images/Skin Foundation Stick- Honey 5 - 9 g-Warm Beige.jpg\n",
      "images/Skin Foundation Stick- Honey 5 - 9 g-Warm Honey.jpg\n",
      "images/Double Wear Stay-in-Place Foundation With SPF 10-Shell.jpg\n",
      "images/Double Wear Stay-in-Place Foundation With SPF 10-Mustard.jpg\n",
      "images/Double Wear Stay-in-Place Foundation With SPF 10-1W2 Sand.jpg\n",
      "images/Double Wear Stay-in-Place Foundation With SPF 10-3W1 Tawny.jpg\n",
      "images/Double Wear Stay-in-Place Foundation With SPF 10-Tawny.jpg\n",
      "images/Double Wear Stay-in-Place Foundation With SPF 10-Cinnamon.jpg\n",
      "images/Double Wear Stay-in-Place Foundation With SPF 10-Buff.jpg\n",
      "images/Double Wear Stay-in-Place Foundation With SPF 10-Honey Bronze.jpg\n",
      "images/Double Wear Stay-in-Place Foundation With SPF 10-3W2 Cashew.jpg\n",
      "images/Double Wear Stay-in-Place Foundation With SPF 10-2W2 Rattan.jpg\n",
      "images/Double Wear Stay-in-Place Foundation With SPF 10-Rattan.jpg\n",
      "images/Double Wear Stay-in-Place Foundation With SPF 10-Warm Porcelain.jpg\n",
      "images/Double Wear Stay-in-Place Foundation With SPF 10-Porcelain.jpg\n",
      "images/Double Wear Stay-in-Place Foundation With SPF 10-Sand.jpg\n",
      "images/Double Wear Stay-in-Place Foundation With SPF 10-Spiced Sand.jpg\n",
      "images/Double Wear Stay-in-Place Foundation With SPF 10-Ivory Nude.jpg\n",
      "images/Double Wear Stay-in-Place Foundation With SPF 10-Alabaster.jpg\n",
      "images/Double Wear Stay-in-Place Foundation With SPF 10-Bone.jpg\n",
      "images/Double Wear Stay-in-Place Foundation With SPF 10-Ivory Beige.jpg\n",
      "images/Double Wear Stay-in-Place Foundation With SPF 10-Toasty Toffee.jpg\n",
      "images/Double Wear Stay-in-Place Foundation With SPF 10-NA.jpg\n",
      "images/Rage For Coverage Medium Neutral Undertone 24Hr Foundation 35 Frappe 25ml-17 Raf.jpg\n",
      "images/Rage For Coverage Medium Neutral Undertone 24Hr Foundation 35 Frappe 25ml-52 Corretto.jpg\n",
      "images/Rage For Coverage Medium Neutral Undertone 24Hr Foundation 35 Frappe 25ml-15 Cappuccino.jpg\n",
      "images/Rage For Coverage Medium Neutral Undertone 24Hr Foundation 35 Frappe 25ml-42 Glace.jpg\n",
      "images/Rage For Coverage Medium Neutral Undertone 24Hr Foundation 35 Frappe 25ml-37 Freddo.jpg\n"
     ]
    },
    {
     "name": "stderr",
     "output_type": "stream",
     "text": [
      "<ipython-input-48-a5bbea6ed560>:58: ConvergenceWarning: Number of distinct clusters (2) found smaller than n_clusters (6). Possibly due to duplicate points in X.\n",
      "  estimator.fit(img)\n",
      "<ipython-input-48-a5bbea6ed560>:58: ConvergenceWarning: Number of distinct clusters (2) found smaller than n_clusters (6). Possibly due to duplicate points in X.\n",
      "  estimator.fit(img)\n",
      "<ipython-input-48-a5bbea6ed560>:58: ConvergenceWarning: Number of distinct clusters (2) found smaller than n_clusters (6). Possibly due to duplicate points in X.\n",
      "  estimator.fit(img)\n",
      "<ipython-input-48-a5bbea6ed560>:58: ConvergenceWarning: Number of distinct clusters (2) found smaller than n_clusters (6). Possibly due to duplicate points in X.\n",
      "  estimator.fit(img)\n",
      "<ipython-input-48-a5bbea6ed560>:58: ConvergenceWarning: Number of distinct clusters (2) found smaller than n_clusters (6). Possibly due to duplicate points in X.\n",
      "  estimator.fit(img)\n",
      "<ipython-input-48-a5bbea6ed560>:58: ConvergenceWarning: Number of distinct clusters (1) found smaller than n_clusters (6). Possibly due to duplicate points in X.\n",
      "  estimator.fit(img)\n"
     ]
    },
    {
     "name": "stdout",
     "output_type": "stream",
     "text": [
      "images/Rage For Coverage Medium Neutral Undertone 24Hr Foundation 35 Frappe 25ml-27 Vienna.jpg\n",
      "images/Rage For Coverage Medium Neutral Undertone 24Hr Foundation 35 Frappe 25ml-55 Americano.jpg\n"
     ]
    },
    {
     "name": "stderr",
     "output_type": "stream",
     "text": [
      "<ipython-input-48-a5bbea6ed560>:58: ConvergenceWarning: Number of distinct clusters (2) found smaller than n_clusters (6). Possibly due to duplicate points in X.\n",
      "  estimator.fit(img)\n",
      "<ipython-input-48-a5bbea6ed560>:58: ConvergenceWarning: Number of distinct clusters (2) found smaller than n_clusters (6). Possibly due to duplicate points in X.\n",
      "  estimator.fit(img)\n"
     ]
    },
    {
     "name": "stdout",
     "output_type": "stream",
     "text": [
      "images/Rage For Coverage Medium Neutral Undertone 24Hr Foundation 35 Frappe 25ml-07 Vanilla Latte.jpg\n",
      "images/Rage For Coverage Medium Neutral Undertone 24Hr Foundation 35 Frappe 25ml-20 Galao.jpg\n"
     ]
    },
    {
     "name": "stderr",
     "output_type": "stream",
     "text": [
      "<ipython-input-48-a5bbea6ed560>:58: ConvergenceWarning: Number of distinct clusters (2) found smaller than n_clusters (6). Possibly due to duplicate points in X.\n",
      "  estimator.fit(img)\n",
      "<ipython-input-48-a5bbea6ed560>:58: ConvergenceWarning: Number of distinct clusters (2) found smaller than n_clusters (6). Possibly due to duplicate points in X.\n",
      "  estimator.fit(img)\n",
      "<ipython-input-48-a5bbea6ed560>:58: ConvergenceWarning: Number of distinct clusters (2) found smaller than n_clusters (6). Possibly due to duplicate points in X.\n",
      "  estimator.fit(img)\n",
      "<ipython-input-48-a5bbea6ed560>:58: ConvergenceWarning: Number of distinct clusters (2) found smaller than n_clusters (6). Possibly due to duplicate points in X.\n",
      "  estimator.fit(img)\n",
      "<ipython-input-48-a5bbea6ed560>:58: ConvergenceWarning: Number of distinct clusters (2) found smaller than n_clusters (6). Possibly due to duplicate points in X.\n",
      "  estimator.fit(img)\n"
     ]
    },
    {
     "name": "stdout",
     "output_type": "stream",
     "text": [
      "images/Rage For Coverage Medium Neutral Undertone 24Hr Foundation 35 Frappe 25ml-48 Irish.jpg\n",
      "images/Rage For Coverage Medium Neutral Undertone 24Hr Foundation 35 Frappe 25ml-40 Breve.jpg\n",
      "images/Rage For Coverage Medium Neutral Undertone 24Hr Foundation 35 Frappe 25ml-10 Latte.jpg\n",
      "images/Rage For Coverage Medium Neutral Undertone 24Hr Foundation 35 Frappe 25ml-35 Frappe.jpg\n",
      "images/Rage For Coverage Medium Neutral Undertone 24Hr Foundation 35 Frappe 25ml-32 Cortado.jpg\n"
     ]
    },
    {
     "name": "stderr",
     "output_type": "stream",
     "text": [
      "<ipython-input-48-a5bbea6ed560>:58: ConvergenceWarning: Number of distinct clusters (2) found smaller than n_clusters (6). Possibly due to duplicate points in X.\n",
      "  estimator.fit(img)\n"
     ]
    },
    {
     "name": "stdout",
     "output_type": "stream",
     "text": [
      "images/Women Flawless Finish SPF 20 No.4 Sunscreen Foundation-4.jpg\n",
      "images/Studio Fix Fluid Foundation with SPF 15 - NC47 30ml-Nw45.jpg\n",
      "images/Studio Fix Fluid Foundation with SPF 15 - NC47 30ml-Nc45.jpg\n",
      "images/Studio Fix Fluid Foundation with SPF 15 - NC47 30ml-Nc35.jpg\n",
      "images/Studio Fix Fluid Foundation with SPF 15 - NC47 30ml-Nc40.jpg\n",
      "images/Studio Fix Fluid Foundation with SPF 15 - NC47 30ml-Nc30.jpg\n",
      "images/Studio Fix Fluid Foundation with SPF 15 - NC47 30ml-NC47.jpg\n",
      "images/Studio Fix Fluid Foundation with SPF 15 - NC47 30ml-Nc25.jpg\n",
      "images/Studio Fix Fluid Foundation with SPF 15 - NC47 30ml-Nc42.jpg\n",
      "images/Studio Fix Fluid Foundation with SPF 15 - NC47 30ml-Nc15.jpg\n",
      "images/Studio Fix Fluid Foundation with SPF 15 - NC47 30ml-Nc18.jpg\n",
      "images/Studio Fix Fluid Foundation with SPF 15 - NC47 30ml-Nc12.jpg\n",
      "images/Studio Fix Fluid Foundation with SPF 15 - NC47 30ml-Nc20.jpg\n",
      "images/Studio Fix Fluid Foundation with SPF 15 - NC47 30ml-Nw35.jpg\n",
      "images/Conceal & Define Foundation - F9 23ml-F12.2.jpg\n",
      "images/Conceal & Define Foundation - F9 23ml-F9.jpg\n",
      "images/Conceal & Define Foundation - F9 23ml-F7.5.jpg\n",
      "images/Conceal & Define Foundation - F9 23ml-F14.jpg\n",
      "images/Conceal & Define Foundation - F9 23ml-F12.5.jpg\n",
      "images/Conceal & Define Foundation - F9 23ml-F8.5.jpg\n",
      "images/Conceal & Define Foundation - F9 23ml-F7.jpg\n",
      "images/Conceal & Define Foundation - F9 23ml-F10.5.jpg\n",
      "images/Conceal & Define Foundation - F9 23ml-F6.jpg\n",
      "images/HD Perfect Coverup Foundation 81, (35ml)-Beige.jpg\n",
      "images/4 Absolute Cover Silk Peptide Foundation 30ml-4.jpg\n",
      "images/4 Absolute Cover Silk Peptide Foundation 30ml-Beige.jpg\n"
     ]
    },
    {
     "name": "stderr",
     "output_type": "stream",
     "text": [
      "<ipython-input-48-a5bbea6ed560>:58: ConvergenceWarning: Number of distinct clusters (2) found smaller than n_clusters (6). Possibly due to duplicate points in X.\n",
      "  estimator.fit(img)\n",
      "<ipython-input-48-a5bbea6ed560>:58: ConvergenceWarning: Number of distinct clusters (2) found smaller than n_clusters (6). Possibly due to duplicate points in X.\n",
      "  estimator.fit(img)\n",
      "<ipython-input-48-a5bbea6ed560>:58: ConvergenceWarning: Number of distinct clusters (2) found smaller than n_clusters (6). Possibly due to duplicate points in X.\n",
      "  estimator.fit(img)\n",
      "<ipython-input-48-a5bbea6ed560>:58: ConvergenceWarning: Number of distinct clusters (2) found smaller than n_clusters (6). Possibly due to duplicate points in X.\n",
      "  estimator.fit(img)\n"
     ]
    },
    {
     "name": "stdout",
     "output_type": "stream",
     "text": [
      "images/4 Absolute Cover Silk Peptide Foundation 30ml-5.jpg\n",
      "images/4 Absolute Cover Silk Peptide Foundation 30ml-2.jpg\n",
      "images/4 Absolute Cover Silk Peptide Foundation 30ml-6.jpg\n",
      "images/4 Absolute Cover Silk Peptide Foundation 30ml-4.5.jpg\n",
      "images/4 Absolute Cover Silk Peptide Foundation 30ml-7.5.jpg\n"
     ]
    },
    {
     "name": "stderr",
     "output_type": "stream",
     "text": [
      "<ipython-input-48-a5bbea6ed560>:58: ConvergenceWarning: Number of distinct clusters (2) found smaller than n_clusters (6). Possibly due to duplicate points in X.\n",
      "  estimator.fit(img)\n",
      "<ipython-input-48-a5bbea6ed560>:58: ConvergenceWarning: Number of distinct clusters (2) found smaller than n_clusters (6). Possibly due to duplicate points in X.\n",
      "  estimator.fit(img)\n"
     ]
    },
    {
     "name": "stdout",
     "output_type": "stream",
     "text": [
      "images/Soft Sable Pro Matte HD Foundation GLM721-Creamy Cocoa.jpg\n",
      "images/Soft Sable Pro Matte HD Foundation GLM721-Chestnut.jpg\n",
      "images/Soft Sable Pro Matte HD Foundation GLM721-Cappuccino.jpg\n",
      "images/Soft Sable Pro Matte HD Foundation GLM721-Expresso GLM723.jpg\n",
      "images/Soft Sable Pro Matte HD Foundation GLM721-Soft Sable.jpg\n",
      "images/Soft Sable Pro Matte HD Foundation GLM721-Deep Tan.jpg\n",
      "images/Colorstay Make Up Normal To Dry SPF 20 - Toast-Toast.jpg\n",
      "images/Colorstay Make Up Normal To Dry SPF 20 - Toast-Natural Tan.jpg\n",
      "images/Colorstay Make Up Normal To Dry SPF 20 - Toast-Warm Golden.jpg\n",
      "images/Colorstay Make Up Normal To Dry SPF 20 - Toast-Skincare.jpg\n",
      "images/Syncro SPF 35 Skin Self Refreshing Foundation 230 Alder 30 ml-Neutral Chestnut N360.jpg\n",
      "images/Syncro SPF 35 Skin Self Refreshing Foundation 230 Alder 30 ml-Biege.jpg\n",
      "images/Syncro SPF 35 Skin Self Refreshing Foundation 230 Alder 30 ml-Sand.jpg\n",
      "images/Syncro SPF 35 Skin Self Refreshing Foundation 230 Alder 30 ml-Beige.jpg\n",
      "images/Syncro SPF 35 Skin Self Refreshing Foundation 230 Alder 30 ml-Sunstone 410.jpg\n",
      "images/Syncro SPF 35 Skin Self Refreshing Foundation 230 Alder 30 ml-Maple Sugar.jpg\n",
      "images/Syncro SPF 35 Skin Self Refreshing Foundation 230 Alder 30 ml-Alder.jpg\n",
      "images/Paris Infaillible 24H Fresh Wear Foundation - Golden Sun 260 30ml-Golden Sun 260.jpg\n"
     ]
    },
    {
     "name": "stderr",
     "output_type": "stream",
     "text": [
      "<ipython-input-48-a5bbea6ed560>:58: ConvergenceWarning: Number of distinct clusters (2) found smaller than n_clusters (6). Possibly due to duplicate points in X.\n",
      "  estimator.fit(img)\n"
     ]
    },
    {
     "name": "stdout",
     "output_type": "stream",
     "text": [
      "images/Paris Infaillible 24H Fresh Wear Foundation - Golden Sun 260 30ml-Radiant Sand.jpg\n"
     ]
    },
    {
     "name": "stderr",
     "output_type": "stream",
     "text": [
      "<ipython-input-48-a5bbea6ed560>:58: ConvergenceWarning: Number of distinct clusters (1) found smaller than n_clusters (6). Possibly due to duplicate points in X.\n",
      "  estimator.fit(img)\n",
      "<ipython-input-48-a5bbea6ed560>:58: ConvergenceWarning: Number of distinct clusters (2) found smaller than n_clusters (6). Possibly due to duplicate points in X.\n",
      "  estimator.fit(img)\n"
     ]
    },
    {
     "name": "stdout",
     "output_type": "stream",
     "text": [
      "images/Paris Infaillible 24H Fresh Wear Foundation - Golden Sun 260 30ml-300 Amber.jpg\n",
      "images/Paris Infaillible 24H Fresh Wear Foundation - Golden Sun 260 30ml-Golden Beige.jpg\n",
      "images/Paris Infaillible 24H Fresh Wear Foundation - Golden Sun 260 30ml-Radiant Beige.jpg\n",
      "images/Flawless Finish Daily Wear Lightweight Foundation - Natural Beige 03-Natural Beige.jpg\n",
      "images/Flawless Finish Daily Wear Lightweight Foundation - Natural Beige 03-Medium.jpg\n",
      "images/Colorstay Make Up Combination Oily SPF 15 - Toast-Toast.jpg\n",
      "images/Colorstay Make Up Combination Oily SPF 15 - Toast-Natural Tan.jpg\n",
      "images/Colorstay Make Up Combination Oily SPF 15 - Toast-Warm Golden.jpg\n",
      "images/Colorstay Make Up Combination Oily SPF 15 - Toast-Skincare.jpg\n",
      "images/Studio Fix Soft Matte Foundation Stick - NC60 9g-Nw60.jpg\n",
      "images/SPF 15 Unlimited Foundation N145-Neutral 145.jpg\n"
     ]
    },
    {
     "name": "stderr",
     "output_type": "stream",
     "text": [
      "<ipython-input-48-a5bbea6ed560>:58: ConvergenceWarning: Number of distinct clusters (2) found smaller than n_clusters (6). Possibly due to duplicate points in X.\n",
      "  estimator.fit(img)\n"
     ]
    },
    {
     "name": "stdout",
     "output_type": "stream",
     "text": [
      "images/Deep Tan Pro Matte HD Foundation GLM719-Creamy Cocoa.jpg\n"
     ]
    },
    {
     "name": "stderr",
     "output_type": "stream",
     "text": [
      "<ipython-input-48-a5bbea6ed560>:58: ConvergenceWarning: Number of distinct clusters (1) found smaller than n_clusters (6). Possibly due to duplicate points in X.\n",
      "  estimator.fit(img)\n"
     ]
    },
    {
     "name": "stdout",
     "output_type": "stream",
     "text": [
      "images/Deep Tan Pro Matte HD Foundation GLM719-Chestnut.jpg\n"
     ]
    },
    {
     "name": "stderr",
     "output_type": "stream",
     "text": [
      "<ipython-input-48-a5bbea6ed560>:58: ConvergenceWarning: Number of distinct clusters (2) found smaller than n_clusters (6). Possibly due to duplicate points in X.\n",
      "  estimator.fit(img)\n"
     ]
    },
    {
     "name": "stdout",
     "output_type": "stream",
     "text": [
      "images/Deep Tan Pro Matte HD Foundation GLM719-Cappuccino.jpg\n",
      "images/Deep Tan Pro Matte HD Foundation GLM719-Expresso GLM723.jpg\n"
     ]
    },
    {
     "name": "stderr",
     "output_type": "stream",
     "text": [
      "<ipython-input-48-a5bbea6ed560>:58: ConvergenceWarning: Number of distinct clusters (2) found smaller than n_clusters (6). Possibly due to duplicate points in X.\n",
      "  estimator.fit(img)\n"
     ]
    },
    {
     "name": "stdout",
     "output_type": "stream",
     "text": [
      "images/Deep Tan Pro Matte HD Foundation GLM719-Soft Sable.jpg\n"
     ]
    },
    {
     "name": "stderr",
     "output_type": "stream",
     "text": [
      "<ipython-input-48-a5bbea6ed560>:58: ConvergenceWarning: Number of distinct clusters (2) found smaller than n_clusters (6). Possibly due to duplicate points in X.\n",
      "  estimator.fit(img)\n"
     ]
    },
    {
     "name": "stdout",
     "output_type": "stream",
     "text": [
      "images/Deep Tan Pro Matte HD Foundation GLM719-Deep Tan.jpg\n"
     ]
    },
    {
     "name": "stderr",
     "output_type": "stream",
     "text": [
      "<ipython-input-48-a5bbea6ed560>:58: ConvergenceWarning: Number of distinct clusters (2) found smaller than n_clusters (6). Possibly due to duplicate points in X.\n",
      "  estimator.fit(img)\n"
     ]
    },
    {
     "name": "stdout",
     "output_type": "stream",
     "text": [
      "images/GLM684 Cappuccino HD PRO.Matte Foundation 30ml-Creamy Cocoa.jpg\n",
      "images/GLM684 Cappuccino HD PRO.Matte Foundation 30ml-Chestnut.jpg\n",
      "images/GLM684 Cappuccino HD PRO.Matte Foundation 30ml-Cappuccino.jpg\n",
      "images/GLM684 Cappuccino HD PRO.Matte Foundation 30ml-Expresso GLM723.jpg\n",
      "images/GLM684 Cappuccino HD PRO.Matte Foundation 30ml-Soft Sable.jpg\n",
      "images/GLM684 Cappuccino HD PRO.Matte Foundation 30ml-Deep Tan.jpg\n",
      "images/Weightless Perfection SPF 30 Wet and Dry Powder Foundation N95-Neutral 95.jpg\n"
     ]
    },
    {
     "name": "stderr",
     "output_type": "stream",
     "text": [
      "<ipython-input-48-a5bbea6ed560>:58: ConvergenceWarning: Number of distinct clusters (2) found smaller than n_clusters (6). Possibly due to duplicate points in X.\n",
      "  estimator.fit(img)\n"
     ]
    },
    {
     "name": "stdout",
     "output_type": "stream",
     "text": [
      "images/Weightless Perfection SPF 30 Wet and Dry Powder Foundation N95-Warm Rose 90.jpg\n"
     ]
    },
    {
     "name": "stderr",
     "output_type": "stream",
     "text": [
      "<ipython-input-48-a5bbea6ed560>:58: ConvergenceWarning: Number of distinct clusters (1) found smaller than n_clusters (6). Possibly due to duplicate points in X.\n",
      "  estimator.fit(img)\n"
     ]
    },
    {
     "name": "stdout",
     "output_type": "stream",
     "text": [
      "images/Weightless Perfection SPF 30 Wet and Dry Powder Foundation N95-Warm Rose 50.jpg\n"
     ]
    },
    {
     "name": "stderr",
     "output_type": "stream",
     "text": [
      "<ipython-input-48-a5bbea6ed560>:58: ConvergenceWarning: Number of distinct clusters (2) found smaller than n_clusters (6). Possibly due to duplicate points in X.\n",
      "  estimator.fit(img)\n"
     ]
    },
    {
     "name": "stdout",
     "output_type": "stream",
     "text": [
      "images/London 504 Mocha SPF 25 Lasting Radiance Anti-Pollution Foundation-Classic Beige.jpg\n",
      "images/London 504 Mocha SPF 25 Lasting Radiance Anti-Pollution Foundation-Mocha.jpg\n",
      "images/London 504 Mocha SPF 25 Lasting Radiance Anti-Pollution Foundation-Natural Beige.jpg\n",
      "images/Sand Mattifying Extreme Wear SPF 15 Foundation 04-Dark Honey.jpg\n"
     ]
    },
    {
     "name": "stderr",
     "output_type": "stream",
     "text": [
      "<ipython-input-48-a5bbea6ed560>:58: ConvergenceWarning: Number of distinct clusters (2) found smaller than n_clusters (6). Possibly due to duplicate points in X.\n",
      "  estimator.fit(img)\n"
     ]
    },
    {
     "name": "stdout",
     "output_type": "stream",
     "text": [
      "images/Sand Mattifying Extreme Wear SPF 15 Foundation 04-7.jpg\n"
     ]
    },
    {
     "name": "stderr",
     "output_type": "stream",
     "text": [
      "<ipython-input-48-a5bbea6ed560>:58: ConvergenceWarning: Number of distinct clusters (2) found smaller than n_clusters (6). Possibly due to duplicate points in X.\n",
      "  estimator.fit(img)\n"
     ]
    },
    {
     "name": "stdout",
     "output_type": "stream",
     "text": [
      "images/Sand Mattifying Extreme Wear SPF 15 Foundation 04-Medium Beige.jpg\n"
     ]
    },
    {
     "name": "stderr",
     "output_type": "stream",
     "text": [
      "<ipython-input-48-a5bbea6ed560>:58: ConvergenceWarning: Number of distinct clusters (2) found smaller than n_clusters (6). Possibly due to duplicate points in X.\n",
      "  estimator.fit(img)\n"
     ]
    },
    {
     "name": "stdout",
     "output_type": "stream",
     "text": [
      "images/Sand Mattifying Extreme Wear SPF 15 Foundation 04-Sand.jpg\n"
     ]
    },
    {
     "name": "stderr",
     "output_type": "stream",
     "text": [
      "<ipython-input-48-a5bbea6ed560>:58: ConvergenceWarning: Number of distinct clusters (2) found smaller than n_clusters (6). Possibly due to duplicate points in X.\n",
      "  estimator.fit(img)\n"
     ]
    },
    {
     "name": "stdout",
     "output_type": "stream",
     "text": [
      "images/Sand Mattifying Extreme Wear SPF 15 Foundation 04-Sunny.jpg\n"
     ]
    },
    {
     "name": "stderr",
     "output_type": "stream",
     "text": [
      "<ipython-input-48-a5bbea6ed560>:58: ConvergenceWarning: Number of distinct clusters (2) found smaller than n_clusters (6). Possibly due to duplicate points in X.\n",
      "  estimator.fit(img)\n"
     ]
    },
    {
     "name": "stdout",
     "output_type": "stream",
     "text": [
      "images/Sand Mattifying Extreme Wear SPF 15 Foundation 04-Honey Beige.jpg\n"
     ]
    },
    {
     "name": "stderr",
     "output_type": "stream",
     "text": [
      "<ipython-input-48-a5bbea6ed560>:58: ConvergenceWarning: Number of distinct clusters (2) found smaller than n_clusters (6). Possibly due to duplicate points in X.\n",
      "  estimator.fit(img)\n",
      "<ipython-input-48-a5bbea6ed560>:58: ConvergenceWarning: Number of distinct clusters (2) found smaller than n_clusters (6). Possibly due to duplicate points in X.\n",
      "  estimator.fit(img)\n"
     ]
    },
    {
     "name": "stdout",
     "output_type": "stream",
     "text": [
      "images/Milano True Beige Newskin Wet & Dry Compact Foundation 03-True Beige.jpg\n",
      "images/Milano True Beige Newskin Wet & Dry Compact Foundation 03-Brown.jpg\n",
      "images/Milano True Beige Newskin Wet & Dry Compact Foundation 03-Rosehip Orange.jpg\n",
      "images/L.A. Colors Light Tan Radiant Liquid Makeup Foundation 28.5 ml-Light Tan.jpg\n"
     ]
    },
    {
     "name": "stderr",
     "output_type": "stream",
     "text": [
      "<ipython-input-48-a5bbea6ed560>:58: ConvergenceWarning: Number of distinct clusters (2) found smaller than n_clusters (6). Possibly due to duplicate points in X.\n",
      "  estimator.fit(img)\n"
     ]
    },
    {
     "name": "stdout",
     "output_type": "stream",
     "text": [
      "images/Conceal & Define Full Coverage Foundation - F14 23 ml-F12.2.jpg\n",
      "images/Conceal & Define Full Coverage Foundation - F14 23 ml-F9.jpg\n",
      "images/Conceal & Define Full Coverage Foundation - F14 23 ml-F7.5.jpg\n",
      "images/Conceal & Define Full Coverage Foundation - F14 23 ml-F14.jpg\n",
      "images/Conceal & Define Full Coverage Foundation - F14 23 ml-F12.5.jpg\n",
      "images/Conceal & Define Full Coverage Foundation - F14 23 ml-F8.5.jpg\n",
      "images/Conceal & Define Full Coverage Foundation - F14 23 ml-F7.jpg\n",
      "images/Conceal & Define Full Coverage Foundation - F14 23 ml-F10.5.jpg\n",
      "images/Conceal & Define Full Coverage Foundation - F14 23 ml-F6.jpg\n",
      "images/Creamy Cocoa Pro Matte HD Foundation GLM720-Creamy Cocoa.jpg\n",
      "images/Creamy Cocoa Pro Matte HD Foundation GLM720-Chestnut.jpg\n",
      "images/Creamy Cocoa Pro Matte HD Foundation GLM720-Cappuccino.jpg\n",
      "images/Creamy Cocoa Pro Matte HD Foundation GLM720-Expresso GLM723.jpg\n",
      "images/Creamy Cocoa Pro Matte HD Foundation GLM720-Soft Sable.jpg\n",
      "images/Creamy Cocoa Pro Matte HD Foundation GLM720-Deep Tan.jpg\n",
      "images/London Lasting Radiance Natural Beige SPF 25 Anti-Pollution Foundation 400-Classic Beige.jpg\n",
      "images/London Lasting Radiance Natural Beige SPF 25 Anti-Pollution Foundation 400-Mocha.jpg\n",
      "images/London Lasting Radiance Natural Beige SPF 25 Anti-Pollution Foundation 400-Natural Beige.jpg\n",
      "images/Women Insta Perfect Liquid Make Up - 60-30.jpg\n",
      "images/Women Insta Perfect Liquid Make Up - 60-60.jpg\n",
      "images/Flawless Finish Daily Wear Lightweight Foundation - Medium N06-Natural Beige.jpg\n",
      "images/Flawless Finish Daily Wear Lightweight Foundation - Medium N06-Medium.jpg\n",
      "images/Women Beige 24Hrs Weightless Liquid Foundation-FW 5.2 25 ml-Fw 1.4.jpg\n",
      "images/Women Beige 24Hrs Weightless Liquid Foundation-FW 5.2 25 ml-Beige.jpg\n",
      "images/Women Beige 24Hrs Weightless Liquid Foundation-FW 5.2 25 ml-Fw 6.4.jpg\n",
      "images/Women Beige 24Hrs Weightless Liquid Foundation-FW 5.2 25 ml-Warm Beige.jpg\n",
      "images/24Hrs Weightless Liquid Foundation - FW 6.4 25ml-Fw 1.4.jpg\n",
      "images/24Hrs Weightless Liquid Foundation - FW 6.4 25ml-Beige.jpg\n",
      "images/24Hrs Weightless Liquid Foundation - FW 6.4 25ml-Fw 6.4.jpg\n",
      "images/24Hrs Weightless Liquid Foundation - FW 6.4 25ml-Warm Beige.jpg\n",
      "images/Women Better Skin Foundation 03 30 ml-Beige.jpg\n",
      "images/Nourishing Perfection SPF 20 Cream Compact Foundation N80-Neutral 130.jpg\n"
     ]
    },
    {
     "name": "stderr",
     "output_type": "stream",
     "text": [
      "<ipython-input-48-a5bbea6ed560>:58: ConvergenceWarning: Number of distinct clusters (2) found smaller than n_clusters (6). Possibly due to duplicate points in X.\n",
      "  estimator.fit(img)\n",
      "<ipython-input-48-a5bbea6ed560>:58: ConvergenceWarning: Number of distinct clusters (2) found smaller than n_clusters (6). Possibly due to duplicate points in X.\n",
      "  estimator.fit(img)\n"
     ]
    },
    {
     "name": "stdout",
     "output_type": "stream",
     "text": [
      "images/Nourishing Perfection SPF 20 Cream Compact Foundation N80-Warm ROse 70.jpg\n"
     ]
    },
    {
     "name": "stderr",
     "output_type": "stream",
     "text": [
      "<ipython-input-48-a5bbea6ed560>:58: ConvergenceWarning: Number of distinct clusters (1) found smaller than n_clusters (6). Possibly due to duplicate points in X.\n",
      "  estimator.fit(img)\n"
     ]
    },
    {
     "name": "stdout",
     "output_type": "stream",
     "text": [
      "images/Nourishing Perfection SPF 20 Cream Compact Foundation N80-Neutral 95.jpg\n"
     ]
    },
    {
     "name": "stderr",
     "output_type": "stream",
     "text": [
      "<ipython-input-48-a5bbea6ed560>:58: ConvergenceWarning: Number of distinct clusters (2) found smaller than n_clusters (6). Possibly due to duplicate points in X.\n",
      "  estimator.fit(img)\n"
     ]
    },
    {
     "name": "stdout",
     "output_type": "stream",
     "text": [
      "images/Nourishing Perfection SPF 20 Cream Compact Foundation N80-Neutral 80.jpg\n"
     ]
    },
    {
     "name": "stderr",
     "output_type": "stream",
     "text": [
      "<ipython-input-48-a5bbea6ed560>:58: ConvergenceWarning: Number of distinct clusters (2) found smaller than n_clusters (6). Possibly due to duplicate points in X.\n",
      "  estimator.fit(img)\n"
     ]
    },
    {
     "name": "stdout",
     "output_type": "stream",
     "text": [
      "images/Nourishing Perfection SPF 20 Cream Compact Foundation N 130-Neutral 130.jpg\n"
     ]
    },
    {
     "name": "stderr",
     "output_type": "stream",
     "text": [
      "<ipython-input-48-a5bbea6ed560>:58: ConvergenceWarning: Number of distinct clusters (2) found smaller than n_clusters (6). Possibly due to duplicate points in X.\n",
      "  estimator.fit(img)\n"
     ]
    },
    {
     "name": "stdout",
     "output_type": "stream",
     "text": [
      "images/Nourishing Perfection SPF 20 Cream Compact Foundation N 130-Warm ROse 70.jpg\n"
     ]
    },
    {
     "name": "stderr",
     "output_type": "stream",
     "text": [
      "<ipython-input-48-a5bbea6ed560>:58: ConvergenceWarning: Number of distinct clusters (1) found smaller than n_clusters (6). Possibly due to duplicate points in X.\n",
      "  estimator.fit(img)\n"
     ]
    },
    {
     "name": "stdout",
     "output_type": "stream",
     "text": [
      "images/Nourishing Perfection SPF 20 Cream Compact Foundation N 130-Neutral 95.jpg\n"
     ]
    },
    {
     "name": "stderr",
     "output_type": "stream",
     "text": [
      "<ipython-input-48-a5bbea6ed560>:58: ConvergenceWarning: Number of distinct clusters (2) found smaller than n_clusters (6). Possibly due to duplicate points in X.\n",
      "  estimator.fit(img)\n"
     ]
    },
    {
     "name": "stdout",
     "output_type": "stream",
     "text": [
      "images/Nourishing Perfection SPF 20 Cream Compact Foundation N 130-Neutral 80.jpg\n"
     ]
    },
    {
     "name": "stderr",
     "output_type": "stream",
     "text": [
      "<ipython-input-48-a5bbea6ed560>:58: ConvergenceWarning: Number of distinct clusters (2) found smaller than n_clusters (6). Possibly due to duplicate points in X.\n",
      "  estimator.fit(img)\n"
     ]
    },
    {
     "name": "stdout",
     "output_type": "stream",
     "text": [
      "images/24Hrs Weightless Liquid Foundation-FC 6.1 25ml-Fw 1.4.jpg\n",
      "images/24Hrs Weightless Liquid Foundation-FC 6.1 25ml-Beige.jpg\n",
      "images/24Hrs Weightless Liquid Foundation-FC 6.1 25ml-Fw 6.4.jpg\n",
      "images/24Hrs Weightless Liquid Foundation-FC 6.1 25ml-Warm Beige.jpg\n",
      "images/24Hrs Weightless Liquid Foundation FC 7.1 25 ml-Fw 1.4.jpg\n",
      "images/24Hrs Weightless Liquid Foundation FC 7.1 25 ml-Beige.jpg\n",
      "images/24Hrs Weightless Liquid Foundation FC 7.1 25 ml-Fw 6.4.jpg\n",
      "images/24Hrs Weightless Liquid Foundation FC 7.1 25 ml-Warm Beige.jpg\n",
      "images/Beige 24Hrs Weightless Liquid Foundation FW 5.4 25 ml-Fw 1.4.jpg\n",
      "images/Beige 24Hrs Weightless Liquid Foundation FW 5.4 25 ml-Beige.jpg\n",
      "images/Beige 24Hrs Weightless Liquid Foundation FW 5.4 25 ml-Fw 6.4.jpg\n",
      "images/Beige 24Hrs Weightless Liquid Foundation FW 5.4 25 ml-Warm Beige.jpg\n",
      "images/Ultime Pro Sun Defense CC Cream Luxe SPF 50 Sand 03 30ml-Natural 02.jpg\n",
      "images/Ultime Pro Sun Defense CC Cream Luxe SPF 50 Sand 03 30ml-Beige.jpg\n",
      "images/Ultime Pro Sun Defense CC Cream Luxe SPF 50 Sand 03 30ml-Sand 03.jpg\n",
      "images/Extreme Matte Long Wear Foundation Ocher Deep 3034 30ml-Beige.jpg\n"
     ]
    },
    {
     "name": "stderr",
     "output_type": "stream",
     "text": [
      "<ipython-input-48-a5bbea6ed560>:58: ConvergenceWarning: Number of distinct clusters (5) found smaller than n_clusters (6). Possibly due to duplicate points in X.\n",
      "  estimator.fit(img)\n",
      "<ipython-input-48-a5bbea6ed560>:58: ConvergenceWarning: Number of distinct clusters (5) found smaller than n_clusters (6). Possibly due to duplicate points in X.\n",
      "  estimator.fit(img)\n"
     ]
    },
    {
     "name": "stdout",
     "output_type": "stream",
     "text": [
      "images/Extreme Matte Long-Wear Foundation Ocher Medium #3023 30 ml-Beige.jpg\n",
      "images/Primer + Foundation - Bronzed Glow - 15 ml each-NA.jpg\n",
      "images/Primer + Foundation - Bronzed Glow - 15 ml each-Beige Vanilla.jpg\n",
      "images/Milano Light Rose SPF 15 Perfect & Natural Foundation 02-Natural 02.jpg\n",
      "images/Fresh & Fit Awake Make Up 10 - Fresh Ivory-30 Fresh Honey.jpg\n",
      "images/Fresh & Fit Awake Make Up 10 - Fresh Ivory-Fresh Nude.jpg\n",
      "images/Fresh & Fit Awake Make Up 10 - Fresh Ivory-10 - Fresh Ivory.jpg\n"
     ]
    },
    {
     "name": "stderr",
     "output_type": "stream",
     "text": [
      "<ipython-input-48-a5bbea6ed560>:58: ConvergenceWarning: Number of distinct clusters (2) found smaller than n_clusters (6). Possibly due to duplicate points in X.\n",
      "  estimator.fit(img)\n"
     ]
    },
    {
     "name": "stdout",
     "output_type": "stream",
     "text": [
      "images/Fresh & Fit Awake Make Up 30 Foundation-30 Fresh Honey.jpg\n",
      "images/Fresh & Fit Awake Make Up 30 Foundation-Fresh Nude.jpg\n",
      "images/Fresh & Fit Awake Make Up 30 Foundation-10 - Fresh Ivory.jpg\n",
      "images/Women Insta Perfect Liquid Make Up - 30-30.jpg\n",
      "images/Women Insta Perfect Liquid Make Up - 30-60.jpg\n",
      "images/Syncro Skin Self- Refershing Foundation 250- Sand-Neutral Chestnut N360.jpg\n",
      "images/Syncro Skin Self- Refershing Foundation 250- Sand-Biege.jpg\n",
      "images/Syncro Skin Self- Refershing Foundation 250- Sand-Sand.jpg\n"
     ]
    },
    {
     "name": "stderr",
     "output_type": "stream",
     "text": [
      "<ipython-input-48-a5bbea6ed560>:58: ConvergenceWarning: Number of distinct clusters (2) found smaller than n_clusters (6). Possibly due to duplicate points in X.\n",
      "  estimator.fit(img)\n",
      "<ipython-input-48-a5bbea6ed560>:58: ConvergenceWarning: Number of distinct clusters (1) found smaller than n_clusters (6). Possibly due to duplicate points in X.\n",
      "  estimator.fit(img)\n"
     ]
    },
    {
     "name": "stdout",
     "output_type": "stream",
     "text": [
      "images/Syncro Skin Self- Refershing Foundation 250- Sand-Beige.jpg\n",
      "images/Syncro Skin Self- Refershing Foundation 250- Sand-Sunstone 410.jpg\n",
      "images/Syncro Skin Self- Refershing Foundation 250- Sand-Maple Sugar.jpg\n",
      "images/Syncro Skin Self- Refershing Foundation 250- Sand-Alder.jpg\n",
      "images/Syncro Skin Self - Refershing Foundation - 360 - Citrine-Neutral Chestnut N360.jpg\n",
      "images/Syncro Skin Self - Refershing Foundation - 360 - Citrine-Biege.jpg\n",
      "images/Syncro Skin Self - Refershing Foundation - 360 - Citrine-Sand.jpg\n"
     ]
    },
    {
     "name": "stderr",
     "output_type": "stream",
     "text": [
      "<ipython-input-48-a5bbea6ed560>:58: ConvergenceWarning: Number of distinct clusters (2) found smaller than n_clusters (6). Possibly due to duplicate points in X.\n",
      "  estimator.fit(img)\n",
      "<ipython-input-48-a5bbea6ed560>:58: ConvergenceWarning: Number of distinct clusters (1) found smaller than n_clusters (6). Possibly due to duplicate points in X.\n",
      "  estimator.fit(img)\n"
     ]
    },
    {
     "name": "stdout",
     "output_type": "stream",
     "text": [
      "images/Syncro Skin Self - Refershing Foundation - 360 - Citrine-Beige.jpg\n",
      "images/Syncro Skin Self - Refershing Foundation - 360 - Citrine-Sunstone 410.jpg\n",
      "images/Syncro Skin Self - Refershing Foundation - 360 - Citrine-Maple Sugar.jpg\n",
      "images/Syncro Skin Self - Refershing Foundation - 360 - Citrine-Alder.jpg\n",
      "images/Syncro Skin Self- Refreshing Foundation 410 Sunstone 30 ml-Neutral Chestnut N360.jpg\n",
      "images/Syncro Skin Self- Refreshing Foundation 410 Sunstone 30 ml-Biege.jpg\n",
      "images/Syncro Skin Self- Refreshing Foundation 410 Sunstone 30 ml-Sand.jpg\n",
      "images/Syncro Skin Self- Refreshing Foundation 410 Sunstone 30 ml-Beige.jpg\n",
      "images/Syncro Skin Self- Refreshing Foundation 410 Sunstone 30 ml-Sunstone 410.jpg\n",
      "images/Syncro Skin Self- Refreshing Foundation 410 Sunstone 30 ml-Maple Sugar.jpg"
     ]
    },
    {
     "name": "stderr",
     "output_type": "stream",
     "text": [
      "<ipython-input-48-a5bbea6ed560>:58: ConvergenceWarning: Number of distinct clusters (2) found smaller than n_clusters (6). Possibly due to duplicate points in X.\n",
      "  estimator.fit(img)\n",
      "<ipython-input-48-a5bbea6ed560>:58: ConvergenceWarning: Number of distinct clusters (1) found smaller than n_clusters (6). Possibly due to duplicate points in X.\n",
      "  estimator.fit(img)\n"
     ]
    },
    {
     "name": "stdout",
     "output_type": "stream",
     "text": [
      "\n",
      "images/Syncro Skin Self- Refreshing Foundation 410 Sunstone 30 ml-Alder.jpg\n",
      "images/Skin Self Refreshing Foundation 350 Maple-Neutral Chestnut N360.jpg\n",
      "images/Skin Self Refreshing Foundation 350 Maple-Biege.jpg\n",
      "images/Skin Self Refreshing Foundation 350 Maple-Sand.jpg\n",
      "images/Skin Self Refreshing Foundation 350 Maple-Beige.jpg\n"
     ]
    },
    {
     "name": "stderr",
     "output_type": "stream",
     "text": [
      "<ipython-input-48-a5bbea6ed560>:58: ConvergenceWarning: Number of distinct clusters (2) found smaller than n_clusters (6). Possibly due to duplicate points in X.\n",
      "  estimator.fit(img)\n",
      "<ipython-input-48-a5bbea6ed560>:58: ConvergenceWarning: Number of distinct clusters (1) found smaller than n_clusters (6). Possibly due to duplicate points in X.\n",
      "  estimator.fit(img)\n"
     ]
    },
    {
     "name": "stdout",
     "output_type": "stream",
     "text": [
      "images/Skin Self Refreshing Foundation 350 Maple-Sunstone 410.jpg\n",
      "images/Skin Self Refreshing Foundation 350 Maple-Maple Sugar.jpg\n",
      "images/Skin Self Refreshing Foundation 350 Maple-Alder.jpg\n",
      "images/Synchro Skin Self-refreshing Foundation, 30ML-Neutral Chestnut N360.jpg\n",
      "images/Synchro Skin Self-refreshing Foundation, 30ML-Biege.jpg\n",
      "images/Synchro Skin Self-refreshing Foundation, 30ML-Sand.jpg\n"
     ]
    },
    {
     "name": "stderr",
     "output_type": "stream",
     "text": [
      "<ipython-input-48-a5bbea6ed560>:58: ConvergenceWarning: Number of distinct clusters (2) found smaller than n_clusters (6). Possibly due to duplicate points in X.\n",
      "  estimator.fit(img)\n",
      "<ipython-input-48-a5bbea6ed560>:58: ConvergenceWarning: Number of distinct clusters (1) found smaller than n_clusters (6). Possibly due to duplicate points in X.\n",
      "  estimator.fit(img)\n"
     ]
    },
    {
     "name": "stdout",
     "output_type": "stream",
     "text": [
      "images/Synchro Skin Self-refreshing Foundation, 30ML-Beige.jpg\n",
      "images/Synchro Skin Self-refreshing Foundation, 30ML-Sunstone 410.jpg\n",
      "images/Synchro Skin Self-refreshing Foundation, 30ML-Maple Sugar.jpg\n",
      "images/Synchro Skin Self-refreshing Foundation, 30ML-Alder.jpg\n",
      "images/Syncro Skin Self - Refreshing Foundation 320 Pine 30 ml-Neutral Chestnut N360.jpg\n",
      "images/Syncro Skin Self - Refreshing Foundation 320 Pine 30 ml-Biege.jpg\n",
      "images/Syncro Skin Self - Refreshing Foundation 320 Pine 30 ml-Sand.jpg\n",
      "images/Syncro Skin Self - Refreshing Foundation 320 Pine 30 ml-Beige.jpg\n",
      "images/Syncro Skin Self - Refreshing Foundation 320 Pine 30 ml-Sunstone 410.jpg\n",
      "images/Syncro Skin Self - Refreshing Foundation 320 Pine 30 ml-Maple Sugar.jpg\n"
     ]
    },
    {
     "name": "stderr",
     "output_type": "stream",
     "text": [
      "<ipython-input-48-a5bbea6ed560>:58: ConvergenceWarning: Number of distinct clusters (2) found smaller than n_clusters (6). Possibly due to duplicate points in X.\n",
      "  estimator.fit(img)\n",
      "<ipython-input-48-a5bbea6ed560>:58: ConvergenceWarning: Number of distinct clusters (1) found smaller than n_clusters (6). Possibly due to duplicate points in X.\n",
      "  estimator.fit(img)\n"
     ]
    },
    {
     "name": "stdout",
     "output_type": "stream",
     "text": [
      "images/Syncro Skin Self - Refreshing Foundation 320 Pine 30 ml-Alder.jpg\n",
      "images/Women Beige 24Hrs Weightless Liquid Foundation-FW 4.4 25 ml-Fw 1.4.jpg\n",
      "images/Women Beige 24Hrs Weightless Liquid Foundation-FW 4.4 25 ml-Beige.jpg\n",
      "images/Women Beige 24Hrs Weightless Liquid Foundation-FW 4.4 25 ml-Fw 6.4.jpg\n",
      "images/Women Beige 24Hrs Weightless Liquid Foundation-FW 4.4 25 ml-Warm Beige.jpg\n",
      "images/Beige 24Hrs Weightless Liquid Foundation FW 1.1 25 ml-Fw 1.4.jpg\n",
      "images/Beige 24Hrs Weightless Liquid Foundation FW 1.1 25 ml-Beige.jpg\n",
      "images/Beige 24Hrs Weightless Liquid Foundation FW 1.1 25 ml-Fw 6.4.jpg\n",
      "images/Beige 24Hrs Weightless Liquid Foundation FW 1.1 25 ml-Warm Beige.jpg\n",
      "images/24Hrs Weightless Liquid Foundation-FC 6.3 25ml-Fw 1.4.jpg\n",
      "images/24Hrs Weightless Liquid Foundation-FC 6.3 25ml-Beige.jpg\n",
      "images/24Hrs Weightless Liquid Foundation-FC 6.3 25ml-Fw 6.4.jpg\n",
      "images/24Hrs Weightless Liquid Foundation-FC 6.3 25ml-Warm Beige.jpg\n",
      "images/Women Beige 24Hrs Weightless Liquid Foundation-FW 8.2 25 ml-Fw 1.4.jpg\n",
      "images/Women Beige 24Hrs Weightless Liquid Foundation-FW 8.2 25 ml-Beige.jpg\n",
      "images/Women Beige 24Hrs Weightless Liquid Foundation-FW 8.2 25 ml-Fw 6.4.jpg\n",
      "images/Women Beige 24Hrs Weightless Liquid Foundation-FW 8.2 25 ml-Warm Beige.jpg\n",
      "images/Women Beige 24Hrs Weightless Liquid Foundation-FW 8.3 25 ml-Fw 1.4.jpg\n",
      "images/Women Beige 24Hrs Weightless Liquid Foundation-FW 8.3 25 ml-Beige.jpg\n",
      "images/Women Beige 24Hrs Weightless Liquid Foundation-FW 8.3 25 ml-Fw 6.4.jpg\n",
      "images/Women Beige 24Hrs Weightless Liquid Foundation-FW 8.3 25 ml-Warm Beige.jpg\n",
      "images/Colorstay Make Up Combination Oily SPF 15 - Golden Caramel-Golden Caramel.jpg\n",
      "images/Luminous Foundation - 315N-NA.jpg\n"
     ]
    },
    {
     "name": "stderr",
     "output_type": "stream",
     "text": [
      "<ipython-input-48-a5bbea6ed560>:58: ConvergenceWarning: Number of distinct clusters (1) found smaller than n_clusters (6). Possibly due to duplicate points in X.\n",
      "  estimator.fit(img)\n"
     ]
    },
    {
     "name": "stdout",
     "output_type": "stream",
     "text": [
      "images/Luminous Foundation - 315N-Skincare.jpg\n"
     ]
    },
    {
     "name": "stderr",
     "output_type": "stream",
     "text": [
      "<ipython-input-48-a5bbea6ed560>:58: ConvergenceWarning: Number of distinct clusters (2) found smaller than n_clusters (6). Possibly due to duplicate points in X.\n",
      "  estimator.fit(img)\n"
     ]
    },
    {
     "name": "stdout",
     "output_type": "stream",
     "text": [
      "images/Luminous Foundation - 330W-NA.jpg\n"
     ]
    },
    {
     "name": "stderr",
     "output_type": "stream",
     "text": [
      "<ipython-input-48-a5bbea6ed560>:58: ConvergenceWarning: Number of distinct clusters (1) found smaller than n_clusters (6). Possibly due to duplicate points in X.\n",
      "  estimator.fit(img)\n"
     ]
    },
    {
     "name": "stdout",
     "output_type": "stream",
     "text": [
      "images/Luminous Foundation - 330W-Skincare.jpg\n"
     ]
    },
    {
     "name": "stderr",
     "output_type": "stream",
     "text": [
      "<ipython-input-48-a5bbea6ed560>:58: ConvergenceWarning: Number of distinct clusters (2) found smaller than n_clusters (6). Possibly due to duplicate points in X.\n",
      "  estimator.fit(img)\n",
      "<ipython-input-48-a5bbea6ed560>:58: ConvergenceWarning: Number of distinct clusters (1) found smaller than n_clusters (6). Possibly due to duplicate points in X.\n",
      "  estimator.fit(img)\n",
      "<ipython-input-48-a5bbea6ed560>:58: ConvergenceWarning: Number of distinct clusters (1) found smaller than n_clusters (6). Possibly due to duplicate points in X.\n",
      "  estimator.fit(img)\n",
      "<ipython-input-48-a5bbea6ed560>:58: ConvergenceWarning: Number of distinct clusters (1) found smaller than n_clusters (6). Possibly due to duplicate points in X.\n",
      "  estimator.fit(img)\n",
      "<ipython-input-48-a5bbea6ed560>:58: ConvergenceWarning: Number of distinct clusters (1) found smaller than n_clusters (6). Possibly due to duplicate points in X.\n",
      "  estimator.fit(img)\n",
      "<ipython-input-48-a5bbea6ed560>:58: ConvergenceWarning: Number of distinct clusters (1) found smaller than n_clusters (6). Possibly due to duplicate points in X.\n",
      "  estimator.fit(img)\n"
     ]
    },
    {
     "name": "stdout",
     "output_type": "stream",
     "text": [
      "images/Women Nude-Coloured Botanical Vegan Handmade Moisture Foundation 30 gm-Tanned.jpg\n",
      "images/Handmade Moisture Foundation - Sweet Amber- 30g-Tanned.jpg\n",
      "images/Women Handmade Moisture Foundation 30 g-Tanned.jpg\n",
      "images/Women Beige Botanical Vegan Handmade Moisture Foundation 30 gm-Tanned.jpg\n",
      "images/Handmade Moisture Foundation - Wood Brown- 30g-Tanned.jpg\n",
      "images/Handmade Moisture Foundation Chocolate Brown 30g-Tanned.jpg\n"
     ]
    },
    {
     "name": "stderr",
     "output_type": "stream",
     "text": [
      "<ipython-input-48-a5bbea6ed560>:58: ConvergenceWarning: Number of distinct clusters (1) found smaller than n_clusters (6). Possibly due to duplicate points in X.\n",
      "  estimator.fit(img)\n"
     ]
    },
    {
     "name": "stdout",
     "output_type": "stream",
     "text": [
      "images/Skin Long Wear Fluid SPF 20 Foundation - W074 Golden 40 ml-Honey.jpg\n",
      "images/Skin Long Wear Fluid SPF 20 Foundation - W074 Golden 40 ml-Warm Beige.jpg\n",
      "images/Skin Long Wear Fluid SPF 20 Foundation - W074 Golden 40 ml-Golden.jpg\n",
      "images/Skin Long Wear Fluid SPF 20 Foundation - W074 Golden 40 ml-Natural Tan.jpg\n",
      "images/Skin Long Wear Fluid SPF 20 Foundation - W074 Golden 40 ml-N052 Natural.jpg\n",
      "images/Skin Long Wear Fluid SPF 20 Foundation - W074 Golden 40 ml-Cool Natural.jpg\n",
      "images/Detox & Protect Foundation 107 - Toffee 35 ml-Sunny.jpg\n"
     ]
    },
    {
     "name": "stderr",
     "output_type": "stream",
     "text": [
      "<ipython-input-48-a5bbea6ed560>:58: ConvergenceWarning: Number of distinct clusters (2) found smaller than n_clusters (6). Possibly due to duplicate points in X.\n",
      "  estimator.fit(img)\n",
      "<ipython-input-48-a5bbea6ed560>:58: ConvergenceWarning: Number of distinct clusters (2) found smaller than n_clusters (6). Possibly due to duplicate points in X.\n",
      "  estimator.fit(img)\n"
     ]
    },
    {
     "name": "stdout",
     "output_type": "stream",
     "text": [
      "images/Detox & Protect Foundation 107 - Toffee 35 ml-Rich Cocoa.jpg\n",
      "images/Detox & Protect Foundation 107 - Toffee 35 ml-Toffee.jpg\n"
     ]
    },
    {
     "name": "stderr",
     "output_type": "stream",
     "text": [
      "<ipython-input-48-a5bbea6ed560>:58: ConvergenceWarning: Number of distinct clusters (2) found smaller than n_clusters (6). Possibly due to duplicate points in X.\n",
      "  estimator.fit(img)\n"
     ]
    },
    {
     "name": "stdout",
     "output_type": "stream",
     "text": [
      "images/Detox & Protect Foundation 107 - Toffee 35 ml-7.jpg\n"
     ]
    },
    {
     "name": "stderr",
     "output_type": "stream",
     "text": [
      "<ipython-input-48-a5bbea6ed560>:58: ConvergenceWarning: Number of distinct clusters (2) found smaller than n_clusters (6). Possibly due to duplicate points in X.\n",
      "  estimator.fit(img)\n",
      "<ipython-input-48-a5bbea6ed560>:58: ConvergenceWarning: Number of distinct clusters (1) found smaller than n_clusters (6). Possibly due to duplicate points in X.\n",
      "  estimator.fit(img)\n",
      "<ipython-input-48-a5bbea6ed560>:58: ConvergenceWarning: Number of distinct clusters (2) found smaller than n_clusters (6). Possibly due to duplicate points in X.\n",
      "  estimator.fit(img)\n"
     ]
    },
    {
     "name": "stdout",
     "output_type": "stream",
     "text": [
      "images/Detox & Protect Foundation 107 - Toffee 35 ml-Warm Sand.jpg\n",
      "images/Detox & Protect Foundation 107 - Toffee 35 ml-Medium Beige.jpg\n",
      "images/Detox & Protect Foundation 107 - Toffee 35 ml-Sand.jpg\n"
     ]
    },
    {
     "name": "stderr",
     "output_type": "stream",
     "text": [
      "<ipython-input-48-a5bbea6ed560>:58: ConvergenceWarning: Number of distinct clusters (2) found smaller than n_clusters (6). Possibly due to duplicate points in X.\n",
      "  estimator.fit(img)\n"
     ]
    },
    {
     "name": "stdout",
     "output_type": "stream",
     "text": [
      "images/Detox & Protect Foundation 107 - Toffee 35 ml-Dark Honey.jpg\n"
     ]
    },
    {
     "name": "stderr",
     "output_type": "stream",
     "text": [
      "<ipython-input-48-a5bbea6ed560>:58: ConvergenceWarning: Number of distinct clusters (2) found smaller than n_clusters (6). Possibly due to duplicate points in X.\n",
      "  estimator.fit(img)\n"
     ]
    },
    {
     "name": "stdout",
     "output_type": "stream",
     "text": [
      "images/Detox & Protect Foundation 107 - Toffee 35 ml-Honey Beige.jpg\n"
     ]
    },
    {
     "name": "stderr",
     "output_type": "stream",
     "text": [
      "<ipython-input-48-a5bbea6ed560>:58: ConvergenceWarning: Number of distinct clusters (2) found smaller than n_clusters (6). Possibly due to duplicate points in X.\n",
      "  estimator.fit(img)\n"
     ]
    },
    {
     "name": "stdout",
     "output_type": "stream",
     "text": [
      "images/Detox & Protect Foundation 107 - Toffee 35 ml-Warm Beige.jpg\n"
     ]
    },
    {
     "name": "stderr",
     "output_type": "stream",
     "text": [
      "<ipython-input-48-a5bbea6ed560>:58: ConvergenceWarning: Number of distinct clusters (1) found smaller than n_clusters (6). Possibly due to duplicate points in X.\n",
      "  estimator.fit(img)\n"
     ]
    },
    {
     "name": "stdout",
     "output_type": "stream",
     "text": [
      "images/Detox & Protect Foundation 107 - Toffee 35 ml-Silky Brown.jpg\n"
     ]
    },
    {
     "name": "stderr",
     "output_type": "stream",
     "text": [
      "<ipython-input-48-a5bbea6ed560>:58: ConvergenceWarning: Number of distinct clusters (2) found smaller than n_clusters (6). Possibly due to duplicate points in X.\n",
      "  estimator.fit(img)\n"
     ]
    },
    {
     "name": "stdout",
     "output_type": "stream",
     "text": [
      "images/Detox and Protect Foundation - 108-Sunny.jpg\n"
     ]
    },
    {
     "name": "stderr",
     "output_type": "stream",
     "text": [
      "<ipython-input-48-a5bbea6ed560>:58: ConvergenceWarning: Number of distinct clusters (2) found smaller than n_clusters (6). Possibly due to duplicate points in X.\n",
      "  estimator.fit(img)\n",
      "<ipython-input-48-a5bbea6ed560>:58: ConvergenceWarning: Number of distinct clusters (2) found smaller than n_clusters (6). Possibly due to duplicate points in X.\n",
      "  estimator.fit(img)\n"
     ]
    },
    {
     "name": "stdout",
     "output_type": "stream",
     "text": [
      "images/Detox and Protect Foundation - 108-Rich Cocoa.jpg\n",
      "images/Detox and Protect Foundation - 108-Toffee.jpg\n"
     ]
    },
    {
     "name": "stderr",
     "output_type": "stream",
     "text": [
      "<ipython-input-48-a5bbea6ed560>:58: ConvergenceWarning: Number of distinct clusters (2) found smaller than n_clusters (6). Possibly due to duplicate points in X.\n",
      "  estimator.fit(img)\n"
     ]
    },
    {
     "name": "stdout",
     "output_type": "stream",
     "text": [
      "images/Detox and Protect Foundation - 108-7.jpg\n"
     ]
    },
    {
     "name": "stderr",
     "output_type": "stream",
     "text": [
      "<ipython-input-48-a5bbea6ed560>:58: ConvergenceWarning: Number of distinct clusters (2) found smaller than n_clusters (6). Possibly due to duplicate points in X.\n",
      "  estimator.fit(img)\n",
      "<ipython-input-48-a5bbea6ed560>:58: ConvergenceWarning: Number of distinct clusters (1) found smaller than n_clusters (6). Possibly due to duplicate points in X.\n",
      "  estimator.fit(img)\n",
      "<ipython-input-48-a5bbea6ed560>:58: ConvergenceWarning: Number of distinct clusters (2) found smaller than n_clusters (6). Possibly due to duplicate points in X.\n",
      "  estimator.fit(img)\n"
     ]
    },
    {
     "name": "stdout",
     "output_type": "stream",
     "text": [
      "images/Detox and Protect Foundation - 108-Warm Sand.jpg\n",
      "images/Detox and Protect Foundation - 108-Medium Beige.jpg\n",
      "images/Detox and Protect Foundation - 108-Sand.jpg\n"
     ]
    },
    {
     "name": "stderr",
     "output_type": "stream",
     "text": [
      "<ipython-input-48-a5bbea6ed560>:58: ConvergenceWarning: Number of distinct clusters (2) found smaller than n_clusters (6). Possibly due to duplicate points in X.\n",
      "  estimator.fit(img)\n"
     ]
    },
    {
     "name": "stdout",
     "output_type": "stream",
     "text": [
      "images/Detox and Protect Foundation - 108-Dark Honey.jpg\n"
     ]
    },
    {
     "name": "stderr",
     "output_type": "stream",
     "text": [
      "<ipython-input-48-a5bbea6ed560>:58: ConvergenceWarning: Number of distinct clusters (2) found smaller than n_clusters (6). Possibly due to duplicate points in X.\n",
      "  estimator.fit(img)\n"
     ]
    },
    {
     "name": "stdout",
     "output_type": "stream",
     "text": [
      "images/Detox and Protect Foundation - 108-Honey Beige.jpg\n"
     ]
    },
    {
     "name": "stderr",
     "output_type": "stream",
     "text": [
      "<ipython-input-48-a5bbea6ed560>:58: ConvergenceWarning: Number of distinct clusters (2) found smaller than n_clusters (6). Possibly due to duplicate points in X.\n",
      "  estimator.fit(img)\n"
     ]
    },
    {
     "name": "stdout",
     "output_type": "stream",
     "text": [
      "images/Detox and Protect Foundation - 108-Warm Beige.jpg\n"
     ]
    },
    {
     "name": "stderr",
     "output_type": "stream",
     "text": [
      "<ipython-input-48-a5bbea6ed560>:58: ConvergenceWarning: Number of distinct clusters (1) found smaller than n_clusters (6). Possibly due to duplicate points in X.\n",
      "  estimator.fit(img)\n"
     ]
    },
    {
     "name": "stdout",
     "output_type": "stream",
     "text": [
      "images/Detox and Protect Foundation - 108-Silky Brown.jpg\n"
     ]
    },
    {
     "name": "stderr",
     "output_type": "stream",
     "text": [
      "<ipython-input-48-a5bbea6ed560>:58: ConvergenceWarning: Number of distinct clusters (2) found smaller than n_clusters (6). Possibly due to duplicate points in X.\n",
      "  estimator.fit(img)\n"
     ]
    },
    {
     "name": "stdout",
     "output_type": "stream",
     "text": [
      "images/Women Detox And Protect Foundation SPF 15 109-Sunny.jpg\n"
     ]
    },
    {
     "name": "stderr",
     "output_type": "stream",
     "text": [
      "<ipython-input-48-a5bbea6ed560>:58: ConvergenceWarning: Number of distinct clusters (2) found smaller than n_clusters (6). Possibly due to duplicate points in X.\n",
      "  estimator.fit(img)\n",
      "<ipython-input-48-a5bbea6ed560>:58: ConvergenceWarning: Number of distinct clusters (2) found smaller than n_clusters (6). Possibly due to duplicate points in X.\n",
      "  estimator.fit(img)\n"
     ]
    },
    {
     "name": "stdout",
     "output_type": "stream",
     "text": [
      "images/Women Detox And Protect Foundation SPF 15 109-Rich Cocoa.jpg\n",
      "images/Women Detox And Protect Foundation SPF 15 109-Toffee.jpg\n"
     ]
    },
    {
     "name": "stderr",
     "output_type": "stream",
     "text": [
      "<ipython-input-48-a5bbea6ed560>:58: ConvergenceWarning: Number of distinct clusters (2) found smaller than n_clusters (6). Possibly due to duplicate points in X.\n",
      "  estimator.fit(img)\n"
     ]
    },
    {
     "name": "stdout",
     "output_type": "stream",
     "text": [
      "images/Women Detox And Protect Foundation SPF 15 109-7.jpg\n"
     ]
    },
    {
     "name": "stderr",
     "output_type": "stream",
     "text": [
      "<ipython-input-48-a5bbea6ed560>:58: ConvergenceWarning: Number of distinct clusters (2) found smaller than n_clusters (6). Possibly due to duplicate points in X.\n",
      "  estimator.fit(img)\n",
      "<ipython-input-48-a5bbea6ed560>:58: ConvergenceWarning: Number of distinct clusters (1) found smaller than n_clusters (6). Possibly due to duplicate points in X.\n",
      "  estimator.fit(img)\n",
      "<ipython-input-48-a5bbea6ed560>:58: ConvergenceWarning: Number of distinct clusters (2) found smaller than n_clusters (6). Possibly due to duplicate points in X.\n",
      "  estimator.fit(img)\n"
     ]
    },
    {
     "name": "stdout",
     "output_type": "stream",
     "text": [
      "images/Women Detox And Protect Foundation SPF 15 109-Warm Sand.jpg\n",
      "images/Women Detox And Protect Foundation SPF 15 109-Medium Beige.jpg\n",
      "images/Women Detox And Protect Foundation SPF 15 109-Sand.jpg\n"
     ]
    },
    {
     "name": "stderr",
     "output_type": "stream",
     "text": [
      "<ipython-input-48-a5bbea6ed560>:58: ConvergenceWarning: Number of distinct clusters (2) found smaller than n_clusters (6). Possibly due to duplicate points in X.\n",
      "  estimator.fit(img)\n"
     ]
    },
    {
     "name": "stdout",
     "output_type": "stream",
     "text": [
      "images/Women Detox And Protect Foundation SPF 15 109-Dark Honey.jpg\n"
     ]
    },
    {
     "name": "stderr",
     "output_type": "stream",
     "text": [
      "<ipython-input-48-a5bbea6ed560>:58: ConvergenceWarning: Number of distinct clusters (2) found smaller than n_clusters (6). Possibly due to duplicate points in X.\n",
      "  estimator.fit(img)\n"
     ]
    },
    {
     "name": "stdout",
     "output_type": "stream",
     "text": [
      "images/Women Detox And Protect Foundation SPF 15 109-Honey Beige.jpg\n"
     ]
    },
    {
     "name": "stderr",
     "output_type": "stream",
     "text": [
      "<ipython-input-48-a5bbea6ed560>:58: ConvergenceWarning: Number of distinct clusters (2) found smaller than n_clusters (6). Possibly due to duplicate points in X.\n",
      "  estimator.fit(img)\n"
     ]
    },
    {
     "name": "stdout",
     "output_type": "stream",
     "text": [
      "images/Women Detox And Protect Foundation SPF 15 109-Warm Beige.jpg\n"
     ]
    },
    {
     "name": "stderr",
     "output_type": "stream",
     "text": [
      "<ipython-input-48-a5bbea6ed560>:58: ConvergenceWarning: Number of distinct clusters (1) found smaller than n_clusters (6). Possibly due to duplicate points in X.\n",
      "  estimator.fit(img)\n"
     ]
    },
    {
     "name": "stdout",
     "output_type": "stream",
     "text": [
      "images/Women Detox And Protect Foundation SPF 15 109-Silky Brown.jpg\n"
     ]
    },
    {
     "name": "stderr",
     "output_type": "stream",
     "text": [
      "<ipython-input-48-a5bbea6ed560>:58: ConvergenceWarning: Number of distinct clusters (2) found smaller than n_clusters (6). Possibly due to duplicate points in X.\n",
      "  estimator.fit(img)\n"
     ]
    },
    {
     "name": "stdout",
     "output_type": "stream",
     "text": [
      "images/Tuscan Sunshine Luminous Foundation- 08 Cocoa 25ml-Cocoa.jpg\n",
      "images/Tuscan Sunshine Luminous Foundation- 08 Cocoa 25ml-Caramel.jpg\n",
      "images/Tuscan Sunshine Luminous Foundation- 08 Cocoa 25ml-Hazelnut.jpg\n",
      "images/Tuscan Sunshine Luminous Foundation - Caramel 06 25 ml-Cocoa.jpg\n",
      "images/Tuscan Sunshine Luminous Foundation - Caramel 06 25 ml-Caramel.jpg\n",
      "images/Tuscan Sunshine Luminous Foundation - Caramel 06 25 ml-Hazelnut.jpg\n",
      "images/Tuscan Sunshine Luminous Foundation Hazelnut 07-Cocoa.jpg\n",
      "images/Tuscan Sunshine Luminous Foundation Hazelnut 07-Caramel.jpg\n",
      "images/Tuscan Sunshine Luminous Foundation Hazelnut 07-Hazelnut.jpg\n",
      "images/4.5 Absolute Cover Silk Peptide Foundation 30ml-4.jpg\n",
      "images/4.5 Absolute Cover Silk Peptide Foundation 30ml-Beige.jpg\n",
      "images/4.5 Absolute Cover Silk Peptide Foundation 30ml-5.jpg\n",
      "images/4.5 Absolute Cover Silk Peptide Foundation 30ml-2.jpg\n"
     ]
    },
    {
     "name": "stderr",
     "output_type": "stream",
     "text": [
      "<ipython-input-48-a5bbea6ed560>:58: ConvergenceWarning: Number of distinct clusters (2) found smaller than n_clusters (6). Possibly due to duplicate points in X.\n",
      "  estimator.fit(img)\n",
      "<ipython-input-48-a5bbea6ed560>:58: ConvergenceWarning: Number of distinct clusters (2) found smaller than n_clusters (6). Possibly due to duplicate points in X.\n",
      "  estimator.fit(img)\n",
      "<ipython-input-48-a5bbea6ed560>:58: ConvergenceWarning: Number of distinct clusters (2) found smaller than n_clusters (6). Possibly due to duplicate points in X.\n",
      "  estimator.fit(img)\n",
      "<ipython-input-48-a5bbea6ed560>:58: ConvergenceWarning: Number of distinct clusters (2) found smaller than n_clusters (6). Possibly due to duplicate points in X.\n",
      "  estimator.fit(img)\n"
     ]
    },
    {
     "name": "stdout",
     "output_type": "stream",
     "text": [
      "images/4.5 Absolute Cover Silk Peptide Foundation 30ml-6.jpg\n",
      "images/4.5 Absolute Cover Silk Peptide Foundation 30ml-4.5.jpg\n",
      "images/4.5 Absolute Cover Silk Peptide Foundation 30ml-7.5.jpg\n",
      "images/CHAMBOR Orosa Ochre Natural No.302 Skin Fusion Foundation 25 ml-Ochre Natural No.302.jpg\n"
     ]
    },
    {
     "name": "stderr",
     "output_type": "stream",
     "text": [
      "<ipython-input-48-a5bbea6ed560>:58: ConvergenceWarning: Number of distinct clusters (2) found smaller than n_clusters (6). Possibly due to duplicate points in X.\n",
      "  estimator.fit(img)\n",
      "<ipython-input-48-a5bbea6ed560>:58: ConvergenceWarning: Number of distinct clusters (2) found smaller than n_clusters (6). Possibly due to duplicate points in X.\n",
      "  estimator.fit(img)\n",
      "<ipython-input-48-a5bbea6ed560>:58: ConvergenceWarning: Number of distinct clusters (2) found smaller than n_clusters (6). Possibly due to duplicate points in X.\n",
      "  estimator.fit(img)\n"
     ]
    },
    {
     "name": "stdout",
     "output_type": "stream",
     "text": [
      "images/Sand Double Wear Stay-in-Place Makeup with SPF 10-Shell.jpg\n",
      "images/Sand Double Wear Stay-in-Place Makeup with SPF 10-Mustard.jpg\n",
      "images/Sand Double Wear Stay-in-Place Makeup with SPF 10-1W2 Sand.jpg\n",
      "images/Sand Double Wear Stay-in-Place Makeup with SPF 10-3W1 Tawny.jpg\n",
      "images/Sand Double Wear Stay-in-Place Makeup with SPF 10-Tawny.jpg\n",
      "images/Sand Double Wear Stay-in-Place Makeup with SPF 10-Cinnamon.jpg\n",
      "images/Sand Double Wear Stay-in-Place Makeup with SPF 10-Buff.jpg\n",
      "images/Sand Double Wear Stay-in-Place Makeup with SPF 10-Honey Bronze.jpg\n",
      "images/Sand Double Wear Stay-in-Place Makeup with SPF 10-3W2 Cashew.jpg\n",
      "images/Sand Double Wear Stay-in-Place Makeup with SPF 10-2W2 Rattan.jpg\n",
      "images/Sand Double Wear Stay-in-Place Makeup with SPF 10-Rattan.jpg\n",
      "images/Sand Double Wear Stay-in-Place Makeup with SPF 10-Warm Porcelain.jpg\n",
      "images/Sand Double Wear Stay-in-Place Makeup with SPF 10-Porcelain.jpg\n",
      "images/Sand Double Wear Stay-in-Place Makeup with SPF 10-Sand.jpg\n",
      "images/Sand Double Wear Stay-in-Place Makeup with SPF 10-Spiced Sand.jpg\n",
      "images/Sand Double Wear Stay-in-Place Makeup with SPF 10-Ivory Nude.jpg\n",
      "images/Sand Double Wear Stay-in-Place Makeup with SPF 10-Alabaster.jpg\n",
      "images/Sand Double Wear Stay-in-Place Makeup with SPF 10-Bone.jpg\n",
      "images/Sand Double Wear Stay-in-Place Makeup with SPF 10-Ivory Beige.jpg\n",
      "images/Sand Double Wear Stay-in-Place Makeup with SPF 10-Toasty Toffee.jpg\n",
      "images/Sand Double Wear Stay-in-Place Makeup with SPF 10-NA.jpg\n",
      "images/Double Wear Stay-In-Place Makeup Foundation with SPF 10 - Rattan-Shell.jpg\n",
      "images/Double Wear Stay-In-Place Makeup Foundation with SPF 10 - Rattan-Mustard.jpg\n",
      "images/Double Wear Stay-In-Place Makeup Foundation with SPF 10 - Rattan-1W2 Sand.jpg\n",
      "images/Double Wear Stay-In-Place Makeup Foundation with SPF 10 - Rattan-3W1 Tawny.jpg\n",
      "images/Double Wear Stay-In-Place Makeup Foundation with SPF 10 - Rattan-Tawny.jpg\n",
      "images/Double Wear Stay-In-Place Makeup Foundation with SPF 10 - Rattan-Cinnamon.jpg\n",
      "images/Double Wear Stay-In-Place Makeup Foundation with SPF 10 - Rattan-Buff.jpg\n",
      "images/Double Wear Stay-In-Place Makeup Foundation with SPF 10 - Rattan-Honey Bronze.jpg\n",
      "images/Double Wear Stay-In-Place Makeup Foundation with SPF 10 - Rattan-3W2 Cashew.jpg\n",
      "images/Double Wear Stay-In-Place Makeup Foundation with SPF 10 - Rattan-2W2 Rattan.jpg\n",
      "images/Double Wear Stay-In-Place Makeup Foundation with SPF 10 - Rattan-Rattan.jpg\n",
      "images/Double Wear Stay-In-Place Makeup Foundation with SPF 10 - Rattan-Warm Porcelain.jpg\n",
      "images/Double Wear Stay-In-Place Makeup Foundation with SPF 10 - Rattan-Porcelain.jpg\n",
      "images/Double Wear Stay-In-Place Makeup Foundation with SPF 10 - Rattan-Sand.jpg\n",
      "images/Double Wear Stay-In-Place Makeup Foundation with SPF 10 - Rattan-Spiced Sand.jpg\n",
      "images/Double Wear Stay-In-Place Makeup Foundation with SPF 10 - Rattan-Ivory Nude.jpg\n",
      "images/Double Wear Stay-In-Place Makeup Foundation with SPF 10 - Rattan-Alabaster.jpg\n",
      "images/Double Wear Stay-In-Place Makeup Foundation with SPF 10 - Rattan-Bone.jpg\n",
      "images/Double Wear Stay-In-Place Makeup Foundation with SPF 10 - Rattan-Ivory Beige.jpg\n",
      "images/Double Wear Stay-In-Place Makeup Foundation with SPF 10 - Rattan-Toasty Toffee.jpg\n",
      "images/Double Wear Stay-In-Place Makeup Foundation with SPF 10 - Rattan-NA.jpg\n",
      "images/Neutral 4 SPF 20 Synchro Skin Lasting Liquid Foundation 30 ml-Golden.jpg\n"
     ]
    },
    {
     "name": "stderr",
     "output_type": "stream",
     "text": [
      "<ipython-input-48-a5bbea6ed560>:58: ConvergenceWarning: Number of distinct clusters (2) found smaller than n_clusters (6). Possibly due to duplicate points in X.\n",
      "  estimator.fit(img)\n"
     ]
    },
    {
     "name": "stdout",
     "output_type": "stream",
     "text": [
      "images/Neutral 4 SPF 20 Synchro Skin Lasting Liquid Foundation 30 ml-Neutral.jpg\n",
      "images/Neutral 5 Synchro Skin Lasting Liquid Sustainable Foundation 30 ml-Golden.jpg\n"
     ]
    },
    {
     "name": "stderr",
     "output_type": "stream",
     "text": [
      "<ipython-input-48-a5bbea6ed560>:58: ConvergenceWarning: Number of distinct clusters (2) found smaller than n_clusters (6). Possibly due to duplicate points in X.\n",
      "  estimator.fit(img)\n"
     ]
    },
    {
     "name": "stdout",
     "output_type": "stream",
     "text": [
      "images/Neutral 5 Synchro Skin Lasting Liquid Sustainable Foundation 30 ml-Neutral.jpg\n",
      "images/Weightless Perfection SPF 30 Wet & Dry Powder Foundation WR90-Neutral 95.jpg\n",
      "images/Weightless Perfection SPF 30 Wet & Dry Powder Foundation WR90-Warm Rose 90.jpg\n",
      "images/Weightless Perfection SPF 30 Wet & Dry Powder Foundation WR90-Warm Rose 50.jpg\n",
      "images/Full Coverage 2-in-1 Foundation & Concealer N170 25 ml-Neutral 40.jpg\n",
      "images/Full Coverage 2-in-1 Foundation & Concealer N170 25 ml-Neutral 170.jpg\n",
      "images/Full Coverage 2-in-1 Foundation & Concealer N170 25 ml-Neutral 60.jpg\n",
      "images/Full Coverage 2-in-1 Foundation & Concealer N170 25 ml-Warm Beige 30.jpg\n",
      "images/Full Coverage 2-in-1 Foundation & Concealer N170 25 ml-Warm Rose 30.jpg\n",
      "images/Nourishing Perfection SPF 20 Cream Compact Foundation N95 7 ml-Neutral 130.jpg\n",
      "images/Nourishing Perfection SPF 20 Cream Compact Foundation N95 7 ml-Warm ROse 70.jpg\n",
      "images/Nourishing Perfection SPF 20 Cream Compact Foundation N95 7 ml-Neutral 95.jpg\n",
      "images/Nourishing Perfection SPF 20 Cream Compact Foundation N95 7 ml-Neutral 80.jpg\n",
      "images/Full Coverage 2-in-1 Foundation & Concealer N40 25ml-Neutral 40.jpg\n",
      "images/Full Coverage 2-in-1 Foundation & Concealer N40 25ml-Neutral 170.jpg\n",
      "images/Full Coverage 2-in-1 Foundation & Concealer N40 25ml-Neutral 60.jpg\n",
      "images/Full Coverage 2-in-1 Foundation & Concealer N40 25ml-Warm Beige 30.jpg\n",
      "images/Full Coverage 2-in-1 Foundation & Concealer N40 25ml-Warm Rose 30.jpg\n",
      "images/Weightless Perfection SPF 30 Wet and Dry Powder Foundation WR50-Neutral 95.jpg\n",
      "images/Weightless Perfection SPF 30 Wet and Dry Powder Foundation WR50-Warm Rose 90.jpg\n",
      "images/Weightless Perfection SPF 30 Wet and Dry Powder Foundation WR50-Warm Rose 50.jpg\n",
      "images/Nourishing Perfection SPF 20 Cream Compact Foundation WR70-Neutral 130.jpg\n"
     ]
    },
    {
     "name": "stderr",
     "output_type": "stream",
     "text": [
      "<ipython-input-48-a5bbea6ed560>:58: ConvergenceWarning: Number of distinct clusters (2) found smaller than n_clusters (6). Possibly due to duplicate points in X.\n",
      "  estimator.fit(img)\n"
     ]
    },
    {
     "name": "stdout",
     "output_type": "stream",
     "text": [
      "images/Nourishing Perfection SPF 20 Cream Compact Foundation WR70-Warm ROse 70.jpg\n"
     ]
    },
    {
     "name": "stderr",
     "output_type": "stream",
     "text": [
      "<ipython-input-48-a5bbea6ed560>:58: ConvergenceWarning: Number of distinct clusters (1) found smaller than n_clusters (6). Possibly due to duplicate points in X.\n",
      "  estimator.fit(img)\n"
     ]
    },
    {
     "name": "stdout",
     "output_type": "stream",
     "text": [
      "images/Nourishing Perfection SPF 20 Cream Compact Foundation WR70-Neutral 95.jpg\n"
     ]
    },
    {
     "name": "stderr",
     "output_type": "stream",
     "text": [
      "<ipython-input-48-a5bbea6ed560>:58: ConvergenceWarning: Number of distinct clusters (2) found smaller than n_clusters (6). Possibly due to duplicate points in X.\n",
      "  estimator.fit(img)\n"
     ]
    },
    {
     "name": "stdout",
     "output_type": "stream",
     "text": [
      "images/Nourishing Perfection SPF 20 Cream Compact Foundation WR70-Neutral 80.jpg\n"
     ]
    },
    {
     "name": "stderr",
     "output_type": "stream",
     "text": [
      "<ipython-input-48-a5bbea6ed560>:58: ConvergenceWarning: Number of distinct clusters (2) found smaller than n_clusters (6). Possibly due to duplicate points in X.\n",
      "  estimator.fit(img)\n"
     ]
    },
    {
     "name": "stdout",
     "output_type": "stream",
     "text": [
      "images/Expresso Pro Matte HD Foundation GLM723-Creamy Cocoa.jpg\n"
     ]
    },
    {
     "name": "stderr",
     "output_type": "stream",
     "text": [
      "<ipython-input-48-a5bbea6ed560>:58: ConvergenceWarning: Number of distinct clusters (1) found smaller than n_clusters (6). Possibly due to duplicate points in X.\n",
      "  estimator.fit(img)\n"
     ]
    },
    {
     "name": "stdout",
     "output_type": "stream",
     "text": [
      "images/Expresso Pro Matte HD Foundation GLM723-Chestnut.jpg\n"
     ]
    },
    {
     "name": "stderr",
     "output_type": "stream",
     "text": [
      "<ipython-input-48-a5bbea6ed560>:58: ConvergenceWarning: Number of distinct clusters (2) found smaller than n_clusters (6). Possibly due to duplicate points in X.\n",
      "  estimator.fit(img)\n"
     ]
    },
    {
     "name": "stdout",
     "output_type": "stream",
     "text": [
      "images/Expresso Pro Matte HD Foundation GLM723-Cappuccino.jpg\n",
      "images/Expresso Pro Matte HD Foundation GLM723-Expresso GLM723.jpg\n"
     ]
    },
    {
     "name": "stderr",
     "output_type": "stream",
     "text": [
      "<ipython-input-48-a5bbea6ed560>:58: ConvergenceWarning: Number of distinct clusters (2) found smaller than n_clusters (6). Possibly due to duplicate points in X.\n",
      "  estimator.fit(img)\n"
     ]
    },
    {
     "name": "stdout",
     "output_type": "stream",
     "text": [
      "images/Expresso Pro Matte HD Foundation GLM723-Soft Sable.jpg\n"
     ]
    },
    {
     "name": "stderr",
     "output_type": "stream",
     "text": [
      "<ipython-input-48-a5bbea6ed560>:58: ConvergenceWarning: Number of distinct clusters (2) found smaller than n_clusters (6). Possibly due to duplicate points in X.\n",
      "  estimator.fit(img)\n"
     ]
    },
    {
     "name": "stdout",
     "output_type": "stream",
     "text": [
      "images/Expresso Pro Matte HD Foundation GLM723-Deep Tan.jpg\n"
     ]
    },
    {
     "name": "stderr",
     "output_type": "stream",
     "text": [
      "<ipython-input-48-a5bbea6ed560>:58: ConvergenceWarning: Number of distinct clusters (2) found smaller than n_clusters (6). Possibly due to duplicate points in X.\n",
      "  estimator.fit(img)\n"
     ]
    },
    {
     "name": "stdout",
     "output_type": "stream",
     "text": [
      "images/Chestnut Pro Matte HD Foundation GLM722-Creamy Cocoa.jpg\n"
     ]
    },
    {
     "name": "stderr",
     "output_type": "stream",
     "text": [
      "<ipython-input-48-a5bbea6ed560>:58: ConvergenceWarning: Number of distinct clusters (1) found smaller than n_clusters (6). Possibly due to duplicate points in X.\n",
      "  estimator.fit(img)\n"
     ]
    },
    {
     "name": "stdout",
     "output_type": "stream",
     "text": [
      "images/Chestnut Pro Matte HD Foundation GLM722-Chestnut.jpg\n"
     ]
    },
    {
     "name": "stderr",
     "output_type": "stream",
     "text": [
      "<ipython-input-48-a5bbea6ed560>:58: ConvergenceWarning: Number of distinct clusters (2) found smaller than n_clusters (6). Possibly due to duplicate points in X.\n",
      "  estimator.fit(img)\n"
     ]
    },
    {
     "name": "stdout",
     "output_type": "stream",
     "text": [
      "images/Chestnut Pro Matte HD Foundation GLM722-Cappuccino.jpg\n",
      "images/Chestnut Pro Matte HD Foundation GLM722-Expresso GLM723.jpg\n"
     ]
    },
    {
     "name": "stderr",
     "output_type": "stream",
     "text": [
      "<ipython-input-48-a5bbea6ed560>:58: ConvergenceWarning: Number of distinct clusters (2) found smaller than n_clusters (6). Possibly due to duplicate points in X.\n",
      "  estimator.fit(img)\n"
     ]
    },
    {
     "name": "stdout",
     "output_type": "stream",
     "text": [
      "images/Chestnut Pro Matte HD Foundation GLM722-Soft Sable.jpg\n"
     ]
    },
    {
     "name": "stderr",
     "output_type": "stream",
     "text": [
      "<ipython-input-48-a5bbea6ed560>:58: ConvergenceWarning: Number of distinct clusters (2) found smaller than n_clusters (6). Possibly due to duplicate points in X.\n",
      "  estimator.fit(img)\n"
     ]
    },
    {
     "name": "stdout",
     "output_type": "stream",
     "text": [
      "images/Chestnut Pro Matte HD Foundation GLM722-Deep Tan.jpg\n"
     ]
    },
    {
     "name": "stderr",
     "output_type": "stream",
     "text": [
      "<ipython-input-48-a5bbea6ed560>:58: ConvergenceWarning: Number of distinct clusters (2) found smaller than n_clusters (6). Possibly due to duplicate points in X.\n",
      "  estimator.fit(img)\n",
      "<ipython-input-48-a5bbea6ed560>:58: ConvergenceWarning: Number of distinct clusters (2) found smaller than n_clusters (6). Possibly due to duplicate points in X.\n",
      "  estimator.fit(img)\n"
     ]
    },
    {
     "name": "stdout",
     "output_type": "stream",
     "text": [
      "images/Secrets Of Camouflage 02 Dark Stick Foundation 10 g-Dark.jpg\n",
      "images/Dark Honey Detox & Protect SPF 15 Foundation 06-Sunny.jpg\n"
     ]
    },
    {
     "name": "stderr",
     "output_type": "stream",
     "text": [
      "<ipython-input-48-a5bbea6ed560>:58: ConvergenceWarning: Number of distinct clusters (2) found smaller than n_clusters (6). Possibly due to duplicate points in X.\n",
      "  estimator.fit(img)\n",
      "<ipython-input-48-a5bbea6ed560>:58: ConvergenceWarning: Number of distinct clusters (2) found smaller than n_clusters (6). Possibly due to duplicate points in X.\n",
      "  estimator.fit(img)\n"
     ]
    },
    {
     "name": "stdout",
     "output_type": "stream",
     "text": [
      "images/Dark Honey Detox & Protect SPF 15 Foundation 06-Rich Cocoa.jpg\n",
      "images/Dark Honey Detox & Protect SPF 15 Foundation 06-Toffee.jpg\n"
     ]
    },
    {
     "name": "stderr",
     "output_type": "stream",
     "text": [
      "<ipython-input-48-a5bbea6ed560>:58: ConvergenceWarning: Number of distinct clusters (2) found smaller than n_clusters (6). Possibly due to duplicate points in X.\n",
      "  estimator.fit(img)\n"
     ]
    },
    {
     "name": "stdout",
     "output_type": "stream",
     "text": [
      "images/Dark Honey Detox & Protect SPF 15 Foundation 06-7.jpg\n"
     ]
    },
    {
     "name": "stderr",
     "output_type": "stream",
     "text": [
      "<ipython-input-48-a5bbea6ed560>:58: ConvergenceWarning: Number of distinct clusters (2) found smaller than n_clusters (6). Possibly due to duplicate points in X.\n",
      "  estimator.fit(img)\n",
      "<ipython-input-48-a5bbea6ed560>:58: ConvergenceWarning: Number of distinct clusters (1) found smaller than n_clusters (6). Possibly due to duplicate points in X.\n",
      "  estimator.fit(img)\n",
      "<ipython-input-48-a5bbea6ed560>:58: ConvergenceWarning: Number of distinct clusters (2) found smaller than n_clusters (6). Possibly due to duplicate points in X.\n",
      "  estimator.fit(img)\n"
     ]
    },
    {
     "name": "stdout",
     "output_type": "stream",
     "text": [
      "images/Dark Honey Detox & Protect SPF 15 Foundation 06-Warm Sand.jpg\n",
      "images/Dark Honey Detox & Protect SPF 15 Foundation 06-Medium Beige.jpg\n",
      "images/Dark Honey Detox & Protect SPF 15 Foundation 06-Sand.jpg\n"
     ]
    },
    {
     "name": "stderr",
     "output_type": "stream",
     "text": [
      "<ipython-input-48-a5bbea6ed560>:58: ConvergenceWarning: Number of distinct clusters (2) found smaller than n_clusters (6). Possibly due to duplicate points in X.\n",
      "  estimator.fit(img)\n"
     ]
    },
    {
     "name": "stdout",
     "output_type": "stream",
     "text": [
      "images/Dark Honey Detox & Protect SPF 15 Foundation 06-Dark Honey.jpg\n"
     ]
    },
    {
     "name": "stderr",
     "output_type": "stream",
     "text": [
      "<ipython-input-48-a5bbea6ed560>:58: ConvergenceWarning: Number of distinct clusters (2) found smaller than n_clusters (6). Possibly due to duplicate points in X.\n",
      "  estimator.fit(img)\n"
     ]
    },
    {
     "name": "stdout",
     "output_type": "stream",
     "text": [
      "images/Dark Honey Detox & Protect SPF 15 Foundation 06-Honey Beige.jpg\n"
     ]
    },
    {
     "name": "stderr",
     "output_type": "stream",
     "text": [
      "<ipython-input-48-a5bbea6ed560>:58: ConvergenceWarning: Number of distinct clusters (2) found smaller than n_clusters (6). Possibly due to duplicate points in X.\n",
      "  estimator.fit(img)\n"
     ]
    },
    {
     "name": "stdout",
     "output_type": "stream",
     "text": [
      "images/Dark Honey Detox & Protect SPF 15 Foundation 06-Warm Beige.jpg\n"
     ]
    },
    {
     "name": "stderr",
     "output_type": "stream",
     "text": [
      "<ipython-input-48-a5bbea6ed560>:58: ConvergenceWarning: Number of distinct clusters (1) found smaller than n_clusters (6). Possibly due to duplicate points in X.\n",
      "  estimator.fit(img)\n"
     ]
    },
    {
     "name": "stdout",
     "output_type": "stream",
     "text": [
      "images/Dark Honey Detox & Protect SPF 15 Foundation 06-Silky Brown.jpg\n"
     ]
    },
    {
     "name": "stderr",
     "output_type": "stream",
     "text": [
      "<ipython-input-48-a5bbea6ed560>:58: ConvergenceWarning: Number of distinct clusters (2) found smaller than n_clusters (6). Possibly due to duplicate points in X.\n",
      "  estimator.fit(img)\n"
     ]
    },
    {
     "name": "stdout",
     "output_type": "stream",
     "text": [
      "images/Sunny Detox & Protect SPF 15 Foundation 08-Sunny.jpg\n"
     ]
    },
    {
     "name": "stderr",
     "output_type": "stream",
     "text": [
      "<ipython-input-48-a5bbea6ed560>:58: ConvergenceWarning: Number of distinct clusters (2) found smaller than n_clusters (6). Possibly due to duplicate points in X.\n",
      "  estimator.fit(img)\n",
      "<ipython-input-48-a5bbea6ed560>:58: ConvergenceWarning: Number of distinct clusters (2) found smaller than n_clusters (6). Possibly due to duplicate points in X.\n",
      "  estimator.fit(img)\n"
     ]
    },
    {
     "name": "stdout",
     "output_type": "stream",
     "text": [
      "images/Sunny Detox & Protect SPF 15 Foundation 08-Rich Cocoa.jpg\n",
      "images/Sunny Detox & Protect SPF 15 Foundation 08-Toffee.jpg\n"
     ]
    },
    {
     "name": "stderr",
     "output_type": "stream",
     "text": [
      "<ipython-input-48-a5bbea6ed560>:58: ConvergenceWarning: Number of distinct clusters (2) found smaller than n_clusters (6). Possibly due to duplicate points in X.\n",
      "  estimator.fit(img)\n"
     ]
    },
    {
     "name": "stdout",
     "output_type": "stream",
     "text": [
      "images/Sunny Detox & Protect SPF 15 Foundation 08-7.jpg\n"
     ]
    },
    {
     "name": "stderr",
     "output_type": "stream",
     "text": [
      "<ipython-input-48-a5bbea6ed560>:58: ConvergenceWarning: Number of distinct clusters (2) found smaller than n_clusters (6). Possibly due to duplicate points in X.\n",
      "  estimator.fit(img)\n",
      "<ipython-input-48-a5bbea6ed560>:58: ConvergenceWarning: Number of distinct clusters (1) found smaller than n_clusters (6). Possibly due to duplicate points in X.\n",
      "  estimator.fit(img)\n",
      "<ipython-input-48-a5bbea6ed560>:58: ConvergenceWarning: Number of distinct clusters (2) found smaller than n_clusters (6). Possibly due to duplicate points in X.\n",
      "  estimator.fit(img)\n"
     ]
    },
    {
     "name": "stdout",
     "output_type": "stream",
     "text": [
      "images/Sunny Detox & Protect SPF 15 Foundation 08-Warm Sand.jpg\n",
      "images/Sunny Detox & Protect SPF 15 Foundation 08-Medium Beige.jpg\n",
      "images/Sunny Detox & Protect SPF 15 Foundation 08-Sand.jpg\n"
     ]
    },
    {
     "name": "stderr",
     "output_type": "stream",
     "text": [
      "<ipython-input-48-a5bbea6ed560>:58: ConvergenceWarning: Number of distinct clusters (2) found smaller than n_clusters (6). Possibly due to duplicate points in X.\n",
      "  estimator.fit(img)\n"
     ]
    },
    {
     "name": "stdout",
     "output_type": "stream",
     "text": [
      "images/Sunny Detox & Protect SPF 15 Foundation 08-Dark Honey.jpg\n"
     ]
    },
    {
     "name": "stderr",
     "output_type": "stream",
     "text": [
      "<ipython-input-48-a5bbea6ed560>:58: ConvergenceWarning: Number of distinct clusters (2) found smaller than n_clusters (6). Possibly due to duplicate points in X.\n",
      "  estimator.fit(img)\n"
     ]
    },
    {
     "name": "stdout",
     "output_type": "stream",
     "text": [
      "images/Sunny Detox & Protect SPF 15 Foundation 08-Honey Beige.jpg\n"
     ]
    },
    {
     "name": "stderr",
     "output_type": "stream",
     "text": [
      "<ipython-input-48-a5bbea6ed560>:58: ConvergenceWarning: Number of distinct clusters (2) found smaller than n_clusters (6). Possibly due to duplicate points in X.\n",
      "  estimator.fit(img)\n"
     ]
    },
    {
     "name": "stdout",
     "output_type": "stream",
     "text": [
      "images/Sunny Detox & Protect SPF 15 Foundation 08-Warm Beige.jpg\n"
     ]
    },
    {
     "name": "stderr",
     "output_type": "stream",
     "text": [
      "<ipython-input-48-a5bbea6ed560>:58: ConvergenceWarning: Number of distinct clusters (1) found smaller than n_clusters (6). Possibly due to duplicate points in X.\n",
      "  estimator.fit(img)\n"
     ]
    },
    {
     "name": "stdout",
     "output_type": "stream",
     "text": [
      "images/Sunny Detox & Protect SPF 15 Foundation 08-Silky Brown.jpg\n"
     ]
    },
    {
     "name": "stderr",
     "output_type": "stream",
     "text": [
      "<ipython-input-48-a5bbea6ed560>:58: ConvergenceWarning: Number of distinct clusters (2) found smaller than n_clusters (6). Possibly due to duplicate points in X.\n",
      "  estimator.fit(img)\n"
     ]
    },
    {
     "name": "stdout",
     "output_type": "stream",
     "text": [
      "images/Dark Honey Mattifying Extreme Wear SPF 15 Foundation 06-Dark Honey.jpg\n"
     ]
    },
    {
     "name": "stderr",
     "output_type": "stream",
     "text": [
      "<ipython-input-48-a5bbea6ed560>:58: ConvergenceWarning: Number of distinct clusters (2) found smaller than n_clusters (6). Possibly due to duplicate points in X.\n",
      "  estimator.fit(img)\n"
     ]
    },
    {
     "name": "stdout",
     "output_type": "stream",
     "text": [
      "images/Dark Honey Mattifying Extreme Wear SPF 15 Foundation 06-7.jpg\n"
     ]
    },
    {
     "name": "stderr",
     "output_type": "stream",
     "text": [
      "<ipython-input-48-a5bbea6ed560>:58: ConvergenceWarning: Number of distinct clusters (2) found smaller than n_clusters (6). Possibly due to duplicate points in X.\n",
      "  estimator.fit(img)\n"
     ]
    },
    {
     "name": "stdout",
     "output_type": "stream",
     "text": [
      "images/Dark Honey Mattifying Extreme Wear SPF 15 Foundation 06-Medium Beige.jpg\n"
     ]
    },
    {
     "name": "stderr",
     "output_type": "stream",
     "text": [
      "<ipython-input-48-a5bbea6ed560>:58: ConvergenceWarning: Number of distinct clusters (2) found smaller than n_clusters (6). Possibly due to duplicate points in X.\n",
      "  estimator.fit(img)\n"
     ]
    },
    {
     "name": "stdout",
     "output_type": "stream",
     "text": [
      "images/Dark Honey Mattifying Extreme Wear SPF 15 Foundation 06-Sand.jpg\n"
     ]
    },
    {
     "name": "stderr",
     "output_type": "stream",
     "text": [
      "<ipython-input-48-a5bbea6ed560>:58: ConvergenceWarning: Number of distinct clusters (2) found smaller than n_clusters (6). Possibly due to duplicate points in X.\n",
      "  estimator.fit(img)\n"
     ]
    },
    {
     "name": "stdout",
     "output_type": "stream",
     "text": [
      "images/Dark Honey Mattifying Extreme Wear SPF 15 Foundation 06-Sunny.jpg\n"
     ]
    },
    {
     "name": "stderr",
     "output_type": "stream",
     "text": [
      "<ipython-input-48-a5bbea6ed560>:58: ConvergenceWarning: Number of distinct clusters (2) found smaller than n_clusters (6). Possibly due to duplicate points in X.\n",
      "  estimator.fit(img)\n"
     ]
    },
    {
     "name": "stdout",
     "output_type": "stream",
     "text": [
      "images/Dark Honey Mattifying Extreme Wear SPF 15 Foundation 06-Honey Beige.jpg\n"
     ]
    },
    {
     "name": "stderr",
     "output_type": "stream",
     "text": [
      "<ipython-input-48-a5bbea6ed560>:58: ConvergenceWarning: Number of distinct clusters (2) found smaller than n_clusters (6). Possibly due to duplicate points in X.\n",
      "  estimator.fit(img)\n"
     ]
    },
    {
     "name": "stdout",
     "output_type": "stream",
     "text": [
      "images/Sand Detox & Protect SPF 15 Foundation 04-Sunny.jpg\n"
     ]
    },
    {
     "name": "stderr",
     "output_type": "stream",
     "text": [
      "<ipython-input-48-a5bbea6ed560>:58: ConvergenceWarning: Number of distinct clusters (2) found smaller than n_clusters (6). Possibly due to duplicate points in X.\n",
      "  estimator.fit(img)\n",
      "<ipython-input-48-a5bbea6ed560>:58: ConvergenceWarning: Number of distinct clusters (2) found smaller than n_clusters (6). Possibly due to duplicate points in X.\n",
      "  estimator.fit(img)\n"
     ]
    },
    {
     "name": "stdout",
     "output_type": "stream",
     "text": [
      "images/Sand Detox & Protect SPF 15 Foundation 04-Rich Cocoa.jpg\n",
      "images/Sand Detox & Protect SPF 15 Foundation 04-Toffee.jpg\n"
     ]
    },
    {
     "name": "stderr",
     "output_type": "stream",
     "text": [
      "<ipython-input-48-a5bbea6ed560>:58: ConvergenceWarning: Number of distinct clusters (2) found smaller than n_clusters (6). Possibly due to duplicate points in X.\n",
      "  estimator.fit(img)\n"
     ]
    },
    {
     "name": "stdout",
     "output_type": "stream",
     "text": [
      "images/Sand Detox & Protect SPF 15 Foundation 04-7.jpg\n"
     ]
    },
    {
     "name": "stderr",
     "output_type": "stream",
     "text": [
      "<ipython-input-48-a5bbea6ed560>:58: ConvergenceWarning: Number of distinct clusters (2) found smaller than n_clusters (6). Possibly due to duplicate points in X.\n",
      "  estimator.fit(img)\n",
      "<ipython-input-48-a5bbea6ed560>:58: ConvergenceWarning: Number of distinct clusters (1) found smaller than n_clusters (6). Possibly due to duplicate points in X.\n",
      "  estimator.fit(img)\n",
      "<ipython-input-48-a5bbea6ed560>:58: ConvergenceWarning: Number of distinct clusters (2) found smaller than n_clusters (6). Possibly due to duplicate points in X.\n",
      "  estimator.fit(img)\n"
     ]
    },
    {
     "name": "stdout",
     "output_type": "stream",
     "text": [
      "images/Sand Detox & Protect SPF 15 Foundation 04-Warm Sand.jpg\n",
      "images/Sand Detox & Protect SPF 15 Foundation 04-Medium Beige.jpg\n",
      "images/Sand Detox & Protect SPF 15 Foundation 04-Sand.jpg\n"
     ]
    },
    {
     "name": "stderr",
     "output_type": "stream",
     "text": [
      "<ipython-input-48-a5bbea6ed560>:58: ConvergenceWarning: Number of distinct clusters (2) found smaller than n_clusters (6). Possibly due to duplicate points in X.\n",
      "  estimator.fit(img)\n"
     ]
    },
    {
     "name": "stdout",
     "output_type": "stream",
     "text": [
      "images/Sand Detox & Protect SPF 15 Foundation 04-Dark Honey.jpg\n"
     ]
    },
    {
     "name": "stderr",
     "output_type": "stream",
     "text": [
      "<ipython-input-48-a5bbea6ed560>:58: ConvergenceWarning: Number of distinct clusters (2) found smaller than n_clusters (6). Possibly due to duplicate points in X.\n",
      "  estimator.fit(img)\n"
     ]
    },
    {
     "name": "stdout",
     "output_type": "stream",
     "text": [
      "images/Sand Detox & Protect SPF 15 Foundation 04-Honey Beige.jpg\n"
     ]
    },
    {
     "name": "stderr",
     "output_type": "stream",
     "text": [
      "<ipython-input-48-a5bbea6ed560>:58: ConvergenceWarning: Number of distinct clusters (2) found smaller than n_clusters (6). Possibly due to duplicate points in X.\n",
      "  estimator.fit(img)\n"
     ]
    },
    {
     "name": "stdout",
     "output_type": "stream",
     "text": [
      "images/Sand Detox & Protect SPF 15 Foundation 04-Warm Beige.jpg\n"
     ]
    },
    {
     "name": "stderr",
     "output_type": "stream",
     "text": [
      "<ipython-input-48-a5bbea6ed560>:58: ConvergenceWarning: Number of distinct clusters (1) found smaller than n_clusters (6). Possibly due to duplicate points in X.\n",
      "  estimator.fit(img)\n"
     ]
    },
    {
     "name": "stdout",
     "output_type": "stream",
     "text": [
      "images/Sand Detox & Protect SPF 15 Foundation 04-Silky Brown.jpg\n"
     ]
    },
    {
     "name": "stderr",
     "output_type": "stream",
     "text": [
      "<ipython-input-48-a5bbea6ed560>:58: ConvergenceWarning: Number of distinct clusters (2) found smaller than n_clusters (6). Possibly due to duplicate points in X.\n",
      "  estimator.fit(img)\n"
     ]
    },
    {
     "name": "stdout",
     "output_type": "stream",
     "text": [
      "images/Sunny Mattifying Extreme Wear SPF 15 Foundation 08-Dark Honey.jpg\n"
     ]
    },
    {
     "name": "stderr",
     "output_type": "stream",
     "text": [
      "<ipython-input-48-a5bbea6ed560>:58: ConvergenceWarning: Number of distinct clusters (2) found smaller than n_clusters (6). Possibly due to duplicate points in X.\n",
      "  estimator.fit(img)\n"
     ]
    },
    {
     "name": "stdout",
     "output_type": "stream",
     "text": [
      "images/Sunny Mattifying Extreme Wear SPF 15 Foundation 08-7.jpg\n"
     ]
    },
    {
     "name": "stderr",
     "output_type": "stream",
     "text": [
      "<ipython-input-48-a5bbea6ed560>:58: ConvergenceWarning: Number of distinct clusters (2) found smaller than n_clusters (6). Possibly due to duplicate points in X.\n",
      "  estimator.fit(img)\n"
     ]
    },
    {
     "name": "stdout",
     "output_type": "stream",
     "text": [
      "images/Sunny Mattifying Extreme Wear SPF 15 Foundation 08-Medium Beige.jpg\n"
     ]
    },
    {
     "name": "stderr",
     "output_type": "stream",
     "text": [
      "<ipython-input-48-a5bbea6ed560>:58: ConvergenceWarning: Number of distinct clusters (2) found smaller than n_clusters (6). Possibly due to duplicate points in X.\n",
      "  estimator.fit(img)\n"
     ]
    },
    {
     "name": "stdout",
     "output_type": "stream",
     "text": [
      "images/Sunny Mattifying Extreme Wear SPF 15 Foundation 08-Sand.jpg\n"
     ]
    },
    {
     "name": "stderr",
     "output_type": "stream",
     "text": [
      "<ipython-input-48-a5bbea6ed560>:58: ConvergenceWarning: Number of distinct clusters (2) found smaller than n_clusters (6). Possibly due to duplicate points in X.\n",
      "  estimator.fit(img)\n"
     ]
    },
    {
     "name": "stdout",
     "output_type": "stream",
     "text": [
      "images/Sunny Mattifying Extreme Wear SPF 15 Foundation 08-Sunny.jpg\n"
     ]
    },
    {
     "name": "stderr",
     "output_type": "stream",
     "text": [
      "<ipython-input-48-a5bbea6ed560>:58: ConvergenceWarning: Number of distinct clusters (2) found smaller than n_clusters (6). Possibly due to duplicate points in X.\n",
      "  estimator.fit(img)\n"
     ]
    },
    {
     "name": "stdout",
     "output_type": "stream",
     "text": [
      "images/Sunny Mattifying Extreme Wear SPF 15 Foundation 08-Honey Beige.jpg\n"
     ]
    },
    {
     "name": "stderr",
     "output_type": "stream",
     "text": [
      "<ipython-input-48-a5bbea6ed560>:58: ConvergenceWarning: Number of distinct clusters (2) found smaller than n_clusters (6). Possibly due to duplicate points in X.\n",
      "  estimator.fit(img)\n"
     ]
    },
    {
     "name": "stdout",
     "output_type": "stream",
     "text": [
      "images/Honey Beige Detox & Protect SPF 15 Foundation 05-Sunny.jpg\n"
     ]
    },
    {
     "name": "stderr",
     "output_type": "stream",
     "text": [
      "<ipython-input-48-a5bbea6ed560>:58: ConvergenceWarning: Number of distinct clusters (2) found smaller than n_clusters (6). Possibly due to duplicate points in X.\n",
      "  estimator.fit(img)\n",
      "<ipython-input-48-a5bbea6ed560>:58: ConvergenceWarning: Number of distinct clusters (2) found smaller than n_clusters (6). Possibly due to duplicate points in X.\n",
      "  estimator.fit(img)\n"
     ]
    },
    {
     "name": "stdout",
     "output_type": "stream",
     "text": [
      "images/Honey Beige Detox & Protect SPF 15 Foundation 05-Rich Cocoa.jpg\n",
      "images/Honey Beige Detox & Protect SPF 15 Foundation 05-Toffee.jpg\n"
     ]
    },
    {
     "name": "stderr",
     "output_type": "stream",
     "text": [
      "<ipython-input-48-a5bbea6ed560>:58: ConvergenceWarning: Number of distinct clusters (2) found smaller than n_clusters (6). Possibly due to duplicate points in X.\n",
      "  estimator.fit(img)\n"
     ]
    },
    {
     "name": "stdout",
     "output_type": "stream",
     "text": [
      "images/Honey Beige Detox & Protect SPF 15 Foundation 05-7.jpg\n"
     ]
    },
    {
     "name": "stderr",
     "output_type": "stream",
     "text": [
      "<ipython-input-48-a5bbea6ed560>:58: ConvergenceWarning: Number of distinct clusters (2) found smaller than n_clusters (6). Possibly due to duplicate points in X.\n",
      "  estimator.fit(img)\n",
      "<ipython-input-48-a5bbea6ed560>:58: ConvergenceWarning: Number of distinct clusters (1) found smaller than n_clusters (6). Possibly due to duplicate points in X.\n",
      "  estimator.fit(img)\n",
      "<ipython-input-48-a5bbea6ed560>:58: ConvergenceWarning: Number of distinct clusters (2) found smaller than n_clusters (6). Possibly due to duplicate points in X.\n",
      "  estimator.fit(img)\n"
     ]
    },
    {
     "name": "stdout",
     "output_type": "stream",
     "text": [
      "images/Honey Beige Detox & Protect SPF 15 Foundation 05-Warm Sand.jpg\n",
      "images/Honey Beige Detox & Protect SPF 15 Foundation 05-Medium Beige.jpg\n",
      "images/Honey Beige Detox & Protect SPF 15 Foundation 05-Sand.jpg\n"
     ]
    },
    {
     "name": "stderr",
     "output_type": "stream",
     "text": [
      "<ipython-input-48-a5bbea6ed560>:58: ConvergenceWarning: Number of distinct clusters (2) found smaller than n_clusters (6). Possibly due to duplicate points in X.\n",
      "  estimator.fit(img)\n"
     ]
    },
    {
     "name": "stdout",
     "output_type": "stream",
     "text": [
      "images/Honey Beige Detox & Protect SPF 15 Foundation 05-Dark Honey.jpg\n"
     ]
    },
    {
     "name": "stderr",
     "output_type": "stream",
     "text": [
      "<ipython-input-48-a5bbea6ed560>:58: ConvergenceWarning: Number of distinct clusters (2) found smaller than n_clusters (6). Possibly due to duplicate points in X.\n",
      "  estimator.fit(img)\n"
     ]
    },
    {
     "name": "stdout",
     "output_type": "stream",
     "text": [
      "images/Honey Beige Detox & Protect SPF 15 Foundation 05-Honey Beige.jpg\n"
     ]
    },
    {
     "name": "stderr",
     "output_type": "stream",
     "text": [
      "<ipython-input-48-a5bbea6ed560>:58: ConvergenceWarning: Number of distinct clusters (2) found smaller than n_clusters (6). Possibly due to duplicate points in X.\n",
      "  estimator.fit(img)\n"
     ]
    },
    {
     "name": "stdout",
     "output_type": "stream",
     "text": [
      "images/Honey Beige Detox & Protect SPF 15 Foundation 05-Warm Beige.jpg\n"
     ]
    },
    {
     "name": "stderr",
     "output_type": "stream",
     "text": [
      "<ipython-input-48-a5bbea6ed560>:58: ConvergenceWarning: Number of distinct clusters (1) found smaller than n_clusters (6). Possibly due to duplicate points in X.\n",
      "  estimator.fit(img)\n"
     ]
    },
    {
     "name": "stdout",
     "output_type": "stream",
     "text": [
      "images/Honey Beige Detox & Protect SPF 15 Foundation 05-Silky Brown.jpg\n"
     ]
    },
    {
     "name": "stderr",
     "output_type": "stream",
     "text": [
      "<ipython-input-48-a5bbea6ed560>:58: ConvergenceWarning: Number of distinct clusters (2) found smaller than n_clusters (6). Possibly due to duplicate points in X.\n",
      "  estimator.fit(img)\n"
     ]
    },
    {
     "name": "stdout",
     "output_type": "stream",
     "text": [
      "images/Synchro Skin Glow SPF 20 Golden 3 Luminizing Liquid Sustainable Foundation 30 ml-Barbie Pink.jpg\n",
      "images/Synchro Skin Glow SPF 20 Golden 3 Luminizing Liquid Sustainable Foundation 30 ml-Neutral 3.jpg\n",
      "images/Synchro Skin Glow SPF 20 Golden 3 Luminizing Liquid Sustainable Foundation 30 ml-Neutral 4.jpg\n",
      "images/Synchro Skin Glow SPF 20 Golden 3 Luminizing Liquid Sustainable Foundation 30 ml-Neutral 2.jpg\n",
      "images/Synchro Skin Glow SPF 20 Golden 3 Luminizing Liquid Sustainable Foundation 30 ml-Golden 5.jpg\n",
      "images/Synchro Skin Glow SPF 20 Golden 3 Luminizing Liquid Sustainable Foundation 30 ml-Baked Orange.jpg\n",
      "images/Synchro Skin Glow SPF 20 Golden 3 Luminizing Liquid Sustainable Foundation 30 ml-Golden 4.jpg\n",
      "images/Syncro Skin Glow SPF 20 Golden 5 Luminizing Fluid Foundation 30ml-Barbie Pink.jpg\n",
      "images/Syncro Skin Glow SPF 20 Golden 5 Luminizing Fluid Foundation 30ml-Neutral 3.jpg\n",
      "images/Syncro Skin Glow SPF 20 Golden 5 Luminizing Fluid Foundation 30ml-Neutral 4.jpg\n",
      "images/Syncro Skin Glow SPF 20 Golden 5 Luminizing Fluid Foundation 30ml-Neutral 2.jpg\n",
      "images/Syncro Skin Glow SPF 20 Golden 5 Luminizing Fluid Foundation 30ml-Golden 5.jpg\n",
      "images/Syncro Skin Glow SPF 20 Golden 5 Luminizing Fluid Foundation 30ml-Baked Orange.jpg\n",
      "images/Syncro Skin Glow SPF 20 Golden 5 Luminizing Fluid Foundation 30ml-Golden 4.jpg\n",
      "images/Syncro Skin Glow SPF 20 Golden 4 Luminizing Fluid Sustainable Foundation 30ml-Barbie Pink.jpg\n",
      "images/Syncro Skin Glow SPF 20 Golden 4 Luminizing Fluid Sustainable Foundation 30ml-Neutral 3.jpg\n",
      "images/Syncro Skin Glow SPF 20 Golden 4 Luminizing Fluid Sustainable Foundation 30ml-Neutral 4.jpg\n",
      "images/Syncro Skin Glow SPF 20 Golden 4 Luminizing Fluid Sustainable Foundation 30ml-Neutral 2.jpg\n",
      "images/Syncro Skin Glow SPF 20 Golden 4 Luminizing Fluid Sustainable Foundation 30ml-Golden 5.jpg\n",
      "images/Syncro Skin Glow SPF 20 Golden 4 Luminizing Fluid Sustainable Foundation 30ml-Baked Orange.jpg\n",
      "images/Syncro Skin Glow SPF 20 Golden 4 Luminizing Fluid Sustainable Foundation 30ml-Golden 4.jpg\n",
      "images/Synchro Skin Glow SPF 20 Golden 2 Luminizing Liquid Foundation 30ml-Barbie Pink.jpg\n",
      "images/Synchro Skin Glow SPF 20 Golden 2 Luminizing Liquid Foundation 30ml-Neutral 3.jpg\n",
      "images/Synchro Skin Glow SPF 20 Golden 2 Luminizing Liquid Foundation 30ml-Neutral 4.jpg\n",
      "images/Synchro Skin Glow SPF 20 Golden 2 Luminizing Liquid Foundation 30ml-Neutral 2.jpg\n",
      "images/Synchro Skin Glow SPF 20 Golden 2 Luminizing Liquid Foundation 30ml-Golden 5.jpg\n",
      "images/Synchro Skin Glow SPF 20 Golden 2 Luminizing Liquid Foundation 30ml-Baked Orange.jpg\n",
      "images/Synchro Skin Glow SPF 20 Golden 2 Luminizing Liquid Foundation 30ml-Golden 4.jpg\n",
      "images/Women Neutral 2 Synchro Skin Glow Luminizing Fluid Foundation 30ml-Barbie Pink.jpg\n",
      "images/Women Neutral 2 Synchro Skin Glow Luminizing Fluid Foundation 30ml-Neutral 3.jpg\n",
      "images/Women Neutral 2 Synchro Skin Glow Luminizing Fluid Foundation 30ml-Neutral 4.jpg\n",
      "images/Women Neutral 2 Synchro Skin Glow Luminizing Fluid Foundation 30ml-Neutral 2.jpg\n",
      "images/Women Neutral 2 Synchro Skin Glow Luminizing Fluid Foundation 30ml-Golden 5.jpg\n",
      "images/Women Neutral 2 Synchro Skin Glow Luminizing Fluid Foundation 30ml-Baked Orange.jpg\n",
      "images/Women Neutral 2 Synchro Skin Glow Luminizing Fluid Foundation 30ml-Golden 4.jpg\n",
      "images/Apricot SPF 15 Detox & Protect Foundation 07-Sunny.jpg\n"
     ]
    },
    {
     "name": "stderr",
     "output_type": "stream",
     "text": [
      "<ipython-input-48-a5bbea6ed560>:58: ConvergenceWarning: Number of distinct clusters (2) found smaller than n_clusters (6). Possibly due to duplicate points in X.\n",
      "  estimator.fit(img)\n",
      "<ipython-input-48-a5bbea6ed560>:58: ConvergenceWarning: Number of distinct clusters (2) found smaller than n_clusters (6). Possibly due to duplicate points in X.\n",
      "  estimator.fit(img)\n"
     ]
    },
    {
     "name": "stdout",
     "output_type": "stream",
     "text": [
      "images/Apricot SPF 15 Detox & Protect Foundation 07-Rich Cocoa.jpg\n",
      "images/Apricot SPF 15 Detox & Protect Foundation 07-Toffee.jpg\n"
     ]
    },
    {
     "name": "stderr",
     "output_type": "stream",
     "text": [
      "<ipython-input-48-a5bbea6ed560>:58: ConvergenceWarning: Number of distinct clusters (2) found smaller than n_clusters (6). Possibly due to duplicate points in X.\n",
      "  estimator.fit(img)\n"
     ]
    },
    {
     "name": "stdout",
     "output_type": "stream",
     "text": [
      "images/Apricot SPF 15 Detox & Protect Foundation 07-7.jpg\n"
     ]
    },
    {
     "name": "stderr",
     "output_type": "stream",
     "text": [
      "<ipython-input-48-a5bbea6ed560>:58: ConvergenceWarning: Number of distinct clusters (2) found smaller than n_clusters (6). Possibly due to duplicate points in X.\n",
      "  estimator.fit(img)\n",
      "<ipython-input-48-a5bbea6ed560>:58: ConvergenceWarning: Number of distinct clusters (1) found smaller than n_clusters (6). Possibly due to duplicate points in X.\n",
      "  estimator.fit(img)\n",
      "<ipython-input-48-a5bbea6ed560>:58: ConvergenceWarning: Number of distinct clusters (2) found smaller than n_clusters (6). Possibly due to duplicate points in X.\n",
      "  estimator.fit(img)\n"
     ]
    },
    {
     "name": "stdout",
     "output_type": "stream",
     "text": [
      "images/Apricot SPF 15 Detox & Protect Foundation 07-Warm Sand.jpg\n",
      "images/Apricot SPF 15 Detox & Protect Foundation 07-Medium Beige.jpg\n",
      "images/Apricot SPF 15 Detox & Protect Foundation 07-Sand.jpg\n"
     ]
    },
    {
     "name": "stderr",
     "output_type": "stream",
     "text": [
      "<ipython-input-48-a5bbea6ed560>:58: ConvergenceWarning: Number of distinct clusters (2) found smaller than n_clusters (6). Possibly due to duplicate points in X.\n",
      "  estimator.fit(img)\n"
     ]
    },
    {
     "name": "stdout",
     "output_type": "stream",
     "text": [
      "images/Apricot SPF 15 Detox & Protect Foundation 07-Dark Honey.jpg\n"
     ]
    },
    {
     "name": "stderr",
     "output_type": "stream",
     "text": [
      "<ipython-input-48-a5bbea6ed560>:58: ConvergenceWarning: Number of distinct clusters (2) found smaller than n_clusters (6). Possibly due to duplicate points in X.\n",
      "  estimator.fit(img)\n"
     ]
    },
    {
     "name": "stdout",
     "output_type": "stream",
     "text": [
      "images/Apricot SPF 15 Detox & Protect Foundation 07-Honey Beige.jpg\n"
     ]
    },
    {
     "name": "stderr",
     "output_type": "stream",
     "text": [
      "<ipython-input-48-a5bbea6ed560>:58: ConvergenceWarning: Number of distinct clusters (2) found smaller than n_clusters (6). Possibly due to duplicate points in X.\n",
      "  estimator.fit(img)\n"
     ]
    },
    {
     "name": "stdout",
     "output_type": "stream",
     "text": [
      "images/Apricot SPF 15 Detox & Protect Foundation 07-Warm Beige.jpg\n"
     ]
    },
    {
     "name": "stderr",
     "output_type": "stream",
     "text": [
      "<ipython-input-48-a5bbea6ed560>:58: ConvergenceWarning: Number of distinct clusters (1) found smaller than n_clusters (6). Possibly due to duplicate points in X.\n",
      "  estimator.fit(img)\n"
     ]
    },
    {
     "name": "stdout",
     "output_type": "stream",
     "text": [
      "images/Apricot SPF 15 Detox & Protect Foundation 07-Silky Brown.jpg\n"
     ]
    },
    {
     "name": "stderr",
     "output_type": "stream",
     "text": [
      "<ipython-input-48-a5bbea6ed560>:58: ConvergenceWarning: Number of distinct clusters (2) found smaller than n_clusters (6). Possibly due to duplicate points in X.\n",
      "  estimator.fit(img)\n",
      "<ipython-input-48-a5bbea6ed560>:58: ConvergenceWarning: Number of distinct clusters (1) found smaller than n_clusters (6). Possibly due to duplicate points in X.\n",
      "  estimator.fit(img)\n",
      "<ipython-input-48-a5bbea6ed560>:58: ConvergenceWarning: Number of distinct clusters (2) found smaller than n_clusters (6). Possibly due to duplicate points in X.\n",
      "  estimator.fit(img)\n",
      "<ipython-input-48-a5bbea6ed560>:58: ConvergenceWarning: Number of distinct clusters (2) found smaller than n_clusters (6). Possibly due to duplicate points in X.\n",
      "  estimator.fit(img)\n",
      "<ipython-input-48-a5bbea6ed560>:58: ConvergenceWarning: Number of distinct clusters (1) found smaller than n_clusters (6). Possibly due to duplicate points in X.\n",
      "  estimator.fit(img)\n"
     ]
    },
    {
     "name": "stdout",
     "output_type": "stream",
     "text": [
      "images/Beige Extra Mat Perfect Foundation 02-Sand.jpg\n",
      "images/Beige Extra Mat Perfect Foundation 02-Fair.jpg\n",
      "images/Beige Extra Mat Perfect Foundation 02-Beige.jpg\n",
      "images/Sand Extra Mat Perfect Foundation 03-Sand.jpg\n",
      "images/Sand Extra Mat Perfect Foundation 03-Fair.jpg\n"
     ]
    },
    {
     "name": "stderr",
     "output_type": "stream",
     "text": [
      "<ipython-input-48-a5bbea6ed560>:58: ConvergenceWarning: Number of distinct clusters (2) found smaller than n_clusters (6). Possibly due to duplicate points in X.\n",
      "  estimator.fit(img)\n",
      "<ipython-input-48-a5bbea6ed560>:58: ConvergenceWarning: Number of distinct clusters (2) found smaller than n_clusters (6). Possibly due to duplicate points in X.\n",
      "  estimator.fit(img)\n"
     ]
    },
    {
     "name": "stdout",
     "output_type": "stream",
     "text": [
      "images/Sand Extra Mat Perfect Foundation 03-Beige.jpg\n",
      "images/Synchro Skin SPF 20 Golden Lasting Liquid Foundation 4-Golden.jpg\n"
     ]
    },
    {
     "name": "stderr",
     "output_type": "stream",
     "text": [
      "<ipython-input-48-a5bbea6ed560>:58: ConvergenceWarning: Number of distinct clusters (2) found smaller than n_clusters (6). Possibly due to duplicate points in X.\n",
      "  estimator.fit(img)\n"
     ]
    },
    {
     "name": "stdout",
     "output_type": "stream",
     "text": [
      "images/Synchro Skin SPF 20 Golden Lasting Liquid Foundation 4-Neutral.jpg\n",
      "images/Synchro Skin SPF 20 Golden Lasting Liquid Sustainable Foundation 3-Golden.jpg\n"
     ]
    },
    {
     "name": "stderr",
     "output_type": "stream",
     "text": [
      "<ipython-input-48-a5bbea6ed560>:58: ConvergenceWarning: Number of distinct clusters (2) found smaller than n_clusters (6). Possibly due to duplicate points in X.\n",
      "  estimator.fit(img)\n"
     ]
    },
    {
     "name": "stdout",
     "output_type": "stream",
     "text": [
      "images/Synchro Skin SPF 20 Golden Lasting Liquid Sustainable Foundation 3-Neutral.jpg\n",
      "images/Synchro Skin SPF 20 Neutral Lasting Liquid Foundation 2-Golden.jpg\n"
     ]
    },
    {
     "name": "stderr",
     "output_type": "stream",
     "text": [
      "<ipython-input-48-a5bbea6ed560>:58: ConvergenceWarning: Number of distinct clusters (2) found smaller than n_clusters (6). Possibly due to duplicate points in X.\n",
      "  estimator.fit(img)\n"
     ]
    },
    {
     "name": "stdout",
     "output_type": "stream",
     "text": [
      "images/Synchro Skin SPF 20 Neutral Lasting Liquid Foundation 2-Neutral.jpg\n",
      "images/Dark Chocolate Pro Coverage HD Long Wear Illuminating Foundation GLM656-Beige.jpg\n"
     ]
    },
    {
     "name": "stderr",
     "output_type": "stream",
     "text": [
      "<ipython-input-48-a5bbea6ed560>:58: ConvergenceWarning: Number of distinct clusters (2) found smaller than n_clusters (6). Possibly due to duplicate points in X.\n",
      "  estimator.fit(img)\n"
     ]
    },
    {
     "name": "stdout",
     "output_type": "stream",
     "text": [
      "images/Dark Chocolate Pro Coverage HD Long Wear Illuminating Foundation GLM656-Soft Honey.jpg\n"
     ]
    },
    {
     "name": "stderr",
     "output_type": "stream",
     "text": [
      "<ipython-input-48-a5bbea6ed560>:58: ConvergenceWarning: Number of distinct clusters (2) found smaller than n_clusters (6). Possibly due to duplicate points in X.\n",
      "  estimator.fit(img)\n"
     ]
    },
    {
     "name": "stdout",
     "output_type": "stream",
     "text": [
      "images/Dark Chocolate Pro Coverage HD Long Wear Illuminating Foundation GLM656-Dark Chocolate.jpg\n"
     ]
    },
    {
     "name": "stderr",
     "output_type": "stream",
     "text": [
      "<ipython-input-48-a5bbea6ed560>:58: ConvergenceWarning: Number of distinct clusters (1) found smaller than n_clusters (6). Possibly due to duplicate points in X.\n",
      "  estimator.fit(img)\n"
     ]
    },
    {
     "name": "stdout",
     "output_type": "stream",
     "text": [
      "images/SPF 15 Sheer and Perfect Compact Foundation R020-R020.jpg\n",
      "images/Tawny Double Wear Stay-in-Place Makeup with SPF 10-Shell.jpg\n",
      "images/Tawny Double Wear Stay-in-Place Makeup with SPF 10-Mustard.jpg\n",
      "images/Tawny Double Wear Stay-in-Place Makeup with SPF 10-1W2 Sand.jpg\n",
      "images/Tawny Double Wear Stay-in-Place Makeup with SPF 10-3W1 Tawny.jpg\n",
      "images/Tawny Double Wear Stay-in-Place Makeup with SPF 10-Tawny.jpg\n",
      "images/Tawny Double Wear Stay-in-Place Makeup with SPF 10-Cinnamon.jpg\n",
      "images/Tawny Double Wear Stay-in-Place Makeup with SPF 10-Buff.jpg\n",
      "images/Tawny Double Wear Stay-in-Place Makeup with SPF 10-Honey Bronze.jpg\n",
      "images/Tawny Double Wear Stay-in-Place Makeup with SPF 10-3W2 Cashew.jpg\n",
      "images/Tawny Double Wear Stay-in-Place Makeup with SPF 10-2W2 Rattan.jpg\n",
      "images/Tawny Double Wear Stay-in-Place Makeup with SPF 10-Rattan.jpg\n",
      "images/Tawny Double Wear Stay-in-Place Makeup with SPF 10-Warm Porcelain.jpg\n",
      "images/Tawny Double Wear Stay-in-Place Makeup with SPF 10-Porcelain.jpg\n",
      "images/Tawny Double Wear Stay-in-Place Makeup with SPF 10-Sand.jpg\n",
      "images/Tawny Double Wear Stay-in-Place Makeup with SPF 10-Spiced Sand.jpg\n",
      "images/Tawny Double Wear Stay-in-Place Makeup with SPF 10-Ivory Nude.jpg\n",
      "images/Tawny Double Wear Stay-in-Place Makeup with SPF 10-Alabaster.jpg\n",
      "images/Tawny Double Wear Stay-in-Place Makeup with SPF 10-Bone.jpg\n",
      "images/Tawny Double Wear Stay-in-Place Makeup with SPF 10-Ivory Beige.jpg\n",
      "images/Tawny Double Wear Stay-in-Place Makeup with SPF 10-Toasty Toffee.jpg\n",
      "images/Tawny Double Wear Stay-in-Place Makeup with SPF 10-NA.jpg\n",
      "images/Milano Natural Newskin Wet & Dry Compact Foundation 02-True Beige.jpg\n",
      "images/Milano Natural Newskin Wet & Dry Compact Foundation 02-Brown.jpg\n",
      "images/Milano Natural Newskin Wet & Dry Compact Foundation 02-Rosehip Orange.jpg\n"
     ]
    },
    {
     "name": "stderr",
     "output_type": "stream",
     "text": [
      "<ipython-input-48-a5bbea6ed560>:58: ConvergenceWarning: Number of distinct clusters (2) found smaller than n_clusters (6). Possibly due to duplicate points in X.\n",
      "  estimator.fit(img)\n"
     ]
    },
    {
     "name": "stdout",
     "output_type": "stream",
     "text": [
      "images/Ultra Definition Liquid Foundation - Chocolate Mousse-Pecan.jpg\n",
      "images/Ultra Definition Liquid Foundation - Chocolate Mousse-Brownie.jpg\n",
      "images/Ultra Definition Liquid Foundation - Chocolate Mousse-Beige.jpg\n",
      "images/Ultra Definition Liquid Foundation - Chocolate Mousse-Beige Caramel.jpg\n",
      "images/Ultra Definition Liquid Foundation - Chocolate Mousse-Milk Cake.jpg\n",
      "images/Ultra Definition Liquid Foundation - Chocolate Mousse-Pralines Cake.jpg\n",
      "images/Ultra Definition Liquid Foundation - Chocolate Mousse-Cheese Cake.jpg\n",
      "images/Ultra Definition Liquid Foundation - Chocolate Mousse-Peanut Butter.jpg\n",
      "images/Ultra Definition Liquid Foundation - Chocolate Mousse-Chocolate Mousse.jpg\n",
      "images/Ultra Definition Liquid Foundation - Chocolate Mousse-Honey.jpg\n",
      "images/Ultra Definition Liquid Foundation - Chocolate Mousse-Fudge.jpg\n",
      "images/Weightless Matte Finish Mini Foundation Ivory 01 18ml-Ivory.jpg\n",
      "images/Weightless Matte Finish Mini Foundation Ivory 01 18ml-Beige.jpg\n"
     ]
    },
    {
     "name": "stderr",
     "output_type": "stream",
     "text": [
      "<ipython-input-48-a5bbea6ed560>:58: ConvergenceWarning: Number of distinct clusters (1) found smaller than n_clusters (6). Possibly due to duplicate points in X.\n",
      "  estimator.fit(img)\n",
      "<ipython-input-48-a5bbea6ed560>:58: ConvergenceWarning: Number of distinct clusters (2) found smaller than n_clusters (6). Possibly due to duplicate points in X.\n",
      "  estimator.fit(img)\n",
      "<ipython-input-48-a5bbea6ed560>:58: ConvergenceWarning: Number of distinct clusters (2) found smaller than n_clusters (6). Possibly due to duplicate points in X.\n",
      "  estimator.fit(img)\n"
     ]
    },
    {
     "name": "stdout",
     "output_type": "stream",
     "text": [
      "images/Beige Spotlight Glow Stick 14 g-Beige.jpg\n",
      "images/Spotlight Glow Stick 14 g-Beige.jpg\n",
      "images/Beige Spotlight Glow Foundation Stick 14 g-Beige.jpg\n",
      "images/Ultra Definition Liquid Foundation- Honey 30 ml-Pecan.jpg\n"
     ]
    },
    {
     "name": "stderr",
     "output_type": "stream",
     "text": [
      "<ipython-input-48-a5bbea6ed560>:58: ConvergenceWarning: Number of distinct clusters (2) found smaller than n_clusters (6). Possibly due to duplicate points in X.\n",
      "  estimator.fit(img)\n"
     ]
    },
    {
     "name": "stdout",
     "output_type": "stream",
     "text": [
      "images/Ultra Definition Liquid Foundation- Honey 30 ml-Brownie.jpg\n",
      "images/Ultra Definition Liquid Foundation- Honey 30 ml-Beige.jpg\n",
      "images/Ultra Definition Liquid Foundation- Honey 30 ml-Beige Caramel.jpg\n",
      "images/Ultra Definition Liquid Foundation- Honey 30 ml-Milk Cake.jpg\n",
      "images/Ultra Definition Liquid Foundation- Honey 30 ml-Pralines Cake.jpg\n",
      "images/Ultra Definition Liquid Foundation- Honey 30 ml-Cheese Cake.jpg\n",
      "images/Ultra Definition Liquid Foundation- Honey 30 ml-Peanut Butter.jpg\n",
      "images/Ultra Definition Liquid Foundation- Honey 30 ml-Chocolate Mousse.jpg\n",
      "images/Ultra Definition Liquid Foundation- Honey 30 ml-Honey.jpg\n",
      "images/Ultra Definition Liquid Foundation- Honey 30 ml-Fudge.jpg\n",
      "images/Ultra Definition Liquid Foundation - Cheesecake 30 ml-Pecan.jpg\n",
      "images/Ultra Definition Liquid Foundation - Cheesecake 30 ml-Brownie.jpg\n",
      "images/Ultra Definition Liquid Foundation - Cheesecake 30 ml-Beige.jpg\n",
      "images/Ultra Definition Liquid Foundation - Cheesecake 30 ml-Beige Caramel.jpg\n",
      "images/Ultra Definition Liquid Foundation - Cheesecake 30 ml-Milk Cake.jpg\n",
      "images/Ultra Definition Liquid Foundation - Cheesecake 30 ml-Pralines Cake.jpg\n",
      "images/Ultra Definition Liquid Foundation - Cheesecake 30 ml-Cheese Cake.jpg\n",
      "images/Ultra Definition Liquid Foundation - Cheesecake 30 ml-Peanut Butter.jpg\n",
      "images/Ultra Definition Liquid Foundation - Cheesecake 30 ml-Chocolate Mousse.jpg\n",
      "images/Ultra Definition Liquid Foundation - Cheesecake 30 ml-Honey.jpg\n",
      "images/Ultra Definition Liquid Foundation - Cheesecake 30 ml-Fudge.jpg\n",
      "images/Ultra Definition Liquid Foundation-Milk Cake 30 ml-Pecan.jpg\n",
      "images/Ultra Definition Liquid Foundation-Milk Cake 30 ml-Brownie.jpg\n",
      "images/Ultra Definition Liquid Foundation-Milk Cake 30 ml-Beige.jpg\n",
      "images/Ultra Definition Liquid Foundation-Milk Cake 30 ml-Beige Caramel.jpg\n",
      "images/Ultra Definition Liquid Foundation-Milk Cake 30 ml-Milk Cake.jpg\n",
      "images/Ultra Definition Liquid Foundation-Milk Cake 30 ml-Pralines Cake.jpg\n",
      "images/Ultra Definition Liquid Foundation-Milk Cake 30 ml-Cheese Cake.jpg\n",
      "images/Ultra Definition Liquid Foundation-Milk Cake 30 ml-Peanut Butter.jpg\n",
      "images/Ultra Definition Liquid Foundation-Milk Cake 30 ml-Chocolate Mousse.jpg\n",
      "images/Ultra Definition Liquid Foundation-Milk Cake 30 ml-Honey.jpg\n",
      "images/Ultra Definition Liquid Foundation-Milk Cake 30 ml-Fudge.jpg\n",
      "images/Ultra Definition Liquid Foundation- Sundae 30 ml-Pecan.jpg\n",
      "images/Ultra Definition Liquid Foundation- Sundae 30 ml-Brownie.jpg\n",
      "images/Ultra Definition Liquid Foundation- Sundae 30 ml-Beige.jpg\n",
      "images/Ultra Definition Liquid Foundation- Sundae 30 ml-Beige Caramel.jpg\n",
      "images/Ultra Definition Liquid Foundation- Sundae 30 ml-Milk Cake.jpg\n",
      "images/Ultra Definition Liquid Foundation- Sundae 30 ml-Pralines Cake.jpg\n",
      "images/Ultra Definition Liquid Foundation- Sundae 30 ml-Cheese Cake.jpg\n",
      "images/Ultra Definition Liquid Foundation- Sundae 30 ml-Peanut Butter.jpg\n",
      "images/Ultra Definition Liquid Foundation- Sundae 30 ml-Chocolate Mousse.jpg\n",
      "images/Ultra Definition Liquid Foundation- Sundae 30 ml-Honey.jpg\n",
      "images/Ultra Definition Liquid Foundation- Sundae 30 ml-Fudge.jpg\n",
      "images/Ultra Definition Liquid Foundation- Pecan 30 ml-Pecan.jpg\n",
      "images/Ultra Definition Liquid Foundation- Pecan 30 ml-Brownie.jpg\n",
      "images/Ultra Definition Liquid Foundation- Pecan 30 ml-Beige.jpg\n",
      "images/Ultra Definition Liquid Foundation- Pecan 30 ml-Beige Caramel.jpg\n",
      "images/Ultra Definition Liquid Foundation- Pecan 30 ml-Milk Cake.jpg\n",
      "images/Ultra Definition Liquid Foundation- Pecan 30 ml-Pralines Cake.jpg\n",
      "images/Ultra Definition Liquid Foundation- Pecan 30 ml-Cheese Cake.jpg\n",
      "images/Ultra Definition Liquid Foundation- Pecan 30 ml-Peanut Butter.jpg\n",
      "images/Ultra Definition Liquid Foundation- Pecan 30 ml-Chocolate Mousse.jpg\n",
      "images/Ultra Definition Liquid Foundation- Pecan 30 ml-Honey.jpg\n",
      "images/Ultra Definition Liquid Foundation- Pecan 30 ml-Fudge.jpg\n",
      "images/Ultra Definition Liquid Foundation - Fudge-Pecan.jpg\n",
      "images/Ultra Definition Liquid Foundation - Fudge-Brownie.jpg\n",
      "images/Ultra Definition Liquid Foundation - Fudge-Beige.jpg\n",
      "images/Ultra Definition Liquid Foundation - Fudge-Beige Caramel.jpg\n",
      "images/Ultra Definition Liquid Foundation - Fudge-Milk Cake.jpg\n",
      "images/Ultra Definition Liquid Foundation - Fudge-Pralines Cake.jpg\n",
      "images/Ultra Definition Liquid Foundation - Fudge-Cheese Cake.jpg\n",
      "images/Ultra Definition Liquid Foundation - Fudge-Peanut Butter.jpg\n",
      "images/Ultra Definition Liquid Foundation - Fudge-Chocolate Mousse.jpg\n",
      "images/Ultra Definition Liquid Foundation - Fudge-Honey.jpg\n",
      "images/Ultra Definition Liquid Foundation - Fudge-Fudge.jpg\n",
      "images/Beige Ultra Definition Liquid Foundation- Peanut Butter 30 ml-Pecan.jpg\n",
      "images/Beige Ultra Definition Liquid Foundation- Peanut Butter 30 ml-Brownie.jpg\n",
      "images/Beige Ultra Definition Liquid Foundation- Peanut Butter 30 ml-Beige.jpg\n",
      "images/Beige Ultra Definition Liquid Foundation- Peanut Butter 30 ml-Beige Caramel.jpg\n",
      "images/Beige Ultra Definition Liquid Foundation- Peanut Butter 30 ml-Milk Cake.jpg\n",
      "images/Beige Ultra Definition Liquid Foundation- Peanut Butter 30 ml-Pralines Cake.jpg\n",
      "images/Beige Ultra Definition Liquid Foundation- Peanut Butter 30 ml-Cheese Cake.jpg\n",
      "images/Beige Ultra Definition Liquid Foundation- Peanut Butter 30 ml-Peanut Butter.jpg\n",
      "images/Beige Ultra Definition Liquid Foundation- Peanut Butter 30 ml-Chocolate Mousse.jpg\n",
      "images/Beige Ultra Definition Liquid Foundation- Peanut Butter 30 ml-Honey.jpg\n",
      "images/Beige Ultra Definition Liquid Foundation- Peanut Butter 30 ml-Fudge.jpg\n",
      "images/Beige Ultra Definition Liquid Foundation-Pralines Cake 30 ml-Pecan.jpg\n",
      "images/Beige Ultra Definition Liquid Foundation-Pralines Cake 30 ml-Brownie.jpg\n",
      "images/Beige Ultra Definition Liquid Foundation-Pralines Cake 30 ml-Beige.jpg\n",
      "images/Beige Ultra Definition Liquid Foundation-Pralines Cake 30 ml-Beige Caramel.jpg\n",
      "images/Beige Ultra Definition Liquid Foundation-Pralines Cake 30 ml-Milk Cake.jpg\n",
      "images/Beige Ultra Definition Liquid Foundation-Pralines Cake 30 ml-Pralines Cake.jpg\n",
      "images/Beige Ultra Definition Liquid Foundation-Pralines Cake 30 ml-Cheese Cake.jpg\n",
      "images/Beige Ultra Definition Liquid Foundation-Pralines Cake 30 ml-Peanut Butter.jpg\n",
      "images/Beige Ultra Definition Liquid Foundation-Pralines Cake 30 ml-Chocolate Mousse.jpg\n",
      "images/Beige Ultra Definition Liquid Foundation-Pralines Cake 30 ml-Honey.jpg\n",
      "images/Beige Ultra Definition Liquid Foundation-Pralines Cake 30 ml-Fudge.jpg\n",
      "images/Ultra Definition Liquid Foundation - Beige Caramel 30 ml-Pecan.jpg\n",
      "images/Ultra Definition Liquid Foundation - Beige Caramel 30 ml-Brownie.jpg\n",
      "images/Ultra Definition Liquid Foundation - Beige Caramel 30 ml-Beige.jpg\n",
      "images/Ultra Definition Liquid Foundation - Beige Caramel 30 ml-Beige Caramel.jpg\n",
      "images/Ultra Definition Liquid Foundation - Beige Caramel 30 ml-Milk Cake.jpg\n",
      "images/Ultra Definition Liquid Foundation - Beige Caramel 30 ml-Pralines Cake.jpg\n",
      "images/Ultra Definition Liquid Foundation - Beige Caramel 30 ml-Cheese Cake.jpg\n",
      "images/Ultra Definition Liquid Foundation - Beige Caramel 30 ml-Peanut Butter.jpg\n",
      "images/Ultra Definition Liquid Foundation - Beige Caramel 30 ml-Chocolate Mousse.jpg\n",
      "images/Ultra Definition Liquid Foundation - Beige Caramel 30 ml-Honey.jpg\n",
      "images/Ultra Definition Liquid Foundation - Beige Caramel 30 ml-Fudge.jpg\n",
      "images/Ultra Definition Liquid Foundation-Brownie 30 ml-Pecan.jpg\n",
      "images/Ultra Definition Liquid Foundation-Brownie 30 ml-Brownie.jpg\n",
      "images/Ultra Definition Liquid Foundation-Brownie 30 ml-Beige.jpg\n",
      "images/Ultra Definition Liquid Foundation-Brownie 30 ml-Beige Caramel.jpg\n",
      "images/Ultra Definition Liquid Foundation-Brownie 30 ml-Milk Cake.jpg\n",
      "images/Ultra Definition Liquid Foundation-Brownie 30 ml-Pralines Cake.jpg\n",
      "images/Ultra Definition Liquid Foundation-Brownie 30 ml-Cheese Cake.jpg\n",
      "images/Ultra Definition Liquid Foundation-Brownie 30 ml-Peanut Butter.jpg\n",
      "images/Ultra Definition Liquid Foundation-Brownie 30 ml-Chocolate Mousse.jpg\n",
      "images/Ultra Definition Liquid Foundation-Brownie 30 ml-Honey.jpg\n",
      "images/Ultra Definition Liquid Foundation-Brownie 30 ml-Fudge.jpg\n"
     ]
    }
   ],
   "source": [
    "d = []\n",
    "n = []\n",
    "for i in sh.index:\n",
    "    try:\n",
    "        l = sh['Image'][i]\n",
    "        m = \"images/\"+l\n",
    "        print(m)\n",
    "        d.append(pipeline(m))\n",
    "    except:\n",
    "        n.append(i)"
   ]
  },
  {
   "cell_type": "code",
   "execution_count": 69,
   "id": "fd44cb79",
   "metadata": {},
   "outputs": [],
   "source": [
    "for i in n:\n",
    "    sh = sh.drop(i)\n",
    "\n",
    "sh['Color'] = d\n",
    "sh.to_csv('colors.csv', sep=',', mode='a')"
   ]
  },
  {
   "cell_type": "code",
   "execution_count": 71,
   "id": "a7bbfb49",
   "metadata": {},
   "outputs": [],
   "source": []
  },
  {
   "cell_type": "code",
   "execution_count": 73,
   "id": "91b2bc62",
   "metadata": {},
   "outputs": [],
   "source": []
  },
  {
   "cell_type": "code",
   "execution_count": null,
   "id": "93cd1cf0",
   "metadata": {},
   "outputs": [],
   "source": []
  }
 ],
 "metadata": {
  "kernelspec": {
   "display_name": "Python 3",
   "language": "python",
   "name": "python3"
  },
  "language_info": {
   "codemirror_mode": {
    "name": "ipython",
    "version": 3
   },
   "file_extension": ".py",
   "mimetype": "text/x-python",
   "name": "python",
   "nbconvert_exporter": "python",
   "pygments_lexer": "ipython3",
   "version": "3.8.8"
  }
 },
 "nbformat": 4,
 "nbformat_minor": 5
}
